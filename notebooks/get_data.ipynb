{
 "cells": [
  {
   "cell_type": "markdown",
   "id": "167a97ae",
   "metadata": {},
   "source": [
    "<div style=\"font-size: 32px; color: gray; font-weight: bold; text-align: center;\">Get Data for Stock Analysis</div>"
   ]
  },
  {
   "cell_type": "markdown",
   "id": "75b9285c",
   "metadata": {},
   "source": [
    "---"
   ]
  },
  {
   "cell_type": "markdown",
   "id": "66e15df6",
   "metadata": {},
   "source": [
    "## Libraries"
   ]
  },
  {
   "cell_type": "code",
   "execution_count": 3,
   "id": "128ea0ca",
   "metadata": {
    "ExecuteTime": {
     "end_time": "2021-05-23T08:16:30.478418Z",
     "start_time": "2021-05-23T08:16:30.475952Z"
    },
    "code_folding": [],
    "run_control": {
     "marked": true
    }
   },
   "outputs": [],
   "source": [
    "# !pip install yfinance"
   ]
  },
  {
   "cell_type": "code",
   "execution_count": 4,
   "id": "f8d5b21f",
   "metadata": {
    "ExecuteTime": {
     "end_time": "2021-05-23T08:16:46.585170Z",
     "start_time": "2021-05-23T08:16:30.483173Z"
    },
    "code_folding": [
     0
    ],
    "run_control": {
     "marked": true
    }
   },
   "outputs": [
    {
     "name": "stderr",
     "output_type": "stream",
     "text": [
      "Matplotlib is building the font cache; this may take a moment.\n"
     ]
    }
   ],
   "source": [
    "# Imports\n",
    "import yfinance as yf\n",
    "from matplotlib import pyplot as plt\n",
    "%matplotlib inline\n",
    "import pandas as pd\n",
    "# import plotly\n",
    "# import plotly.express as px\n",
    "# import plotly.graph_objects as go\n",
    "# pd.options.plotting.backend = \"plotly\"\n",
    "import numpy as np\n",
    "import boto3\n",
    "from io import StringIO\n",
    "from sagemaker import get_execution_role\n",
    "import warnings\n",
    "warnings.filterwarnings(\"ignore\")\n",
    "import pickle"
   ]
  },
  {
   "cell_type": "markdown",
   "id": "f00c2889",
   "metadata": {},
   "source": [
    "## <span style=\"color: red\">Parameters</span>"
   ]
  },
  {
   "cell_type": "code",
   "execution_count": 5,
   "id": "d384d8be",
   "metadata": {
    "ExecuteTime": {
     "end_time": "2021-05-23T08:16:46.597154Z",
     "start_time": "2021-05-23T08:16:46.589393Z"
    },
    "code_folding": []
   },
   "outputs": [],
   "source": [
    "# Update the following\n",
    "# cob_date = \"2021-05-14\" # use this as the row index *** NOT USED?? ***\n",
    "prev_yr_end = \"2020-12-31\"\n",
    "\n",
    "# Details to capture from info function for metadata and ratio calculations:\n",
    "\n",
    "metadata = [\n",
    "    \"longName\",\n",
    "    \"sector\",\n",
    "    \"industry\",\n",
    "]\n",
    "    \n",
    "static_ratios = [\n",
    "    # ratios:\n",
    "#     \"trailingPE\",\n",
    "#     \"forwardPE\",\n",
    "#     \"priceToSalesTrailing12Months\",\n",
    "    \"profitMargins\",\n",
    "    \"payoutRatio\",\n",
    "    \"sharesOutstanding\",\n",
    "    \"trailingEps\",\n",
    "    \"forwardEps\",\n",
    "]\n",
    "\n",
    "financials = [\n",
    "    \"Total Revenue\",\n",
    "]\n",
    "\n",
    "cashflow = [\n",
    "    \"Total Cash From Operating Activities\",\n",
    "]\n",
    "\n",
    "balsheet = [\n",
    "    \"Total Liab\",\n",
    "    \"Total Stockholder Equity\",\n",
    "    \"Total Current Assets\",\n",
    "    \"Total Current Liabilities\",\n",
    "]\n",
    "\n",
    "# Type translation\n",
    "# cob_date = pd.to_datetime(cob_date) #.date() # is this the right date format?\n",
    "prev_yr_end = pd.to_datetime(prev_yr_end) #.date() # is this the right date format?"
   ]
  },
  {
   "cell_type": "code",
   "execution_count": 6,
   "id": "75bb183f",
   "metadata": {
    "ExecuteTime": {
     "end_time": "2021-05-23T08:16:46.603242Z",
     "start_time": "2021-05-23T08:16:46.599046Z"
    }
   },
   "outputs": [
    {
     "name": "stdout",
     "output_type": "stream",
     "text": [
      "2020-12-31 00:00:00 <class 'pandas._libs.tslibs.timestamps.Timestamp'>\n"
     ]
    }
   ],
   "source": [
    "# print(cob_date, type(cob_date))\n",
    "print(prev_yr_end, type(prev_yr_end))"
   ]
  },
  {
   "cell_type": "markdown",
   "id": "229ad2e6",
   "metadata": {},
   "source": [
    "## Investment Ratios"
   ]
  },
  {
   "cell_type": "markdown",
   "id": "399b5e78",
   "metadata": {},
   "source": [
    "### Price-earnings ratio"
   ]
  },
  {
   "cell_type": "markdown",
   "id": "de70098e",
   "metadata": {},
   "source": [
    "Divide a company's share price by its annual earnings per share to calculate the P/E ratio. This ratio shows how much investors are willing to pay for $1 of a company's earnings. \"It is probably the best way of comparing assets in different sectors and of finding true bargains,\" says Steven Jon Kaplan, CEO of True Contrarian Investments. Higher P/E ratios suggest a company's future earnings are expected to grow and may appear overvalued compared with companies with lower P/Es. That said, a high or low P/E doesn't necessarily indicate a good or bad investment; it offers a snapshot that begs additional inquiry. Given the uncertainty of future cash flows, it can be helpful for investors to rely on historical P/Es and use a mix of other ratios to evaluate and pick stocks."
   ]
  },
  {
   "cell_type": "markdown",
   "id": "0ae780ae",
   "metadata": {},
   "source": [
    "Calc:\n",
    "\n",
    "- Adj Close / trailingEps\n",
    "- Adj Close / forwardEps\n",
    "\n",
    "NB: can compare across industries/sectors"
   ]
  },
  {
   "cell_type": "markdown",
   "id": "aa8d5ad6",
   "metadata": {},
   "source": [
    "### Price-sales ratio"
   ]
  },
  {
   "cell_type": "markdown",
   "id": "be31d164",
   "metadata": {},
   "source": [
    "Robert Johnson, professor of finance at Creighton University in Omaha, Nebraska, touts the benefits of calculating a stock's price divided by sales per share, commonly referred to as the price-to-sales ratio. \"The price-to-sales ratio is used by analysts who want to eliminate some of the distortions that can result in company earnings,\" Johnson says. It's a useful ratio to determine whether a company has earnings, cash flow or even positive book value since sales is always a positive number. A lower ratio suggests you've found a bargain, or a value stock. Industry consensus says lower P/S stocks have better value because investors are paying less for every dollar of a company's revenues. P/S ratio values can vary across sectors, so to best assess a company's P/S, compare it with industry peers."
   ]
  },
  {
   "cell_type": "code",
   "execution_count": 7,
   "id": "1124ef78",
   "metadata": {
    "ExecuteTime": {
     "end_time": "2021-05-23T08:16:46.607129Z",
     "start_time": "2021-05-23T08:16:46.605147Z"
    }
   },
   "outputs": [],
   "source": [
    "# Calc:\n",
    "\n",
    "# a. Total Revenue\n",
    "\n",
    "# b. sharesOutstanding\n",
    "\n",
    "# c. Adj Close / (a/b)\n",
    "\n",
    "# NB: compare to peers in same industry"
   ]
  },
  {
   "cell_type": "markdown",
   "id": "6ba82031",
   "metadata": {},
   "source": [
    "### Profit margin ratio"
   ]
  },
  {
   "cell_type": "markdown",
   "id": "12c0b3a9",
   "metadata": {},
   "source": [
    "This is the amount of profit a company makes for every unit of sales. Investors calculate this ratio by dividing net profit over revenue. Profit margins are unique to an industry – with grocery chains known for low profit margins, while software companies can claim double-digit ratios. But this information doesn't necessarily mean that it's better to buy a software company than a grocery store stock. A high profit margin means a business can offer products priced higher than its costs, yielding profits through effective pricing strategies. A low profit margin may mean there are inefficient pricing strategies, where a business cannot produce enough profit to cover expenses. Any stock could be a winner with a growing revenue stream and steady profit margins."
   ]
  },
  {
   "cell_type": "markdown",
   "id": "4c77e6d5",
   "metadata": {},
   "source": [
    "Calc:\n",
    "- profitMargins\n",
    "\n",
    "NB: compare to peers in same industry. Low profit margin could be ok if revenue growing and profit margin steady."
   ]
  },
  {
   "cell_type": "markdown",
   "id": "d37c9d45",
   "metadata": {},
   "source": [
    "### Dividend payout ratio"
   ]
  },
  {
   "cell_type": "markdown",
   "id": "b65758b5",
   "metadata": {},
   "source": [
    "Companies with rising dividend payments are favored by John Robinson, owner and founder of Nest Egg Guru in Hawaii. The dividend payout ratio is the percentage of net income paid to investors in the form of dividends. This ratio tells investors how much earnings are paid out in dividends versus how much is reinvested back into the company. The higher the percentage, the less money remains to reinvest back into growing the company. \"Companies that pay out less than 60% of their earnings as dividends tend to have room for further dividend increases and the ability to withstand temporary earnings downturns without having to reduce or eliminate dividend payments,\" he says."
   ]
  },
  {
   "cell_type": "markdown",
   "id": "70daeb81",
   "metadata": {},
   "source": [
    "Calc:\n",
    "- payoutRatio\n",
    "\n",
    "NB: amount of earnings paid out as dividend. Rest is retained / reinvested. Lower % may indicate growth or ability to withstand earnings shocks."
   ]
  },
  {
   "cell_type": "markdown",
   "id": "eb2d699a",
   "metadata": {},
   "source": [
    "### Price-free cash flow ratio"
   ]
  },
  {
   "cell_type": "markdown",
   "id": "ff1486b5",
   "metadata": {},
   "source": [
    "Tim Parker, a partner at Regency Wealth Management in New York City, reveres free cash flow because that is the amount of money left over after a company reinvests in the business to pay dividends, buy back shares or make acquisitions. To determine price-free cash flow, divide the company's share price by the operating free cash flow per share. The ratio measures how much cash a company earns for each share of stock. Investors want to search for companies with growing free cash flow that are selling at a bargain. Parker favors this ratio since free cash flow is harder to manipulate than earnings. A lower ratio indicates a company may be undervalued, while a higher ratio may signal overvaluation."
   ]
  },
  {
   "cell_type": "code",
   "execution_count": 8,
   "id": "2d29767d",
   "metadata": {
    "ExecuteTime": {
     "end_time": "2021-05-23T08:16:46.632748Z",
     "start_time": "2021-05-23T08:16:46.608620Z"
    }
   },
   "outputs": [],
   "source": [
    "# Calc:\n",
    "\n",
    "# 1. Operating cashflow for previous year end:\n",
    "# su = yf.Ticker(\"SU.PA\")\n",
    "# su.cashflow[pd.to_datetime('2020-12-31')].loc[\"Total Cash From Operating Activities\"]\n",
    "# PLUS\n",
    "# su.cashflow[pd.to_datetime('2020-12-31')].loc[\"Capital Expenditures\"]\n",
    "\n",
    "# 2. Divided by\n",
    "# sharesOutstanding \n",
    "\n",
    "# 3. Equals: Operating Free Cashflow per Share\n",
    "\n",
    "# 4. Finally: Adj Close / Operating Free Cashflow per Share\n",
    "\n",
    "# NB: this ratio focusses on cash rather than earnings (cash is harder to manipulate). \n",
    "# A lower ratio may indicate company undervalued and high ratio may indicate overvalued.\n"
   ]
  },
  {
   "cell_type": "markdown",
   "id": "ae65a567",
   "metadata": {},
   "source": [
    "### Debit-equity ratio"
   ]
  },
  {
   "cell_type": "markdown",
   "id": "4b9c7991",
   "metadata": {},
   "source": [
    "Valuation ratios are important, but so are quality measures, such as debt and liquidity metrics. Divide a company's total liabilities by its shareholder equity to compute the debt-equity ratio. This ratio explains a company's financial leverage, the comparison between borrowed funds and equity or ownership. Think of this ratio like a homeowner's mortgage value versus principal on the home. A greater proportion of debt constrains a company's flexibility to grow as more revenue is directed to pay debt costs. Like most ratios, compare the debt-equity ratio to those of other industry members, as some sectors, such as utilities, have higher typical debt ratios compared with others."
   ]
  },
  {
   "cell_type": "code",
   "execution_count": 81,
   "id": "9babb822",
   "metadata": {
    "ExecuteTime": {
     "end_time": "2021-05-23T09:14:40.461406Z",
     "start_time": "2021-05-23T09:14:40.456245Z"
    }
   },
   "outputs": [],
   "source": [
    "# Calc:\n",
    "# su = yf.Ticker(\"SU.PA\")\n",
    "# tot_liab = su.balance_sheet[pd.to_datetime('2020-12-31')].loc[\"Total Liab\"]\n",
    "# tot_se = su.balance_sheet[pd.to_datetime('2020-12-31')].loc[\"Total Stockholder Equity\"]\n",
    "# de_ratio = tot_liab/tot_se\n",
    "# print(tot_liab)\n",
    "# print(tot_se)\n",
    "# print(de_ratio)\n",
    "\n",
    "# NB: high ratio (leverage) may indicate has less flexibility to grow as it is constrained by its debt costs.\n",
    "# Compare to other companies in same industry as different sectors have different typical leverage. \n",
    "# SEEMS LIKE THERE ARE MULTIPLE WAYS TO IMPLEMENT. CONSISTENCY IS MOST IMPORTANT."
   ]
  },
  {
   "cell_type": "markdown",
   "id": "6e87117c",
   "metadata": {},
   "source": [
    "### Current ratio"
   ]
  },
  {
   "cell_type": "markdown",
   "id": "2f4bc674",
   "metadata": {},
   "source": [
    "Sameer Samana, global equity and technical strategist at Wells Fargo Investment Institute in St. Louis, recommends examining the quick ratio and current ratio. These liquidity ratios measure if a company has enough working capital to handle potential downturns and financial setbacks. The current ratio divides current assets by current liabilities to measure how much cash a company has on hand to pay short-term obligations within a year. The quick ratio sums cash, marketable securities and accounts receivables and divides this sum by current liabilities. Higher numbers for these ratios suggest greater liquidity, while lower ratios may suggest a company cannot meet short-term obligations."
   ]
  },
  {
   "cell_type": "code",
   "execution_count": 88,
   "id": "86893c81",
   "metadata": {
    "ExecuteTime": {
     "end_time": "2021-05-23T09:20:02.961008Z",
     "start_time": "2021-05-23T09:20:02.955855Z"
    }
   },
   "outputs": [],
   "source": [
    "# Calc:\n",
    "# su = yf.Ticker(\"SU.PA\")\n",
    "# ca = su.balance_sheet[pd.to_datetime('2020-12-31')].loc[\"Total Current Assets\"]\n",
    "# cl = su.balance_sheet[pd.to_datetime('2020-12-31')].loc[\"Total Current Liabilities\"]\n",
    "# current_ratio = ca/cl\n",
    "# print(ca)\n",
    "# print(cl)\n",
    "# print(current_ratio)\n",
    "\n",
    "# NB: working capital indicates ability to handle potential financial downturns and setbacks."
   ]
  },
  {
   "cell_type": "markdown",
   "id": "533eadbc",
   "metadata": {},
   "source": [
    "### EBITDA-to-sales ratio"
   ]
  },
  {
   "cell_type": "markdown",
   "id": "1414b8eb",
   "metadata": {},
   "source": [
    "This metric is the company's EBITDA – which is an abbreviation for earnings before interest, taxes, depreciation and amortization – divided by its net sales. This ratio is used to evaluate a company's overall profitability or earnings before expenses, by comparing revenue with earnings. \"The stability of EBITDA typically determines investors' appetite for the amount of debt it believes the business should have,\" says Bryan Lee, chief investment officer at Blue Zone Wealth Advisors in Los Angeles. \"A more levered company brings higher volatility for how the equity trades. This volatility can amplify returns on the upside but also to the downside,\" he says. EBITDA margin offers a transparent view into business operations by eliminating noncash or nonoperating expenses like interest costs, taxes and depreciation that may dim profits, giving a more precise view of a company's profitability."
   ]
  },
  {
   "cell_type": "code",
   "execution_count": 11,
   "id": "be2a4054",
   "metadata": {
    "ExecuteTime": {
     "end_time": "2021-05-23T08:16:46.714924Z",
     "start_time": "2021-05-23T08:16:46.711882Z"
    },
    "scrolled": false
   },
   "outputs": [],
   "source": [
    "# Calc:\n",
    "\n",
    "# su = yf.Ticker(\"SU.PA\")\n",
    "# su.financials\n",
    "# su.cashflow[pd.to_datetime('2020-12-31')].loc[\"Total Cash From Operating Activities\"]\n",
    "\n",
    "# NB: don't see how to get EBITDA from YF"
   ]
  },
  {
   "cell_type": "markdown",
   "id": "051efa99",
   "metadata": {},
   "source": [
    "## Functions"
   ]
  },
  {
   "cell_type": "code",
   "execution_count": 12,
   "id": "29ee4bd2",
   "metadata": {
    "ExecuteTime": {
     "end_time": "2021-05-23T08:16:46.725904Z",
     "start_time": "2021-05-23T08:16:46.719266Z"
    },
    "run_control": {
     "marked": true
    }
   },
   "outputs": [],
   "source": [
    "# Function to save a .csv in S3 from a DataFrame of our SageMaker python notebook\n",
    "def _write_dataframe_to_csv_on_s3(DESTINATION, dataframe, filename):\n",
    "    \"\"\" Write a dataframe to a CSV on S3 \"\"\"\n",
    "    print(\n",
    "        \"Writing {} records to '{}' in bucket '{}'.\".format(\n",
    "            len(dataframe), filename, DESTINATION\n",
    "        )\n",
    "    )\n",
    "    # Create buffer\n",
    "    csv_buffer = StringIO()\n",
    "    # Write dataframe to buffer\n",
    "    dataframe.to_csv(csv_buffer, sep=\",\", index=True)\n",
    "    # Create S3 object\n",
    "    s3_resource = boto3.resource(\"s3\")\n",
    "    # Write buffer to S3 object\n",
    "    s3_resource.Object(DESTINATION, filename).put(Body=csv_buffer.getvalue())"
   ]
  },
  {
   "cell_type": "markdown",
   "id": "e2eb0952",
   "metadata": {},
   "source": [
    "## Fetch data"
   ]
  },
  {
   "cell_type": "markdown",
   "id": "e9ae20e9",
   "metadata": {},
   "source": [
    "### Get ticker info"
   ]
  },
  {
   "cell_type": "code",
   "execution_count": 13,
   "id": "d87c9b28",
   "metadata": {
    "ExecuteTime": {
     "end_time": "2021-05-23T08:16:46.740474Z",
     "start_time": "2021-05-23T08:16:46.728162Z"
    },
    "run_control": {
     "marked": true
    }
   },
   "outputs": [],
   "source": [
    "mystock = \"SU.PA\" # ticker code per Yahoo Finance\n",
    "myticker = yf.Ticker(mystock)"
   ]
  },
  {
   "cell_type": "code",
   "execution_count": 14,
   "id": "33ace1bd",
   "metadata": {
    "ExecuteTime": {
     "end_time": "2021-05-23T08:16:50.304271Z",
     "start_time": "2021-05-23T08:16:46.742043Z"
    },
    "run_control": {
     "marked": true
    },
    "scrolled": true
   },
   "outputs": [
    {
     "name": "stdout",
     "output_type": "stream",
     "text": [
      "------------------------------------------------------------------------\n",
      "zip :\n",
      "92500\n",
      "------------------------------------------------------------------------\n",
      "sector :\n",
      "Industrials\n",
      "------------------------------------------------------------------------\n",
      "fullTimeEmployees :\n",
      "135000\n",
      "------------------------------------------------------------------------\n",
      "longBusinessSummary :\n",
      "Schneider Electric S.E. provides energy and automation digital solutions worldwide. The company operates in two segments, Energy Management and Industrial Automation. It offers busway and cable management products, circuit breakers and switches, contactors and protection relays, electrical protection and control products, fuse and safety switches, motor starters and protection components, power monitoring and control products, power quality and power factor correction products, pushbuttons, switches, pilot lights and joysticks, software products, surge protection and power conditioning products, and switchboards and enclosures. The company also provides access control, building management, fire and security, network infrastructure and connectivity, power monitoring and control, power quality and power factor correction, sensor, valve and valve actuator, variable speed drive and soft starter, and video management system products. In addition, it offers feeder automation and grid automation and SCADA software products, medium voltage switchgears and transformers, outdoor equipment, power monitoring and control products, protection relays, substation automation products, and switchgear components. Further, the company provides data center software, IT power distribution products, prefabricated data center modules, racks and accessories, security and environmental monitoring products, surge protection and power conditioning products, and uninterruptible power supply (UPS) products. Additionally, it offers electrical protection and control products, home automation and security products, installation materials and systems, light switches and electrical sockets, network infrastructure and connectivity products, and UPS. It also provides industrial automation and control products; energy access products, such as collective solutions and home systems; and solar and energy storage products. The company was founded in 1836 and is headquartered in Rueil-Malmaison, France.\n",
      "------------------------------------------------------------------------\n",
      "city :\n",
      "Rueil-Malmaison\n",
      "------------------------------------------------------------------------\n",
      "country :\n",
      "France\n",
      "------------------------------------------------------------------------\n",
      "companyOfficers :\n",
      "[]\n",
      "------------------------------------------------------------------------\n",
      "website :\n",
      "http://www.se.com/ww/en\n",
      "------------------------------------------------------------------------\n",
      "maxAge :\n",
      "1\n",
      "------------------------------------------------------------------------\n",
      "address1 :\n",
      "35 rue Joseph Monier\n",
      "------------------------------------------------------------------------\n",
      "industry :\n",
      "Specialty Industrial Machinery\n",
      "------------------------------------------------------------------------\n",
      "previousClose :\n",
      "128.46\n",
      "------------------------------------------------------------------------\n",
      "regularMarketOpen :\n",
      "128.48\n",
      "------------------------------------------------------------------------\n",
      "twoHundredDayAverage :\n",
      "124.79378\n",
      "------------------------------------------------------------------------\n",
      "trailingAnnualDividendYield :\n",
      "0.020239761\n",
      "------------------------------------------------------------------------\n",
      "payoutRatio :\n",
      "0.6688\n",
      "------------------------------------------------------------------------\n",
      "volume24Hr :\n",
      "None\n",
      "------------------------------------------------------------------------\n",
      "regularMarketDayHigh :\n",
      "130.14\n",
      "------------------------------------------------------------------------\n",
      "navPrice :\n",
      "None\n",
      "------------------------------------------------------------------------\n",
      "averageDailyVolume10Day :\n",
      "816596\n",
      "------------------------------------------------------------------------\n",
      "totalAssets :\n",
      "None\n",
      "------------------------------------------------------------------------\n",
      "regularMarketPreviousClose :\n",
      "128.46\n",
      "------------------------------------------------------------------------\n",
      "fiftyDayAverage :\n",
      "133.18172\n",
      "------------------------------------------------------------------------\n",
      "trailingAnnualDividendRate :\n",
      "2.6\n",
      "------------------------------------------------------------------------\n",
      "open :\n",
      "128.48\n",
      "------------------------------------------------------------------------\n",
      "toCurrency :\n",
      "None\n",
      "------------------------------------------------------------------------\n",
      "averageVolume10days :\n",
      "816596\n",
      "------------------------------------------------------------------------\n",
      "expireDate :\n",
      "None\n",
      "------------------------------------------------------------------------\n",
      "yield :\n",
      "None\n",
      "------------------------------------------------------------------------\n",
      "algorithm :\n",
      "None\n",
      "------------------------------------------------------------------------\n",
      "dividendRate :\n",
      "2.6\n",
      "------------------------------------------------------------------------\n",
      "exDividendDate :\n",
      "1620604800\n",
      "------------------------------------------------------------------------\n",
      "beta :\n",
      "0.903331\n",
      "------------------------------------------------------------------------\n",
      "circulatingSupply :\n",
      "None\n",
      "------------------------------------------------------------------------\n",
      "startDate :\n",
      "None\n",
      "------------------------------------------------------------------------\n",
      "regularMarketDayLow :\n",
      "127.96\n",
      "------------------------------------------------------------------------\n",
      "priceHint :\n",
      "2\n",
      "------------------------------------------------------------------------\n",
      "currency :\n",
      "EUR\n",
      "------------------------------------------------------------------------\n",
      "trailingPE :\n",
      "33.984253\n",
      "------------------------------------------------------------------------\n",
      "regularMarketVolume :\n",
      "1004129\n",
      "------------------------------------------------------------------------\n",
      "lastMarket :\n",
      "None\n",
      "------------------------------------------------------------------------\n",
      "maxSupply :\n",
      "None\n",
      "------------------------------------------------------------------------\n",
      "openInterest :\n",
      "None\n",
      "------------------------------------------------------------------------\n",
      "marketCap :\n",
      "72041766912\n",
      "------------------------------------------------------------------------\n",
      "volumeAllCurrencies :\n",
      "None\n",
      "------------------------------------------------------------------------\n",
      "strikePrice :\n",
      "None\n",
      "------------------------------------------------------------------------\n",
      "averageVolume :\n",
      "939207\n",
      "------------------------------------------------------------------------\n",
      "priceToSalesTrailing12Months :\n",
      "2.863459\n",
      "------------------------------------------------------------------------\n",
      "dayLow :\n",
      "127.96\n",
      "------------------------------------------------------------------------\n",
      "ask :\n",
      "0\n",
      "------------------------------------------------------------------------\n",
      "ytdReturn :\n",
      "None\n",
      "------------------------------------------------------------------------\n",
      "askSize :\n",
      "0\n",
      "------------------------------------------------------------------------\n",
      "volume :\n",
      "1004129\n",
      "------------------------------------------------------------------------\n",
      "fiftyTwoWeekHigh :\n",
      "140.62\n",
      "------------------------------------------------------------------------\n",
      "forwardPE :\n",
      "26.370672\n",
      "------------------------------------------------------------------------\n",
      "fromCurrency :\n",
      "None\n",
      "------------------------------------------------------------------------\n",
      "fiveYearAvgDividendYield :\n",
      "2.9\n",
      "------------------------------------------------------------------------\n",
      "fiftyTwoWeekLow :\n",
      "84.04\n",
      "------------------------------------------------------------------------\n",
      "bid :\n",
      "0\n",
      "------------------------------------------------------------------------\n",
      "tradeable :\n",
      "False\n",
      "------------------------------------------------------------------------\n",
      "dividendYield :\n",
      "0.0201\n",
      "------------------------------------------------------------------------\n",
      "bidSize :\n",
      "0\n",
      "------------------------------------------------------------------------\n",
      "dayHigh :\n",
      "130.14\n",
      "------------------------------------------------------------------------\n",
      "exchange :\n",
      "PAR\n",
      "------------------------------------------------------------------------\n",
      "shortName :\n",
      "SCHNEIDER ELECTRIC\n",
      "------------------------------------------------------------------------\n",
      "longName :\n",
      "Schneider Electric S.E.\n",
      "------------------------------------------------------------------------\n",
      "exchangeTimezoneName :\n",
      "Europe/Paris\n",
      "------------------------------------------------------------------------\n",
      "exchangeTimezoneShortName :\n",
      "CEST\n",
      "------------------------------------------------------------------------\n",
      "isEsgPopulated :\n",
      "False\n",
      "------------------------------------------------------------------------\n",
      "gmtOffSetMilliseconds :\n",
      "7200000\n",
      "------------------------------------------------------------------------\n",
      "quoteType :\n",
      "EQUITY\n",
      "------------------------------------------------------------------------\n",
      "symbol :\n",
      "SU.PA\n",
      "------------------------------------------------------------------------\n",
      "messageBoardId :\n",
      "finmb_682078\n",
      "------------------------------------------------------------------------\n",
      "market :\n",
      "fr_market\n",
      "------------------------------------------------------------------------\n",
      "annualHoldingsTurnover :\n",
      "None\n",
      "------------------------------------------------------------------------\n",
      "enterpriseToRevenue :\n",
      "3.16\n",
      "------------------------------------------------------------------------\n",
      "beta3Year :\n",
      "None\n",
      "------------------------------------------------------------------------\n",
      "profitMargins :\n",
      "0.0845\n",
      "------------------------------------------------------------------------\n",
      "enterpriseToEbitda :\n",
      "18.688\n",
      "------------------------------------------------------------------------\n",
      "52WeekChange :\n",
      "0.5168698\n",
      "------------------------------------------------------------------------\n",
      "morningStarRiskRating :\n",
      "None\n",
      "------------------------------------------------------------------------\n",
      "forwardEps :\n",
      "4.91\n",
      "------------------------------------------------------------------------\n",
      "revenueQuarterlyGrowth :\n",
      "None\n",
      "------------------------------------------------------------------------\n",
      "sharesOutstanding :\n",
      "556393024\n",
      "------------------------------------------------------------------------\n",
      "fundInceptionDate :\n",
      "None\n",
      "------------------------------------------------------------------------\n",
      "annualReportExpenseRatio :\n",
      "None\n",
      "------------------------------------------------------------------------\n",
      "bookValue :\n",
      "37.204\n",
      "------------------------------------------------------------------------\n",
      "sharesShort :\n",
      "None\n",
      "------------------------------------------------------------------------\n",
      "sharesPercentSharesOut :\n",
      "None\n",
      "------------------------------------------------------------------------\n",
      "fundFamily :\n",
      "None\n",
      "------------------------------------------------------------------------\n",
      "lastFiscalYearEnd :\n",
      "1609372800\n",
      "------------------------------------------------------------------------\n",
      "heldPercentInstitutions :\n",
      "0.53004\n",
      "------------------------------------------------------------------------\n",
      "netIncomeToCommon :\n",
      "2126000000\n",
      "------------------------------------------------------------------------\n",
      "trailingEps :\n",
      "3.81\n",
      "------------------------------------------------------------------------\n",
      "lastDividendValue :\n",
      "2.6\n",
      "------------------------------------------------------------------------\n",
      "SandP52WeekChange :\n",
      "0.38909745\n",
      "------------------------------------------------------------------------\n",
      "priceToBook :\n",
      "3.4802709\n",
      "------------------------------------------------------------------------\n",
      "heldPercentInsiders :\n",
      "0.03782\n",
      "------------------------------------------------------------------------\n",
      "nextFiscalYearEnd :\n",
      "1672444800\n",
      "------------------------------------------------------------------------\n",
      "mostRecentQuarter :\n",
      "1609372800\n",
      "------------------------------------------------------------------------\n",
      "shortRatio :\n",
      "None\n",
      "------------------------------------------------------------------------\n",
      "sharesShortPreviousMonthDate :\n",
      "None\n",
      "------------------------------------------------------------------------\n",
      "floatShares :\n",
      "532846900\n",
      "------------------------------------------------------------------------\n",
      "enterpriseValue :\n",
      "79499272192\n",
      "------------------------------------------------------------------------\n",
      "threeYearAverageReturn :\n",
      "None\n",
      "------------------------------------------------------------------------\n",
      "lastSplitDate :\n",
      "1314921600\n",
      "------------------------------------------------------------------------\n",
      "lastSplitFactor :\n",
      "2:1\n",
      "------------------------------------------------------------------------\n",
      "legalType :\n",
      "None\n",
      "------------------------------------------------------------------------\n",
      "lastDividendDate :\n",
      "1620604800\n",
      "------------------------------------------------------------------------\n",
      "morningStarOverallRating :\n",
      "None\n",
      "------------------------------------------------------------------------\n",
      "earningsQuarterlyGrowth :\n",
      "-0.049\n",
      "------------------------------------------------------------------------\n",
      "dateShortInterest :\n",
      "None\n",
      "------------------------------------------------------------------------\n",
      "pegRatio :\n",
      "None\n",
      "------------------------------------------------------------------------\n",
      "lastCapGain :\n",
      "None\n",
      "------------------------------------------------------------------------\n",
      "shortPercentOfFloat :\n",
      "None\n",
      "------------------------------------------------------------------------\n",
      "sharesShortPriorMonth :\n",
      "None\n",
      "------------------------------------------------------------------------\n",
      "impliedSharesOutstanding :\n",
      "None\n",
      "------------------------------------------------------------------------\n",
      "category :\n",
      "None\n",
      "------------------------------------------------------------------------\n",
      "fiveYearAverageReturn :\n",
      "None\n",
      "------------------------------------------------------------------------\n",
      "regularMarketPrice :\n",
      "129.48\n",
      "------------------------------------------------------------------------\n",
      "logo_url :\n",
      "https://logo.clearbit.com/se.com\n"
     ]
    }
   ],
   "source": [
    "info_ticker = myticker.info\n",
    "for info in info_ticker:\n",
    "    print(\"-\" * 72)\n",
    "    print(info, \":\")\n",
    "    print(info_ticker[info])"
   ]
  },
  {
   "cell_type": "code",
   "execution_count": 15,
   "id": "216b90ac",
   "metadata": {
    "ExecuteTime": {
     "end_time": "2021-05-23T08:16:50.310796Z",
     "start_time": "2021-05-23T08:16:50.306022Z"
    },
    "run_control": {
     "marked": true
    }
   },
   "outputs": [],
   "source": [
    "# for key in myticker.info:\n",
    "#     print(key)\n",
    "\n",
    "# print(myticker.info[\"longName\"])\n",
    "# print(myticker.info[\"sector\"])\n",
    "# print(myticker.info[\"industry\"])"
   ]
  },
  {
   "cell_type": "code",
   "execution_count": 16,
   "id": "fc89fe13",
   "metadata": {
    "ExecuteTime": {
     "end_time": "2021-05-23T08:16:50.339083Z",
     "start_time": "2021-05-23T08:16:50.312311Z"
    },
    "run_control": {
     "marked": true
    }
   },
   "outputs": [],
   "source": [
    "# mytickers = yf.Tickers([\"MC.PA\", \"RDSA.AS\"])"
   ]
  },
  {
   "cell_type": "code",
   "execution_count": 17,
   "id": "b630bef5",
   "metadata": {
    "ExecuteTime": {
     "end_time": "2021-05-23T08:16:50.346650Z",
     "start_time": "2021-05-23T08:16:50.340757Z"
    },
    "run_control": {
     "marked": true
    }
   },
   "outputs": [],
   "source": [
    "# for ticker in mytickers.tickers:\n",
    "#     print(mytickers.tickers[ticker].info[\"longName\"])"
   ]
  },
  {
   "cell_type": "markdown",
   "id": "88c9ecee",
   "metadata": {},
   "source": [
    "### Parameters for the history function"
   ]
  },
  {
   "cell_type": "markdown",
   "id": "b13efdf2",
   "metadata": {},
   "source": [
    "### Get history of a stock"
   ]
  },
  {
   "cell_type": "code",
   "execution_count": 18,
   "id": "0e7c1510",
   "metadata": {
    "ExecuteTime": {
     "end_time": "2021-05-23T08:16:50.350989Z",
     "start_time": "2021-05-23T08:16:50.348376Z"
    },
    "run_control": {
     "marked": true
    }
   },
   "outputs": [],
   "source": [
    "# hist = myticker.history(period=\"1y\") # check docs for parameters"
   ]
  },
  {
   "cell_type": "code",
   "execution_count": 19,
   "id": "73c80998",
   "metadata": {
    "ExecuteTime": {
     "end_time": "2021-05-23T08:16:50.355563Z",
     "start_time": "2021-05-23T08:16:50.352983Z"
    },
    "run_control": {
     "marked": true
    }
   },
   "outputs": [],
   "source": [
    "# hist.head()"
   ]
  },
  {
   "cell_type": "code",
   "execution_count": 20,
   "id": "f932f4e1",
   "metadata": {
    "ExecuteTime": {
     "end_time": "2021-05-23T08:16:50.360191Z",
     "start_time": "2021-05-23T08:16:50.357938Z"
    },
    "run_control": {
     "marked": true
    }
   },
   "outputs": [],
   "source": [
    "# hist[\"Close\"].plot(figsize=(16,9), grid=True, title=f\"{mystock}\\n{myticker.info['longName']}\") # without Plotly backend"
   ]
  },
  {
   "cell_type": "markdown",
   "id": "630957fa",
   "metadata": {},
   "source": [
    "### Fetch historical prices, volumes etc."
   ]
  },
  {
   "cell_type": "code",
   "execution_count": 21,
   "id": "384ebb57",
   "metadata": {
    "ExecuteTime": {
     "end_time": "2021-05-23T08:16:50.394394Z",
     "start_time": "2021-05-23T08:16:50.361968Z"
    },
    "run_control": {
     "marked": true
    }
   },
   "outputs": [],
   "source": [
    "# Stocks comprising the euronext 100\n",
    "euronext100 = ['KBC.BR', 'JMT.LS', 'BNP.PA', 'BN.PA', 'GBLB.BR', 'KN.PA', 'AGS.BR', 'LR.PA', 'MC.PA', 'ABI.BR', 'EDEN.PA', 'RDSA.AS', 'OR.PA', 'CAP.PA', 'SAN.PA', 'GALP.LS', 'SW.PA', 'INGA.AS', 'KER.PA', 'PHIA.AS', 'ATO.PA', 'ILD.PA', 'COV.PA', 'AIR.PA', 'AC.PA', 'TEP.PA', 'UBI.PA', 'ASML.AS', 'RAND.AS', 'VIE.PA']\n",
    "\n",
    "# All stocks on Euronext Paris, Amsterdam & Brussels\n",
    "euronext_pab = ['2CRSI.PA', '2MX.PA', 'ASP.PA', 'AALB.AS', 'ABI.BR', 'AB.PA', 'ABCA.PA', 'ABEO.PA', 'ABNX.PA', 'ABVX.PA', 'ABN.AS', 'ABO.BR', 'ACPH.BR', 'ACAN.PA', 'ACCEL.AS', 'ACCB.BR', 'AC.PA', 'ACNV.PA', 'AXS.AS', 'ACKB.BR', 'EOS.PA', 'ATI.PA', 'ALDV.PA', 'ALP.PA', 'ADOC.PA', 'ADP.PA', 'ADUX.PA', 'ADV.PA', 'ADVIC.PA', 'ADVI.PA', 'ADYEN.AS', 'AED.BR', 'AGN.AS', 'AKOM.PA', 'AGS.BR', 'AGFB.BR', 'AD.AS', 'AF.PA', 'AI.PA', 'AIR.PA', 'AJAX.AS', 'AKA.PA', 'AKW.PA', 'AKZA.AS', 'AAA.PA', 'ABIO.PA', 'ALD.PA', 'ALFEN.AS', 'CDANV.PA', 'CDA.PA', 'ALM.PA', 'ALO.PA', 'ALONV.PA', 'LTA.PA', 'ALTA.PA', 'AREIT.PA', 'ATE.PA', 'ALTUR.PA', 'ALX.AS', 'AMG.AS', 'AMPLI.PA', 'ACOMO.AS', 'AMUN.PA', 'APAM.AS', 'APM.PA', 'ARCAD.AS', 'MT.AS', 'ARG.PA', 'ARGX.BR', 'AKE.PA', 'ARTE.PA', 'PRC.PA', 'ARTO.PA', 'ASC.BR', 'ASIT.BR', 'ASM.AS', 'ASML.AS', 'ASRNL.AS', 'ASY.PA', 'ATA.PA', 'ATEME.PA', 'ATEB.BR', 'ATO.PA', 'ATRS.AS', 'AUB.PA', 'AUGR.PA', 'AURE.PA', 'AURS.PA', 'AVTX.AS', 'AVT.PA', 'CS.PA', 'CSNV.PA', 'AXW.PA', 'BSGR.AS', 'BCRA.PA', 'BAIN.PA', 'BALTA.BR', 'BALYO.PA', 'BAMNB.AS', 'BANI.BR', 'BUI.PA', 'BAR.BR', 'BFIT.AS', 'BASS.PA', 'BLC.PA', 'BESI.AS', 'BEFB.BR', 'BEKB.BR', 'FBEL.PA', 'BELR.BR', 'BELU.BR', 'BEN.PA', 'BBED.AS', 'BEVER.AS', 'BB.PA', 'BIG.PA', 'BCART.BR', 'BIM.PA', 'BLEE.PA', 'BNP.PA', 'BOI.PA', 'BOL.PA', 'BOLNV.PA', 'BON.PA', 'BOTHE.BR', 'BOOST.PA', 'BOKA.AS', 'BSD.PA', 'BGHL.AS', 'BGHS.AS', 'EN.PA', 'ENNV.PA', 'BPOST.BR', 'BNB.BR', 'BREB.BR', 'BRILL.AS', 'BRNL.AS', 'BVI.PA', 'BUR.PA', 'CAT31.PA', 'CAFO.PA', 'CBDG.PA', 'CAMB.BR', 'CAPLI.PA', 'CAP.PA', 'CPINV.BR', 'CARM.PA', 'CARP.PA', 'CA.PA', 'CO.PA', 'CAS.PA', 'CATG.PA', 'CTRG.PA', 'CATR.PA', 'CBOT.PA', 'CGM.PA', 'CGR.PA', 'CYAD.BR', 'CENER.BR', 'CFEB.BR', 'CFI.PA', 'CGG.PA', 'CRI.PA', 'CHSR.PA', 'CDI.PA', 'CIB.PA', 'COMB.BR', 'CLA.PA', 'CMCOM.AS', 'COM.PA', 'CNV.PA', 'CNP.PA', 'CCEP.AS', 'COFA.PA', 'COFB.BR', 'COH.PA', 'RE.PA', 'COLR.BR', 'CRBN.AS', 'CLB.AS', 'COUR.PA', 'COV.PA', 'COVH.PA', 'CRAP.PA', 'CRAV.PA', 'CRBP2.PA', 'CIV.PA', 'CRLA.PA', 'CRLO.PA', 'CMO.PA', 'CNF.PA', 'CCN.PA', 'CAF.PA', 'CRSU.PA', 'CRTO.PA', 'ACA.PA', 'OPTI.BR', 'CROS.PA', 'SX.PA', 'CTAC.AS', 'CTPNV.AS', 'CLEX.BR', 'DIE.BR', 'BN.PA', 'AM.PA', 'DSYNV.PA', 'DSY.PA', 'DBV.PA', 'DECB.BR', 'DLTA.PA', 'DBG.PA', 'DVT.PA', 'DGB.AS', 'DGE.PA', 'DGM.PA', 'DPAM.PA', 'DPA.AS', 'DSC2.AS', 'DSC2S.AS', 'DSM.AS', 'EAS2P.AS', 'ECONB.BR', 'EDEN.PA', 'EDF.PA', 'EFIC1.AS', 'EFICT.AS', 'GID.PA', 'FGR.PA', 'EKI.PA', 'EKOP.BR', 'ELEC.PA', 'EEM.PA', 'ELI.BR', 'ELIOR.PA', 'ELIS.PA', 'ENGI.PA', 'EPS.PA', 'ENVI.AS', 'EOSI.PA', 'ERA.PA', 'ERYP.PA', 'ESG.AS', 'ESGT.AS', 'ESI.PA', 'ESP.AS', 'ELNV.PA', 'EL.PA', 'ES.PA', 'EFI.PA', 'RF.PA', 'EUR.PA', 'ECT.AS', 'ECMPA.AS', 'ERFNV.PA', 'ERF.PA', 'EURN.BR', 'ENX.PA', 'ECP.PA', 'EUCAR.PA', 'ETL.PA', 'EGR.PA', 'EVS.BR', 'EXAC.PA', 'EXE.PA', 'EXM.BR', 'EPCP.PA', 'EXPL.PA', 'FAGR.BR', 'FAST.AS', 'EO.PA', 'FAUV.PA', 'FAYE.PA', 'FDJ.PA', 'FCMC.PA', 'FALG.PA', 'SACI.PA', 'ORIA.PA', 'FGA.PA', 'BERR.PA', 'EBPF.PA', 'FOAF.PA', 'FINM.PA', 'ODET.PA', 'FNTS.PA', 'FIPP.PA', 'FLOB.BR', 'FLOW.AS', 'FLUX.BR', 'FNAC.PA', 'FNG.BR', 'FPN.PA', 'LEBL.PA', 'FATL.PA', 'EURS.PA', 'INEA.PA', 'FLY.PA', 'SPEL.PA', 'FORE.PA', 'FFARM.AS', 'FOU.BR', 'LFDE.PA', 'FREY.PA', 'FUR.AS', 'GLPG.AS', 'GALIM.PA', 'GAM.PA', 'GBLB.BR', 'GEA.PA', 'GFC.PA', 'GNE.PA', 'GENX.PA', 'GNRO.PA', 'GNFT.PA', 'GKTX.PA', 'GV.PA', 'SIGHT.PA', 'GOJXN.AS', 'GET.PA', 'GIMB.BR', 'GLO.PA', 'GLOG.BR', 'GPE.PA', 'GRVO.PA', 'GVNV.AS', 'GREEN.BR', 'CEN.PA', 'FLO.PA', 'GOE.PA', 'IRD.PA', 'GJAJ.PA', 'OPN.PA', 'PARP.PA', 'SFPI.PA', 'GTBP.PA', 'GTT.PA', 'GBT.PA', 'GBTNV.PA', 'GUI.PA', 'HAL.AS', 'HAMO.BR', 'PIG.PA', 'HEIJM.AS', 'HEIA.AS', 'HEIO.AS', 'RMS.PA', 'HEXA.PA', 'HF.PA', 'HCO.PA', 'HIPAY.PA', 'HOLCO.AS', 'HOMI.BR', 'HOP.PA', 'HDP.PA', 'HDG.AS', 'HUNDP.AS', 'HYDRA.AS', 'HYL.BR', 'IBAB.BR', 'ICAD.PA', 'ICT.AS', 'IDL.PA', 'IDIP.PA', 'IEP.BR', 'IEX.AS', 'IGE.PA', 'ILD.PA', 'IMCD.AS', 'NK.PA', 'IMMOU.BR', 'IMDA.PA', 'IMMO.BR', 'INCLU.BR', 'INFE.PA', 'INF.PA', 'INGA.AS', 'IPH.PA', 'INPST.AS', 'ITP.PA', 'INTER.AS', 'INTO.BR', 'ITXT.PA', 'IVA.PA', 'IPN.PA', 'IPS.PA', 'IPSNV.PA', 'ITE.PA', 'JBOG.PA', 'JCQ.PA', 'DEC.PA', 'JDEP.AS', 'JEN.BR', 'TKWY.AS', 'KOF.PA', 'KBC.BR', 'KBCA.BR', 'KENDR.AS', 'KER.PA', 'KEYW.BR', 'KDS.AS', 'KIN.BR', 'LI.PA', 'KORI.PA', 'KPN.AS', 'OR.PA', 'ORNV.PA', 'LACR.PA', 'LHN.PA', 'MMB.PA', 'LAT.PA', 'LPE.PA', 'LVIDE.AS', 'LOUP.PA', 'LEAS.BR', 'LBON.PA', 'LSS.PA', 'LSSNV.PA', 'LR.PA', 'LIN.PA', 'FII.PA', 'LNA.PA', 'LOTB.BR', 'BOLS.AS', 'LBIRD.PA', 'MC.PA', 'LYS.PA', 'MRM.PA', 'MDM.PA', 'MALT.PA', 'MTU.PA', 'MAN.PA', 'MAREL.AS', 'IAM.PA', 'MKEA.PA', 'MAU.PA', 'MBWS.PA', 'MCPHY.PA', 'MDXH.BR', 'EDI.PA', 'MEDCL.PA', 'MELE.BR', 'MEMS.PA', 'MERY.PA', 'MRK.PA', 'MRN.PA', 'MRNNV.PA', 'METEX.PA', 'MMT.PA', 'ML.PA', 'MLNV.PA', 'MUN.PA', 'MIKO.BR', 'MITRA.BR', 'NEDSE.AS', 'MONC.PA', 'MONT.BR', 'MOP.BR', 'MOPF.BR', 'MORE.AS', 'MOUR.BR', 'GREV.PA', 'NACON.PA', 'NANO.PA', 'KN.PA', 'NAVYA.PA', 'NEDAP.AS', 'NEOEN.PA', 'NRP.AS', 'NRO.PA', 'NSE.AS', 'NEWAY.AS', 'NEX.PA', 'NXI.PA', 'NEXTS.PA', 'COX.PA', 'NN.AS', 'NOKIA.PA', 'NOVI.AS', 'NR21.PA', 'NRG.PA', 'NSI.AS', 'NYR.BR', 'NYXH.BR', 'OCI.AS', 'SBT.PA', 'OLG.PA', 'ONTEX.BR', 'ORA.PA', 'OBEL.BR', 'ORANW.AS', 'ORAP.PA', 'KAZI.PA', 'ORDI.AS', 'OREGE.PA', 'ORP.PA', 'OSE.PA', 'OXUR.BR', 'PID.PA', 'PAR.PA', 'PARRO.PA', 'PSAT.PA', 'PAT.PA', 'PAY.BR', 'PCA.PA', 'RI.PA', 'PERR.PA', 'PSH.AS', 'PEUG.PA', 'PHA.PA', 'PHARM.AS', 'INPHI.AS', 'PHIA.AS', 'PIC.BR', 'VAC.PA', 'PVL.PA', 'POM.PA', 'PORF.AS', 'PNL.AS', 'POXEL.PA', 'PPLAA.AS', 'PPLAB.AS', 'PPLA.AS', 'PREC.PA', 'PROAC.PA', 'PWG.PA', 'PROL.PA', 'PRX.AS', 'PROX.BR', 'PSB.PA', 'PUB.PA', 'QRF.BR', 'QDT.PA', 'QFG.BR', 'RAL.PA', 'GDS.PA', 'RAND.AS', 'REC.BR', 'RX.PA', 'REINA.AS', 'REN.AS', 'RCO.PA', 'RNO.PA', 'RWI.AS', 'RES.BR', 'RET.BR', 'RXL.PA', 'RBT.PA', 'CBR.PA', 'CBE.PA', 'RBO.PA', 'ROOD.AS', 'ENGB.BR', 'ROTH.PA', 'ROU.BR', 'RDSA.AS', 'RDSB.AS', 'RUI.PA', 'SK.PA', 'SAF.PA', 'SGO.PA', 'SGONV.PA', 'SABE.PA', 'SAMS.PA', 'SAN.PA', 'SANNV.PA', 'DIM.PA', 'SAVE.PA', 'SBMO.AS', 'CBSM.PA', 'SCHD.BR', 'SLB.PA', 'SU.PA', 'SCR.PA', 'SCHP.PA', 'SGRO.PA', 'SLCO.PA', 'SELER.PA', 'SEQUA.BR', 'SEFER.PA', 'SESG.PA', 'SESL.PA', 'SRP.PA', 'SHUR.BR', 'SIFG.AS', 'GIRO.PA', 'LIGHT.AS', 'SII.PA', 'SIOE.BR', 'SIP.BR', 'SLIGR.AS', 'SMAR.BR', 'SMCP.PA', 'SMTPC.PA', 'SNOW.AS', 'SFCA.PA', 'GLE.PA', 'SW.PA', 'SEC.PA', 'SOF.BR', 'SOG.PA', 'SOI.PA', 'LOCAL.PA', 'S30.PA', 'SOLV.BR', 'SOLB.BR', 'SO.PA', 'SOP.PA', 'SPA.BR', 'SPIE.PA', 'SQI.PA', 'DPT.PA', 'STF.PA', 'STLA.PA', 'STRN.AS', 'STM.PA', 'SEV.PA', 'SWP.PA', 'SDG.PA', 'TKTT.PA', 'TAYN.PA', 'TCH.PA', 'TE.PA', 'FTI.PA', 'TNET.BR', 'TEP.PA', 'TVRB.PA', 'TERB.BR', 'TESB.BR', 'TES.PA', 'TFG.AS', 'TEXF.BR', 'TFI.PA', 'TFF.PA', 'HO.PA', 'HONV.PA', 'THEP.PA', 'TBIRD.AS', 'TIE.AS', 'TKO.PA', 'TINC.BR', 'TIPI.PA', 'TITC.BR', 'TWEKA.AS', 'TOM2.AS', 'FP.PA', 'EC.PA', 'TOUP.PA', 'EIFF.PA', 'TNG.PA', 'TRI.PA', 'TUB.BR', 'UBI.PA', 'UCB.BR', 'UMI.BR', 'URW.AS', 'UNBL.PA', 'UPG.BR', 'UNA.AS', 'UFF.PA', 'FPG.PA', 'VLK.AS', 'FR.PA', 'VK.PA', 'VLA.PA', 'VALUE.AS', 'PREVA.AS', 'VAN.BR', 'VASTN.AS', 'VASTB.BR', 'VIE.PA', 'VEON.AS', 'VRLA.PA', 'VMX.PA', 'VETO.PA', 'VGP.BR', 'VCT.PA', 'VDLO.PA', 'VIL.PA', 'RIN.PA', 'DG.PA', 'VIO.BR', 'VIRP.PA', 'SDT.PA', 'VIV.PA', 'VIVNV.PA', 'VVY.AS', 'VTA.AS', 'VLTSA.PA', 'VPK.AS', 'VRAP.PA', 'WEB.BR', 'WAVE.PA', 'WDP.BR', 'MF.PA', 'WHA.AS', 'WEHB.BR', 'WKL.AS', 'WLN.PA', 'XFAB.PA', 'XIL.PA', 'XIOR.BR', 'XPO.PA', 'YATRA.AS', 'CV.PA', 'ZENT.BR', '^FCHI', '^N100']\n",
    "\n",
    "# CAC40\n",
    "cac40 = ['EURUSD=X', '^FCHI', 'AI.PA', 'AIR.PA', 'ALO.PA', 'MT.PA', 'ATO.PA', 'CS.PA', 'BNP.PA', 'EN.PA', 'CAP.PA', 'CA.PA', 'ACA.PA', 'BN.PA', 'DSY.PA', 'ENGI.PA', 'EL.PA', 'RMS.PA', 'KER.PA', 'OR.PA', 'LR.PA', 'MC.PA', 'ML.PA', 'ORA.PA', 'RI.PA', 'PUB.PA', 'RNO.PA', 'SAF.PA', 'SGO.PA', 'SAN.PA', 'SU.PA', 'GLE.PA', 'STLA.PA', 'STM.PA', 'TEP.PA', 'HO.PA', 'FP.PA', 'URW.PA', 'VIE.PA', 'DG.PA', 'VIV.PA', 'WLN.PA']\n",
    "\n",
    "# Selection of stocks & reference indices for testing\n",
    "stocks_for_testing = [\"EDF.PA\", \"ENGI.PA\", \"ABIO.PA\", \"ELEC.PA\", \"NEOEN.PA\", \"NSE.AS\", \"VLTSA.PA\", \"^FCHI\", \"^N100\"]\n",
    "\n",
    "small_test = ['SU.PA', 'VLTSA.PA']\n",
    "\n",
    "# mystocks = euronext_pab\n",
    "# mystocks = euronext_pab\n",
    "mystocks = cac40\n",
    "# mystocks = small_test"
   ]
  },
  {
   "cell_type": "code",
   "execution_count": 22,
   "id": "8d3491ca",
   "metadata": {
    "ExecuteTime": {
     "end_time": "2021-05-23T08:16:50.401883Z",
     "start_time": "2021-05-23T08:16:50.396081Z"
    },
    "run_control": {
     "marked": true
    }
   },
   "outputs": [],
   "source": [
    "# ?yf.download"
   ]
  },
  {
   "cell_type": "code",
   "execution_count": 23,
   "id": "a76fae97",
   "metadata": {
    "ExecuteTime": {
     "end_time": "2021-05-23T08:16:53.771315Z",
     "start_time": "2021-05-23T08:16:50.403371Z"
    },
    "run_control": {
     "marked": true
    }
   },
   "outputs": [
    {
     "name": "stdout",
     "output_type": "stream",
     "text": [
      "[*********************100%***********************]  42 of 42 completed\n",
      "\n",
      "2 Failed downloads:\n",
      "- URW.PA: No data found, symbol may be delisted\n",
      "- MT.PA: No data found for this date range, symbol may be delisted\n"
     ]
    }
   ],
   "source": [
    "# Get all data\n",
    "data = yf.download(\n",
    "    tickers=mystocks,\n",
    "    period=\"2y\",\n",
    "    interval=\"1d\",\n",
    "    threads=True,\n",
    ")"
   ]
  },
  {
   "cell_type": "code",
   "execution_count": 24,
   "id": "224bf453",
   "metadata": {
    "ExecuteTime": {
     "end_time": "2021-05-23T08:16:53.778972Z",
     "start_time": "2021-05-23T08:16:53.774133Z"
    },
    "run_control": {
     "marked": true
    }
   },
   "outputs": [],
   "source": [
    "# Pull closing prices and volumes. Check docs for all parameters\n",
    "# data = yf.download(\n",
    "#     tickers=mystocks,\n",
    "#     period=\"2y\",\n",
    "#     interval=\"1d\",\n",
    "#     threads=True,\n",
    "# )[[\"Adj Close\", \"Volume\"]]"
   ]
  },
  {
   "cell_type": "code",
   "execution_count": 25,
   "id": "01f25dbd",
   "metadata": {
    "ExecuteTime": {
     "end_time": "2021-05-23T08:16:54.589177Z",
     "start_time": "2021-05-23T08:16:53.780621Z"
    }
   },
   "outputs": [
    {
     "name": "stdout",
     "output_type": "stream",
     "text": [
      "Writing 524 records to 'data.csv' in bucket 'euronext-stocks'.\n"
     ]
    }
   ],
   "source": [
    "# Save data to s3\n",
    "_write_dataframe_to_csv_on_s3(\"euronext-stocks\", data, \"data.csv\")"
   ]
  },
  {
   "cell_type": "code",
   "execution_count": 26,
   "id": "ebc4cb83",
   "metadata": {
    "ExecuteTime": {
     "end_time": "2021-05-23T08:16:54.596818Z",
     "start_time": "2021-05-23T08:16:54.591427Z"
    },
    "run_control": {
     "marked": true
    }
   },
   "outputs": [],
   "source": [
    "# Store volumes in separate dataframe\n",
    "df_volumes = data[\"Volume\"]\n",
    "df_volumes = df_volumes[mystocks]"
   ]
  },
  {
   "cell_type": "code",
   "execution_count": 27,
   "id": "134ac269",
   "metadata": {
    "ExecuteTime": {
     "end_time": "2021-05-23T08:16:54.602993Z",
     "start_time": "2021-05-23T08:16:54.598462Z"
    },
    "run_control": {
     "marked": true
    }
   },
   "outputs": [
    {
     "data": {
      "text/plain": [
       "(524, 42)"
      ]
     },
     "execution_count": 27,
     "metadata": {},
     "output_type": "execute_result"
    }
   ],
   "source": [
    "df_volumes.shape"
   ]
  },
  {
   "cell_type": "code",
   "execution_count": 28,
   "id": "b7b0aacf",
   "metadata": {
    "ExecuteTime": {
     "end_time": "2021-05-23T08:16:54.659780Z",
     "start_time": "2021-05-23T08:16:54.604475Z"
    },
    "run_control": {
     "marked": true
    },
    "scrolled": true
   },
   "outputs": [
    {
     "data": {
      "text/html": [
       "<div>\n",
       "<style scoped>\n",
       "    .dataframe tbody tr th:only-of-type {\n",
       "        vertical-align: middle;\n",
       "    }\n",
       "\n",
       "    .dataframe tbody tr th {\n",
       "        vertical-align: top;\n",
       "    }\n",
       "\n",
       "    .dataframe thead th {\n",
       "        text-align: right;\n",
       "    }\n",
       "</style>\n",
       "<table border=\"1\" class=\"dataframe\">\n",
       "  <thead>\n",
       "    <tr style=\"text-align: right;\">\n",
       "      <th></th>\n",
       "      <th>EURUSD=X</th>\n",
       "      <th>^FCHI</th>\n",
       "      <th>AI.PA</th>\n",
       "      <th>AIR.PA</th>\n",
       "      <th>ALO.PA</th>\n",
       "      <th>MT.PA</th>\n",
       "      <th>ATO.PA</th>\n",
       "      <th>CS.PA</th>\n",
       "      <th>BNP.PA</th>\n",
       "      <th>EN.PA</th>\n",
       "      <th>...</th>\n",
       "      <th>STLA.PA</th>\n",
       "      <th>STM.PA</th>\n",
       "      <th>TEP.PA</th>\n",
       "      <th>HO.PA</th>\n",
       "      <th>FP.PA</th>\n",
       "      <th>URW.PA</th>\n",
       "      <th>VIE.PA</th>\n",
       "      <th>DG.PA</th>\n",
       "      <th>VIV.PA</th>\n",
       "      <th>WLN.PA</th>\n",
       "    </tr>\n",
       "    <tr>\n",
       "      <th>Date</th>\n",
       "      <th></th>\n",
       "      <th></th>\n",
       "      <th></th>\n",
       "      <th></th>\n",
       "      <th></th>\n",
       "      <th></th>\n",
       "      <th></th>\n",
       "      <th></th>\n",
       "      <th></th>\n",
       "      <th></th>\n",
       "      <th></th>\n",
       "      <th></th>\n",
       "      <th></th>\n",
       "      <th></th>\n",
       "      <th></th>\n",
       "      <th></th>\n",
       "      <th></th>\n",
       "      <th></th>\n",
       "      <th></th>\n",
       "      <th></th>\n",
       "      <th></th>\n",
       "    </tr>\n",
       "  </thead>\n",
       "  <tbody>\n",
       "    <tr>\n",
       "      <th>2021-05-17 00:00:00</th>\n",
       "      <td>0.0</td>\n",
       "      <td>62538700.0</td>\n",
       "      <td>572002.0</td>\n",
       "      <td>1087269.0</td>\n",
       "      <td>687944.0</td>\n",
       "      <td>NaN</td>\n",
       "      <td>492069.0</td>\n",
       "      <td>3375995.0</td>\n",
       "      <td>2510944.0</td>\n",
       "      <td>711134.0</td>\n",
       "      <td>...</td>\n",
       "      <td>3765451.0</td>\n",
       "      <td>1824844.0</td>\n",
       "      <td>108866.0</td>\n",
       "      <td>198511.0</td>\n",
       "      <td>4081153.0</td>\n",
       "      <td>NaN</td>\n",
       "      <td>1844052.0</td>\n",
       "      <td>703454.0</td>\n",
       "      <td>1924854.0</td>\n",
       "      <td>383247.0</td>\n",
       "    </tr>\n",
       "    <tr>\n",
       "      <th>2021-05-18 00:00:00</th>\n",
       "      <td>0.0</td>\n",
       "      <td>74129300.0</td>\n",
       "      <td>605892.0</td>\n",
       "      <td>1469378.0</td>\n",
       "      <td>963084.0</td>\n",
       "      <td>NaN</td>\n",
       "      <td>586574.0</td>\n",
       "      <td>4426932.0</td>\n",
       "      <td>2884081.0</td>\n",
       "      <td>933595.0</td>\n",
       "      <td>...</td>\n",
       "      <td>3313785.0</td>\n",
       "      <td>2195032.0</td>\n",
       "      <td>92992.0</td>\n",
       "      <td>208269.0</td>\n",
       "      <td>6041487.0</td>\n",
       "      <td>NaN</td>\n",
       "      <td>1250673.0</td>\n",
       "      <td>702687.0</td>\n",
       "      <td>3236112.0</td>\n",
       "      <td>369424.0</td>\n",
       "    </tr>\n",
       "    <tr>\n",
       "      <th>2021-05-19 00:00:00</th>\n",
       "      <td>0.0</td>\n",
       "      <td>92757600.0</td>\n",
       "      <td>836526.0</td>\n",
       "      <td>1947475.0</td>\n",
       "      <td>897552.0</td>\n",
       "      <td>NaN</td>\n",
       "      <td>758739.0</td>\n",
       "      <td>7370487.0</td>\n",
       "      <td>4155798.0</td>\n",
       "      <td>1763947.0</td>\n",
       "      <td>...</td>\n",
       "      <td>3416564.0</td>\n",
       "      <td>2959497.0</td>\n",
       "      <td>140683.0</td>\n",
       "      <td>356897.0</td>\n",
       "      <td>7239048.0</td>\n",
       "      <td>NaN</td>\n",
       "      <td>1231696.0</td>\n",
       "      <td>1185272.0</td>\n",
       "      <td>2003309.0</td>\n",
       "      <td>607858.0</td>\n",
       "    </tr>\n",
       "    <tr>\n",
       "      <th>2021-05-20 00:00:00</th>\n",
       "      <td>0.0</td>\n",
       "      <td>68528400.0</td>\n",
       "      <td>768895.0</td>\n",
       "      <td>1291926.0</td>\n",
       "      <td>1014223.0</td>\n",
       "      <td>NaN</td>\n",
       "      <td>496056.0</td>\n",
       "      <td>4297355.0</td>\n",
       "      <td>2960089.0</td>\n",
       "      <td>1485857.0</td>\n",
       "      <td>...</td>\n",
       "      <td>2591370.0</td>\n",
       "      <td>2802375.0</td>\n",
       "      <td>145993.0</td>\n",
       "      <td>246867.0</td>\n",
       "      <td>5630563.0</td>\n",
       "      <td>NaN</td>\n",
       "      <td>1326617.0</td>\n",
       "      <td>985247.0</td>\n",
       "      <td>1737001.0</td>\n",
       "      <td>421998.0</td>\n",
       "    </tr>\n",
       "    <tr>\n",
       "      <th>2021-05-21 00:00:00</th>\n",
       "      <td>0.0</td>\n",
       "      <td>75862000.0</td>\n",
       "      <td>748581.0</td>\n",
       "      <td>1454579.0</td>\n",
       "      <td>1062640.0</td>\n",
       "      <td>NaN</td>\n",
       "      <td>544415.0</td>\n",
       "      <td>5115531.0</td>\n",
       "      <td>4109887.0</td>\n",
       "      <td>1110099.0</td>\n",
       "      <td>...</td>\n",
       "      <td>4659128.0</td>\n",
       "      <td>2006560.0</td>\n",
       "      <td>110101.0</td>\n",
       "      <td>204694.0</td>\n",
       "      <td>5191318.0</td>\n",
       "      <td>NaN</td>\n",
       "      <td>1081473.0</td>\n",
       "      <td>862878.0</td>\n",
       "      <td>2557573.0</td>\n",
       "      <td>522588.0</td>\n",
       "    </tr>\n",
       "  </tbody>\n",
       "</table>\n",
       "<p>5 rows × 42 columns</p>\n",
       "</div>"
      ],
      "text/plain": [
       "                     EURUSD=X       ^FCHI     AI.PA     AIR.PA     ALO.PA  \\\n",
       "Date                                                                        \n",
       "2021-05-17 00:00:00       0.0  62538700.0  572002.0  1087269.0   687944.0   \n",
       "2021-05-18 00:00:00       0.0  74129300.0  605892.0  1469378.0   963084.0   \n",
       "2021-05-19 00:00:00       0.0  92757600.0  836526.0  1947475.0   897552.0   \n",
       "2021-05-20 00:00:00       0.0  68528400.0  768895.0  1291926.0  1014223.0   \n",
       "2021-05-21 00:00:00       0.0  75862000.0  748581.0  1454579.0  1062640.0   \n",
       "\n",
       "                     MT.PA    ATO.PA      CS.PA     BNP.PA      EN.PA  ...  \\\n",
       "Date                                                                   ...   \n",
       "2021-05-17 00:00:00    NaN  492069.0  3375995.0  2510944.0   711134.0  ...   \n",
       "2021-05-18 00:00:00    NaN  586574.0  4426932.0  2884081.0   933595.0  ...   \n",
       "2021-05-19 00:00:00    NaN  758739.0  7370487.0  4155798.0  1763947.0  ...   \n",
       "2021-05-20 00:00:00    NaN  496056.0  4297355.0  2960089.0  1485857.0  ...   \n",
       "2021-05-21 00:00:00    NaN  544415.0  5115531.0  4109887.0  1110099.0  ...   \n",
       "\n",
       "                       STLA.PA     STM.PA    TEP.PA     HO.PA      FP.PA  \\\n",
       "Date                                                                       \n",
       "2021-05-17 00:00:00  3765451.0  1824844.0  108866.0  198511.0  4081153.0   \n",
       "2021-05-18 00:00:00  3313785.0  2195032.0   92992.0  208269.0  6041487.0   \n",
       "2021-05-19 00:00:00  3416564.0  2959497.0  140683.0  356897.0  7239048.0   \n",
       "2021-05-20 00:00:00  2591370.0  2802375.0  145993.0  246867.0  5630563.0   \n",
       "2021-05-21 00:00:00  4659128.0  2006560.0  110101.0  204694.0  5191318.0   \n",
       "\n",
       "                     URW.PA     VIE.PA      DG.PA     VIV.PA    WLN.PA  \n",
       "Date                                                                    \n",
       "2021-05-17 00:00:00     NaN  1844052.0   703454.0  1924854.0  383247.0  \n",
       "2021-05-18 00:00:00     NaN  1250673.0   702687.0  3236112.0  369424.0  \n",
       "2021-05-19 00:00:00     NaN  1231696.0  1185272.0  2003309.0  607858.0  \n",
       "2021-05-20 00:00:00     NaN  1326617.0   985247.0  1737001.0  421998.0  \n",
       "2021-05-21 00:00:00     NaN  1081473.0   862878.0  2557573.0  522588.0  \n",
       "\n",
       "[5 rows x 42 columns]"
      ]
     },
     "execution_count": 28,
     "metadata": {},
     "output_type": "execute_result"
    }
   ],
   "source": [
    "df_volumes.tail()"
   ]
  },
  {
   "cell_type": "code",
   "execution_count": 29,
   "id": "4ab5fd87",
   "metadata": {
    "ExecuteTime": {
     "end_time": "2021-05-23T08:16:54.839484Z",
     "start_time": "2021-05-23T08:16:54.663066Z"
    },
    "run_control": {
     "marked": true
    }
   },
   "outputs": [
    {
     "name": "stdout",
     "output_type": "stream",
     "text": [
      "Writing 524 records to 'df_volumes.csv' in bucket 'euronext-stocks'.\n"
     ]
    }
   ],
   "source": [
    "# Save df_volumes to s3\n",
    "_write_dataframe_to_csv_on_s3(\"euronext-stocks\", df_volumes, \"df_volumes.csv\")"
   ]
  },
  {
   "cell_type": "code",
   "execution_count": 30,
   "id": "29c140fc",
   "metadata": {
    "ExecuteTime": {
     "end_time": "2021-05-23T08:16:54.848638Z",
     "start_time": "2021-05-23T08:16:54.844135Z"
    },
    "run_control": {
     "marked": true
    }
   },
   "outputs": [],
   "source": [
    "# Store prices in separate dataframe\n",
    "df_prices = data[\"Adj Close\"]\n",
    "df_prices = df_prices[mystocks]"
   ]
  },
  {
   "cell_type": "code",
   "execution_count": 31,
   "id": "8b9860fd",
   "metadata": {
    "ExecuteTime": {
     "end_time": "2021-05-23T08:16:54.855318Z",
     "start_time": "2021-05-23T08:16:54.851550Z"
    },
    "run_control": {
     "marked": true
    }
   },
   "outputs": [
    {
     "data": {
      "text/plain": [
       "(524, 42)"
      ]
     },
     "execution_count": 31,
     "metadata": {},
     "output_type": "execute_result"
    }
   ],
   "source": [
    "df_prices.shape"
   ]
  },
  {
   "cell_type": "code",
   "execution_count": 32,
   "id": "db3b91f0",
   "metadata": {
    "ExecuteTime": {
     "end_time": "2021-05-23T08:16:54.887796Z",
     "start_time": "2021-05-23T08:16:54.857244Z"
    },
    "run_control": {
     "marked": true
    },
    "scrolled": true
   },
   "outputs": [
    {
     "data": {
      "text/html": [
       "<div>\n",
       "<style scoped>\n",
       "    .dataframe tbody tr th:only-of-type {\n",
       "        vertical-align: middle;\n",
       "    }\n",
       "\n",
       "    .dataframe tbody tr th {\n",
       "        vertical-align: top;\n",
       "    }\n",
       "\n",
       "    .dataframe thead th {\n",
       "        text-align: right;\n",
       "    }\n",
       "</style>\n",
       "<table border=\"1\" class=\"dataframe\">\n",
       "  <thead>\n",
       "    <tr style=\"text-align: right;\">\n",
       "      <th></th>\n",
       "      <th>EURUSD=X</th>\n",
       "      <th>^FCHI</th>\n",
       "      <th>AI.PA</th>\n",
       "      <th>AIR.PA</th>\n",
       "      <th>ALO.PA</th>\n",
       "      <th>MT.PA</th>\n",
       "      <th>ATO.PA</th>\n",
       "      <th>CS.PA</th>\n",
       "      <th>BNP.PA</th>\n",
       "      <th>EN.PA</th>\n",
       "      <th>...</th>\n",
       "      <th>STLA.PA</th>\n",
       "      <th>STM.PA</th>\n",
       "      <th>TEP.PA</th>\n",
       "      <th>HO.PA</th>\n",
       "      <th>FP.PA</th>\n",
       "      <th>URW.PA</th>\n",
       "      <th>VIE.PA</th>\n",
       "      <th>DG.PA</th>\n",
       "      <th>VIV.PA</th>\n",
       "      <th>WLN.PA</th>\n",
       "    </tr>\n",
       "    <tr>\n",
       "      <th>Date</th>\n",
       "      <th></th>\n",
       "      <th></th>\n",
       "      <th></th>\n",
       "      <th></th>\n",
       "      <th></th>\n",
       "      <th></th>\n",
       "      <th></th>\n",
       "      <th></th>\n",
       "      <th></th>\n",
       "      <th></th>\n",
       "      <th></th>\n",
       "      <th></th>\n",
       "      <th></th>\n",
       "      <th></th>\n",
       "      <th></th>\n",
       "      <th></th>\n",
       "      <th></th>\n",
       "      <th></th>\n",
       "      <th></th>\n",
       "      <th></th>\n",
       "      <th></th>\n",
       "    </tr>\n",
       "  </thead>\n",
       "  <tbody>\n",
       "    <tr>\n",
       "      <th>2019-05-21 00:00:00</th>\n",
       "      <td>1.116857</td>\n",
       "      <td>5385.459961</td>\n",
       "      <td>98.775711</td>\n",
       "      <td>114.512329</td>\n",
       "      <td>34.874493</td>\n",
       "      <td>NaN</td>\n",
       "      <td>69.750130</td>\n",
       "      <td>18.635651</td>\n",
       "      <td>37.346058</td>\n",
       "      <td>28.469492</td>\n",
       "      <td>...</td>\n",
       "      <td>NaN</td>\n",
       "      <td>14.475150</td>\n",
       "      <td>163.944016</td>\n",
       "      <td>95.904182</td>\n",
       "      <td>43.267834</td>\n",
       "      <td>NaN</td>\n",
       "      <td>19.207800</td>\n",
       "      <td>84.066292</td>\n",
       "      <td>23.960810</td>\n",
       "      <td>51.250000</td>\n",
       "    </tr>\n",
       "    <tr>\n",
       "      <th>2019-05-22 00:00:00</th>\n",
       "      <td>NaN</td>\n",
       "      <td>5378.979980</td>\n",
       "      <td>99.952133</td>\n",
       "      <td>114.473595</td>\n",
       "      <td>35.094494</td>\n",
       "      <td>NaN</td>\n",
       "      <td>71.618790</td>\n",
       "      <td>18.515982</td>\n",
       "      <td>36.943504</td>\n",
       "      <td>28.233629</td>\n",
       "      <td>...</td>\n",
       "      <td>NaN</td>\n",
       "      <td>14.274107</td>\n",
       "      <td>169.182465</td>\n",
       "      <td>95.432442</td>\n",
       "      <td>42.607059</td>\n",
       "      <td>NaN</td>\n",
       "      <td>19.293125</td>\n",
       "      <td>84.085098</td>\n",
       "      <td>23.863605</td>\n",
       "      <td>52.299999</td>\n",
       "    </tr>\n",
       "    <tr>\n",
       "      <th>2019-05-23 00:00:00</th>\n",
       "      <td>1.115548</td>\n",
       "      <td>5281.370117</td>\n",
       "      <td>98.035004</td>\n",
       "      <td>111.239433</td>\n",
       "      <td>34.909691</td>\n",
       "      <td>NaN</td>\n",
       "      <td>69.415741</td>\n",
       "      <td>18.284893</td>\n",
       "      <td>36.229702</td>\n",
       "      <td>27.692019</td>\n",
       "      <td>...</td>\n",
       "      <td>NaN</td>\n",
       "      <td>13.465029</td>\n",
       "      <td>166.757248</td>\n",
       "      <td>93.554932</td>\n",
       "      <td>41.202900</td>\n",
       "      <td>NaN</td>\n",
       "      <td>19.046627</td>\n",
       "      <td>83.144760</td>\n",
       "      <td>22.911007</td>\n",
       "      <td>50.099998</td>\n",
       "    </tr>\n",
       "    <tr>\n",
       "      <th>2019-05-24 00:00:00</th>\n",
       "      <td>1.118456</td>\n",
       "      <td>5316.509766</td>\n",
       "      <td>99.080704</td>\n",
       "      <td>112.846832</td>\n",
       "      <td>35.085693</td>\n",
       "      <td>NaN</td>\n",
       "      <td>69.828812</td>\n",
       "      <td>18.408689</td>\n",
       "      <td>36.441353</td>\n",
       "      <td>27.866732</td>\n",
       "      <td>...</td>\n",
       "      <td>NaN</td>\n",
       "      <td>13.396379</td>\n",
       "      <td>167.727341</td>\n",
       "      <td>93.517197</td>\n",
       "      <td>41.346363</td>\n",
       "      <td>NaN</td>\n",
       "      <td>19.331047</td>\n",
       "      <td>84.668121</td>\n",
       "      <td>22.940168</td>\n",
       "      <td>51.500000</td>\n",
       "    </tr>\n",
       "    <tr>\n",
       "      <th>2019-05-27 00:00:00</th>\n",
       "      <td>1.120963</td>\n",
       "      <td>5336.189941</td>\n",
       "      <td>99.734283</td>\n",
       "      <td>113.137321</td>\n",
       "      <td>35.499294</td>\n",
       "      <td>NaN</td>\n",
       "      <td>70.300896</td>\n",
       "      <td>18.470589</td>\n",
       "      <td>36.686207</td>\n",
       "      <td>27.814318</td>\n",
       "      <td>...</td>\n",
       "      <td>NaN</td>\n",
       "      <td>13.440511</td>\n",
       "      <td>169.279480</td>\n",
       "      <td>93.215271</td>\n",
       "      <td>41.602848</td>\n",
       "      <td>NaN</td>\n",
       "      <td>19.605986</td>\n",
       "      <td>85.044250</td>\n",
       "      <td>22.745760</td>\n",
       "      <td>51.500000</td>\n",
       "    </tr>\n",
       "  </tbody>\n",
       "</table>\n",
       "<p>5 rows × 42 columns</p>\n",
       "</div>"
      ],
      "text/plain": [
       "                     EURUSD=X        ^FCHI      AI.PA      AIR.PA     ALO.PA  \\\n",
       "Date                                                                           \n",
       "2019-05-21 00:00:00  1.116857  5385.459961  98.775711  114.512329  34.874493   \n",
       "2019-05-22 00:00:00       NaN  5378.979980  99.952133  114.473595  35.094494   \n",
       "2019-05-23 00:00:00  1.115548  5281.370117  98.035004  111.239433  34.909691   \n",
       "2019-05-24 00:00:00  1.118456  5316.509766  99.080704  112.846832  35.085693   \n",
       "2019-05-27 00:00:00  1.120963  5336.189941  99.734283  113.137321  35.499294   \n",
       "\n",
       "                     MT.PA     ATO.PA      CS.PA     BNP.PA      EN.PA  ...  \\\n",
       "Date                                                                    ...   \n",
       "2019-05-21 00:00:00    NaN  69.750130  18.635651  37.346058  28.469492  ...   \n",
       "2019-05-22 00:00:00    NaN  71.618790  18.515982  36.943504  28.233629  ...   \n",
       "2019-05-23 00:00:00    NaN  69.415741  18.284893  36.229702  27.692019  ...   \n",
       "2019-05-24 00:00:00    NaN  69.828812  18.408689  36.441353  27.866732  ...   \n",
       "2019-05-27 00:00:00    NaN  70.300896  18.470589  36.686207  27.814318  ...   \n",
       "\n",
       "                     STLA.PA     STM.PA      TEP.PA      HO.PA      FP.PA  \\\n",
       "Date                                                                        \n",
       "2019-05-21 00:00:00      NaN  14.475150  163.944016  95.904182  43.267834   \n",
       "2019-05-22 00:00:00      NaN  14.274107  169.182465  95.432442  42.607059   \n",
       "2019-05-23 00:00:00      NaN  13.465029  166.757248  93.554932  41.202900   \n",
       "2019-05-24 00:00:00      NaN  13.396379  167.727341  93.517197  41.346363   \n",
       "2019-05-27 00:00:00      NaN  13.440511  169.279480  93.215271  41.602848   \n",
       "\n",
       "                     URW.PA     VIE.PA      DG.PA     VIV.PA     WLN.PA  \n",
       "Date                                                                     \n",
       "2019-05-21 00:00:00     NaN  19.207800  84.066292  23.960810  51.250000  \n",
       "2019-05-22 00:00:00     NaN  19.293125  84.085098  23.863605  52.299999  \n",
       "2019-05-23 00:00:00     NaN  19.046627  83.144760  22.911007  50.099998  \n",
       "2019-05-24 00:00:00     NaN  19.331047  84.668121  22.940168  51.500000  \n",
       "2019-05-27 00:00:00     NaN  19.605986  85.044250  22.745760  51.500000  \n",
       "\n",
       "[5 rows x 42 columns]"
      ]
     },
     "execution_count": 32,
     "metadata": {},
     "output_type": "execute_result"
    }
   ],
   "source": [
    "df_prices.head()"
   ]
  },
  {
   "cell_type": "code",
   "execution_count": 33,
   "id": "ab23f674",
   "metadata": {
    "ExecuteTime": {
     "end_time": "2021-05-23T08:16:55.039789Z",
     "start_time": "2021-05-23T08:16:54.889392Z"
    },
    "run_control": {
     "marked": true
    }
   },
   "outputs": [
    {
     "name": "stdout",
     "output_type": "stream",
     "text": [
      "Writing 524 records to 'df_prices.csv' in bucket 'euronext-stocks'.\n"
     ]
    }
   ],
   "source": [
    "# Save df_prices to s3\n",
    "_write_dataframe_to_csv_on_s3(\"euronext-stocks\", df_prices, \"df_prices.csv\")"
   ]
  },
  {
   "cell_type": "markdown",
   "id": "fb8384ee",
   "metadata": {},
   "source": [
    "### Get ticker metadata"
   ]
  },
  {
   "cell_type": "code",
   "execution_count": 34,
   "id": "8f212a7f",
   "metadata": {
    "ExecuteTime": {
     "end_time": "2021-05-23T08:16:55.330250Z",
     "start_time": "2021-05-23T08:16:55.041586Z"
    },
    "run_control": {
     "marked": false
    }
   },
   "outputs": [],
   "source": [
    "mytickers = yf.Tickers(mystocks)"
   ]
  },
  {
   "cell_type": "code",
   "execution_count": 35,
   "id": "330ed903",
   "metadata": {
    "ExecuteTime": {
     "end_time": "2021-05-23T08:17:48.941645Z",
     "start_time": "2021-05-23T08:16:55.332098Z"
    },
    "run_control": {
     "marked": false
    },
    "scrolled": true
   },
   "outputs": [
    {
     "name": "stdout",
     "output_type": "stream",
     "text": [
      "EURUSD=X\n",
      "^FCHI\n",
      "AI.PA\n",
      "AIR.PA\n",
      "ALO.PA\n",
      "MT.PA\n",
      "ATO.PA\n",
      "CS.PA\n",
      "BNP.PA\n",
      "EN.PA\n",
      "CAP.PA\n",
      "CA.PA\n",
      "ACA.PA\n",
      "BN.PA\n",
      "DSY.PA\n",
      "ENGI.PA\n",
      "EL.PA\n",
      "RMS.PA\n",
      "KER.PA\n",
      "OR.PA\n",
      "LR.PA\n",
      "MC.PA\n",
      "ML.PA\n",
      "ORA.PA\n",
      "RI.PA\n",
      "PUB.PA\n",
      "RNO.PA\n",
      "SAF.PA\n",
      "SGO.PA\n",
      "SAN.PA\n",
      "SU.PA\n",
      "GLE.PA\n",
      "STLA.PA\n",
      "STM.PA\n",
      "TEP.PA\n",
      "HO.PA\n",
      "FP.PA\n",
      "URW.PA\n",
      "VIE.PA\n",
      "DG.PA\n",
      "VIV.PA\n",
      "WLN.PA\n"
     ]
    }
   ],
   "source": [
    "# Get metadata (inspect an example for all the types of metadata that can be captured)\n",
    "ticker_info = {}\n",
    "for ticker in list(mytickers.tickers):\n",
    "    print(ticker)\n",
    "    ticker_dets = []\n",
    "    info = mytickers.tickers[ticker].info\n",
    "    \n",
    "    for md in metadata:\n",
    "        try:\n",
    "            ticker_dets.append(info[md])\n",
    "        except:\n",
    "            ticker_dets.append(\"Missing\")\n",
    "    ticker_info[ticker] = ticker_dets"
   ]
  },
  {
   "cell_type": "code",
   "execution_count": 36,
   "id": "09af868a",
   "metadata": {
    "ExecuteTime": {
     "end_time": "2021-05-23T08:17:48.948742Z",
     "start_time": "2021-05-23T08:17:48.943372Z"
    },
    "scrolled": true
   },
   "outputs": [],
   "source": [
    "# ticker_info"
   ]
  },
  {
   "cell_type": "code",
   "execution_count": 37,
   "id": "48fbed1e",
   "metadata": {
    "ExecuteTime": {
     "end_time": "2021-05-23T08:17:49.027232Z",
     "start_time": "2021-05-23T08:17:48.950232Z"
    },
    "run_control": {
     "marked": false
    }
   },
   "outputs": [
    {
     "data": {
      "text/plain": [
       "{'ResponseMetadata': {'RequestId': '4D0BM2BS1VZ8F926',\n",
       "  'HostId': '1QPKG+utYSJ8kQGE8PDnlXIvr0SKZNWygvBnFPDDEmMEMu5dLUvDp+kwrH5VCrM5TJlKuEX304M=',\n",
       "  'HTTPStatusCode': 200,\n",
       "  'HTTPHeaders': {'x-amz-id-2': '1QPKG+utYSJ8kQGE8PDnlXIvr0SKZNWygvBnFPDDEmMEMu5dLUvDp+kwrH5VCrM5TJlKuEX304M=',\n",
       "   'x-amz-request-id': '4D0BM2BS1VZ8F926',\n",
       "   'date': 'Sun, 23 May 2021 08:17:49 GMT',\n",
       "   'etag': '\"4a442b3ae5427b928584d5f94b8d7d15\"',\n",
       "   'content-length': '0',\n",
       "   'server': 'AmazonS3'},\n",
       "  'RetryAttempts': 0},\n",
       " 'ETag': '\"4a442b3ae5427b928584d5f94b8d7d15\"'}"
      ]
     },
     "execution_count": 37,
     "metadata": {},
     "output_type": "execute_result"
    }
   ],
   "source": [
    "# Save ticker info to s3\n",
    "\n",
    "s3 = boto3.client(\"s3\")\n",
    "serializedMyData = pickle.dumps(ticker_info)\n",
    "# s3.put_object(Bucket=\"euronext-stocks\", Key=\"ticker_info\", Body=serializedMyData)\n",
    "s3.put_object(Bucket=\"euronext-stocks\", Key=\"ticker_info_cac40\", Body=serializedMyData)\n",
    "# s3.put_object(Bucket=\"euronext-stocks\", Key=\"ticker_info_test\", Body=serializedMyData)"
   ]
  },
  {
   "cell_type": "code",
   "execution_count": 38,
   "id": "7137a419",
   "metadata": {
    "ExecuteTime": {
     "end_time": "2021-05-23T08:17:49.084962Z",
     "start_time": "2021-05-23T08:17:49.030704Z"
    },
    "code_folding": [
     0
    ],
    "scrolled": true
   },
   "outputs": [
    {
     "name": "stdout",
     "output_type": "stream",
     "text": [
      "EURUSD=X\n",
      "^FCHI\n",
      "AI.PA\n",
      "AIR.PA\n",
      "ALO.PA\n",
      "MT.PA\n",
      "ATO.PA\n",
      "CS.PA\n",
      "BNP.PA\n",
      "EN.PA\n",
      "CAP.PA\n",
      "CA.PA\n",
      "ACA.PA\n",
      "BN.PA\n",
      "DSY.PA\n",
      "ENGI.PA\n",
      "EL.PA\n",
      "RMS.PA\n",
      "KER.PA\n",
      "OR.PA\n",
      "LR.PA\n",
      "MC.PA\n",
      "ML.PA\n",
      "ORA.PA\n",
      "RI.PA\n",
      "PUB.PA\n",
      "RNO.PA\n",
      "SAF.PA\n",
      "SGO.PA\n",
      "SAN.PA\n",
      "SU.PA\n",
      "GLE.PA\n",
      "STLA.PA\n",
      "STM.PA\n",
      "TEP.PA\n",
      "HO.PA\n",
      "FP.PA\n",
      "URW.PA\n",
      "VIE.PA\n",
      "DG.PA\n",
      "VIV.PA\n",
      "WLN.PA\n"
     ]
    }
   ],
   "source": [
    "# Get data required for ratio analysis\n",
    "\n",
    "ratio_data = {}\n",
    "\n",
    "for ticker in list(mytickers.tickers):\n",
    "    print(ticker)\n",
    "    ratio_dets = []\n",
    "    info = mytickers.tickers[ticker].info\n",
    "    cashflow_statement = mytickers.tickers[ticker].cashflow\n",
    "    bs_statement = mytickers.tickers[ticker].balance_sheet\n",
    "    pnl = mytickers.tickers[ticker].financials\n",
    "    \n",
    "    for sr in static_ratios:\n",
    "        try:\n",
    "            ratio_dets.append(info[sr])\n",
    "        except:\n",
    "            ratio_dets.append(np.nan)\n",
    "    \n",
    "    for cf in cashflow:\n",
    "        try:\n",
    "            ratio_dets.append(cashflow_statement[pd.to_datetime(prev_yr_end)].loc[cf])\n",
    "        except:\n",
    "            ratio_dets.append(np.nan)\n",
    "    \n",
    "    for bs in balsheet:\n",
    "        try:\n",
    "             ratio_dets.append(bs_statement[pd.to_datetime(prev_yr_end)].loc[bs])\n",
    "        except:\n",
    "            ratio_dets.append(np.nan)\n",
    "    \n",
    "    for fin in financials:\n",
    "        try:\n",
    "            ratio_dets.append(pnl[prev_yr_end].loc[fin])\n",
    "        except:\n",
    "            ratio_dets.append(np.nan)\n",
    "    \n",
    "    ratio_data[ticker] = ratio_dets"
   ]
  },
  {
   "cell_type": "code",
   "execution_count": 39,
   "id": "b8bf7c1e",
   "metadata": {
    "ExecuteTime": {
     "end_time": "2021-05-23T08:17:49.095208Z",
     "start_time": "2021-05-23T08:17:49.088631Z"
    }
   },
   "outputs": [],
   "source": [
    "# store ratio data in dataframe\n",
    "ratio_data_cols = static_ratios + cashflow + balsheet + financials # field names in correct order to be used in creating dataframe\n",
    "df_ratio_data = pd.DataFrame(ratio_data, index=ratio_data_cols) "
   ]
  },
  {
   "cell_type": "code",
   "execution_count": 40,
   "id": "fa1e36b8",
   "metadata": {
    "ExecuteTime": {
     "end_time": "2021-05-23T08:17:49.128772Z",
     "start_time": "2021-05-23T08:17:49.096931Z"
    },
    "scrolled": true
   },
   "outputs": [
    {
     "data": {
      "text/html": [
       "<div>\n",
       "<style scoped>\n",
       "    .dataframe tbody tr th:only-of-type {\n",
       "        vertical-align: middle;\n",
       "    }\n",
       "\n",
       "    .dataframe tbody tr th {\n",
       "        vertical-align: top;\n",
       "    }\n",
       "\n",
       "    .dataframe thead th {\n",
       "        text-align: right;\n",
       "    }\n",
       "</style>\n",
       "<table border=\"1\" class=\"dataframe\">\n",
       "  <thead>\n",
       "    <tr style=\"text-align: right;\">\n",
       "      <th></th>\n",
       "      <th>EURUSD=X</th>\n",
       "      <th>^FCHI</th>\n",
       "      <th>AI.PA</th>\n",
       "      <th>AIR.PA</th>\n",
       "      <th>ALO.PA</th>\n",
       "      <th>MT.PA</th>\n",
       "      <th>ATO.PA</th>\n",
       "      <th>CS.PA</th>\n",
       "      <th>BNP.PA</th>\n",
       "      <th>EN.PA</th>\n",
       "      <th>...</th>\n",
       "      <th>STLA.PA</th>\n",
       "      <th>STM.PA</th>\n",
       "      <th>TEP.PA</th>\n",
       "      <th>HO.PA</th>\n",
       "      <th>FP.PA</th>\n",
       "      <th>URW.PA</th>\n",
       "      <th>VIE.PA</th>\n",
       "      <th>DG.PA</th>\n",
       "      <th>VIV.PA</th>\n",
       "      <th>WLN.PA</th>\n",
       "    </tr>\n",
       "  </thead>\n",
       "  <tbody>\n",
       "    <tr>\n",
       "      <th>profitMargins</th>\n",
       "      <td>NaN</td>\n",
       "      <td>NaN</td>\n",
       "      <td>1.188700e-01</td>\n",
       "      <td>-5.830000e-03</td>\n",
       "      <td>2.812000e-02</td>\n",
       "      <td>NaN</td>\n",
       "      <td>4.919000e-02</td>\n",
       "      <td>2.816000e-02</td>\n",
       "      <td>1.838800e-01</td>\n",
       "      <td>2.002000e-02</td>\n",
       "      <td>...</td>\n",
       "      <td>3.578000e-02</td>\n",
       "      <td>1.161400e-01</td>\n",
       "      <td>5.652000e-02</td>\n",
       "      <td>2.845000e-02</td>\n",
       "      <td>-3.283000e-02</td>\n",
       "      <td>NaN</td>\n",
       "      <td>5.960000e-03</td>\n",
       "      <td>2.815000e-02</td>\n",
       "      <td>8.949999e-02</td>\n",
       "      <td>5.957000e-02</td>\n",
       "    </tr>\n",
       "    <tr>\n",
       "      <th>payoutRatio</th>\n",
       "      <td>NaN</td>\n",
       "      <td>NaN</td>\n",
       "      <td>5.253000e-01</td>\n",
       "      <td>0.000000e+00</td>\n",
       "      <td>0.000000e+00</td>\n",
       "      <td>NaN</td>\n",
       "      <td>0.000000e+00</td>\n",
       "      <td>5.840000e-01</td>\n",
       "      <td>0.000000e+00</td>\n",
       "      <td>9.290000e-01</td>\n",
       "      <td>...</td>\n",
       "      <td>0.000000e+00</td>\n",
       "      <td>1.217000e-01</td>\n",
       "      <td>4.348000e-01</td>\n",
       "      <td>1.762000e-01</td>\n",
       "      <td>NaN</td>\n",
       "      <td>NaN</td>\n",
       "      <td>2.631600e+00</td>\n",
       "      <td>5.682000e-01</td>\n",
       "      <td>4.762000e-01</td>\n",
       "      <td>0.000000e+00</td>\n",
       "    </tr>\n",
       "    <tr>\n",
       "      <th>sharesOutstanding</th>\n",
       "      <td>NaN</td>\n",
       "      <td>NaN</td>\n",
       "      <td>4.719200e+08</td>\n",
       "      <td>7.855880e+08</td>\n",
       "      <td>3.712050e+08</td>\n",
       "      <td>NaN</td>\n",
       "      <td>1.092480e+08</td>\n",
       "      <td>2.386560e+09</td>\n",
       "      <td>1.248800e+09</td>\n",
       "      <td>3.807380e+08</td>\n",
       "      <td>...</td>\n",
       "      <td>3.124240e+09</td>\n",
       "      <td>8.989530e+08</td>\n",
       "      <td>5.871710e+07</td>\n",
       "      <td>2.129950e+08</td>\n",
       "      <td>2.629670e+09</td>\n",
       "      <td>NaN</td>\n",
       "      <td>5.672170e+08</td>\n",
       "      <td>5.669920e+08</td>\n",
       "      <td>1.086270e+09</td>\n",
       "      <td>2.792600e+08</td>\n",
       "    </tr>\n",
       "    <tr>\n",
       "      <th>trailingEps</th>\n",
       "      <td>NaN</td>\n",
       "      <td>NaN</td>\n",
       "      <td>5.140000e+00</td>\n",
       "      <td>-3.800000e-01</td>\n",
       "      <td>1.800000e+00</td>\n",
       "      <td>NaN</td>\n",
       "      <td>5.046000e+00</td>\n",
       "      <td>1.250000e+00</td>\n",
       "      <td>5.684000e+00</td>\n",
       "      <td>1.830000e+00</td>\n",
       "      <td>...</td>\n",
       "      <td>2.330000e+00</td>\n",
       "      <td>1.129000e+00</td>\n",
       "      <td>5.520000e+00</td>\n",
       "      <td>2.270000e+00</td>\n",
       "      <td>-1.350000e+00</td>\n",
       "      <td>NaN</td>\n",
       "      <td>2.750000e-01</td>\n",
       "      <td>2.200000e+00</td>\n",
       "      <td>1.260000e+00</td>\n",
       "      <td>8.140000e-01</td>\n",
       "    </tr>\n",
       "    <tr>\n",
       "      <th>forwardEps</th>\n",
       "      <td>NaN</td>\n",
       "      <td>NaN</td>\n",
       "      <td>5.750000e+00</td>\n",
       "      <td>5.580000e+00</td>\n",
       "      <td>NaN</td>\n",
       "      <td>NaN</td>\n",
       "      <td>9.620000e+00</td>\n",
       "      <td>2.800000e+00</td>\n",
       "      <td>6.110000e+00</td>\n",
       "      <td>2.930000e+00</td>\n",
       "      <td>...</td>\n",
       "      <td>NaN</td>\n",
       "      <td>1.340000e+00</td>\n",
       "      <td>8.010000e+00</td>\n",
       "      <td>6.360000e+00</td>\n",
       "      <td>5.970000e+00</td>\n",
       "      <td>NaN</td>\n",
       "      <td>NaN</td>\n",
       "      <td>5.830000e+00</td>\n",
       "      <td>1.050000e+00</td>\n",
       "      <td>1.170000e+00</td>\n",
       "    </tr>\n",
       "    <tr>\n",
       "      <th>Total Cash From Operating Activities</th>\n",
       "      <td>NaN</td>\n",
       "      <td>NaN</td>\n",
       "      <td>5.205700e+09</td>\n",
       "      <td>-5.420000e+09</td>\n",
       "      <td>NaN</td>\n",
       "      <td>NaN</td>\n",
       "      <td>1.219000e+09</td>\n",
       "      <td>2.553400e+10</td>\n",
       "      <td>1.393240e+11</td>\n",
       "      <td>3.406000e+09</td>\n",
       "      <td>...</td>\n",
       "      <td>6.202000e+09</td>\n",
       "      <td>2.093000e+09</td>\n",
       "      <td>9.890000e+08</td>\n",
       "      <td>1.345600e+09</td>\n",
       "      <td>1.480300e+10</td>\n",
       "      <td>NaN</td>\n",
       "      <td>2.725000e+09</td>\n",
       "      <td>6.675000e+09</td>\n",
       "      <td>1.226000e+09</td>\n",
       "      <td>5.113000e+08</td>\n",
       "    </tr>\n",
       "    <tr>\n",
       "      <th>Total Liab</th>\n",
       "      <td>NaN</td>\n",
       "      <td>NaN</td>\n",
       "      <td>2.297250e+10</td>\n",
       "      <td>1.036390e+11</td>\n",
       "      <td>NaN</td>\n",
       "      <td>NaN</td>\n",
       "      <td>1.125600e+10</td>\n",
       "      <td>7.191930e+11</td>\n",
       "      <td>2.371142e+12</td>\n",
       "      <td>2.882000e+10</td>\n",
       "      <td>...</td>\n",
       "      <td>4.963600e+10</td>\n",
       "      <td>5.948000e+09</td>\n",
       "      <td>4.615000e+09</td>\n",
       "      <td>2.649790e+10</td>\n",
       "      <td>1.600470e+11</td>\n",
       "      <td>NaN</td>\n",
       "      <td>3.704920e+10</td>\n",
       "      <td>6.814100e+10</td>\n",
       "      <td>2.169100e+10</td>\n",
       "      <td>9.283600e+09</td>\n",
       "    </tr>\n",
       "    <tr>\n",
       "      <th>Total Stockholder Equity</th>\n",
       "      <td>NaN</td>\n",
       "      <td>NaN</td>\n",
       "      <td>1.854230e+10</td>\n",
       "      <td>6.445000e+09</td>\n",
       "      <td>NaN</td>\n",
       "      <td>NaN</td>\n",
       "      <td>6.861000e+09</td>\n",
       "      <td>7.161000e+10</td>\n",
       "      <td>1.127990e+11</td>\n",
       "      <td>1.034000e+10</td>\n",
       "      <td>...</td>\n",
       "      <td>2.129400e+10</td>\n",
       "      <td>8.448000e+09</td>\n",
       "      <td>2.409000e+09</td>\n",
       "      <td>5.114900e+09</td>\n",
       "      <td>1.037020e+11</td>\n",
       "      <td>NaN</td>\n",
       "      <td>7.216200e+09</td>\n",
       "      <td>2.086300e+10</td>\n",
       "      <td>1.575900e+10</td>\n",
       "      <td>9.480600e+09</td>\n",
       "    </tr>\n",
       "    <tr>\n",
       "      <th>Total Current Assets</th>\n",
       "      <td>NaN</td>\n",
       "      <td>NaN</td>\n",
       "      <td>6.366300e+09</td>\n",
       "      <td>5.840000e+10</td>\n",
       "      <td>NaN</td>\n",
       "      <td>NaN</td>\n",
       "      <td>7.816000e+09</td>\n",
       "      <td>1.268810e+11</td>\n",
       "      <td>1.165380e+12</td>\n",
       "      <td>1.921400e+10</td>\n",
       "      <td>...</td>\n",
       "      <td>3.525800e+10</td>\n",
       "      <td>7.610000e+09</td>\n",
       "      <td>2.680000e+09</td>\n",
       "      <td>1.742650e+10</td>\n",
       "      <td>7.967900e+10</td>\n",
       "      <td>NaN</td>\n",
       "      <td>1.762030e+10</td>\n",
       "      <td>3.203900e+10</td>\n",
       "      <td>8.433000e+09</td>\n",
       "      <td>4.606100e+09</td>\n",
       "    </tr>\n",
       "    <tr>\n",
       "      <th>Total Current Liabilities</th>\n",
       "      <td>NaN</td>\n",
       "      <td>NaN</td>\n",
       "      <td>7.275100e+09</td>\n",
       "      <td>4.977100e+10</td>\n",
       "      <td>NaN</td>\n",
       "      <td>NaN</td>\n",
       "      <td>5.871000e+09</td>\n",
       "      <td>2.131180e+11</td>\n",
       "      <td>1.703883e+12</td>\n",
       "      <td>1.938400e+10</td>\n",
       "      <td>...</td>\n",
       "      <td>3.081300e+10</td>\n",
       "      <td>3.053000e+09</td>\n",
       "      <td>1.641000e+09</td>\n",
       "      <td>1.717570e+10</td>\n",
       "      <td>6.467600e+10</td>\n",
       "      <td>NaN</td>\n",
       "      <td>2.044960e+10</td>\n",
       "      <td>3.346800e+10</td>\n",
       "      <td>1.330800e+10</td>\n",
       "      <td>4.523100e+09</td>\n",
       "    </tr>\n",
       "    <tr>\n",
       "      <th>Total Revenue</th>\n",
       "      <td>NaN</td>\n",
       "      <td>NaN</td>\n",
       "      <td>2.048520e+10</td>\n",
       "      <td>4.991200e+10</td>\n",
       "      <td>NaN</td>\n",
       "      <td>NaN</td>\n",
       "      <td>1.118100e+10</td>\n",
       "      <td>1.123470e+11</td>\n",
       "      <td>3.958800e+10</td>\n",
       "      <td>3.476000e+10</td>\n",
       "      <td>...</td>\n",
       "      <td>6.073400e+10</td>\n",
       "      <td>1.021900e+10</td>\n",
       "      <td>5.732000e+09</td>\n",
       "      <td>1.698890e+10</td>\n",
       "      <td>1.197040e+11</td>\n",
       "      <td>NaN</td>\n",
       "      <td>2.600990e+10</td>\n",
       "      <td>4.411800e+10</td>\n",
       "      <td>1.609000e+10</td>\n",
       "      <td>2.747800e+09</td>\n",
       "    </tr>\n",
       "  </tbody>\n",
       "</table>\n",
       "<p>11 rows × 42 columns</p>\n",
       "</div>"
      ],
      "text/plain": [
       "                                      EURUSD=X  ^FCHI         AI.PA  \\\n",
       "profitMargins                              NaN    NaN  1.188700e-01   \n",
       "payoutRatio                                NaN    NaN  5.253000e-01   \n",
       "sharesOutstanding                          NaN    NaN  4.719200e+08   \n",
       "trailingEps                                NaN    NaN  5.140000e+00   \n",
       "forwardEps                                 NaN    NaN  5.750000e+00   \n",
       "Total Cash From Operating Activities       NaN    NaN  5.205700e+09   \n",
       "Total Liab                                 NaN    NaN  2.297250e+10   \n",
       "Total Stockholder Equity                   NaN    NaN  1.854230e+10   \n",
       "Total Current Assets                       NaN    NaN  6.366300e+09   \n",
       "Total Current Liabilities                  NaN    NaN  7.275100e+09   \n",
       "Total Revenue                              NaN    NaN  2.048520e+10   \n",
       "\n",
       "                                            AIR.PA        ALO.PA  MT.PA  \\\n",
       "profitMargins                        -5.830000e-03  2.812000e-02    NaN   \n",
       "payoutRatio                           0.000000e+00  0.000000e+00    NaN   \n",
       "sharesOutstanding                     7.855880e+08  3.712050e+08    NaN   \n",
       "trailingEps                          -3.800000e-01  1.800000e+00    NaN   \n",
       "forwardEps                            5.580000e+00           NaN    NaN   \n",
       "Total Cash From Operating Activities -5.420000e+09           NaN    NaN   \n",
       "Total Liab                            1.036390e+11           NaN    NaN   \n",
       "Total Stockholder Equity              6.445000e+09           NaN    NaN   \n",
       "Total Current Assets                  5.840000e+10           NaN    NaN   \n",
       "Total Current Liabilities             4.977100e+10           NaN    NaN   \n",
       "Total Revenue                         4.991200e+10           NaN    NaN   \n",
       "\n",
       "                                            ATO.PA         CS.PA  \\\n",
       "profitMargins                         4.919000e-02  2.816000e-02   \n",
       "payoutRatio                           0.000000e+00  5.840000e-01   \n",
       "sharesOutstanding                     1.092480e+08  2.386560e+09   \n",
       "trailingEps                           5.046000e+00  1.250000e+00   \n",
       "forwardEps                            9.620000e+00  2.800000e+00   \n",
       "Total Cash From Operating Activities  1.219000e+09  2.553400e+10   \n",
       "Total Liab                            1.125600e+10  7.191930e+11   \n",
       "Total Stockholder Equity              6.861000e+09  7.161000e+10   \n",
       "Total Current Assets                  7.816000e+09  1.268810e+11   \n",
       "Total Current Liabilities             5.871000e+09  2.131180e+11   \n",
       "Total Revenue                         1.118100e+10  1.123470e+11   \n",
       "\n",
       "                                            BNP.PA         EN.PA  ...  \\\n",
       "profitMargins                         1.838800e-01  2.002000e-02  ...   \n",
       "payoutRatio                           0.000000e+00  9.290000e-01  ...   \n",
       "sharesOutstanding                     1.248800e+09  3.807380e+08  ...   \n",
       "trailingEps                           5.684000e+00  1.830000e+00  ...   \n",
       "forwardEps                            6.110000e+00  2.930000e+00  ...   \n",
       "Total Cash From Operating Activities  1.393240e+11  3.406000e+09  ...   \n",
       "Total Liab                            2.371142e+12  2.882000e+10  ...   \n",
       "Total Stockholder Equity              1.127990e+11  1.034000e+10  ...   \n",
       "Total Current Assets                  1.165380e+12  1.921400e+10  ...   \n",
       "Total Current Liabilities             1.703883e+12  1.938400e+10  ...   \n",
       "Total Revenue                         3.958800e+10  3.476000e+10  ...   \n",
       "\n",
       "                                           STLA.PA        STM.PA  \\\n",
       "profitMargins                         3.578000e-02  1.161400e-01   \n",
       "payoutRatio                           0.000000e+00  1.217000e-01   \n",
       "sharesOutstanding                     3.124240e+09  8.989530e+08   \n",
       "trailingEps                           2.330000e+00  1.129000e+00   \n",
       "forwardEps                                     NaN  1.340000e+00   \n",
       "Total Cash From Operating Activities  6.202000e+09  2.093000e+09   \n",
       "Total Liab                            4.963600e+10  5.948000e+09   \n",
       "Total Stockholder Equity              2.129400e+10  8.448000e+09   \n",
       "Total Current Assets                  3.525800e+10  7.610000e+09   \n",
       "Total Current Liabilities             3.081300e+10  3.053000e+09   \n",
       "Total Revenue                         6.073400e+10  1.021900e+10   \n",
       "\n",
       "                                            TEP.PA         HO.PA  \\\n",
       "profitMargins                         5.652000e-02  2.845000e-02   \n",
       "payoutRatio                           4.348000e-01  1.762000e-01   \n",
       "sharesOutstanding                     5.871710e+07  2.129950e+08   \n",
       "trailingEps                           5.520000e+00  2.270000e+00   \n",
       "forwardEps                            8.010000e+00  6.360000e+00   \n",
       "Total Cash From Operating Activities  9.890000e+08  1.345600e+09   \n",
       "Total Liab                            4.615000e+09  2.649790e+10   \n",
       "Total Stockholder Equity              2.409000e+09  5.114900e+09   \n",
       "Total Current Assets                  2.680000e+09  1.742650e+10   \n",
       "Total Current Liabilities             1.641000e+09  1.717570e+10   \n",
       "Total Revenue                         5.732000e+09  1.698890e+10   \n",
       "\n",
       "                                             FP.PA  URW.PA        VIE.PA  \\\n",
       "profitMargins                        -3.283000e-02     NaN  5.960000e-03   \n",
       "payoutRatio                                    NaN     NaN  2.631600e+00   \n",
       "sharesOutstanding                     2.629670e+09     NaN  5.672170e+08   \n",
       "trailingEps                          -1.350000e+00     NaN  2.750000e-01   \n",
       "forwardEps                            5.970000e+00     NaN           NaN   \n",
       "Total Cash From Operating Activities  1.480300e+10     NaN  2.725000e+09   \n",
       "Total Liab                            1.600470e+11     NaN  3.704920e+10   \n",
       "Total Stockholder Equity              1.037020e+11     NaN  7.216200e+09   \n",
       "Total Current Assets                  7.967900e+10     NaN  1.762030e+10   \n",
       "Total Current Liabilities             6.467600e+10     NaN  2.044960e+10   \n",
       "Total Revenue                         1.197040e+11     NaN  2.600990e+10   \n",
       "\n",
       "                                             DG.PA        VIV.PA        WLN.PA  \n",
       "profitMargins                         2.815000e-02  8.949999e-02  5.957000e-02  \n",
       "payoutRatio                           5.682000e-01  4.762000e-01  0.000000e+00  \n",
       "sharesOutstanding                     5.669920e+08  1.086270e+09  2.792600e+08  \n",
       "trailingEps                           2.200000e+00  1.260000e+00  8.140000e-01  \n",
       "forwardEps                            5.830000e+00  1.050000e+00  1.170000e+00  \n",
       "Total Cash From Operating Activities  6.675000e+09  1.226000e+09  5.113000e+08  \n",
       "Total Liab                            6.814100e+10  2.169100e+10  9.283600e+09  \n",
       "Total Stockholder Equity              2.086300e+10  1.575900e+10  9.480600e+09  \n",
       "Total Current Assets                  3.203900e+10  8.433000e+09  4.606100e+09  \n",
       "Total Current Liabilities             3.346800e+10  1.330800e+10  4.523100e+09  \n",
       "Total Revenue                         4.411800e+10  1.609000e+10  2.747800e+09  \n",
       "\n",
       "[11 rows x 42 columns]"
      ]
     },
     "execution_count": 40,
     "metadata": {},
     "output_type": "execute_result"
    }
   ],
   "source": [
    "df_ratio_data"
   ]
  },
  {
   "cell_type": "code",
   "execution_count": 41,
   "id": "31415411",
   "metadata": {
    "ExecuteTime": {
     "end_time": "2021-05-23T08:17:49.193958Z",
     "start_time": "2021-05-23T08:17:49.130554Z"
    }
   },
   "outputs": [
    {
     "name": "stdout",
     "output_type": "stream",
     "text": [
      "Writing 11 records to 'df_ratio_data.csv' in bucket 'euronext-stocks'.\n"
     ]
    }
   ],
   "source": [
    "# Save df_ratio_data to s3 (NB: THIS IS THE MOST RECENT PREVIOUS YEAR END DATA FROM FINANCIAL STATEMENTS)\n",
    "_write_dataframe_to_csv_on_s3(\"euronext-stocks\", df_ratio_data, \"df_ratio_data.csv\")"
   ]
  },
  {
   "cell_type": "markdown",
   "id": "d03a1f5f",
   "metadata": {},
   "source": [
    "### Pre-compute ratios and store to s3"
   ]
  },
  {
   "cell_type": "markdown",
   "id": "984cdd47",
   "metadata": {},
   "source": [
    "#### Trailing PE"
   ]
  },
  {
   "cell_type": "code",
   "execution_count": 42,
   "id": "ce6c8435",
   "metadata": {
    "ExecuteTime": {
     "end_time": "2021-05-23T08:17:49.229042Z",
     "start_time": "2021-05-23T08:17:49.195937Z"
    }
   },
   "outputs": [],
   "source": [
    "# Table of Trailing P/E Ratios\n",
    "trailing_pe_data = {}\n",
    "for ticker in df_prices.columns:\n",
    "    trailing_pe_data[ticker] = df_prices[ticker] / df_ratio_data[ticker].loc[\"trailingEps\"]\n",
    "df_trailing_pe_data = pd.DataFrame(trailing_pe_data)"
   ]
  },
  {
   "cell_type": "code",
   "execution_count": 43,
   "id": "682038ad",
   "metadata": {
    "ExecuteTime": {
     "end_time": "2021-05-23T08:17:49.390221Z",
     "start_time": "2021-05-23T08:17:49.230676Z"
    }
   },
   "outputs": [
    {
     "name": "stdout",
     "output_type": "stream",
     "text": [
      "Writing 524 records to 'df_trailing_pe_data.csv' in bucket 'euronext-stocks'.\n"
     ]
    }
   ],
   "source": [
    "# Save df_trailing_pe_data to s3 (NB: THIS IS THE MOST RECENT PREVIOUS YEAR END DATA FROM FINANCIAL STATEMENTS)\n",
    "_write_dataframe_to_csv_on_s3(\"euronext-stocks\", df_trailing_pe_data, \"df_trailing_pe_data.csv\")"
   ]
  },
  {
   "cell_type": "markdown",
   "id": "1916f6cf",
   "metadata": {},
   "source": [
    "#### Forward PE"
   ]
  },
  {
   "cell_type": "code",
   "execution_count": 44,
   "id": "cb4f9c86",
   "metadata": {
    "ExecuteTime": {
     "end_time": "2021-05-23T08:17:49.416474Z",
     "start_time": "2021-05-23T08:17:49.391880Z"
    }
   },
   "outputs": [],
   "source": [
    "# Table of Forward P/E Ratios\n",
    "forward_pe_data = {}\n",
    "for ticker in df_prices.columns:\n",
    "    forward_pe_data[ticker] = df_prices[ticker] / df_ratio_data[ticker].loc[\"forwardEps\"]\n",
    "df_forward_pe_data = pd.DataFrame(forward_pe_data)"
   ]
  },
  {
   "cell_type": "code",
   "execution_count": 45,
   "id": "eca5c114",
   "metadata": {
    "ExecuteTime": {
     "end_time": "2021-05-23T08:17:49.523319Z",
     "start_time": "2021-05-23T08:17:49.418116Z"
    }
   },
   "outputs": [
    {
     "name": "stdout",
     "output_type": "stream",
     "text": [
      "Writing 524 records to 'df_forward_pe_data.csv' in bucket 'euronext-stocks'.\n"
     ]
    }
   ],
   "source": [
    "# Save df_forward_pe_data to s3 (NB: THIS IS THE MOST RECENT PREVIOUS YEAR END DATA FROM FINANCIAL STATEMENTS)\n",
    "_write_dataframe_to_csv_on_s3(\"euronext-stocks\", df_forward_pe_data, \"df_forward_pe_data.csv\")"
   ]
  },
  {
   "cell_type": "markdown",
   "id": "a44dd58b",
   "metadata": {},
   "source": [
    "#### Price to Sales"
   ]
  },
  {
   "cell_type": "code",
   "execution_count": 46,
   "id": "fe7fa8c2",
   "metadata": {
    "ExecuteTime": {
     "end_time": "2021-05-23T08:17:49.547663Z",
     "start_time": "2021-05-23T08:17:49.524913Z"
    }
   },
   "outputs": [],
   "source": [
    "# Table of Price to Sales Ratios\n",
    "p2s_data = {}\n",
    "for ticker in df_prices.columns:\n",
    "    p2s_data[ticker] = df_prices[ticker] / (df_ratio_data[ticker].loc[\"Total Revenue\"] / df_ratio_data[ticker].loc[\"sharesOutstanding\"])\n",
    "df_p2s_data = pd.DataFrame(p2s_data)"
   ]
  },
  {
   "cell_type": "code",
   "execution_count": 47,
   "id": "7942d88e",
   "metadata": {
    "ExecuteTime": {
     "end_time": "2021-05-23T08:17:49.721955Z",
     "start_time": "2021-05-23T08:17:49.549309Z"
    }
   },
   "outputs": [
    {
     "name": "stdout",
     "output_type": "stream",
     "text": [
      "Writing 524 records to 'df_p2s_data.csv' in bucket 'euronext-stocks'.\n"
     ]
    }
   ],
   "source": [
    "# Save df_p2s_data to s3 (NB: THIS IS THE MOST RECENT PREVIOUS YEAR END DATA FROM FINANCIAL STATEMENTS)\n",
    "_write_dataframe_to_csv_on_s3(\"euronext-stocks\", df_p2s_data, \"df_p2s_data.csv\")"
   ]
  },
  {
   "cell_type": "markdown",
   "id": "35da5df2",
   "metadata": {},
   "source": [
    "#### Profit Margin"
   ]
  },
  {
   "cell_type": "code",
   "execution_count": 48,
   "id": "208a9d05",
   "metadata": {
    "ExecuteTime": {
     "end_time": "2021-05-23T08:17:51.020593Z",
     "start_time": "2021-05-23T08:17:49.723610Z"
    }
   },
   "outputs": [
    {
     "data": {
      "text/plain": [
       "\n",
       "2020-12-31    0.0845026\n",
       "2019-12-31    0.0888504\n",
       "2018-12-31    0.0907465\n",
       "2017-12-31    0.0868933\n",
       "dtype: object"
      ]
     },
     "execution_count": 48,
     "metadata": {},
     "output_type": "execute_result"
    }
   ],
   "source": [
    "su = yf.Ticker(\"SU.PA\")\n",
    "# su.financials # [pd.to_datetime('2020-12-31')].loc[\"Total Liab\"]\n",
    "su.financials.loc[\"Net Income Applicable To Common Shares\"] /su.financials.loc[\"Total Revenue\"]"
   ]
  },
  {
   "cell_type": "code",
   "execution_count": 49,
   "id": "284cdbed",
   "metadata": {
    "ExecuteTime": {
     "end_time": "2021-05-23T08:18:45.321757Z",
     "start_time": "2021-05-23T08:17:51.022334Z"
    }
   },
   "outputs": [],
   "source": [
    "# Table of Profit Margins\n",
    "pm_data = {}\n",
    "for ticker in df_prices.columns:\n",
    "    dets = yf.Ticker(ticker)\n",
    "    try:\n",
    "        rev = dets.financials.loc[\"Total Revenue\"]\n",
    "    except:\n",
    "        rev = np.nan\n",
    "    try:\n",
    "        profit = dets.financials.loc[\"Net Income Applicable To Common Shares\"]\n",
    "    except:\n",
    "        profit = np.nan\n",
    "    pm = profit/rev\n",
    "    pm_data[ticker] = pm\n",
    "df_pm_data = pd.DataFrame(pm_data)"
   ]
  },
  {
   "cell_type": "code",
   "execution_count": 50,
   "id": "d8d1869b",
   "metadata": {
    "ExecuteTime": {
     "end_time": "2021-05-23T08:18:45.474313Z",
     "start_time": "2021-05-23T08:18:45.324575Z"
    }
   },
   "outputs": [
    {
     "name": "stdout",
     "output_type": "stream",
     "text": [
      "Writing 15 records to 'df_pm_data.csv' in bucket 'euronext-stocks'.\n"
     ]
    }
   ],
   "source": [
    "# Save df_pm_data to s3 (NB: THIS IS THE MOST RECENT PREVIOUS YEAR END DATA FROM FINANCIAL STATEMENTS)\n",
    "_write_dataframe_to_csv_on_s3(\"euronext-stocks\", df_pm_data, \"df_pm_data.csv\")"
   ]
  },
  {
   "cell_type": "markdown",
   "id": "a33fabe2",
   "metadata": {},
   "source": [
    "#### Dividend payout ratio"
   ]
  },
  {
   "cell_type": "code",
   "execution_count": 51,
   "id": "01fff046",
   "metadata": {
    "ExecuteTime": {
     "end_time": "2021-05-23T08:18:45.482141Z",
     "start_time": "2021-05-23T08:18:45.476861Z"
    }
   },
   "outputs": [],
   "source": [
    "# Table of Dividend payout ratios\n",
    "dpr_data = {}\n",
    "for ticker in df_prices.columns:\n",
    "    dpr_data[ticker] = df_ratio_data[ticker].loc[\"payoutRatio\"]\n",
    "series_dpr_data = pd.Series(dpr_data)"
   ]
  },
  {
   "cell_type": "code",
   "execution_count": 52,
   "id": "37a127a5",
   "metadata": {
    "ExecuteTime": {
     "end_time": "2021-05-23T08:18:45.486251Z",
     "start_time": "2021-05-23T08:18:45.483838Z"
    }
   },
   "outputs": [],
   "source": [
    "# Plot dividend payout ratios\n",
    "# series_dpr_data.sort_values().plot.barh(figsize=(12,10))\n",
    "# plt.grid()"
   ]
  },
  {
   "cell_type": "code",
   "execution_count": 53,
   "id": "f80c03f3",
   "metadata": {
    "ExecuteTime": {
     "end_time": "2021-05-23T08:18:45.576183Z",
     "start_time": "2021-05-23T08:18:45.487980Z"
    }
   },
   "outputs": [
    {
     "name": "stdout",
     "output_type": "stream",
     "text": [
      "Writing 42 records to 'series_dpr_data.csv' in bucket 'euronext-stocks'.\n"
     ]
    }
   ],
   "source": [
    "# Save series_dpr_data to s3 (NB: THIS IS THE MOST RECENT PREVIOUS YEAR END DATA FROM FINANCIAL STATEMENTS)\n",
    "_write_dataframe_to_csv_on_s3(\"euronext-stocks\", series_dpr_data, \"series_dpr_data.csv\")"
   ]
  },
  {
   "cell_type": "markdown",
   "id": "2e077e68",
   "metadata": {},
   "source": [
    "#### Price to Free Cashflow ratio"
   ]
  },
  {
   "cell_type": "code",
   "execution_count": 54,
   "id": "021be2d1",
   "metadata": {
    "ExecuteTime": {
     "end_time": "2021-05-23T08:19:40.748169Z",
     "start_time": "2021-05-23T08:18:45.578978Z"
    }
   },
   "outputs": [],
   "source": [
    "# Table of Price to Free Cashflow ratios\n",
    "pfcf_data = {}\n",
    "for ticker in df_prices.columns:\n",
    "#     print(ticker)\n",
    "    dets = yf.Ticker(ticker)\n",
    "    try:\n",
    "        coa = dets.cashflow[prev_yr_end].loc[\"Total Cash From Operating Activities\"]\n",
    "        capex = dets.cashflow[prev_yr_end].loc[\"Capital Expenditures\"]\n",
    "        ocf = coa + capex \n",
    "    except:\n",
    "        ocf = np.nan\n",
    "#     print(ocf)\n",
    "    sos = df_ratio_data[ticker].loc[\"sharesOutstanding\"]\n",
    "#     print(sos)\n",
    "    ocfs = ocf / sos\n",
    "#     print(ocfs)\n",
    "#     print(df_prices[ticker])\n",
    "    pfcf_data[ticker] = df_prices[ticker] / ocfs\n",
    "df_pfcf_data = pd.DataFrame(pfcf_data)"
   ]
  },
  {
   "cell_type": "code",
   "execution_count": 55,
   "id": "cf0730df",
   "metadata": {
    "ExecuteTime": {
     "end_time": "2021-05-23T08:19:40.918946Z",
     "start_time": "2021-05-23T08:19:40.752277Z"
    }
   },
   "outputs": [
    {
     "name": "stdout",
     "output_type": "stream",
     "text": [
      "Writing 524 records to 'df_pfcf_data.csv' in bucket 'euronext-stocks'.\n"
     ]
    }
   ],
   "source": [
    "# Save df_pfcf_data to s3 (NB: THIS IS THE MOST RECENT PREVIOUS YEAR END DATA FROM FINANCIAL STATEMENTS)\n",
    "_write_dataframe_to_csv_on_s3(\"euronext-stocks\", df_pfcf_data, \"df_pfcf_data.csv\")"
   ]
  },
  {
   "cell_type": "markdown",
   "id": "f6dc55fe",
   "metadata": {
    "ExecuteTime": {
     "end_time": "2021-05-22T21:31:48.804947Z",
     "start_time": "2021-05-22T21:31:48.776390Z"
    }
   },
   "source": [
    "#### Debt to Equity ratio"
   ]
  },
  {
   "cell_type": "code",
   "execution_count": 80,
   "id": "088fd766",
   "metadata": {
    "ExecuteTime": {
     "end_time": "2021-05-23T09:14:04.384668Z",
     "start_time": "2021-05-23T09:13:11.979576Z"
    }
   },
   "outputs": [],
   "source": [
    "# Table of Debt Equity ratios\n",
    "de_data = {}\n",
    "for ticker in df_prices.columns:\n",
    "#     print(ticker)\n",
    "    dets = yf.Ticker(ticker)\n",
    "    try:\n",
    "        tot_liab = dets.balance_sheet.loc[\"Total Liab\"]\n",
    "    except:\n",
    "        tot_liab = np.nan\n",
    "#     print(tot_liab)\n",
    "    try:\n",
    "        tot_se = dets.balance_sheet.loc[\"Total Stockholder Equity\"]\n",
    "    except:\n",
    "        tot_se = np.nan\n",
    "#     print(tot_se)\n",
    "    de_ratio = tot_liab/tot_se\n",
    "#     print(de_ratio)\n",
    "    de_data[ticker] = de_ratio\n",
    "df_de_data = pd.DataFrame(de_data)"
   ]
  },
  {
   "cell_type": "code",
   "execution_count": 94,
   "id": "68b25b07",
   "metadata": {
    "ExecuteTime": {
     "end_time": "2021-05-23T09:27:11.788513Z",
     "start_time": "2021-05-23T09:27:11.708447Z"
    }
   },
   "outputs": [
    {
     "name": "stdout",
     "output_type": "stream",
     "text": [
      "Writing 15 records to 'df_de_data.csv' in bucket 'euronext-stocks'.\n"
     ]
    }
   ],
   "source": [
    "# Save df_de_data to s3 (NB: THIS IS THE MOST RECENT PREVIOUS YEAR END DATA FROM FINANCIAL STATEMENTS)\n",
    "_write_dataframe_to_csv_on_s3(\"euronext-stocks\", df_de_data, \"df_de_data.csv\")"
   ]
  },
  {
   "cell_type": "markdown",
   "id": "aadfdc13",
   "metadata": {},
   "source": [
    "#### Current ratio"
   ]
  },
  {
   "cell_type": "code",
   "execution_count": 90,
   "id": "81401d90",
   "metadata": {
    "ExecuteTime": {
     "end_time": "2021-05-23T09:24:54.197703Z",
     "start_time": "2021-05-23T09:23:58.696923Z"
    }
   },
   "outputs": [],
   "source": [
    "# Table of Current ratios\n",
    "cr_data = {}\n",
    "for ticker in df_prices.columns:\n",
    "#     print(ticker)\n",
    "    dets = yf.Ticker(ticker)\n",
    "    try:\n",
    "        ca = dets.balance_sheet.loc[\"Total Current Assets\"]\n",
    "    except:\n",
    "        ca = np.nan\n",
    "#     print(ca)\n",
    "    try:\n",
    "        cl = dets.balance_sheet.loc[\"Total Current Liabilities\"]\n",
    "    except:\n",
    "        cl = np.nan\n",
    "#     print(cl)\n",
    "    current_ratio = ca/cl\n",
    "#     print(current_ratio)\n",
    "    cr_data[ticker] = current_ratio\n",
    "df_cr_data = pd.DataFrame(cr_data)"
   ]
  },
  {
   "cell_type": "code",
   "execution_count": 95,
   "id": "e914d3d8",
   "metadata": {
    "ExecuteTime": {
     "end_time": "2021-05-23T09:27:40.250064Z",
     "start_time": "2021-05-23T09:27:40.178708Z"
    }
   },
   "outputs": [
    {
     "name": "stdout",
     "output_type": "stream",
     "text": [
      "Writing 15 records to 'df_cr_data.csv' in bucket 'euronext-stocks'.\n"
     ]
    }
   ],
   "source": [
    "# Save df_cr_data to s3 (NB: THIS IS THE MOST RECENT PREVIOUS YEAR END DATA FROM FINANCIAL STATEMENTS)\n",
    "_write_dataframe_to_csv_on_s3(\"euronext-stocks\", df_cr_data, \"df_cr_data.csv\")"
   ]
  },
  {
   "cell_type": "code",
   "execution_count": null,
   "id": "03d754e1",
   "metadata": {},
   "outputs": [],
   "source": []
  }
 ],
 "metadata": {
  "kernelspec": {
   "display_name": "conda_python3",
   "language": "python",
   "name": "conda_python3"
  },
  "language_info": {
   "codemirror_mode": {
    "name": "ipython",
    "version": 3
   },
   "file_extension": ".py",
   "mimetype": "text/x-python",
   "name": "python",
   "nbconvert_exporter": "python",
   "pygments_lexer": "ipython3",
   "version": "3.6.13"
  },
  "toc": {
   "base_numbering": 1,
   "nav_menu": {},
   "number_sections": true,
   "sideBar": true,
   "skip_h1_title": false,
   "title_cell": "Table of Contents",
   "title_sidebar": "Contents",
   "toc_cell": false,
   "toc_position": {
    "height": "calc(100% - 180px)",
    "left": "10px",
    "top": "150px",
    "width": "197px"
   },
   "toc_section_display": true,
   "toc_window_display": true
  },
  "varInspector": {
   "cols": {
    "lenName": 16,
    "lenType": 16,
    "lenVar": 40
   },
   "kernels_config": {
    "python": {
     "delete_cmd_postfix": "",
     "delete_cmd_prefix": "del ",
     "library": "var_list.py",
     "varRefreshCmd": "print(var_dic_list())"
    },
    "r": {
     "delete_cmd_postfix": ") ",
     "delete_cmd_prefix": "rm(",
     "library": "var_list.r",
     "varRefreshCmd": "cat(var_dic_list()) "
    }
   },
   "position": {
    "height": "609px",
    "left": "1298px",
    "right": "20px",
    "top": "117px",
    "width": "372px"
   },
   "types_to_exclude": [
    "module",
    "function",
    "builtin_function_or_method",
    "instance",
    "_Feature"
   ],
   "window_display": false
  }
 },
 "nbformat": 4,
 "nbformat_minor": 5
}
