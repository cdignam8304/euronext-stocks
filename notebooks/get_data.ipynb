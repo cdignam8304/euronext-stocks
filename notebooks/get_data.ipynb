{
 "cells": [
  {
   "cell_type": "markdown",
   "id": "liked-austin",
   "metadata": {},
   "source": [
    "## Libraries"
   ]
  },
  {
   "cell_type": "code",
   "execution_count": 3,
   "id": "distributed-canyon",
   "metadata": {},
   "outputs": [
    {
     "name": "stdout",
     "output_type": "stream",
     "text": [
      "Collecting yfinance\n",
      "  Downloading yfinance-0.1.59.tar.gz (25 kB)\n",
      "Requirement already satisfied: pandas>=0.24 in /home/ec2-user/anaconda3/envs/python3/lib/python3.6/site-packages (from yfinance) (1.1.5)\n",
      "Requirement already satisfied: numpy>=1.15 in /home/ec2-user/anaconda3/envs/python3/lib/python3.6/site-packages (from yfinance) (1.19.5)\n",
      "Requirement already satisfied: requests>=2.20 in /home/ec2-user/anaconda3/envs/python3/lib/python3.6/site-packages (from yfinance) (2.25.1)\n",
      "Collecting multitasking>=0.0.7\n",
      "  Downloading multitasking-0.0.9.tar.gz (8.1 kB)\n",
      "Requirement already satisfied: lxml>=4.5.1 in /home/ec2-user/anaconda3/envs/python3/lib/python3.6/site-packages (from yfinance) (4.6.2)\n",
      "Requirement already satisfied: python-dateutil>=2.7.3 in /home/ec2-user/anaconda3/envs/python3/lib/python3.6/site-packages (from pandas>=0.24->yfinance) (2.8.1)\n",
      "Requirement already satisfied: pytz>=2017.2 in /home/ec2-user/anaconda3/envs/python3/lib/python3.6/site-packages (from pandas>=0.24->yfinance) (2021.1)\n",
      "Requirement already satisfied: six>=1.5 in /home/ec2-user/anaconda3/envs/python3/lib/python3.6/site-packages (from python-dateutil>=2.7.3->pandas>=0.24->yfinance) (1.15.0)\n",
      "Requirement already satisfied: certifi>=2017.4.17 in /home/ec2-user/anaconda3/envs/python3/lib/python3.6/site-packages (from requests>=2.20->yfinance) (2020.12.5)\n",
      "Requirement already satisfied: chardet<5,>=3.0.2 in /home/ec2-user/anaconda3/envs/python3/lib/python3.6/site-packages (from requests>=2.20->yfinance) (3.0.4)\n",
      "Requirement already satisfied: idna<3,>=2.5 in /home/ec2-user/anaconda3/envs/python3/lib/python3.6/site-packages (from requests>=2.20->yfinance) (2.10)\n",
      "Requirement already satisfied: urllib3<1.27,>=1.21.1 in /home/ec2-user/anaconda3/envs/python3/lib/python3.6/site-packages (from requests>=2.20->yfinance) (1.26.3)\n",
      "Building wheels for collected packages: yfinance, multitasking\n",
      "  Building wheel for yfinance (setup.py) ... \u001b[?25ldone\n",
      "\u001b[?25h  Created wheel for yfinance: filename=yfinance-0.1.59-py2.py3-none-any.whl size=23442 sha256=27bb228adc5cc095645e0f5e4688460964397b26af83d9a83748de3ff3453d30\n",
      "  Stored in directory: /home/ec2-user/.cache/pip/wheels/b5/12/81/97d5fe1c20677971f3ad0d93e7b8b38bb7ac85496c17a13343\n",
      "  Building wheel for multitasking (setup.py) ... \u001b[?25ldone\n",
      "\u001b[?25h  Created wheel for multitasking: filename=multitasking-0.0.9-py3-none-any.whl size=8368 sha256=b22650ec8ccfa32e98dd5319eabf53f92424657aa559a705bf4d69bc596f6ae5\n",
      "  Stored in directory: /home/ec2-user/.cache/pip/wheels/5e/8a/c4/59c699498647c7c94b14c87a904ca7540646107b3d94b7c320\n",
      "Successfully built yfinance multitasking\n",
      "Installing collected packages: multitasking, yfinance\n",
      "Successfully installed multitasking-0.0.9 yfinance-0.1.59\n"
     ]
    }
   ],
   "source": [
    "!pip install yfinance"
   ]
  },
  {
   "cell_type": "code",
   "execution_count": 4,
   "id": "respective-major",
   "metadata": {},
   "outputs": [
    {
     "name": "stderr",
     "output_type": "stream",
     "text": [
      "Matplotlib is building the font cache; this may take a moment.\n"
     ]
    }
   ],
   "source": [
    "import yfinance as yf\n",
    "from matplotlib import pyplot as plt\n",
    "%matplotlib inline"
   ]
  },
  {
   "cell_type": "markdown",
   "id": "another-wichita",
   "metadata": {},
   "source": [
    "## How to use yfinance library"
   ]
  },
  {
   "cell_type": "markdown",
   "id": "cooked-configuration",
   "metadata": {},
   "source": [
    "### Get ticker info"
   ]
  },
  {
   "cell_type": "code",
   "execution_count": 6,
   "id": "joint-indonesian",
   "metadata": {},
   "outputs": [],
   "source": [
    "myticker = yf.Ticker(\"KN.PA\")"
   ]
  },
  {
   "cell_type": "code",
   "execution_count": 8,
   "id": "fiscal-flashing",
   "metadata": {},
   "outputs": [
    {
     "name": "stdout",
     "output_type": "stream",
     "text": [
      "{'zip': '75013', 'sector': 'Financial Services', 'fullTimeEmployees': 16943, 'longBusinessSummary': 'Natixis S.A. provides asset and wealth management, corporate and investment banking, insurance, and payment services primarily in the Americas, the Asia-Pacific, Europe, the Middle East, and Africa. The company offers wealth management, asset management, and savings and retirement services. It also provides corporate and investment banking services, such as investment banking, and merger and acquisition; capital market, structured and cinema financing; trade finance; and treasury services. In addition, the company offers life insurance, savings, transfer of assets, retirement, death insurance, long-term care insurance, borrower insurance, car insurance, home insurance, health insurance, life accident guarantee, multimedia equipment insurance, legal protection, parabank insurance, remote monitoring, and professional insurance products. Further, it provides online and omni-channel payment solutions, cards payment and issuance processing services, merchant payment flow acquisition solutions, and SEPA transfers/direct debits and instant payments. The company was formerly known as Natexis Banques Populaires SA and changed its name to Natixis S.A. in 2006. The company was founded in 1919 and is headquartered in Paris, France. Natixis S.A. is a subsidiary of BPCE S.A.', 'city': 'Paris', 'phone': '33 1 58 32 30 00', 'country': 'France', 'companyOfficers': [], 'website': 'http://www.natixis.com', 'maxAge': 1, 'address1': '30, Avenue Pierre MendÃ¨s France', 'industry': 'Banks—Regional', 'previousClose': 4.032, 'regularMarketOpen': 4.028, 'twoHundredDayAverage': 3.020514, 'trailingAnnualDividendYield': 0.0148809515, 'payoutRatio': 0, 'volume24Hr': None, 'regularMarketDayHigh': 4.069, 'navPrice': None, 'averageDailyVolume10Day': 4467483, 'totalAssets': None, 'regularMarketPreviousClose': 4.032, 'fiftyDayAverage': 4.064914, 'trailingAnnualDividendRate': 0.06, 'open': 4.028, 'toCurrency': None, 'averageVolume10days': 4467483, 'expireDate': None, 'yield': None, 'algorithm': None, 'dividendRate': 0.06, 'exDividendDate': 1622592000, 'beta': 1.361018, 'circulatingSupply': None, 'startDate': None, 'regularMarketDayLow': 4.026, 'priceHint': 4, 'currency': 'EUR', 'trailingPE': 126.1875, 'regularMarketVolume': 4374550, 'lastMarket': None, 'maxSupply': None, 'openInterest': None, 'marketCap': 12741667840, 'volumeAllCurrencies': None, 'strikePrice': None, 'averageVolume': 10581212, 'priceToSalesTrailing12Months': 2.0305448, 'dayLow': 4.026, 'ask': None, 'ytdReturn': None, 'askSize': None, 'volume': 4374550, 'fiftyTwoWeekHigh': 4.166, 'forwardPE': None, 'fromCurrency': None, 'fiveYearAvgDividendYield': None, 'fiftyTwoWeekLow': 1.7885, 'bid': None, 'tradeable': False, 'dividendYield': 0.0149, 'bidSize': None, 'dayHigh': 4.069, 'exchange': 'PAR', 'shortName': 'NATIXIS', 'longName': 'Natixis S.A.', 'exchangeTimezoneName': 'Europe/Paris', 'exchangeTimezoneShortName': 'CEST', 'isEsgPopulated': False, 'gmtOffSetMilliseconds': '7200000', 'quoteType': 'EQUITY', 'symbol': 'KN.PA', 'messageBoardId': 'finmb_553907', 'market': 'fr_market', 'annualHoldingsTurnover': None, 'enterpriseToRevenue': -13.533, 'beta3Year': None, 'profitMargins': 0.0161, 'enterpriseToEbitda': None, '52WeekChange': 0.80322003, 'morningStarRiskRating': None, 'forwardEps': None, 'revenueQuarterlyGrowth': None, 'sharesOutstanding': 3155440128, 'fundInceptionDate': None, 'annualReportExpenseRatio': None, 'bookValue': 6.101, 'sharesShort': None, 'sharesPercentSharesOut': None, 'fundFamily': None, 'lastFiscalYearEnd': 1609372800, 'heldPercentInstitutions': 0.067490004, 'netIncomeToCommon': 101000000, 'trailingEps': 0.032, 'lastDividendValue': 0.31, 'SandP52WeekChange': 0.49505913, 'priceToBook': 0.66185874, 'heldPercentInsiders': 0.73316, 'nextFiscalYearEnd': 1672444800, 'mostRecentQuarter': 1609372800, 'shortRatio': None, 'sharesShortPreviousMonthDate': None, 'floatShares': 878767916, 'enterpriseValue': -84916518912, 'threeYearAverageReturn': None, 'lastSplitDate': 1163980800, 'lastSplitFactor': '10:1', 'legalType': None, 'lastDividendDate': 1588636800, 'morningStarOverallRating': None, 'earningsQuarterlyGrowth': -0.129, 'dateShortInterest': None, 'pegRatio': None, 'lastCapGain': None, 'shortPercentOfFloat': None, 'sharesShortPriorMonth': None, 'impliedSharesOutstanding': None, 'category': None, 'fiveYearAverageReturn': None, 'regularMarketPrice': 4.038, 'logo_url': 'https://logo.clearbit.com/natixis.com'}\n"
     ]
    }
   ],
   "source": [
    "print(myticker.info)"
   ]
  },
  {
   "cell_type": "markdown",
   "id": "located-guide",
   "metadata": {},
   "source": [
    "### Parameters for the history function"
   ]
  },
  {
   "cell_type": "raw",
   "id": "chronic-satisfaction",
   "metadata": {},
   "source": [
    "Signature:\n",
    "myticker.history(\n",
    "    period='1mo',\n",
    "    interval='1d',\n",
    "    start=None,\n",
    "    end=None,\n",
    "    prepost=False,\n",
    "    actions=True,\n",
    "    auto_adjust=True,\n",
    "    back_adjust=False,\n",
    "    proxy=None,\n",
    "    rounding=False,\n",
    "    tz=None,\n",
    "    **kwargs,\n",
    ")\n",
    "Docstring:\n",
    ":Parameters:\n",
    "    period : str\n",
    "        Valid periods: 1d,5d,1mo,3mo,6mo,1y,2y,5y,10y,ytd,max\n",
    "        Either Use period parameter or use start and end\n",
    "    interval : str\n",
    "        Valid intervals: 1m,2m,5m,15m,30m,60m,90m,1h,1d,5d,1wk,1mo,3mo\n",
    "        Intraday data cannot extend last 60 days\n",
    "    start: str\n",
    "        Download start date string (YYYY-MM-DD) or _datetime.\n",
    "        Default is 1900-01-01\n",
    "    end: str\n",
    "        Download end date string (YYYY-MM-DD) or _datetime.\n",
    "        Default is now\n",
    "    prepost : bool\n",
    "        Include Pre and Post market data in results?\n",
    "        Default is False\n",
    "    auto_adjust: bool\n",
    "        Adjust all OHLC automatically? Default is True\n",
    "    back_adjust: bool\n",
    "        Back-adjusted data to mimic true historical prices\n",
    "    proxy: str\n",
    "        Optional. Proxy server URL scheme. Default is None\n",
    "    rounding: bool\n",
    "        Round values to 2 decimal places?\n",
    "        Optional. Default is False = precision suggested by Yahoo!\n",
    "    tz: str\n",
    "        Optional timezone locale for dates.\n",
    "        (default data is returned as non-localized dates)\n",
    "    **kwargs: dict\n",
    "        debug: bool\n",
    "            Optional. If passed as False, will suppress\n",
    "            error message printing to console.\n",
    "File:      ~/anaconda3/envs/python3/lib/python3.6/site-packages/yfinance/base.py\n",
    "Type:      method"
   ]
  },
  {
   "cell_type": "markdown",
   "id": "ideal-director",
   "metadata": {},
   "source": [
    "### Get history of a stock"
   ]
  },
  {
   "cell_type": "code",
   "execution_count": 12,
   "id": "equipped-bhutan",
   "metadata": {},
   "outputs": [],
   "source": [
    "hist = myticker.history(period=\"1y\")"
   ]
  },
  {
   "cell_type": "code",
   "execution_count": 13,
   "id": "theoretical-tours",
   "metadata": {},
   "outputs": [
    {
     "data": {
      "text/html": [
       "<div>\n",
       "<style scoped>\n",
       "    .dataframe tbody tr th:only-of-type {\n",
       "        vertical-align: middle;\n",
       "    }\n",
       "\n",
       "    .dataframe tbody tr th {\n",
       "        vertical-align: top;\n",
       "    }\n",
       "\n",
       "    .dataframe thead th {\n",
       "        text-align: right;\n",
       "    }\n",
       "</style>\n",
       "<table border=\"1\" class=\"dataframe\">\n",
       "  <thead>\n",
       "    <tr style=\"text-align: right;\">\n",
       "      <th></th>\n",
       "      <th>Open</th>\n",
       "      <th>High</th>\n",
       "      <th>Low</th>\n",
       "      <th>Close</th>\n",
       "      <th>Volume</th>\n",
       "      <th>Dividends</th>\n",
       "      <th>Stock Splits</th>\n",
       "    </tr>\n",
       "    <tr>\n",
       "      <th>Date</th>\n",
       "      <th></th>\n",
       "      <th></th>\n",
       "      <th></th>\n",
       "      <th></th>\n",
       "      <th></th>\n",
       "      <th></th>\n",
       "      <th></th>\n",
       "    </tr>\n",
       "  </thead>\n",
       "  <tbody>\n",
       "    <tr>\n",
       "      <th>2020-04-14</th>\n",
       "      <td>1.909922</td>\n",
       "      <td>1.935388</td>\n",
       "      <td>1.782594</td>\n",
       "      <td>1.812304</td>\n",
       "      <td>12008160</td>\n",
       "      <td>0.0</td>\n",
       "      <td>0</td>\n",
       "    </tr>\n",
       "    <tr>\n",
       "      <th>2020-04-15</th>\n",
       "      <td>1.798722</td>\n",
       "      <td>1.799571</td>\n",
       "      <td>1.663754</td>\n",
       "      <td>1.663754</td>\n",
       "      <td>12317338</td>\n",
       "      <td>0.0</td>\n",
       "      <td>0</td>\n",
       "    </tr>\n",
       "    <tr>\n",
       "      <th>2020-04-16</th>\n",
       "      <td>1.716383</td>\n",
       "      <td>1.774105</td>\n",
       "      <td>1.634893</td>\n",
       "      <td>1.653144</td>\n",
       "      <td>11248031</td>\n",
       "      <td>0.0</td>\n",
       "      <td>0</td>\n",
       "    </tr>\n",
       "    <tr>\n",
       "      <th>2020-04-17</th>\n",
       "      <td>1.758826</td>\n",
       "      <td>1.761373</td>\n",
       "      <td>1.697708</td>\n",
       "      <td>1.707046</td>\n",
       "      <td>10624506</td>\n",
       "      <td>0.0</td>\n",
       "      <td>0</td>\n",
       "    </tr>\n",
       "    <tr>\n",
       "      <th>2020-04-20</th>\n",
       "      <td>1.729965</td>\n",
       "      <td>1.731663</td>\n",
       "      <td>1.659510</td>\n",
       "      <td>1.690918</td>\n",
       "      <td>6801095</td>\n",
       "      <td>0.0</td>\n",
       "      <td>0</td>\n",
       "    </tr>\n",
       "  </tbody>\n",
       "</table>\n",
       "</div>"
      ],
      "text/plain": [
       "                Open      High       Low     Close    Volume  Dividends  \\\n",
       "Date                                                                      \n",
       "2020-04-14  1.909922  1.935388  1.782594  1.812304  12008160        0.0   \n",
       "2020-04-15  1.798722  1.799571  1.663754  1.663754  12317338        0.0   \n",
       "2020-04-16  1.716383  1.774105  1.634893  1.653144  11248031        0.0   \n",
       "2020-04-17  1.758826  1.761373  1.697708  1.707046  10624506        0.0   \n",
       "2020-04-20  1.729965  1.731663  1.659510  1.690918   6801095        0.0   \n",
       "\n",
       "            Stock Splits  \n",
       "Date                      \n",
       "2020-04-14             0  \n",
       "2020-04-15             0  \n",
       "2020-04-16             0  \n",
       "2020-04-17             0  \n",
       "2020-04-20             0  "
      ]
     },
     "execution_count": 13,
     "metadata": {},
     "output_type": "execute_result"
    }
   ],
   "source": [
    "hist.head()"
   ]
  },
  {
   "cell_type": "code",
   "execution_count": 14,
   "id": "copyrighted-controversy",
   "metadata": {},
   "outputs": [
    {
     "data": {
      "text/plain": [
       "<AxesSubplot:xlabel='Date'>"
      ]
     },
     "execution_count": 14,
     "metadata": {},
     "output_type": "execute_result"
    },
    {
     "data": {
      "image/png": "[encoded data removed]",
      "text/plain": [
       "<Figure size 1152x648 with 1 Axes>"
      ]
     },
     "metadata": {
      "needs_background": "light"
     },
     "output_type": "display_data"
    }
   ],
   "source": [
    "hist[\"Close\"].plot(figsize=(16,9), grid=True)"
   ]
  },
  {
   "cell_type": "code",
   "execution_count": null,
   "id": "arranged-average",
   "metadata": {},
   "outputs": [],
   "source": []
  }
 ],
 "metadata": {
  "kernelspec": {
   "display_name": "conda_python3",
   "language": "python",
   "name": "conda_python3"
  },
  "language_info": {
   "codemirror_mode": {
    "name": "ipython",
    "version": 3
   },
   "file_extension": ".py",
   "mimetype": "text/x-python",
   "name": "python",
   "nbconvert_exporter": "python",
   "pygments_lexer": "ipython3",
   "version": "3.6.13"
  }
 },
 "nbformat": 4,
 "nbformat_minor": 5
}
