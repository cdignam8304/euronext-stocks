{
 "cells": [
  {
   "cell_type": "markdown",
   "id": "efd84183",
   "metadata": {},
   "source": [
    "<div style=\"font-size: 32px; color: gray; font-weight: bold; text-align: center;\">Stock Analysis</div>"
   ]
  },
  {
   "cell_type": "markdown",
   "id": "0a1b1a49",
   "metadata": {},
   "source": [
    "---"
   ]
  },
  {
   "cell_type": "markdown",
   "id": "b829ed3f",
   "metadata": {},
   "source": [
    "## Investment Ratios"
   ]
  },
  {
   "cell_type": "markdown",
   "id": "4de273f4",
   "metadata": {},
   "source": [
    "### Price-earnings ratio"
   ]
  },
  {
   "cell_type": "markdown",
   "id": "41a3ac93",
   "metadata": {},
   "source": [
    "Divide a company's share price by its annual earnings per share to calculate the P/E ratio. This ratio shows how much investors are willing to pay for $1 of a company's earnings. \"It is probably the best way of comparing assets in different sectors and of finding true bargains,\" says Steven Jon Kaplan, CEO of True Contrarian Investments. Higher P/E ratios suggest a company's future earnings are expected to grow and may appear overvalued compared with companies with lower P/Es. That said, a high or low P/E doesn't necessarily indicate a good or bad investment; it offers a snapshot that begs additional inquiry. Given the uncertainty of future cash flows, it can be helpful for investors to rely on historical P/Es and use a mix of other ratios to evaluate and pick stocks."
   ]
  },
  {
   "cell_type": "markdown",
   "id": "7bf8faa7",
   "metadata": {},
   "source": [
    "### Price-sales ratio"
   ]
  },
  {
   "cell_type": "markdown",
   "id": "4e38d8ae",
   "metadata": {},
   "source": [
    "Robert Johnson, professor of finance at Creighton University in Omaha, Nebraska, touts the benefits of calculating a stock's price divided by sales per share, commonly referred to as the price-to-sales ratio. \"The price-to-sales ratio is used by analysts who want to eliminate some of the distortions that can result in company earnings,\" Johnson says. It's a useful ratio to determine whether a company has earnings, cash flow or even positive book value since sales is always a positive number. A lower ratio suggests you've found a bargain, or a value stock. Industry consensus says lower P/S stocks have better value because investors are paying less for every dollar of a company's revenues. P/S ratio values can vary across sectors, so to best assess a company's P/S, compare it with industry peers."
   ]
  },
  {
   "cell_type": "markdown",
   "id": "4153bb3e",
   "metadata": {},
   "source": [
    "### Profit margin ratio"
   ]
  },
  {
   "cell_type": "markdown",
   "id": "b6731020",
   "metadata": {},
   "source": [
    "This is the amount of profit a company makes for every unit of sales. Investors calculate this ratio by dividing net profit over revenue. Profit margins are unique to an industry – with grocery chains known for low profit margins, while software companies can claim double-digit ratios. But this information doesn't necessarily mean that it's better to buy a software company than a grocery store stock. A high profit margin means a business can offer products priced higher than its costs, yielding profits through effective pricing strategies. A low profit margin may mean there are inefficient pricing strategies, where a business cannot produce enough profit to cover expenses. Any stock could be a winner with a growing revenue stream and steady profit margins."
   ]
  },
  {
   "cell_type": "markdown",
   "id": "c0eb16c2",
   "metadata": {},
   "source": [
    "### Dividend payout ratio"
   ]
  },
  {
   "cell_type": "markdown",
   "id": "d89ece10",
   "metadata": {},
   "source": [
    "Companies with rising dividend payments are favored by John Robinson, owner and founder of Nest Egg Guru in Hawaii. The dividend payout ratio is the percentage of net income paid to investors in the form of dividends. This ratio tells investors how much earnings are paid out in dividends versus how much is reinvested back into the company. The higher the percentage, the less money remains to reinvest back into growing the company. \"Companies that pay out less than 60% of their earnings as dividends tend to have room for further dividend increases and the ability to withstand temporary earnings downturns without having to reduce or eliminate dividend payments,\" he says."
   ]
  },
  {
   "cell_type": "markdown",
   "id": "5d025b83",
   "metadata": {},
   "source": [
    "### Price-free cash flow ratio"
   ]
  },
  {
   "cell_type": "markdown",
   "id": "c9e330ff",
   "metadata": {},
   "source": [
    "Tim Parker, a partner at Regency Wealth Management in New York City, reveres free cash flow because that is the amount of money left over after a company reinvests in the business to pay dividends, buy back shares or make acquisitions. To determine price-free cash flow, divide the company's share price by the operating free cash flow per share. The ratio measures how much cash a company earns for each share of stock. Investors want to search for companies with growing free cash flow that are selling at a bargain. Parker favors this ratio since free cash flow is harder to manipulate than earnings. A lower ratio indicates a company may be undervalued, while a higher ratio may signal overvaluation."
   ]
  },
  {
   "cell_type": "markdown",
   "id": "249cf428",
   "metadata": {},
   "source": [
    "### Debit-equity ratio\n"
   ]
  },
  {
   "cell_type": "markdown",
   "id": "2828313a",
   "metadata": {},
   "source": [
    "Valuation ratios are important, but so are quality measures, such as debt and liquidity metrics. Divide a company's total liabilities by its shareholder equity to compute the debt-equity ratio. This ratio explains a company's financial leverage, the comparison between borrowed funds and equity or ownership. Think of this ratio like a homeowner's mortgage value versus principal on the home. A greater proportion of debt constrains a company's flexibility to grow as more revenue is directed to pay debt costs. Like most ratios, compare the debt-equity ratio to those of other industry members, as some sectors, such as utilities, have higher typical debt ratios compared with others."
   ]
  },
  {
   "cell_type": "markdown",
   "id": "7c892efb",
   "metadata": {},
   "source": [
    "### Quick and current ratios\n"
   ]
  },
  {
   "cell_type": "markdown",
   "id": "2cf02d05",
   "metadata": {},
   "source": [
    "Sameer Samana, global equity and technical strategist at Wells Fargo Investment Institute in St. Louis, recommends examining the quick ratio and current ratio. These liquidity ratios measure if a company has enough working capital to handle potential downturns and financial setbacks. The current ratio divides current assets by current liabilities to measure how much cash a company has on hand to pay short-term obligations within a year. The quick ratio sums cash, marketable securities and accounts receivables and divides this sum by current liabilities. Higher numbers for these ratios suggest greater liquidity, while lower ratios may suggest a company cannot meet short-term obligations."
   ]
  },
  {
   "cell_type": "markdown",
   "id": "e745de55",
   "metadata": {},
   "source": [
    "### EBITDA-to-sales ratio"
   ]
  },
  {
   "cell_type": "markdown",
   "id": "6591671b",
   "metadata": {
    "ExecuteTime": {
     "end_time": "2021-05-15T13:19:32.800320Z",
     "start_time": "2021-05-15T13:19:32.795361Z"
    }
   },
   "source": [
    "This metric is the company's EBITDA – which is an abbreviation for earnings before interest, taxes, depreciation and amortization – divided by its net sales. This ratio is used to evaluate a company's overall profitability or earnings before expenses, by comparing revenue with earnings. \"The stability of EBITDA typically determines investors' appetite for the amount of debt it believes the business should have,\" says Bryan Lee, chief investment officer at Blue Zone Wealth Advisors in Los Angeles. \"A more levered company brings higher volatility for how the equity trades. This volatility can amplify returns on the upside but also to the downside,\" he says. EBITDA margin offers a transparent view into business operations by eliminating noncash or nonoperating expenses like interest costs, taxes and depreciation that may dim profits, giving a more precise view of a company's profitability."
   ]
  },
  {
   "cell_type": "markdown",
   "id": "775ae13a",
   "metadata": {},
   "source": [
    "## Libraries"
   ]
  },
  {
   "cell_type": "code",
   "execution_count": 5,
   "id": "7d43fb38",
   "metadata": {
    "ExecuteTime": {
     "end_time": "2021-06-01T08:45:26.172611Z",
     "start_time": "2021-06-01T08:45:26.167362Z"
    }
   },
   "outputs": [],
   "source": [
    "# !pip install pmdarima"
   ]
  },
  {
   "cell_type": "code",
   "execution_count": 6,
   "id": "9b0eeef2",
   "metadata": {
    "ExecuteTime": {
     "end_time": "2021-06-01T08:45:30.207838Z",
     "start_time": "2021-06-01T08:45:26.190206Z"
    },
    "code_folding": [],
    "run_control": {
     "marked": false
    }
   },
   "outputs": [],
   "source": [
    "# Libraries\n",
    "# import yfinance as yf\n",
    "from matplotlib import pyplot as plt\n",
    "from matplotlib.ticker import (MultipleLocator, AutoMinorLocator)\n",
    "import matplotlib.dates as mdates\n",
    "%matplotlib inline\n",
    "import seaborn as sns; sns.set_theme(color_codes=True)\n",
    "sns.set_theme(style=\"dark\")\n",
    "import pandas as pd\n",
    "import numpy as np\n",
    "import boto3\n",
    "from io import StringIO\n",
    "from sagemaker import get_execution_role\n",
    "import warnings\n",
    "warnings.filterwarnings(\"ignore\")\n",
    "import pickle\n",
    "from scipy import stats\n",
    "plt.style.use('seaborn-white')\n",
    "import numpy as np\n",
    "import math\n",
    "import ipywidgets as widgets\n",
    "from datetime import datetime\n",
    "import math\n",
    "from sklearn.ensemble import RandomForestClassifier, RandomForestRegressor\n",
    "from sklearn.svm import SVC\n",
    "from sklearn.linear_model import LogisticRegression\n",
    "from sklearn.svm import SVR\n",
    "from sklearn.metrics import classification_report, accuracy_score, confusion_matrix\n",
    "import pmdarima as pm\n",
    "from pmdarima.model_selection import train_test_split"
   ]
  },
  {
   "cell_type": "code",
   "execution_count": 7,
   "id": "92f72b7c",
   "metadata": {
    "ExecuteTime": {
     "end_time": "2021-06-01T08:45:30.216678Z",
     "start_time": "2021-06-01T08:45:30.212198Z"
    },
    "code_folding": [],
    "run_control": {
     "marked": false
    }
   },
   "outputs": [],
   "source": [
    "# print(plt.style.available)"
   ]
  },
  {
   "cell_type": "markdown",
   "id": "5fbe7e73",
   "metadata": {},
   "source": [
    "## Get data"
   ]
  },
  {
   "cell_type": "markdown",
   "id": "05892f8e",
   "metadata": {},
   "source": [
    "### Retrieve ticker info data from s3"
   ]
  },
  {
   "cell_type": "code",
   "execution_count": 8,
   "id": "b49d8433",
   "metadata": {
    "ExecuteTime": {
     "end_time": "2021-06-01T08:45:30.587830Z",
     "start_time": "2021-06-01T08:45:30.220797Z"
    },
    "code_folding": [
     0
    ],
    "run_control": {
     "marked": false
    }
   },
   "outputs": [],
   "source": [
    "# Read ticker_info from s3\n",
    "\n",
    "s3 = boto3.client(\"s3\")\n",
    "\n",
    "#Read the object stored in key 'myList001'\n",
    "# object = s3.get_object(Bucket=\"euronext-stocks\", Key=\"ticker_info\")\n",
    "object = s3.get_object(Bucket=\"euronext-stocks\", Key=\"ticker_info_cac40\")\n",
    "# object = s3.get_object(Bucket=\"euronext-stocks\", Key=\"ticker_info_test\")\n",
    "serializedObject = object['Body'].read()\n",
    "ticker_info = pickle.loads(serializedObject) # Deserialize the retrieved object"
   ]
  },
  {
   "cell_type": "code",
   "execution_count": 9,
   "id": "2996cdf9",
   "metadata": {
    "ExecuteTime": {
     "end_time": "2021-06-01T08:45:30.726235Z",
     "start_time": "2021-06-01T08:45:30.592136Z"
    },
    "code_folding": [],
    "scrolled": true
   },
   "outputs": [
    {
     "data": {
      "text/html": [
       "<div>\n",
       "<style scoped>\n",
       "    .dataframe tbody tr th:only-of-type {\n",
       "        vertical-align: middle;\n",
       "    }\n",
       "\n",
       "    .dataframe tbody tr th {\n",
       "        vertical-align: top;\n",
       "    }\n",
       "\n",
       "    .dataframe thead th {\n",
       "        text-align: right;\n",
       "    }\n",
       "</style>\n",
       "<table border=\"1\" class=\"dataframe\">\n",
       "  <thead>\n",
       "    <tr style=\"text-align: right;\">\n",
       "      <th></th>\n",
       "      <th>Name</th>\n",
       "      <th>Sector</th>\n",
       "      <th>Industry</th>\n",
       "    </tr>\n",
       "    <tr>\n",
       "      <th>Ticker</th>\n",
       "      <th></th>\n",
       "      <th></th>\n",
       "      <th></th>\n",
       "    </tr>\n",
       "  </thead>\n",
       "  <tbody>\n",
       "    <tr>\n",
       "      <th>2CRSI.PA</th>\n",
       "      <td>2CRSI S.A.</td>\n",
       "      <td>Technology</td>\n",
       "      <td>Computer Hardware</td>\n",
       "    </tr>\n",
       "    <tr>\n",
       "      <th>2MX.PA</th>\n",
       "      <td>2MX Organic S.A.</td>\n",
       "      <td>Financial Services</td>\n",
       "      <td>Shell Companies</td>\n",
       "    </tr>\n",
       "    <tr>\n",
       "      <th>ASP.PA</th>\n",
       "      <td>AST Groupe</td>\n",
       "      <td>Consumer Cyclical</td>\n",
       "      <td>Residential Construction</td>\n",
       "    </tr>\n",
       "    <tr>\n",
       "      <th>AALB.AS</th>\n",
       "      <td>Aalberts N.V.</td>\n",
       "      <td>Industrials</td>\n",
       "      <td>Specialty Industrial Machinery</td>\n",
       "    </tr>\n",
       "    <tr>\n",
       "      <th>ABI.BR</th>\n",
       "      <td>Anheuser-Busch InBev SA/NV</td>\n",
       "      <td>Consumer Defensive</td>\n",
       "      <td>Beverages—Brewers</td>\n",
       "    </tr>\n",
       "    <tr>\n",
       "      <th>...</th>\n",
       "      <td>...</td>\n",
       "      <td>...</td>\n",
       "      <td>...</td>\n",
       "    </tr>\n",
       "    <tr>\n",
       "      <th>YATRA.AS</th>\n",
       "      <td>Yatra Capital Limited</td>\n",
       "      <td>Missing</td>\n",
       "      <td>Missing</td>\n",
       "    </tr>\n",
       "    <tr>\n",
       "      <th>CV.PA</th>\n",
       "      <td>None</td>\n",
       "      <td>Missing</td>\n",
       "      <td>Missing</td>\n",
       "    </tr>\n",
       "    <tr>\n",
       "      <th>ZENT.BR</th>\n",
       "      <td>Zenitel NV</td>\n",
       "      <td>Technology</td>\n",
       "      <td>Communication Equipment</td>\n",
       "    </tr>\n",
       "    <tr>\n",
       "      <th>^FCHI</th>\n",
       "      <td>None</td>\n",
       "      <td>Missing</td>\n",
       "      <td>Missing</td>\n",
       "    </tr>\n",
       "    <tr>\n",
       "      <th>^N100</th>\n",
       "      <td>None</td>\n",
       "      <td>Missing</td>\n",
       "      <td>Missing</td>\n",
       "    </tr>\n",
       "  </tbody>\n",
       "</table>\n",
       "<p>706 rows × 3 columns</p>\n",
       "</div>"
      ],
      "text/plain": [
       "                                Name              Sector  \\\n",
       "Ticker                                                     \n",
       "2CRSI.PA                  2CRSI S.A.          Technology   \n",
       "2MX.PA              2MX Organic S.A.  Financial Services   \n",
       "ASP.PA                    AST Groupe   Consumer Cyclical   \n",
       "AALB.AS                Aalberts N.V.         Industrials   \n",
       "ABI.BR    Anheuser-Busch InBev SA/NV  Consumer Defensive   \n",
       "...                              ...                 ...   \n",
       "YATRA.AS       Yatra Capital Limited             Missing   \n",
       "CV.PA                           None             Missing   \n",
       "ZENT.BR                   Zenitel NV          Technology   \n",
       "^FCHI                           None             Missing   \n",
       "^N100                           None             Missing   \n",
       "\n",
       "                                Industry  \n",
       "Ticker                                    \n",
       "2CRSI.PA               Computer Hardware  \n",
       "2MX.PA                   Shell Companies  \n",
       "ASP.PA          Residential Construction  \n",
       "AALB.AS   Specialty Industrial Machinery  \n",
       "ABI.BR                 Beverages—Brewers  \n",
       "...                                  ...  \n",
       "YATRA.AS                         Missing  \n",
       "CV.PA                            Missing  \n",
       "ZENT.BR          Communication Equipment  \n",
       "^FCHI                            Missing  \n",
       "^N100                            Missing  \n",
       "\n",
       "[706 rows x 3 columns]"
      ]
     },
     "execution_count": 9,
     "metadata": {},
     "output_type": "execute_result"
    }
   ],
   "source": [
    "# Create dataframe of ticker info\n",
    "df_ticker_info = pd.DataFrame([(ticker,\n",
    "                               ticker_info[ticker][0],\n",
    "                               ticker_info[ticker][1],\n",
    "                               ticker_info[ticker][2],\n",
    "                              ) for ticker in ticker_info], columns=[\"Ticker\", \"Name\", \"Sector\", \"Industry\"])\n",
    "\n",
    "\n",
    "df_ticker_info.set_index(\"Ticker\", inplace=True)\n",
    "df_ticker_info"
   ]
  },
  {
   "cell_type": "code",
   "execution_count": 10,
   "id": "083c6027",
   "metadata": {
    "ExecuteTime": {
     "end_time": "2021-06-01T08:45:30.738548Z",
     "start_time": "2021-06-01T08:45:30.729813Z"
    }
   },
   "outputs": [
    {
     "data": {
      "text/plain": [
       "Name                    Chausseria\n",
       "Sector           Consumer Cyclical\n",
       "Industry    Footwear & Accessories\n",
       "Name: CHSR.PA, dtype: object"
      ]
     },
     "execution_count": 10,
     "metadata": {},
     "output_type": "execute_result"
    }
   ],
   "source": [
    "df_ticker_info.loc[\"CHSR.PA\"]"
   ]
  },
  {
   "cell_type": "code",
   "execution_count": 11,
   "id": "6389bfa8",
   "metadata": {
    "ExecuteTime": {
     "end_time": "2021-06-01T08:45:30.747475Z",
     "start_time": "2021-06-01T08:45:30.740156Z"
    },
    "scrolled": true
   },
   "outputs": [
    {
     "data": {
      "text/plain": [
       "['ABNX.PA',\n",
       " 'ABVX.PA',\n",
       " 'ACPH.BR',\n",
       " 'ADOC.PA',\n",
       " 'ADVIC.PA',\n",
       " 'APM.PA',\n",
       " 'ARGX.BR',\n",
       " 'ASIT.BR',\n",
       " 'BOTHE.BR',\n",
       " 'CYAD.BR',\n",
       " 'DBV.PA',\n",
       " 'ERYP.PA',\n",
       " 'FALG.PA',\n",
       " 'GLPG.AS',\n",
       " 'GNRO.PA',\n",
       " 'GNFT.PA',\n",
       " 'GKTX.PA',\n",
       " 'SIGHT.PA',\n",
       " 'HYL.BR',\n",
       " 'IPH.PA',\n",
       " 'IVA.PA',\n",
       " 'KDS.AS',\n",
       " 'LYS.PA',\n",
       " 'MEDCL.PA',\n",
       " 'NANO.PA',\n",
       " 'COX.PA',\n",
       " 'OSE.PA',\n",
       " 'OXUR.BR',\n",
       " 'PHARM.AS',\n",
       " 'POXEL.PA',\n",
       " 'TNG.PA',\n",
       " 'TUB.BR',\n",
       " 'UCB.BR',\n",
       " 'VLA.PA',\n",
       " 'VVY.AS']"
      ]
     },
     "execution_count": 11,
     "metadata": {},
     "output_type": "execute_result"
    }
   ],
   "source": [
    "# df_ticker_info.loc[df_ticker_info[\"Sector\"]==\"Consumer Cyclical\"]\n",
    "# df_ticker_info.loc[df_ticker_info[\"Industry\"]==\"Railroads\"]\n",
    "df_ticker_info.loc[df_ticker_info[\"Industry\"]==\"Biotechnology\"].index.tolist()"
   ]
  },
  {
   "cell_type": "code",
   "execution_count": 12,
   "id": "b9a632e2",
   "metadata": {
    "ExecuteTime": {
     "end_time": "2021-06-01T08:45:30.755369Z",
     "start_time": "2021-06-01T08:45:30.749280Z"
    }
   },
   "outputs": [
    {
     "data": {
      "text/plain": [
       "array(['Technology', 'Financial Services', 'Consumer Cyclical',\n",
       "       'Industrials', 'Consumer Defensive', 'Healthcare', 'Real Estate',\n",
       "       'Financial', 'Services', 'Basic Materials',\n",
       "       'Communication Services', 'Utilities', 'Missing',\n",
       "       'Industrial Goods', 'Energy', ''], dtype=object)"
      ]
     },
     "execution_count": 12,
     "metadata": {},
     "output_type": "execute_result"
    }
   ],
   "source": [
    "df_ticker_info[\"Sector\"].unique()"
   ]
  },
  {
   "cell_type": "code",
   "execution_count": 13,
   "id": "b6e4e1a8",
   "metadata": {
    "ExecuteTime": {
     "end_time": "2021-06-01T08:45:30.762546Z",
     "start_time": "2021-06-01T08:45:30.757966Z"
    }
   },
   "outputs": [
    {
     "data": {
      "text/plain": [
       "array(['Beverages—Brewers', 'Beverages—Wineries & Distilleries',\n",
       "       'Grocery Stores', 'Food Distribution', 'Packaged Foods',\n",
       "       'Household & Personal Products', 'Beverages—Non-Alcoholic',\n",
       "       'Confectioners', 'Farm Products'], dtype=object)"
      ]
     },
     "execution_count": 13,
     "metadata": {},
     "output_type": "execute_result"
    }
   ],
   "source": [
    "df_ticker_info.loc[df_ticker_info[\"Sector\"]==\"Consumer Defensive\"][\"Industry\"].unique()"
   ]
  },
  {
   "cell_type": "code",
   "execution_count": 14,
   "id": "653b1169",
   "metadata": {
    "ExecuteTime": {
     "end_time": "2021-06-01T08:45:30.779133Z",
     "start_time": "2021-06-01T08:45:30.764658Z"
    },
    "scrolled": true
   },
   "outputs": [
    {
     "data": {
      "text/html": [
       "<div>\n",
       "<style scoped>\n",
       "    .dataframe tbody tr th:only-of-type {\n",
       "        vertical-align: middle;\n",
       "    }\n",
       "\n",
       "    .dataframe tbody tr th {\n",
       "        vertical-align: top;\n",
       "    }\n",
       "\n",
       "    .dataframe thead th {\n",
       "        text-align: right;\n",
       "    }\n",
       "</style>\n",
       "<table border=\"1\" class=\"dataframe\">\n",
       "  <thead>\n",
       "    <tr style=\"text-align: right;\">\n",
       "      <th></th>\n",
       "      <th>Name</th>\n",
       "      <th>Sector</th>\n",
       "      <th>Industry</th>\n",
       "    </tr>\n",
       "    <tr>\n",
       "      <th>Ticker</th>\n",
       "      <th></th>\n",
       "      <th></th>\n",
       "      <th></th>\n",
       "    </tr>\n",
       "  </thead>\n",
       "  <tbody>\n",
       "    <tr>\n",
       "      <th>ABI.BR</th>\n",
       "      <td>Anheuser-Busch InBev SA/NV</td>\n",
       "      <td>Consumer Defensive</td>\n",
       "      <td>Beverages—Brewers</td>\n",
       "    </tr>\n",
       "    <tr>\n",
       "      <th>ADVI.PA</th>\n",
       "      <td>AdVini S.A.</td>\n",
       "      <td>Consumer Defensive</td>\n",
       "      <td>Beverages—Wineries &amp; Distilleries</td>\n",
       "    </tr>\n",
       "    <tr>\n",
       "      <th>AD.AS</th>\n",
       "      <td>Koninklijke Ahold Delhaize N.V.</td>\n",
       "      <td>Consumer Defensive</td>\n",
       "      <td>Grocery Stores</td>\n",
       "    </tr>\n",
       "    <tr>\n",
       "      <th>ACOMO.AS</th>\n",
       "      <td>Amsterdam Commodities N.V.</td>\n",
       "      <td>Consumer Defensive</td>\n",
       "      <td>Food Distribution</td>\n",
       "    </tr>\n",
       "    <tr>\n",
       "      <th>BSGR.AS</th>\n",
       "      <td>B&amp;S Group S.A.</td>\n",
       "      <td>Consumer Defensive</td>\n",
       "      <td>Food Distribution</td>\n",
       "    </tr>\n",
       "    <tr>\n",
       "      <th>FBEL.PA</th>\n",
       "      <td>Bel Société anonyme</td>\n",
       "      <td>Consumer Defensive</td>\n",
       "      <td>Packaged Foods</td>\n",
       "    </tr>\n",
       "    <tr>\n",
       "      <th>BB.PA</th>\n",
       "      <td>Société BIC SA</td>\n",
       "      <td>Consumer Defensive</td>\n",
       "      <td>Household &amp; Personal Products</td>\n",
       "    </tr>\n",
       "    <tr>\n",
       "      <th>BON.PA</th>\n",
       "      <td>Bonduelle SCA</td>\n",
       "      <td>Consumer Defensive</td>\n",
       "      <td>Packaged Foods</td>\n",
       "    </tr>\n",
       "    <tr>\n",
       "      <th>CA.PA</th>\n",
       "      <td>Carrefour SA</td>\n",
       "      <td>Consumer Defensive</td>\n",
       "      <td>Grocery Stores</td>\n",
       "    </tr>\n",
       "    <tr>\n",
       "      <th>CO.PA</th>\n",
       "      <td>Casino, Guichard-Perrachon Société Anonyme</td>\n",
       "      <td>Consumer Defensive</td>\n",
       "      <td>Grocery Stores</td>\n",
       "    </tr>\n",
       "    <tr>\n",
       "      <th>CCEP.AS</th>\n",
       "      <td>Coca-Cola European Partners plc</td>\n",
       "      <td>Consumer Defensive</td>\n",
       "      <td>Beverages—Non-Alcoholic</td>\n",
       "    </tr>\n",
       "    <tr>\n",
       "      <th>COLR.BR</th>\n",
       "      <td>Etn. Fr. Colruyt NV</td>\n",
       "      <td>Consumer Defensive</td>\n",
       "      <td>Grocery Stores</td>\n",
       "    </tr>\n",
       "    <tr>\n",
       "      <th>CLEX.BR</th>\n",
       "      <td>Cumulex N.V.</td>\n",
       "      <td>Consumer Defensive</td>\n",
       "      <td>Confectioners</td>\n",
       "    </tr>\n",
       "    <tr>\n",
       "      <th>BN.PA</th>\n",
       "      <td>Danone S.A.</td>\n",
       "      <td>Consumer Defensive</td>\n",
       "      <td>Packaged Foods</td>\n",
       "    </tr>\n",
       "    <tr>\n",
       "      <th>DGE.PA</th>\n",
       "      <td>Diageo plc</td>\n",
       "      <td>Consumer Defensive</td>\n",
       "      <td>Beverages—Wineries &amp; Distilleries</td>\n",
       "    </tr>\n",
       "    <tr>\n",
       "      <th>FAYE.PA</th>\n",
       "      <td>Fayenceries de Sarreguemines, Digoin &amp; Vitry-l...</td>\n",
       "      <td>Consumer Defensive</td>\n",
       "      <td>Household &amp; Personal Products</td>\n",
       "    </tr>\n",
       "    <tr>\n",
       "      <th>FNTS.PA</th>\n",
       "      <td>Finatis Société Anonyme</td>\n",
       "      <td>Consumer Defensive</td>\n",
       "      <td>Food Distribution</td>\n",
       "    </tr>\n",
       "    <tr>\n",
       "      <th>FFARM.AS</th>\n",
       "      <td>ForFarmers N.V.</td>\n",
       "      <td>Consumer Defensive</td>\n",
       "      <td>Farm Products</td>\n",
       "    </tr>\n",
       "    <tr>\n",
       "      <th>FOU.BR</th>\n",
       "      <td>Fountain S.A.</td>\n",
       "      <td>Consumer Defensive</td>\n",
       "      <td>Food Distribution</td>\n",
       "    </tr>\n",
       "    <tr>\n",
       "      <th>GREEN.BR</th>\n",
       "      <td>Greenyard NV</td>\n",
       "      <td>Consumer Defensive</td>\n",
       "      <td>Packaged Foods</td>\n",
       "    </tr>\n",
       "    <tr>\n",
       "      <th>HEIA.AS</th>\n",
       "      <td>Heineken N.V.</td>\n",
       "      <td>Consumer Defensive</td>\n",
       "      <td>Beverages—Brewers</td>\n",
       "    </tr>\n",
       "    <tr>\n",
       "      <th>HEIO.AS</th>\n",
       "      <td>Heineken Holding N.V.</td>\n",
       "      <td>Consumer Defensive</td>\n",
       "      <td>Beverages—Brewers</td>\n",
       "    </tr>\n",
       "    <tr>\n",
       "      <th>ITP.PA</th>\n",
       "      <td>Interparfums SA</td>\n",
       "      <td>Consumer Defensive</td>\n",
       "      <td>Household &amp; Personal Products</td>\n",
       "    </tr>\n",
       "    <tr>\n",
       "      <th>JBOG.PA</th>\n",
       "      <td>Jacques Bogart S.A.</td>\n",
       "      <td>Consumer Defensive</td>\n",
       "      <td>Household &amp; Personal Products</td>\n",
       "    </tr>\n",
       "    <tr>\n",
       "      <th>JDEP.AS</th>\n",
       "      <td>JDE Peet's N.V.</td>\n",
       "      <td>Consumer Defensive</td>\n",
       "      <td>Packaged Foods</td>\n",
       "    </tr>\n",
       "    <tr>\n",
       "      <th>OR.PA</th>\n",
       "      <td>L'Oréal S.A.</td>\n",
       "      <td>Consumer Defensive</td>\n",
       "      <td>Household &amp; Personal Products</td>\n",
       "    </tr>\n",
       "    <tr>\n",
       "      <th>LPE.PA</th>\n",
       "      <td>Laurent-Perrier S.A.</td>\n",
       "      <td>Consumer Defensive</td>\n",
       "      <td>Beverages—Wineries &amp; Distilleries</td>\n",
       "    </tr>\n",
       "    <tr>\n",
       "      <th>LOUP.PA</th>\n",
       "      <td>L.D.C. S.A.</td>\n",
       "      <td>Consumer Defensive</td>\n",
       "      <td>Packaged Foods</td>\n",
       "    </tr>\n",
       "    <tr>\n",
       "      <th>LOTB.BR</th>\n",
       "      <td>Lotus Bakeries NV</td>\n",
       "      <td>Consumer Defensive</td>\n",
       "      <td>Packaged Foods</td>\n",
       "    </tr>\n",
       "    <tr>\n",
       "      <th>BOLS.AS</th>\n",
       "      <td>Lucas Bols N.V.</td>\n",
       "      <td>Consumer Defensive</td>\n",
       "      <td>Beverages—Wineries &amp; Distilleries</td>\n",
       "    </tr>\n",
       "    <tr>\n",
       "      <th>MALT.PA</th>\n",
       "      <td>Malteries Franco-Belges Société Anonyme</td>\n",
       "      <td>Consumer Defensive</td>\n",
       "      <td>Beverages—Brewers</td>\n",
       "    </tr>\n",
       "    <tr>\n",
       "      <th>MBWS.PA</th>\n",
       "      <td>Marie Brizard Wine &amp; Spirits SA</td>\n",
       "      <td>Consumer Defensive</td>\n",
       "      <td>Beverages—Wineries &amp; Distilleries</td>\n",
       "    </tr>\n",
       "    <tr>\n",
       "      <th>MIKO.BR</th>\n",
       "      <td>Miko NV</td>\n",
       "      <td>Consumer Defensive</td>\n",
       "      <td>Food Distribution</td>\n",
       "    </tr>\n",
       "    <tr>\n",
       "      <th>SBT.PA</th>\n",
       "      <td>Oeneo SA</td>\n",
       "      <td>Consumer Defensive</td>\n",
       "      <td>Beverages—Wineries &amp; Distilleries</td>\n",
       "    </tr>\n",
       "    <tr>\n",
       "      <th>ONTEX.BR</th>\n",
       "      <td>Ontex Group NV</td>\n",
       "      <td>Consumer Defensive</td>\n",
       "      <td>Household &amp; Personal Products</td>\n",
       "    </tr>\n",
       "    <tr>\n",
       "      <th>RI.PA</th>\n",
       "      <td>Pernod Ricard SA</td>\n",
       "      <td>Consumer Defensive</td>\n",
       "      <td>Beverages—Wineries &amp; Distilleries</td>\n",
       "    </tr>\n",
       "    <tr>\n",
       "      <th>PORF.AS</th>\n",
       "      <td>B.V. Delftsch Aardewerkfabriek \"De Porceleyne ...</td>\n",
       "      <td>Consumer Defensive</td>\n",
       "      <td>Household &amp; Personal Products</td>\n",
       "    </tr>\n",
       "    <tr>\n",
       "      <th>RAL.PA</th>\n",
       "      <td>Rallye SA</td>\n",
       "      <td>Consumer Defensive</td>\n",
       "      <td>Grocery Stores</td>\n",
       "    </tr>\n",
       "    <tr>\n",
       "      <th>RCO.PA</th>\n",
       "      <td>Rémy Cointreau SA</td>\n",
       "      <td>Consumer Defensive</td>\n",
       "      <td>Beverages—Wineries &amp; Distilleries</td>\n",
       "    </tr>\n",
       "    <tr>\n",
       "      <th>SABE.PA</th>\n",
       "      <td>Saint Jean Groupe Société anonyme</td>\n",
       "      <td>Consumer Defensive</td>\n",
       "      <td>Packaged Foods</td>\n",
       "    </tr>\n",
       "    <tr>\n",
       "      <th>SAVE.PA</th>\n",
       "      <td>Savencia SA</td>\n",
       "      <td>Consumer Defensive</td>\n",
       "      <td>Packaged Foods</td>\n",
       "    </tr>\n",
       "    <tr>\n",
       "      <th>SIP.BR</th>\n",
       "      <td>Sipef NV</td>\n",
       "      <td>Consumer Defensive</td>\n",
       "      <td>Farm Products</td>\n",
       "    </tr>\n",
       "    <tr>\n",
       "      <th>SLIGR.AS</th>\n",
       "      <td>Sligro Food Group N.V.</td>\n",
       "      <td>Consumer Defensive</td>\n",
       "      <td>Grocery Stores</td>\n",
       "    </tr>\n",
       "    <tr>\n",
       "      <th>SPA.BR</th>\n",
       "      <td>Société de Services, de Participations, de Dir...</td>\n",
       "      <td>Consumer Defensive</td>\n",
       "      <td>Beverages—Non-Alcoholic</td>\n",
       "    </tr>\n",
       "    <tr>\n",
       "      <th>TERB.BR</th>\n",
       "      <td>Ter Beke NV</td>\n",
       "      <td>Consumer Defensive</td>\n",
       "      <td>Packaged Foods</td>\n",
       "    </tr>\n",
       "    <tr>\n",
       "      <th>TIPI.PA</th>\n",
       "      <td>Tipiak Société Anonyme</td>\n",
       "      <td>Consumer Defensive</td>\n",
       "      <td>Packaged Foods</td>\n",
       "    </tr>\n",
       "    <tr>\n",
       "      <th>UNBL.PA</th>\n",
       "      <td>Unibel S.A.</td>\n",
       "      <td>Consumer Defensive</td>\n",
       "      <td>Packaged Foods</td>\n",
       "    </tr>\n",
       "    <tr>\n",
       "      <th>UNA.AS</th>\n",
       "      <td>Unilever PLC</td>\n",
       "      <td>Consumer Defensive</td>\n",
       "      <td>Household &amp; Personal Products</td>\n",
       "    </tr>\n",
       "    <tr>\n",
       "      <th>RIN.PA</th>\n",
       "      <td>Vilmorin &amp; Cie SA</td>\n",
       "      <td>Consumer Defensive</td>\n",
       "      <td>Farm Products</td>\n",
       "    </tr>\n",
       "    <tr>\n",
       "      <th>VRAP.PA</th>\n",
       "      <td>Vranken-Pommery Monopole Société Anonyme</td>\n",
       "      <td>Consumer Defensive</td>\n",
       "      <td>Beverages—Wineries &amp; Distilleries</td>\n",
       "    </tr>\n",
       "  </tbody>\n",
       "</table>\n",
       "</div>"
      ],
      "text/plain": [
       "                                                       Name  \\\n",
       "Ticker                                                        \n",
       "ABI.BR                           Anheuser-Busch InBev SA/NV   \n",
       "ADVI.PA                                         AdVini S.A.   \n",
       "AD.AS                       Koninklijke Ahold Delhaize N.V.   \n",
       "ACOMO.AS                         Amsterdam Commodities N.V.   \n",
       "BSGR.AS                                      B&S Group S.A.   \n",
       "FBEL.PA                                 Bel Société anonyme   \n",
       "BB.PA                                        Société BIC SA   \n",
       "BON.PA                                        Bonduelle SCA   \n",
       "CA.PA                                          Carrefour SA   \n",
       "CO.PA            Casino, Guichard-Perrachon Société Anonyme   \n",
       "CCEP.AS                     Coca-Cola European Partners plc   \n",
       "COLR.BR                                 Etn. Fr. Colruyt NV   \n",
       "CLEX.BR                                        Cumulex N.V.   \n",
       "BN.PA                                           Danone S.A.   \n",
       "DGE.PA                                           Diageo plc   \n",
       "FAYE.PA   Fayenceries de Sarreguemines, Digoin & Vitry-l...   \n",
       "FNTS.PA                             Finatis Société Anonyme   \n",
       "FFARM.AS                                    ForFarmers N.V.   \n",
       "FOU.BR                                        Fountain S.A.   \n",
       "GREEN.BR                                       Greenyard NV   \n",
       "HEIA.AS                                       Heineken N.V.   \n",
       "HEIO.AS                               Heineken Holding N.V.   \n",
       "ITP.PA                                      Interparfums SA   \n",
       "JBOG.PA                                 Jacques Bogart S.A.   \n",
       "JDEP.AS                                     JDE Peet's N.V.   \n",
       "OR.PA                                          L'Oréal S.A.   \n",
       "LPE.PA                                 Laurent-Perrier S.A.   \n",
       "LOUP.PA                                         L.D.C. S.A.   \n",
       "LOTB.BR                                   Lotus Bakeries NV   \n",
       "BOLS.AS                                     Lucas Bols N.V.   \n",
       "MALT.PA             Malteries Franco-Belges Société Anonyme   \n",
       "MBWS.PA                     Marie Brizard Wine & Spirits SA   \n",
       "MIKO.BR                                             Miko NV   \n",
       "SBT.PA                                             Oeneo SA   \n",
       "ONTEX.BR                                     Ontex Group NV   \n",
       "RI.PA                                      Pernod Ricard SA   \n",
       "PORF.AS   B.V. Delftsch Aardewerkfabriek \"De Porceleyne ...   \n",
       "RAL.PA                                            Rallye SA   \n",
       "RCO.PA                                    Rémy Cointreau SA   \n",
       "SABE.PA                   Saint Jean Groupe Société anonyme   \n",
       "SAVE.PA                                         Savencia SA   \n",
       "SIP.BR                                             Sipef NV   \n",
       "SLIGR.AS                             Sligro Food Group N.V.   \n",
       "SPA.BR    Société de Services, de Participations, de Dir...   \n",
       "TERB.BR                                         Ter Beke NV   \n",
       "TIPI.PA                              Tipiak Société Anonyme   \n",
       "UNBL.PA                                         Unibel S.A.   \n",
       "UNA.AS                                         Unilever PLC   \n",
       "RIN.PA                                    Vilmorin & Cie SA   \n",
       "VRAP.PA            Vranken-Pommery Monopole Société Anonyme   \n",
       "\n",
       "                      Sector                           Industry  \n",
       "Ticker                                                           \n",
       "ABI.BR    Consumer Defensive                  Beverages—Brewers  \n",
       "ADVI.PA   Consumer Defensive  Beverages—Wineries & Distilleries  \n",
       "AD.AS     Consumer Defensive                     Grocery Stores  \n",
       "ACOMO.AS  Consumer Defensive                  Food Distribution  \n",
       "BSGR.AS   Consumer Defensive                  Food Distribution  \n",
       "FBEL.PA   Consumer Defensive                     Packaged Foods  \n",
       "BB.PA     Consumer Defensive      Household & Personal Products  \n",
       "BON.PA    Consumer Defensive                     Packaged Foods  \n",
       "CA.PA     Consumer Defensive                     Grocery Stores  \n",
       "CO.PA     Consumer Defensive                     Grocery Stores  \n",
       "CCEP.AS   Consumer Defensive            Beverages—Non-Alcoholic  \n",
       "COLR.BR   Consumer Defensive                     Grocery Stores  \n",
       "CLEX.BR   Consumer Defensive                      Confectioners  \n",
       "BN.PA     Consumer Defensive                     Packaged Foods  \n",
       "DGE.PA    Consumer Defensive  Beverages—Wineries & Distilleries  \n",
       "FAYE.PA   Consumer Defensive      Household & Personal Products  \n",
       "FNTS.PA   Consumer Defensive                  Food Distribution  \n",
       "FFARM.AS  Consumer Defensive                      Farm Products  \n",
       "FOU.BR    Consumer Defensive                  Food Distribution  \n",
       "GREEN.BR  Consumer Defensive                     Packaged Foods  \n",
       "HEIA.AS   Consumer Defensive                  Beverages—Brewers  \n",
       "HEIO.AS   Consumer Defensive                  Beverages—Brewers  \n",
       "ITP.PA    Consumer Defensive      Household & Personal Products  \n",
       "JBOG.PA   Consumer Defensive      Household & Personal Products  \n",
       "JDEP.AS   Consumer Defensive                     Packaged Foods  \n",
       "OR.PA     Consumer Defensive      Household & Personal Products  \n",
       "LPE.PA    Consumer Defensive  Beverages—Wineries & Distilleries  \n",
       "LOUP.PA   Consumer Defensive                     Packaged Foods  \n",
       "LOTB.BR   Consumer Defensive                     Packaged Foods  \n",
       "BOLS.AS   Consumer Defensive  Beverages—Wineries & Distilleries  \n",
       "MALT.PA   Consumer Defensive                  Beverages—Brewers  \n",
       "MBWS.PA   Consumer Defensive  Beverages—Wineries & Distilleries  \n",
       "MIKO.BR   Consumer Defensive                  Food Distribution  \n",
       "SBT.PA    Consumer Defensive  Beverages—Wineries & Distilleries  \n",
       "ONTEX.BR  Consumer Defensive      Household & Personal Products  \n",
       "RI.PA     Consumer Defensive  Beverages—Wineries & Distilleries  \n",
       "PORF.AS   Consumer Defensive      Household & Personal Products  \n",
       "RAL.PA    Consumer Defensive                     Grocery Stores  \n",
       "RCO.PA    Consumer Defensive  Beverages—Wineries & Distilleries  \n",
       "SABE.PA   Consumer Defensive                     Packaged Foods  \n",
       "SAVE.PA   Consumer Defensive                     Packaged Foods  \n",
       "SIP.BR    Consumer Defensive                      Farm Products  \n",
       "SLIGR.AS  Consumer Defensive                     Grocery Stores  \n",
       "SPA.BR    Consumer Defensive            Beverages—Non-Alcoholic  \n",
       "TERB.BR   Consumer Defensive                     Packaged Foods  \n",
       "TIPI.PA   Consumer Defensive                     Packaged Foods  \n",
       "UNBL.PA   Consumer Defensive                     Packaged Foods  \n",
       "UNA.AS    Consumer Defensive      Household & Personal Products  \n",
       "RIN.PA    Consumer Defensive                      Farm Products  \n",
       "VRAP.PA   Consumer Defensive  Beverages—Wineries & Distilleries  "
      ]
     },
     "execution_count": 14,
     "metadata": {},
     "output_type": "execute_result"
    }
   ],
   "source": [
    "df_ticker_info.loc[df_ticker_info[\"Sector\"]==\"Consumer Defensive\"]"
   ]
  },
  {
   "cell_type": "code",
   "execution_count": 15,
   "id": "c3ad2163",
   "metadata": {
    "ExecuteTime": {
     "end_time": "2021-06-01T08:45:30.791048Z",
     "start_time": "2021-06-01T08:45:30.780822Z"
    },
    "scrolled": true
   },
   "outputs": [
    {
     "data": {
      "text/html": [
       "<div>\n",
       "<style scoped>\n",
       "    .dataframe tbody tr th:only-of-type {\n",
       "        vertical-align: middle;\n",
       "    }\n",
       "\n",
       "    .dataframe tbody tr th {\n",
       "        vertical-align: top;\n",
       "    }\n",
       "\n",
       "    .dataframe thead th {\n",
       "        text-align: right;\n",
       "    }\n",
       "</style>\n",
       "<table border=\"1\" class=\"dataframe\">\n",
       "  <thead>\n",
       "    <tr style=\"text-align: right;\">\n",
       "      <th></th>\n",
       "      <th>Name</th>\n",
       "      <th>Sector</th>\n",
       "      <th>Industry</th>\n",
       "    </tr>\n",
       "    <tr>\n",
       "      <th>Ticker</th>\n",
       "      <th></th>\n",
       "      <th></th>\n",
       "      <th></th>\n",
       "    </tr>\n",
       "  </thead>\n",
       "  <tbody>\n",
       "    <tr>\n",
       "      <th>MRK.PA</th>\n",
       "      <td>Merck &amp; Co., Inc.</td>\n",
       "      <td>Healthcare</td>\n",
       "      <td>Drug Manufacturers—General</td>\n",
       "    </tr>\n",
       "    <tr>\n",
       "      <th>SAN.PA</th>\n",
       "      <td>Sanofi</td>\n",
       "      <td>Healthcare</td>\n",
       "      <td>Drug Manufacturers—General</td>\n",
       "    </tr>\n",
       "    <tr>\n",
       "      <th>VIRP.PA</th>\n",
       "      <td>Virbac SA</td>\n",
       "      <td>Healthcare</td>\n",
       "      <td>Drug Manufacturers—General</td>\n",
       "    </tr>\n",
       "  </tbody>\n",
       "</table>\n",
       "</div>"
      ],
      "text/plain": [
       "                      Name      Sector                    Industry\n",
       "Ticker                                                            \n",
       "MRK.PA   Merck & Co., Inc.  Healthcare  Drug Manufacturers—General\n",
       "SAN.PA              Sanofi  Healthcare  Drug Manufacturers—General\n",
       "VIRP.PA          Virbac SA  Healthcare  Drug Manufacturers—General"
      ]
     },
     "execution_count": 15,
     "metadata": {},
     "output_type": "execute_result"
    }
   ],
   "source": [
    "df_ticker_info.loc[df_ticker_info[\"Industry\"]==\"Drug Manufacturers—General\"]"
   ]
  },
  {
   "cell_type": "markdown",
   "id": "2530bb03",
   "metadata": {},
   "source": [
    "### Retrieve all prices and volumes from s3"
   ]
  },
  {
   "cell_type": "code",
   "execution_count": 16,
   "id": "ba22e920",
   "metadata": {
    "ExecuteTime": {
     "end_time": "2021-06-01T08:45:34.250289Z",
     "start_time": "2021-06-01T08:45:30.793334Z"
    },
    "code_folding": []
   },
   "outputs": [],
   "source": [
    "# Read data from s3\n",
    "role = get_execution_role()\n",
    "bucket=\"euronext-stocks\"\n",
    "data_key = \"data.csv\"\n",
    "data_location = 's3://{}/{}'.format(bucket, data_key)\n",
    "df_data = pd.read_csv(data_location, header=[0, 1],)\n",
    "df_data.set_index(df_data[\"Unnamed: 0_level_0\"][\"Unnamed: 0_level_1\"], drop=True, inplace=True)\n",
    "df_data.index.name = \"Date\"\n",
    "df_data.drop(\"Unnamed: 0_level_0\", axis=1, inplace=True)\n",
    "df_data.drop(df_data.index[0], inplace=True)\n",
    "df_data.index = pd.to_datetime(df_data.index)\n",
    "df_data.interpolate(method='linear', inplace=True) # use linear interpolation for missing values"
   ]
  },
  {
   "cell_type": "code",
   "execution_count": 17,
   "id": "7a37ee13",
   "metadata": {
    "ExecuteTime": {
     "end_time": "2021-06-01T08:45:34.285633Z",
     "start_time": "2021-06-01T08:45:34.253427Z"
    }
   },
   "outputs": [
    {
     "data": {
      "text/html": [
       "<div>\n",
       "<style scoped>\n",
       "    .dataframe tbody tr th:only-of-type {\n",
       "        vertical-align: middle;\n",
       "    }\n",
       "\n",
       "    .dataframe tbody tr th {\n",
       "        vertical-align: top;\n",
       "    }\n",
       "\n",
       "    .dataframe thead tr th {\n",
       "        text-align: left;\n",
       "    }\n",
       "\n",
       "    .dataframe thead tr:last-of-type th {\n",
       "        text-align: right;\n",
       "    }\n",
       "</style>\n",
       "<table border=\"1\" class=\"dataframe\">\n",
       "  <thead>\n",
       "    <tr>\n",
       "      <th></th>\n",
       "      <th colspan=\"10\" halign=\"left\">Adj Close</th>\n",
       "      <th>...</th>\n",
       "      <th colspan=\"10\" halign=\"left\">Volume</th>\n",
       "    </tr>\n",
       "    <tr>\n",
       "      <th></th>\n",
       "      <th>2CRSI.PA</th>\n",
       "      <th>2MX.PA</th>\n",
       "      <th>AAA.PA</th>\n",
       "      <th>AALB.AS</th>\n",
       "      <th>AB.PA</th>\n",
       "      <th>ABCA.PA</th>\n",
       "      <th>ABEO.PA</th>\n",
       "      <th>ABI.BR</th>\n",
       "      <th>ABIO.PA</th>\n",
       "      <th>ABN.AS</th>\n",
       "      <th>...</th>\n",
       "      <th>WKL.AS</th>\n",
       "      <th>WLN.PA</th>\n",
       "      <th>XFAB.PA</th>\n",
       "      <th>XIL.PA</th>\n",
       "      <th>XIOR.BR</th>\n",
       "      <th>XPO.PA</th>\n",
       "      <th>YATRA.AS</th>\n",
       "      <th>ZENT.BR</th>\n",
       "      <th>^FCHI</th>\n",
       "      <th>^N100</th>\n",
       "    </tr>\n",
       "    <tr>\n",
       "      <th>Date</th>\n",
       "      <th></th>\n",
       "      <th></th>\n",
       "      <th></th>\n",
       "      <th></th>\n",
       "      <th></th>\n",
       "      <th></th>\n",
       "      <th></th>\n",
       "      <th></th>\n",
       "      <th></th>\n",
       "      <th></th>\n",
       "      <th></th>\n",
       "      <th></th>\n",
       "      <th></th>\n",
       "      <th></th>\n",
       "      <th></th>\n",
       "      <th></th>\n",
       "      <th></th>\n",
       "      <th></th>\n",
       "      <th></th>\n",
       "      <th></th>\n",
       "      <th></th>\n",
       "    </tr>\n",
       "  </thead>\n",
       "  <tbody>\n",
       "    <tr>\n",
       "      <th>2019-05-23</th>\n",
       "      <td>9.04</td>\n",
       "      <td>NaN</td>\n",
       "      <td>1.315385</td>\n",
       "      <td>28.260750</td>\n",
       "      <td>4.335</td>\n",
       "      <td>5.543856</td>\n",
       "      <td>28.962732</td>\n",
       "      <td>67.888748</td>\n",
       "      <td>18.910824</td>\n",
       "      <td>16.294355</td>\n",
       "      <td>...</td>\n",
       "      <td>461242.0</td>\n",
       "      <td>466657.0</td>\n",
       "      <td>60305.0</td>\n",
       "      <td>3949.0</td>\n",
       "      <td>9754.0</td>\n",
       "      <td>15.0</td>\n",
       "      <td>394.0</td>\n",
       "      <td>353.0</td>\n",
       "      <td>95282100.0</td>\n",
       "      <td>201625700.0</td>\n",
       "    </tr>\n",
       "    <tr>\n",
       "      <th>2019-05-24</th>\n",
       "      <td>9.02</td>\n",
       "      <td>NaN</td>\n",
       "      <td>1.315385</td>\n",
       "      <td>28.326471</td>\n",
       "      <td>4.220</td>\n",
       "      <td>5.570255</td>\n",
       "      <td>28.468489</td>\n",
       "      <td>67.732155</td>\n",
       "      <td>19.072538</td>\n",
       "      <td>16.497494</td>\n",
       "      <td>...</td>\n",
       "      <td>741610.0</td>\n",
       "      <td>560089.0</td>\n",
       "      <td>46565.0</td>\n",
       "      <td>3554.0</td>\n",
       "      <td>7733.0</td>\n",
       "      <td>4.0</td>\n",
       "      <td>0.0</td>\n",
       "      <td>25.0</td>\n",
       "      <td>86386600.0</td>\n",
       "      <td>180723800.0</td>\n",
       "    </tr>\n",
       "    <tr>\n",
       "      <th>2019-05-27</th>\n",
       "      <td>9.10</td>\n",
       "      <td>NaN</td>\n",
       "      <td>1.315385</td>\n",
       "      <td>28.495472</td>\n",
       "      <td>4.200</td>\n",
       "      <td>5.631852</td>\n",
       "      <td>27.974243</td>\n",
       "      <td>68.432228</td>\n",
       "      <td>19.453037</td>\n",
       "      <td>16.648767</td>\n",
       "      <td>...</td>\n",
       "      <td>275934.0</td>\n",
       "      <td>173283.0</td>\n",
       "      <td>31771.0</td>\n",
       "      <td>3630.0</td>\n",
       "      <td>6335.0</td>\n",
       "      <td>294.0</td>\n",
       "      <td>0.0</td>\n",
       "      <td>1809.0</td>\n",
       "      <td>55120600.0</td>\n",
       "      <td>94981800.0</td>\n",
       "    </tr>\n",
       "  </tbody>\n",
       "</table>\n",
       "<p>3 rows × 4236 columns</p>\n",
       "</div>"
      ],
      "text/plain": [
       "           Adj Close                                                          \\\n",
       "            2CRSI.PA 2MX.PA    AAA.PA    AALB.AS  AB.PA   ABCA.PA    ABEO.PA   \n",
       "Date                                                                           \n",
       "2019-05-23      9.04    NaN  1.315385  28.260750  4.335  5.543856  28.962732   \n",
       "2019-05-24      9.02    NaN  1.315385  28.326471  4.220  5.570255  28.468489   \n",
       "2019-05-27      9.10    NaN  1.315385  28.495472  4.200  5.631852  27.974243   \n",
       "\n",
       "                                             ...    Volume                     \\\n",
       "               ABI.BR    ABIO.PA     ABN.AS  ...    WKL.AS    WLN.PA  XFAB.PA   \n",
       "Date                                         ...                                \n",
       "2019-05-23  67.888748  18.910824  16.294355  ...  461242.0  466657.0  60305.0   \n",
       "2019-05-24  67.732155  19.072538  16.497494  ...  741610.0  560089.0  46565.0   \n",
       "2019-05-27  68.432228  19.453037  16.648767  ...  275934.0  173283.0  31771.0   \n",
       "\n",
       "                                                                             \n",
       "            XIL.PA XIOR.BR XPO.PA YATRA.AS ZENT.BR       ^FCHI        ^N100  \n",
       "Date                                                                         \n",
       "2019-05-23  3949.0  9754.0   15.0    394.0   353.0  95282100.0  201625700.0  \n",
       "2019-05-24  3554.0  7733.0    4.0      0.0    25.0  86386600.0  180723800.0  \n",
       "2019-05-27  3630.0  6335.0  294.0      0.0  1809.0  55120600.0   94981800.0  \n",
       "\n",
       "[3 rows x 4236 columns]"
      ]
     },
     "execution_count": 17,
     "metadata": {},
     "output_type": "execute_result"
    }
   ],
   "source": [
    "df_data.head(3)"
   ]
  },
  {
   "cell_type": "code",
   "execution_count": 18,
   "id": "5e98f756",
   "metadata": {
    "ExecuteTime": {
     "end_time": "2021-06-01T08:45:34.393820Z",
     "start_time": "2021-06-01T08:45:34.287444Z"
    },
    "code_folding": [
     0
    ]
   },
   "outputs": [],
   "source": [
    "# Create various dataframes for different use cases\n",
    "df_raw_prices = df_data[\"Adj Close\"]\n",
    "df_daily_returns = df_raw_prices.pct_change()"
   ]
  },
  {
   "cell_type": "code",
   "execution_count": 19,
   "id": "9106e70e",
   "metadata": {
    "ExecuteTime": {
     "end_time": "2021-06-01T08:45:34.420262Z",
     "start_time": "2021-06-01T08:45:34.395539Z"
    }
   },
   "outputs": [
    {
     "data": {
      "text/html": [
       "<div>\n",
       "<style scoped>\n",
       "    .dataframe tbody tr th:only-of-type {\n",
       "        vertical-align: middle;\n",
       "    }\n",
       "\n",
       "    .dataframe tbody tr th {\n",
       "        vertical-align: top;\n",
       "    }\n",
       "\n",
       "    .dataframe thead th {\n",
       "        text-align: right;\n",
       "    }\n",
       "</style>\n",
       "<table border=\"1\" class=\"dataframe\">\n",
       "  <thead>\n",
       "    <tr style=\"text-align: right;\">\n",
       "      <th></th>\n",
       "      <th>2CRSI.PA</th>\n",
       "      <th>2MX.PA</th>\n",
       "      <th>AAA.PA</th>\n",
       "      <th>AALB.AS</th>\n",
       "      <th>AB.PA</th>\n",
       "      <th>ABCA.PA</th>\n",
       "      <th>ABEO.PA</th>\n",
       "      <th>ABI.BR</th>\n",
       "      <th>ABIO.PA</th>\n",
       "      <th>ABN.AS</th>\n",
       "      <th>...</th>\n",
       "      <th>WKL.AS</th>\n",
       "      <th>WLN.PA</th>\n",
       "      <th>XFAB.PA</th>\n",
       "      <th>XIL.PA</th>\n",
       "      <th>XIOR.BR</th>\n",
       "      <th>XPO.PA</th>\n",
       "      <th>YATRA.AS</th>\n",
       "      <th>ZENT.BR</th>\n",
       "      <th>^FCHI</th>\n",
       "      <th>^N100</th>\n",
       "    </tr>\n",
       "    <tr>\n",
       "      <th>Date</th>\n",
       "      <th></th>\n",
       "      <th></th>\n",
       "      <th></th>\n",
       "      <th></th>\n",
       "      <th></th>\n",
       "      <th></th>\n",
       "      <th></th>\n",
       "      <th></th>\n",
       "      <th></th>\n",
       "      <th></th>\n",
       "      <th></th>\n",
       "      <th></th>\n",
       "      <th></th>\n",
       "      <th></th>\n",
       "      <th></th>\n",
       "      <th></th>\n",
       "      <th></th>\n",
       "      <th></th>\n",
       "      <th></th>\n",
       "      <th></th>\n",
       "      <th></th>\n",
       "    </tr>\n",
       "  </thead>\n",
       "  <tbody>\n",
       "    <tr>\n",
       "      <th>2019-05-23</th>\n",
       "      <td>9.04</td>\n",
       "      <td>NaN</td>\n",
       "      <td>1.315385</td>\n",
       "      <td>28.260750</td>\n",
       "      <td>4.335</td>\n",
       "      <td>5.543856</td>\n",
       "      <td>28.962732</td>\n",
       "      <td>67.888748</td>\n",
       "      <td>18.910824</td>\n",
       "      <td>16.294355</td>\n",
       "      <td>...</td>\n",
       "      <td>59.963905</td>\n",
       "      <td>50.099998</td>\n",
       "      <td>4.750</td>\n",
       "      <td>35.700001</td>\n",
       "      <td>40.271324</td>\n",
       "      <td>273.466217</td>\n",
       "      <td>3.36</td>\n",
       "      <td>16.299999</td>\n",
       "      <td>5281.370117</td>\n",
       "      <td>1031.750000</td>\n",
       "    </tr>\n",
       "    <tr>\n",
       "      <th>2019-05-24</th>\n",
       "      <td>9.02</td>\n",
       "      <td>NaN</td>\n",
       "      <td>1.315385</td>\n",
       "      <td>28.326471</td>\n",
       "      <td>4.220</td>\n",
       "      <td>5.570255</td>\n",
       "      <td>28.468489</td>\n",
       "      <td>67.732155</td>\n",
       "      <td>19.072538</td>\n",
       "      <td>16.497494</td>\n",
       "      <td>...</td>\n",
       "      <td>60.311073</td>\n",
       "      <td>51.500000</td>\n",
       "      <td>4.895</td>\n",
       "      <td>36.250000</td>\n",
       "      <td>40.544350</td>\n",
       "      <td>273.466217</td>\n",
       "      <td>3.36</td>\n",
       "      <td>16.400000</td>\n",
       "      <td>5316.509766</td>\n",
       "      <td>1037.339966</td>\n",
       "    </tr>\n",
       "    <tr>\n",
       "      <th>2019-05-27</th>\n",
       "      <td>9.10</td>\n",
       "      <td>NaN</td>\n",
       "      <td>1.315385</td>\n",
       "      <td>28.495472</td>\n",
       "      <td>4.200</td>\n",
       "      <td>5.631852</td>\n",
       "      <td>27.974243</td>\n",
       "      <td>68.432228</td>\n",
       "      <td>19.453037</td>\n",
       "      <td>16.648767</td>\n",
       "      <td>...</td>\n",
       "      <td>60.330360</td>\n",
       "      <td>51.500000</td>\n",
       "      <td>4.810</td>\n",
       "      <td>35.650002</td>\n",
       "      <td>40.726368</td>\n",
       "      <td>273.466217</td>\n",
       "      <td>3.36</td>\n",
       "      <td>16.500000</td>\n",
       "      <td>5336.189941</td>\n",
       "      <td>1041.579956</td>\n",
       "    </tr>\n",
       "  </tbody>\n",
       "</table>\n",
       "<p>3 rows × 706 columns</p>\n",
       "</div>"
      ],
      "text/plain": [
       "            2CRSI.PA  2MX.PA    AAA.PA    AALB.AS  AB.PA   ABCA.PA    ABEO.PA  \\\n",
       "Date                                                                            \n",
       "2019-05-23      9.04     NaN  1.315385  28.260750  4.335  5.543856  28.962732   \n",
       "2019-05-24      9.02     NaN  1.315385  28.326471  4.220  5.570255  28.468489   \n",
       "2019-05-27      9.10     NaN  1.315385  28.495472  4.200  5.631852  27.974243   \n",
       "\n",
       "               ABI.BR    ABIO.PA     ABN.AS  ...     WKL.AS     WLN.PA  \\\n",
       "Date                                         ...                         \n",
       "2019-05-23  67.888748  18.910824  16.294355  ...  59.963905  50.099998   \n",
       "2019-05-24  67.732155  19.072538  16.497494  ...  60.311073  51.500000   \n",
       "2019-05-27  68.432228  19.453037  16.648767  ...  60.330360  51.500000   \n",
       "\n",
       "            XFAB.PA     XIL.PA    XIOR.BR      XPO.PA  YATRA.AS    ZENT.BR  \\\n",
       "Date                                                                         \n",
       "2019-05-23    4.750  35.700001  40.271324  273.466217      3.36  16.299999   \n",
       "2019-05-24    4.895  36.250000  40.544350  273.466217      3.36  16.400000   \n",
       "2019-05-27    4.810  35.650002  40.726368  273.466217      3.36  16.500000   \n",
       "\n",
       "                  ^FCHI        ^N100  \n",
       "Date                                  \n",
       "2019-05-23  5281.370117  1031.750000  \n",
       "2019-05-24  5316.509766  1037.339966  \n",
       "2019-05-27  5336.189941  1041.579956  \n",
       "\n",
       "[3 rows x 706 columns]"
      ]
     },
     "execution_count": 19,
     "metadata": {},
     "output_type": "execute_result"
    }
   ],
   "source": [
    "df_raw_prices.head(3)"
   ]
  },
  {
   "cell_type": "code",
   "execution_count": 20,
   "id": "c26261ba",
   "metadata": {
    "ExecuteTime": {
     "end_time": "2021-06-01T08:45:34.444541Z",
     "start_time": "2021-06-01T08:45:34.421934Z"
    }
   },
   "outputs": [
    {
     "data": {
      "text/html": [
       "<div>\n",
       "<style scoped>\n",
       "    .dataframe tbody tr th:only-of-type {\n",
       "        vertical-align: middle;\n",
       "    }\n",
       "\n",
       "    .dataframe tbody tr th {\n",
       "        vertical-align: top;\n",
       "    }\n",
       "\n",
       "    .dataframe thead th {\n",
       "        text-align: right;\n",
       "    }\n",
       "</style>\n",
       "<table border=\"1\" class=\"dataframe\">\n",
       "  <thead>\n",
       "    <tr style=\"text-align: right;\">\n",
       "      <th></th>\n",
       "      <th>2CRSI.PA</th>\n",
       "      <th>2MX.PA</th>\n",
       "      <th>AAA.PA</th>\n",
       "      <th>AALB.AS</th>\n",
       "      <th>AB.PA</th>\n",
       "      <th>ABCA.PA</th>\n",
       "      <th>ABEO.PA</th>\n",
       "      <th>ABI.BR</th>\n",
       "      <th>ABIO.PA</th>\n",
       "      <th>ABN.AS</th>\n",
       "      <th>...</th>\n",
       "      <th>WKL.AS</th>\n",
       "      <th>WLN.PA</th>\n",
       "      <th>XFAB.PA</th>\n",
       "      <th>XIL.PA</th>\n",
       "      <th>XIOR.BR</th>\n",
       "      <th>XPO.PA</th>\n",
       "      <th>YATRA.AS</th>\n",
       "      <th>ZENT.BR</th>\n",
       "      <th>^FCHI</th>\n",
       "      <th>^N100</th>\n",
       "    </tr>\n",
       "    <tr>\n",
       "      <th>Date</th>\n",
       "      <th></th>\n",
       "      <th></th>\n",
       "      <th></th>\n",
       "      <th></th>\n",
       "      <th></th>\n",
       "      <th></th>\n",
       "      <th></th>\n",
       "      <th></th>\n",
       "      <th></th>\n",
       "      <th></th>\n",
       "      <th></th>\n",
       "      <th></th>\n",
       "      <th></th>\n",
       "      <th></th>\n",
       "      <th></th>\n",
       "      <th></th>\n",
       "      <th></th>\n",
       "      <th></th>\n",
       "      <th></th>\n",
       "      <th></th>\n",
       "      <th></th>\n",
       "    </tr>\n",
       "  </thead>\n",
       "  <tbody>\n",
       "    <tr>\n",
       "      <th>2019-05-23</th>\n",
       "      <td>NaN</td>\n",
       "      <td>NaN</td>\n",
       "      <td>NaN</td>\n",
       "      <td>NaN</td>\n",
       "      <td>NaN</td>\n",
       "      <td>NaN</td>\n",
       "      <td>NaN</td>\n",
       "      <td>NaN</td>\n",
       "      <td>NaN</td>\n",
       "      <td>NaN</td>\n",
       "      <td>...</td>\n",
       "      <td>NaN</td>\n",
       "      <td>NaN</td>\n",
       "      <td>NaN</td>\n",
       "      <td>NaN</td>\n",
       "      <td>NaN</td>\n",
       "      <td>NaN</td>\n",
       "      <td>NaN</td>\n",
       "      <td>NaN</td>\n",
       "      <td>NaN</td>\n",
       "      <td>NaN</td>\n",
       "    </tr>\n",
       "    <tr>\n",
       "      <th>2019-05-24</th>\n",
       "      <td>-0.002212</td>\n",
       "      <td>NaN</td>\n",
       "      <td>0.0</td>\n",
       "      <td>0.002326</td>\n",
       "      <td>-0.026528</td>\n",
       "      <td>0.004762</td>\n",
       "      <td>-0.017065</td>\n",
       "      <td>-0.002307</td>\n",
       "      <td>0.008551</td>\n",
       "      <td>0.012467</td>\n",
       "      <td>...</td>\n",
       "      <td>0.00579</td>\n",
       "      <td>0.027944</td>\n",
       "      <td>0.030526</td>\n",
       "      <td>0.015406</td>\n",
       "      <td>0.006780</td>\n",
       "      <td>0.0</td>\n",
       "      <td>0.0</td>\n",
       "      <td>0.006135</td>\n",
       "      <td>0.006654</td>\n",
       "      <td>0.005418</td>\n",
       "    </tr>\n",
       "    <tr>\n",
       "      <th>2019-05-27</th>\n",
       "      <td>0.008869</td>\n",
       "      <td>NaN</td>\n",
       "      <td>0.0</td>\n",
       "      <td>0.005966</td>\n",
       "      <td>-0.004739</td>\n",
       "      <td>0.011058</td>\n",
       "      <td>-0.017361</td>\n",
       "      <td>0.010336</td>\n",
       "      <td>0.019950</td>\n",
       "      <td>0.009169</td>\n",
       "      <td>...</td>\n",
       "      <td>0.00032</td>\n",
       "      <td>0.000000</td>\n",
       "      <td>-0.017365</td>\n",
       "      <td>-0.016552</td>\n",
       "      <td>0.004489</td>\n",
       "      <td>0.0</td>\n",
       "      <td>0.0</td>\n",
       "      <td>0.006098</td>\n",
       "      <td>0.003702</td>\n",
       "      <td>0.004087</td>\n",
       "    </tr>\n",
       "  </tbody>\n",
       "</table>\n",
       "<p>3 rows × 706 columns</p>\n",
       "</div>"
      ],
      "text/plain": [
       "            2CRSI.PA  2MX.PA  AAA.PA   AALB.AS     AB.PA   ABCA.PA   ABEO.PA  \\\n",
       "Date                                                                           \n",
       "2019-05-23       NaN     NaN     NaN       NaN       NaN       NaN       NaN   \n",
       "2019-05-24 -0.002212     NaN     0.0  0.002326 -0.026528  0.004762 -0.017065   \n",
       "2019-05-27  0.008869     NaN     0.0  0.005966 -0.004739  0.011058 -0.017361   \n",
       "\n",
       "              ABI.BR   ABIO.PA    ABN.AS  ...   WKL.AS    WLN.PA   XFAB.PA  \\\n",
       "Date                                      ...                                \n",
       "2019-05-23       NaN       NaN       NaN  ...      NaN       NaN       NaN   \n",
       "2019-05-24 -0.002307  0.008551  0.012467  ...  0.00579  0.027944  0.030526   \n",
       "2019-05-27  0.010336  0.019950  0.009169  ...  0.00032  0.000000 -0.017365   \n",
       "\n",
       "              XIL.PA   XIOR.BR  XPO.PA  YATRA.AS   ZENT.BR     ^FCHI     ^N100  \n",
       "Date                                                                            \n",
       "2019-05-23       NaN       NaN     NaN       NaN       NaN       NaN       NaN  \n",
       "2019-05-24  0.015406  0.006780     0.0       0.0  0.006135  0.006654  0.005418  \n",
       "2019-05-27 -0.016552  0.004489     0.0       0.0  0.006098  0.003702  0.004087  \n",
       "\n",
       "[3 rows x 706 columns]"
      ]
     },
     "execution_count": 20,
     "metadata": {},
     "output_type": "execute_result"
    }
   ],
   "source": [
    "df_daily_returns.head(3)"
   ]
  },
  {
   "cell_type": "code",
   "execution_count": 21,
   "id": "b4047766",
   "metadata": {
    "ExecuteTime": {
     "end_time": "2021-06-01T08:45:34.461375Z",
     "start_time": "2021-06-01T08:45:34.446208Z"
    },
    "code_folding": [
     0
    ]
   },
   "outputs": [],
   "source": [
    "# Create df_prices dataframe with sector and industry columns\n",
    "# Use ticker metadata in column headings of df_prices dataframe\n",
    "df_prices = df_data[\"Adj Close\"]\n",
    "col_tuples = [(ticker_info[ticker][1], ticker_info[ticker][2], ticker) for ticker in ticker_info] # sector and industry\n",
    "df_prices.columns = col_tuples\n",
    "df_prices.columns = pd.MultiIndex.from_tuples(df_prices.columns,)\n",
    "\n",
    "# Tidy up ordering and grouping on column headers\n",
    "new_columns = df_prices.columns.sort_values(ascending=[True, True, True])\n",
    "df_prices = df_prices[new_columns]"
   ]
  },
  {
   "cell_type": "code",
   "execution_count": 22,
   "id": "bf8770ca",
   "metadata": {
    "ExecuteTime": {
     "end_time": "2021-06-01T08:45:34.496956Z",
     "start_time": "2021-06-01T08:45:34.462892Z"
    }
   },
   "outputs": [
    {
     "data": {
      "text/html": [
       "<div>\n",
       "<style scoped>\n",
       "    .dataframe tbody tr th:only-of-type {\n",
       "        vertical-align: middle;\n",
       "    }\n",
       "\n",
       "    .dataframe tbody tr th {\n",
       "        vertical-align: top;\n",
       "    }\n",
       "\n",
       "    .dataframe thead tr th {\n",
       "        text-align: left;\n",
       "    }\n",
       "\n",
       "    .dataframe thead tr:last-of-type th {\n",
       "        text-align: right;\n",
       "    }\n",
       "</style>\n",
       "<table border=\"1\" class=\"dataframe\">\n",
       "  <thead>\n",
       "    <tr>\n",
       "      <th></th>\n",
       "      <th colspan=\"2\" halign=\"left\"></th>\n",
       "      <th colspan=\"8\" halign=\"left\">Basic Materials</th>\n",
       "      <th>...</th>\n",
       "      <th colspan=\"10\" halign=\"left\">Utilities</th>\n",
       "    </tr>\n",
       "    <tr>\n",
       "      <th></th>\n",
       "      <th colspan=\"2\" halign=\"left\"></th>\n",
       "      <th colspan=\"3\" halign=\"left\">Agricultural Inputs</th>\n",
       "      <th>Aluminum</th>\n",
       "      <th colspan=\"4\" halign=\"left\">Building Materials</th>\n",
       "      <th>...</th>\n",
       "      <th>Utilities—Diversified</th>\n",
       "      <th>Utilities—Regulated Electric</th>\n",
       "      <th>Utilities—Regulated Gas</th>\n",
       "      <th colspan=\"2\" halign=\"left\">Utilities—Regulated Water</th>\n",
       "      <th colspan=\"5\" halign=\"left\">Utilities—Renewable</th>\n",
       "    </tr>\n",
       "    <tr>\n",
       "      <th></th>\n",
       "      <th>GBTNV.PA</th>\n",
       "      <th>IPSNV.PA</th>\n",
       "      <th>ENGB.BR</th>\n",
       "      <th>GRVO.PA</th>\n",
       "      <th>TESB.BR</th>\n",
       "      <th>VIO.BR</th>\n",
       "      <th>LHN.PA</th>\n",
       "      <th>NK.PA</th>\n",
       "      <th>SCHD.BR</th>\n",
       "      <th>TITC.BR</th>\n",
       "      <th>...</th>\n",
       "      <th>ENGI.PA</th>\n",
       "      <th>ELI.BR</th>\n",
       "      <th>RUI.PA</th>\n",
       "      <th>EKOP.BR</th>\n",
       "      <th>SEV.PA</th>\n",
       "      <th>ABIO.PA</th>\n",
       "      <th>ELEC.PA</th>\n",
       "      <th>NEOEN.PA</th>\n",
       "      <th>NSE.AS</th>\n",
       "      <th>VLTSA.PA</th>\n",
       "    </tr>\n",
       "    <tr>\n",
       "      <th>Date</th>\n",
       "      <th></th>\n",
       "      <th></th>\n",
       "      <th></th>\n",
       "      <th></th>\n",
       "      <th></th>\n",
       "      <th></th>\n",
       "      <th></th>\n",
       "      <th></th>\n",
       "      <th></th>\n",
       "      <th></th>\n",
       "      <th></th>\n",
       "      <th></th>\n",
       "      <th></th>\n",
       "      <th></th>\n",
       "      <th></th>\n",
       "      <th></th>\n",
       "      <th></th>\n",
       "      <th></th>\n",
       "      <th></th>\n",
       "      <th></th>\n",
       "      <th></th>\n",
       "    </tr>\n",
       "  </thead>\n",
       "  <tbody>\n",
       "    <tr>\n",
       "      <th>2019-05-23</th>\n",
       "      <td>40.101265</td>\n",
       "      <td>5.850</td>\n",
       "      <td>126.229164</td>\n",
       "      <td>0.955</td>\n",
       "      <td>98.975456</td>\n",
       "      <td>22.911007</td>\n",
       "      <td>28.729336</td>\n",
       "      <td>6.35</td>\n",
       "      <td>8.50</td>\n",
       "      <td>7.416811</td>\n",
       "      <td>...</td>\n",
       "      <td>NaN</td>\n",
       "      <td>2.82</td>\n",
       "      <td>69.549339</td>\n",
       "      <td>38.724625</td>\n",
       "      <td>101.722504</td>\n",
       "      <td>10.84</td>\n",
       "      <td>11.070146</td>\n",
       "      <td>1.175</td>\n",
       "      <td>1.375</td>\n",
       "      <td>35.195007</td>\n",
       "    </tr>\n",
       "    <tr>\n",
       "      <th>2019-05-24</th>\n",
       "      <td>40.465824</td>\n",
       "      <td>5.850</td>\n",
       "      <td>126.969521</td>\n",
       "      <td>0.955</td>\n",
       "      <td>98.975456</td>\n",
       "      <td>22.940168</td>\n",
       "      <td>28.030802</td>\n",
       "      <td>6.35</td>\n",
       "      <td>8.83</td>\n",
       "      <td>7.387429</td>\n",
       "      <td>...</td>\n",
       "      <td>NaN</td>\n",
       "      <td>2.82</td>\n",
       "      <td>70.302582</td>\n",
       "      <td>39.014191</td>\n",
       "      <td>100.418373</td>\n",
       "      <td>10.90</td>\n",
       "      <td>11.120798</td>\n",
       "      <td>1.180</td>\n",
       "      <td>1.340</td>\n",
       "      <td>34.872726</td>\n",
       "    </tr>\n",
       "    <tr>\n",
       "      <th>2019-05-27</th>\n",
       "      <td>40.648098</td>\n",
       "      <td>5.855</td>\n",
       "      <td>126.414261</td>\n",
       "      <td>0.955</td>\n",
       "      <td>99.363602</td>\n",
       "      <td>22.745760</td>\n",
       "      <td>28.890532</td>\n",
       "      <td>6.35</td>\n",
       "      <td>8.67</td>\n",
       "      <td>7.328665</td>\n",
       "      <td>...</td>\n",
       "      <td>NaN</td>\n",
       "      <td>2.82</td>\n",
       "      <td>69.465645</td>\n",
       "      <td>39.072105</td>\n",
       "      <td>100.853088</td>\n",
       "      <td>10.94</td>\n",
       "      <td>11.254341</td>\n",
       "      <td>1.185</td>\n",
       "      <td>1.265</td>\n",
       "      <td>34.815853</td>\n",
       "    </tr>\n",
       "  </tbody>\n",
       "</table>\n",
       "<p>3 rows × 706 columns</p>\n",
       "</div>"
      ],
      "text/plain": [
       "                                   Basic Materials                     \\\n",
       "                               Agricultural Inputs                      \n",
       "             GBTNV.PA IPSNV.PA             ENGB.BR GRVO.PA    TESB.BR   \n",
       "Date                                                                    \n",
       "2019-05-23  40.101265    5.850          126.229164   0.955  98.975456   \n",
       "2019-05-24  40.465824    5.850          126.969521   0.955  98.975456   \n",
       "2019-05-27  40.648098    5.855          126.414261   0.955  99.363602   \n",
       "\n",
       "                                                                  ...  \\\n",
       "             Aluminum Building Materials                          ...   \n",
       "               VIO.BR             LHN.PA NK.PA SCHD.BR   TITC.BR  ...   \n",
       "Date                                                              ...   \n",
       "2019-05-23  22.911007          28.729336  6.35    8.50  7.416811  ...   \n",
       "2019-05-24  22.940168          28.030802  6.35    8.83  7.387429  ...   \n",
       "2019-05-27  22.745760          28.890532  6.35    8.67  7.328665  ...   \n",
       "\n",
       "                       Utilities                               \\\n",
       "           Utilities—Diversified Utilities—Regulated Electric   \n",
       "                         ENGI.PA                       ELI.BR   \n",
       "Date                                                            \n",
       "2019-05-23                   NaN                         2.82   \n",
       "2019-05-24                   NaN                         2.82   \n",
       "2019-05-27                   NaN                         2.82   \n",
       "\n",
       "                                                                          \\\n",
       "           Utilities—Regulated Gas Utilities—Regulated Water               \n",
       "                            RUI.PA                   EKOP.BR      SEV.PA   \n",
       "Date                                                                       \n",
       "2019-05-23               69.549339                 38.724625  101.722504   \n",
       "2019-05-24               70.302582                 39.014191  100.418373   \n",
       "2019-05-27               69.465645                 39.072105  100.853088   \n",
       "\n",
       "                                                                      \n",
       "           Utilities—Renewable                                        \n",
       "                       ABIO.PA    ELEC.PA NEOEN.PA NSE.AS   VLTSA.PA  \n",
       "Date                                                                  \n",
       "2019-05-23               10.84  11.070146    1.175  1.375  35.195007  \n",
       "2019-05-24               10.90  11.120798    1.180  1.340  34.872726  \n",
       "2019-05-27               10.94  11.254341    1.185  1.265  34.815853  \n",
       "\n",
       "[3 rows x 706 columns]"
      ]
     },
     "execution_count": 22,
     "metadata": {},
     "output_type": "execute_result"
    }
   ],
   "source": [
    "df_prices.head(3)"
   ]
  },
  {
   "cell_type": "markdown",
   "id": "a3b59f78",
   "metadata": {
    "ExecuteTime": {
     "end_time": "2021-05-18T12:21:21.525985Z",
     "start_time": "2021-05-18T12:21:21.520652Z"
    }
   },
   "source": [
    "### Retrieve ratio data from s3"
   ]
  },
  {
   "cell_type": "markdown",
   "id": "b5b180ea",
   "metadata": {},
   "source": [
    "#### Retrieve YF ratio data"
   ]
  },
  {
   "cell_type": "code",
   "execution_count": 23,
   "id": "435791ce",
   "metadata": {
    "ExecuteTime": {
     "end_time": "2021-06-01T08:45:34.659143Z",
     "start_time": "2021-06-01T08:45:34.498591Z"
    },
    "code_folding": []
   },
   "outputs": [],
   "source": [
    "# Read data from s3\n",
    "role = get_execution_role()\n",
    "bucket=\"euronext-stocks\"\n",
    "data_key = \"df_ratio_data.csv\"\n",
    "data_location = 's3://{}/{}'.format(bucket, data_key)\n",
    "df_ratio_data = pd.read_csv(data_location,)\n",
    "df_ratio_data.set_index(df_ratio_data[\"Unnamed: 0\"], drop=True, inplace=True)\n",
    "df_ratio_data.index.name = \"Metric\"\n",
    "df_ratio_data.drop(\"Unnamed: 0\", axis=1, inplace=True)\n",
    "# df_data.drop(df_data.index[0], inplace=True)\n",
    "# df_data.index = pd.to_datetime(df_data.index)\n",
    "# df_data.interpolate(method='linear', inplace=True) # use linear interpolation for missing values"
   ]
  },
  {
   "cell_type": "code",
   "execution_count": 24,
   "id": "ac921193",
   "metadata": {
    "ExecuteTime": {
     "end_time": "2021-06-01T08:45:34.692613Z",
     "start_time": "2021-06-01T08:45:34.660771Z"
    },
    "scrolled": true
   },
   "outputs": [
    {
     "data": {
      "text/html": [
       "<div>\n",
       "<style scoped>\n",
       "    .dataframe tbody tr th:only-of-type {\n",
       "        vertical-align: middle;\n",
       "    }\n",
       "\n",
       "    .dataframe tbody tr th {\n",
       "        vertical-align: top;\n",
       "    }\n",
       "\n",
       "    .dataframe thead th {\n",
       "        text-align: right;\n",
       "    }\n",
       "</style>\n",
       "<table border=\"1\" class=\"dataframe\">\n",
       "  <thead>\n",
       "    <tr style=\"text-align: right;\">\n",
       "      <th></th>\n",
       "      <th>2CRSI.PA</th>\n",
       "      <th>2MX.PA</th>\n",
       "      <th>ASP.PA</th>\n",
       "      <th>AALB.AS</th>\n",
       "      <th>ABI.BR</th>\n",
       "      <th>AB.PA</th>\n",
       "      <th>ABCA.PA</th>\n",
       "      <th>ABEO.PA</th>\n",
       "      <th>ABNX.PA</th>\n",
       "      <th>ABVX.PA</th>\n",
       "      <th>...</th>\n",
       "      <th>WLN.PA</th>\n",
       "      <th>XFAB.PA</th>\n",
       "      <th>XIL.PA</th>\n",
       "      <th>XIOR.BR</th>\n",
       "      <th>XPO.PA</th>\n",
       "      <th>YATRA.AS</th>\n",
       "      <th>CV.PA</th>\n",
       "      <th>ZENT.BR</th>\n",
       "      <th>^FCHI</th>\n",
       "      <th>^N100</th>\n",
       "    </tr>\n",
       "    <tr>\n",
       "      <th>Metric</th>\n",
       "      <th></th>\n",
       "      <th></th>\n",
       "      <th></th>\n",
       "      <th></th>\n",
       "      <th></th>\n",
       "      <th></th>\n",
       "      <th></th>\n",
       "      <th></th>\n",
       "      <th></th>\n",
       "      <th></th>\n",
       "      <th></th>\n",
       "      <th></th>\n",
       "      <th></th>\n",
       "      <th></th>\n",
       "      <th></th>\n",
       "      <th></th>\n",
       "      <th></th>\n",
       "      <th></th>\n",
       "      <th></th>\n",
       "      <th></th>\n",
       "      <th></th>\n",
       "    </tr>\n",
       "  </thead>\n",
       "  <tbody>\n",
       "    <tr>\n",
       "      <th>profitMargins</th>\n",
       "      <td>-5.605000e-02</td>\n",
       "      <td>0.0</td>\n",
       "      <td>3.096000e-02</td>\n",
       "      <td>4.494000e-02</td>\n",
       "      <td>2.997000e-02</td>\n",
       "      <td>0.000000e+00</td>\n",
       "      <td>5.078000e-01</td>\n",
       "      <td>-1.010000e-02</td>\n",
       "      <td>0.00</td>\n",
       "      <td>0.000000e+00</td>\n",
       "      <td>...</td>\n",
       "      <td>5.957000e-02</td>\n",
       "      <td>6.530000e-02</td>\n",
       "      <td>1.910200e-01</td>\n",
       "      <td>-3.300700e-01</td>\n",
       "      <td>7.590000e-03</td>\n",
       "      <td>NaN</td>\n",
       "      <td>NaN</td>\n",
       "      <td>9.743000e-02</td>\n",
       "      <td>NaN</td>\n",
       "      <td>NaN</td>\n",
       "    </tr>\n",
       "    <tr>\n",
       "      <th>payoutRatio</th>\n",
       "      <td>0.000000e+00</td>\n",
       "      <td>NaN</td>\n",
       "      <td>0.000000e+00</td>\n",
       "      <td>7.547000e-01</td>\n",
       "      <td>NaN</td>\n",
       "      <td>0.000000e+00</td>\n",
       "      <td>9.180000e-01</td>\n",
       "      <td>0.000000e+00</td>\n",
       "      <td>0.00</td>\n",
       "      <td>0.000000e+00</td>\n",
       "      <td>...</td>\n",
       "      <td>0.000000e+00</td>\n",
       "      <td>0.000000e+00</td>\n",
       "      <td>0.000000e+00</td>\n",
       "      <td>NaN</td>\n",
       "      <td>0.000000e+00</td>\n",
       "      <td>NaN</td>\n",
       "      <td>NaN</td>\n",
       "      <td>0.000000e+00</td>\n",
       "      <td>NaN</td>\n",
       "      <td>NaN</td>\n",
       "    </tr>\n",
       "    <tr>\n",
       "      <th>sharesOutstanding</th>\n",
       "      <td>1.424340e+07</td>\n",
       "      <td>25000000.0</td>\n",
       "      <td>1.289690e+07</td>\n",
       "      <td>1.105800e+08</td>\n",
       "      <td>1.972250e+09</td>\n",
       "      <td>4.435370e+07</td>\n",
       "      <td>5.815140e+07</td>\n",
       "      <td>7.506850e+06</td>\n",
       "      <td>24410700.00</td>\n",
       "      <td>1.439940e+07</td>\n",
       "      <td>...</td>\n",
       "      <td>2.792050e+08</td>\n",
       "      <td>1.306320e+08</td>\n",
       "      <td>4.853540e+06</td>\n",
       "      <td>2.148290e+07</td>\n",
       "      <td>9.791790e+06</td>\n",
       "      <td>NaN</td>\n",
       "      <td>NaN</td>\n",
       "      <td>3.310880e+06</td>\n",
       "      <td>NaN</td>\n",
       "      <td>NaN</td>\n",
       "    </tr>\n",
       "    <tr>\n",
       "      <th>trailingEps</th>\n",
       "      <td>-2.600000e-01</td>\n",
       "      <td>NaN</td>\n",
       "      <td>4.200000e-01</td>\n",
       "      <td>1.060000e+00</td>\n",
       "      <td>5.790000e-01</td>\n",
       "      <td>-4.450000e-01</td>\n",
       "      <td>6.040000e-01</td>\n",
       "      <td>9.200000e-02</td>\n",
       "      <td>0.09</td>\n",
       "      <td>-2.611000e+00</td>\n",
       "      <td>...</td>\n",
       "      <td>8.140000e-01</td>\n",
       "      <td>2.100000e-01</td>\n",
       "      <td>1.268000e+00</td>\n",
       "      <td>-1.176000e+00</td>\n",
       "      <td>4.690000e+00</td>\n",
       "      <td>NaN</td>\n",
       "      <td>NaN</td>\n",
       "      <td>2.147000e+00</td>\n",
       "      <td>NaN</td>\n",
       "      <td>NaN</td>\n",
       "    </tr>\n",
       "    <tr>\n",
       "      <th>forwardEps</th>\n",
       "      <td>NaN</td>\n",
       "      <td>NaN</td>\n",
       "      <td>4.500000e-01</td>\n",
       "      <td>2.390000e+00</td>\n",
       "      <td>4.800000e+00</td>\n",
       "      <td>-1.000000e+00</td>\n",
       "      <td>5.900000e-01</td>\n",
       "      <td>1.470000e+00</td>\n",
       "      <td>NaN</td>\n",
       "      <td>-4.700000e-01</td>\n",
       "      <td>...</td>\n",
       "      <td>1.210000e+00</td>\n",
       "      <td>3.800000e-01</td>\n",
       "      <td>1.000000e+00</td>\n",
       "      <td>NaN</td>\n",
       "      <td>NaN</td>\n",
       "      <td>NaN</td>\n",
       "      <td>NaN</td>\n",
       "      <td>NaN</td>\n",
       "      <td>NaN</td>\n",
       "      <td>NaN</td>\n",
       "    </tr>\n",
       "    <tr>\n",
       "      <th>Total Cash From Operating Activities</th>\n",
       "      <td>NaN</td>\n",
       "      <td>NaN</td>\n",
       "      <td>2.215000e+07</td>\n",
       "      <td>3.776000e+08</td>\n",
       "      <td>1.089100e+10</td>\n",
       "      <td>-1.351100e+07</td>\n",
       "      <td>2.433300e+07</td>\n",
       "      <td>NaN</td>\n",
       "      <td>-600000.00</td>\n",
       "      <td>NaN</td>\n",
       "      <td>...</td>\n",
       "      <td>5.113000e+08</td>\n",
       "      <td>7.434600e+07</td>\n",
       "      <td>NaN</td>\n",
       "      <td>3.292000e+06</td>\n",
       "      <td>6.801970e+08</td>\n",
       "      <td>NaN</td>\n",
       "      <td>NaN</td>\n",
       "      <td>7.400000e+06</td>\n",
       "      <td>NaN</td>\n",
       "      <td>NaN</td>\n",
       "    </tr>\n",
       "    <tr>\n",
       "      <th>Total Liab</th>\n",
       "      <td>NaN</td>\n",
       "      <td>NaN</td>\n",
       "      <td>1.091440e+08</td>\n",
       "      <td>1.448900e+09</td>\n",
       "      <td>1.480590e+11</td>\n",
       "      <td>4.923700e+07</td>\n",
       "      <td>1.902600e+07</td>\n",
       "      <td>NaN</td>\n",
       "      <td>NaN</td>\n",
       "      <td>NaN</td>\n",
       "      <td>...</td>\n",
       "      <td>9.283600e+09</td>\n",
       "      <td>1.731200e+08</td>\n",
       "      <td>NaN</td>\n",
       "      <td>9.608110e+08</td>\n",
       "      <td>3.638293e+09</td>\n",
       "      <td>NaN</td>\n",
       "      <td>NaN</td>\n",
       "      <td>2.329100e+07</td>\n",
       "      <td>NaN</td>\n",
       "      <td>NaN</td>\n",
       "    </tr>\n",
       "    <tr>\n",
       "      <th>Total Stockholder Equity</th>\n",
       "      <td>NaN</td>\n",
       "      <td>NaN</td>\n",
       "      <td>4.066700e+07</td>\n",
       "      <td>1.774100e+09</td>\n",
       "      <td>6.802400e+10</td>\n",
       "      <td>-1.954900e+07</td>\n",
       "      <td>1.540310e+08</td>\n",
       "      <td>NaN</td>\n",
       "      <td>NaN</td>\n",
       "      <td>NaN</td>\n",
       "      <td>...</td>\n",
       "      <td>9.480600e+09</td>\n",
       "      <td>6.593340e+08</td>\n",
       "      <td>NaN</td>\n",
       "      <td>6.411960e+08</td>\n",
       "      <td>9.801930e+08</td>\n",
       "      <td>NaN</td>\n",
       "      <td>NaN</td>\n",
       "      <td>3.790800e+07</td>\n",
       "      <td>NaN</td>\n",
       "      <td>NaN</td>\n",
       "    </tr>\n",
       "    <tr>\n",
       "      <th>Total Current Assets</th>\n",
       "      <td>NaN</td>\n",
       "      <td>NaN</td>\n",
       "      <td>1.021530e+08</td>\n",
       "      <td>9.921000e+08</td>\n",
       "      <td>2.651900e+10</td>\n",
       "      <td>2.632500e+07</td>\n",
       "      <td>1.698700e+08</td>\n",
       "      <td>NaN</td>\n",
       "      <td>NaN</td>\n",
       "      <td>NaN</td>\n",
       "      <td>...</td>\n",
       "      <td>4.606100e+09</td>\n",
       "      <td>4.522080e+08</td>\n",
       "      <td>NaN</td>\n",
       "      <td>5.493400e+07</td>\n",
       "      <td>1.854354e+09</td>\n",
       "      <td>NaN</td>\n",
       "      <td>NaN</td>\n",
       "      <td>5.290500e+07</td>\n",
       "      <td>NaN</td>\n",
       "      <td>NaN</td>\n",
       "    </tr>\n",
       "    <tr>\n",
       "      <th>Total Current Liabilities</th>\n",
       "      <td>NaN</td>\n",
       "      <td>NaN</td>\n",
       "      <td>8.200400e+07</td>\n",
       "      <td>8.614000e+08</td>\n",
       "      <td>3.235200e+10</td>\n",
       "      <td>2.258700e+07</td>\n",
       "      <td>1.787900e+07</td>\n",
       "      <td>NaN</td>\n",
       "      <td>NaN</td>\n",
       "      <td>NaN</td>\n",
       "      <td>...</td>\n",
       "      <td>4.523100e+09</td>\n",
       "      <td>1.243360e+08</td>\n",
       "      <td>NaN</td>\n",
       "      <td>1.266180e+08</td>\n",
       "      <td>2.052550e+09</td>\n",
       "      <td>NaN</td>\n",
       "      <td>NaN</td>\n",
       "      <td>2.116000e+07</td>\n",
       "      <td>NaN</td>\n",
       "      <td>NaN</td>\n",
       "    </tr>\n",
       "    <tr>\n",
       "      <th>Total Revenue</th>\n",
       "      <td>NaN</td>\n",
       "      <td>NaN</td>\n",
       "      <td>1.758280e+08</td>\n",
       "      <td>2.610400e+09</td>\n",
       "      <td>4.688100e+10</td>\n",
       "      <td>1.583000e+06</td>\n",
       "      <td>6.910800e+07</td>\n",
       "      <td>NaN</td>\n",
       "      <td>0.00</td>\n",
       "      <td>1.700000e+06</td>\n",
       "      <td>...</td>\n",
       "      <td>2.747800e+09</td>\n",
       "      <td>4.775860e+08</td>\n",
       "      <td>NaN</td>\n",
       "      <td>7.110200e+07</td>\n",
       "      <td>6.071795e+09</td>\n",
       "      <td>NaN</td>\n",
       "      <td>NaN</td>\n",
       "      <td>7.295500e+07</td>\n",
       "      <td>NaN</td>\n",
       "      <td>NaN</td>\n",
       "    </tr>\n",
       "  </tbody>\n",
       "</table>\n",
       "<p>11 rows × 706 columns</p>\n",
       "</div>"
      ],
      "text/plain": [
       "                                          2CRSI.PA      2MX.PA        ASP.PA  \\\n",
       "Metric                                                                         \n",
       "profitMargins                        -5.605000e-02         0.0  3.096000e-02   \n",
       "payoutRatio                           0.000000e+00         NaN  0.000000e+00   \n",
       "sharesOutstanding                     1.424340e+07  25000000.0  1.289690e+07   \n",
       "trailingEps                          -2.600000e-01         NaN  4.200000e-01   \n",
       "forwardEps                                     NaN         NaN  4.500000e-01   \n",
       "Total Cash From Operating Activities           NaN         NaN  2.215000e+07   \n",
       "Total Liab                                     NaN         NaN  1.091440e+08   \n",
       "Total Stockholder Equity                       NaN         NaN  4.066700e+07   \n",
       "Total Current Assets                           NaN         NaN  1.021530e+08   \n",
       "Total Current Liabilities                      NaN         NaN  8.200400e+07   \n",
       "Total Revenue                                  NaN         NaN  1.758280e+08   \n",
       "\n",
       "                                           AALB.AS        ABI.BR  \\\n",
       "Metric                                                             \n",
       "profitMargins                         4.494000e-02  2.997000e-02   \n",
       "payoutRatio                           7.547000e-01           NaN   \n",
       "sharesOutstanding                     1.105800e+08  1.972250e+09   \n",
       "trailingEps                           1.060000e+00  5.790000e-01   \n",
       "forwardEps                            2.390000e+00  4.800000e+00   \n",
       "Total Cash From Operating Activities  3.776000e+08  1.089100e+10   \n",
       "Total Liab                            1.448900e+09  1.480590e+11   \n",
       "Total Stockholder Equity              1.774100e+09  6.802400e+10   \n",
       "Total Current Assets                  9.921000e+08  2.651900e+10   \n",
       "Total Current Liabilities             8.614000e+08  3.235200e+10   \n",
       "Total Revenue                         2.610400e+09  4.688100e+10   \n",
       "\n",
       "                                             AB.PA       ABCA.PA  \\\n",
       "Metric                                                             \n",
       "profitMargins                         0.000000e+00  5.078000e-01   \n",
       "payoutRatio                           0.000000e+00  9.180000e-01   \n",
       "sharesOutstanding                     4.435370e+07  5.815140e+07   \n",
       "trailingEps                          -4.450000e-01  6.040000e-01   \n",
       "forwardEps                           -1.000000e+00  5.900000e-01   \n",
       "Total Cash From Operating Activities -1.351100e+07  2.433300e+07   \n",
       "Total Liab                            4.923700e+07  1.902600e+07   \n",
       "Total Stockholder Equity             -1.954900e+07  1.540310e+08   \n",
       "Total Current Assets                  2.632500e+07  1.698700e+08   \n",
       "Total Current Liabilities             2.258700e+07  1.787900e+07   \n",
       "Total Revenue                         1.583000e+06  6.910800e+07   \n",
       "\n",
       "                                           ABEO.PA      ABNX.PA       ABVX.PA  \\\n",
       "Metric                                                                          \n",
       "profitMargins                        -1.010000e-02         0.00  0.000000e+00   \n",
       "payoutRatio                           0.000000e+00         0.00  0.000000e+00   \n",
       "sharesOutstanding                     7.506850e+06  24410700.00  1.439940e+07   \n",
       "trailingEps                           9.200000e-02         0.09 -2.611000e+00   \n",
       "forwardEps                            1.470000e+00          NaN -4.700000e-01   \n",
       "Total Cash From Operating Activities           NaN   -600000.00           NaN   \n",
       "Total Liab                                     NaN          NaN           NaN   \n",
       "Total Stockholder Equity                       NaN          NaN           NaN   \n",
       "Total Current Assets                           NaN          NaN           NaN   \n",
       "Total Current Liabilities                      NaN          NaN           NaN   \n",
       "Total Revenue                                  NaN         0.00  1.700000e+06   \n",
       "\n",
       "                                      ...        WLN.PA       XFAB.PA  \\\n",
       "Metric                                ...                               \n",
       "profitMargins                         ...  5.957000e-02  6.530000e-02   \n",
       "payoutRatio                           ...  0.000000e+00  0.000000e+00   \n",
       "sharesOutstanding                     ...  2.792050e+08  1.306320e+08   \n",
       "trailingEps                           ...  8.140000e-01  2.100000e-01   \n",
       "forwardEps                            ...  1.210000e+00  3.800000e-01   \n",
       "Total Cash From Operating Activities  ...  5.113000e+08  7.434600e+07   \n",
       "Total Liab                            ...  9.283600e+09  1.731200e+08   \n",
       "Total Stockholder Equity              ...  9.480600e+09  6.593340e+08   \n",
       "Total Current Assets                  ...  4.606100e+09  4.522080e+08   \n",
       "Total Current Liabilities             ...  4.523100e+09  1.243360e+08   \n",
       "Total Revenue                         ...  2.747800e+09  4.775860e+08   \n",
       "\n",
       "                                            XIL.PA       XIOR.BR  \\\n",
       "Metric                                                             \n",
       "profitMargins                         1.910200e-01 -3.300700e-01   \n",
       "payoutRatio                           0.000000e+00           NaN   \n",
       "sharesOutstanding                     4.853540e+06  2.148290e+07   \n",
       "trailingEps                           1.268000e+00 -1.176000e+00   \n",
       "forwardEps                            1.000000e+00           NaN   \n",
       "Total Cash From Operating Activities           NaN  3.292000e+06   \n",
       "Total Liab                                     NaN  9.608110e+08   \n",
       "Total Stockholder Equity                       NaN  6.411960e+08   \n",
       "Total Current Assets                           NaN  5.493400e+07   \n",
       "Total Current Liabilities                      NaN  1.266180e+08   \n",
       "Total Revenue                                  NaN  7.110200e+07   \n",
       "\n",
       "                                            XPO.PA  YATRA.AS  CV.PA  \\\n",
       "Metric                                                                \n",
       "profitMargins                         7.590000e-03       NaN    NaN   \n",
       "payoutRatio                           0.000000e+00       NaN    NaN   \n",
       "sharesOutstanding                     9.791790e+06       NaN    NaN   \n",
       "trailingEps                           4.690000e+00       NaN    NaN   \n",
       "forwardEps                                     NaN       NaN    NaN   \n",
       "Total Cash From Operating Activities  6.801970e+08       NaN    NaN   \n",
       "Total Liab                            3.638293e+09       NaN    NaN   \n",
       "Total Stockholder Equity              9.801930e+08       NaN    NaN   \n",
       "Total Current Assets                  1.854354e+09       NaN    NaN   \n",
       "Total Current Liabilities             2.052550e+09       NaN    NaN   \n",
       "Total Revenue                         6.071795e+09       NaN    NaN   \n",
       "\n",
       "                                           ZENT.BR  ^FCHI  ^N100  \n",
       "Metric                                                            \n",
       "profitMargins                         9.743000e-02    NaN    NaN  \n",
       "payoutRatio                           0.000000e+00    NaN    NaN  \n",
       "sharesOutstanding                     3.310880e+06    NaN    NaN  \n",
       "trailingEps                           2.147000e+00    NaN    NaN  \n",
       "forwardEps                                     NaN    NaN    NaN  \n",
       "Total Cash From Operating Activities  7.400000e+06    NaN    NaN  \n",
       "Total Liab                            2.329100e+07    NaN    NaN  \n",
       "Total Stockholder Equity              3.790800e+07    NaN    NaN  \n",
       "Total Current Assets                  5.290500e+07    NaN    NaN  \n",
       "Total Current Liabilities             2.116000e+07    NaN    NaN  \n",
       "Total Revenue                         7.295500e+07    NaN    NaN  \n",
       "\n",
       "[11 rows x 706 columns]"
      ]
     },
     "execution_count": 24,
     "metadata": {},
     "output_type": "execute_result"
    }
   ],
   "source": [
    "df_ratio_data"
   ]
  },
  {
   "cell_type": "markdown",
   "id": "0e14ce48",
   "metadata": {},
   "source": [
    "#### Retrieve Pre-calculated Trailing PE"
   ]
  },
  {
   "cell_type": "code",
   "execution_count": 25,
   "id": "bca7bff2",
   "metadata": {
    "ExecuteTime": {
     "end_time": "2021-06-01T08:45:35.159139Z",
     "start_time": "2021-06-01T08:45:34.694854Z"
    },
    "code_folding": []
   },
   "outputs": [],
   "source": [
    "# Read data from s3\n",
    "role = get_execution_role()\n",
    "bucket=\"euronext-stocks\"\n",
    "data_key = \"df_trailing_pe_data.csv\"\n",
    "data_location = 's3://{}/{}'.format(bucket, data_key)\n",
    "df_trailing_pe_data = pd.read_csv(data_location,)\n",
    "df_trailing_pe_data.set_index(df_trailing_pe_data[\"Date\"], drop=True, inplace=True)\n",
    "df_trailing_pe_data.index.name = \"Date\"\n",
    "df_trailing_pe_data.index = pd.to_datetime(df_trailing_pe_data.index)\n",
    "df_trailing_pe_data.drop(\"Date\", axis=1, inplace=True)"
   ]
  },
  {
   "cell_type": "code",
   "execution_count": 26,
   "id": "ebe8ada9",
   "metadata": {
    "ExecuteTime": {
     "end_time": "2021-06-01T08:45:35.184254Z",
     "start_time": "2021-06-01T08:45:35.160773Z"
    }
   },
   "outputs": [
    {
     "data": {
      "text/html": [
       "<div>\n",
       "<style scoped>\n",
       "    .dataframe tbody tr th:only-of-type {\n",
       "        vertical-align: middle;\n",
       "    }\n",
       "\n",
       "    .dataframe tbody tr th {\n",
       "        vertical-align: top;\n",
       "    }\n",
       "\n",
       "    .dataframe thead th {\n",
       "        text-align: right;\n",
       "    }\n",
       "</style>\n",
       "<table border=\"1\" class=\"dataframe\">\n",
       "  <thead>\n",
       "    <tr style=\"text-align: right;\">\n",
       "      <th></th>\n",
       "      <th>2CRSI.PA</th>\n",
       "      <th>2MX.PA</th>\n",
       "      <th>ASP.PA</th>\n",
       "      <th>AALB.AS</th>\n",
       "      <th>ABI.BR</th>\n",
       "      <th>AB.PA</th>\n",
       "      <th>ABCA.PA</th>\n",
       "      <th>ABEO.PA</th>\n",
       "      <th>ABNX.PA</th>\n",
       "      <th>ABVX.PA</th>\n",
       "      <th>...</th>\n",
       "      <th>WLN.PA</th>\n",
       "      <th>XFAB.PA</th>\n",
       "      <th>XIL.PA</th>\n",
       "      <th>XIOR.BR</th>\n",
       "      <th>XPO.PA</th>\n",
       "      <th>YATRA.AS</th>\n",
       "      <th>CV.PA</th>\n",
       "      <th>ZENT.BR</th>\n",
       "      <th>^FCHI</th>\n",
       "      <th>^N100</th>\n",
       "    </tr>\n",
       "    <tr>\n",
       "      <th>Date</th>\n",
       "      <th></th>\n",
       "      <th></th>\n",
       "      <th></th>\n",
       "      <th></th>\n",
       "      <th></th>\n",
       "      <th></th>\n",
       "      <th></th>\n",
       "      <th></th>\n",
       "      <th></th>\n",
       "      <th></th>\n",
       "      <th></th>\n",
       "      <th></th>\n",
       "      <th></th>\n",
       "      <th></th>\n",
       "      <th></th>\n",
       "      <th></th>\n",
       "      <th></th>\n",
       "      <th></th>\n",
       "      <th></th>\n",
       "      <th></th>\n",
       "      <th></th>\n",
       "    </tr>\n",
       "  </thead>\n",
       "  <tbody>\n",
       "    <tr>\n",
       "      <th>2021-05-19</th>\n",
       "      <td>-17.999999</td>\n",
       "      <td>NaN</td>\n",
       "      <td>18.476191</td>\n",
       "      <td>42.301887</td>\n",
       "      <td>34.942528</td>\n",
       "      <td>-43.441178</td>\n",
       "      <td>12.052980</td>\n",
       "      <td>126.086961</td>\n",
       "      <td>12.666667</td>\n",
       "      <td>-8.053435</td>\n",
       "      <td>...</td>\n",
       "      <td>91.253070</td>\n",
       "      <td>34.759615</td>\n",
       "      <td>84.404540</td>\n",
       "      <td>-38.802296</td>\n",
       "      <td>67.164179</td>\n",
       "      <td>NaN</td>\n",
       "      <td>NaN</td>\n",
       "      <td>11.737308</td>\n",
       "      <td>NaN</td>\n",
       "      <td>NaN</td>\n",
       "    </tr>\n",
       "    <tr>\n",
       "      <th>2021-05-20</th>\n",
       "      <td>-17.980770</td>\n",
       "      <td>NaN</td>\n",
       "      <td>18.000000</td>\n",
       "      <td>42.141508</td>\n",
       "      <td>35.436782</td>\n",
       "      <td>-44.676469</td>\n",
       "      <td>12.086093</td>\n",
       "      <td>122.826089</td>\n",
       "      <td>13.022223</td>\n",
       "      <td>-8.091603</td>\n",
       "      <td>...</td>\n",
       "      <td>93.587224</td>\n",
       "      <td>35.192309</td>\n",
       "      <td>85.444236</td>\n",
       "      <td>-39.294505</td>\n",
       "      <td>67.164179</td>\n",
       "      <td>NaN</td>\n",
       "      <td>NaN</td>\n",
       "      <td>11.737308</td>\n",
       "      <td>NaN</td>\n",
       "      <td>NaN</td>\n",
       "    </tr>\n",
       "    <tr>\n",
       "      <th>2021-05-21</th>\n",
       "      <td>-17.903847</td>\n",
       "      <td>NaN</td>\n",
       "      <td>18.285714</td>\n",
       "      <td>43.301888</td>\n",
       "      <td>35.793103</td>\n",
       "      <td>-44.470588</td>\n",
       "      <td>11.986755</td>\n",
       "      <td>122.282609</td>\n",
       "      <td>14.555555</td>\n",
       "      <td>-8.339695</td>\n",
       "      <td>...</td>\n",
       "      <td>93.968056</td>\n",
       "      <td>35.432692</td>\n",
       "      <td>85.633269</td>\n",
       "      <td>-38.925349</td>\n",
       "      <td>67.164179</td>\n",
       "      <td>NaN</td>\n",
       "      <td>NaN</td>\n",
       "      <td>11.644155</td>\n",
       "      <td>NaN</td>\n",
       "      <td>NaN</td>\n",
       "    </tr>\n",
       "  </tbody>\n",
       "</table>\n",
       "<p>3 rows × 706 columns</p>\n",
       "</div>"
      ],
      "text/plain": [
       "             2CRSI.PA  2MX.PA     ASP.PA    AALB.AS     ABI.BR      AB.PA  \\\n",
       "Date                                                                        \n",
       "2021-05-19 -17.999999     NaN  18.476191  42.301887  34.942528 -43.441178   \n",
       "2021-05-20 -17.980770     NaN  18.000000  42.141508  35.436782 -44.676469   \n",
       "2021-05-21 -17.903847     NaN  18.285714  43.301888  35.793103 -44.470588   \n",
       "\n",
       "              ABCA.PA     ABEO.PA    ABNX.PA   ABVX.PA  ...     WLN.PA  \\\n",
       "Date                                                    ...              \n",
       "2021-05-19  12.052980  126.086961  12.666667 -8.053435  ...  91.253070   \n",
       "2021-05-20  12.086093  122.826089  13.022223 -8.091603  ...  93.587224   \n",
       "2021-05-21  11.986755  122.282609  14.555555 -8.339695  ...  93.968056   \n",
       "\n",
       "              XFAB.PA     XIL.PA    XIOR.BR     XPO.PA  YATRA.AS  CV.PA  \\\n",
       "Date                                                                      \n",
       "2021-05-19  34.759615  84.404540 -38.802296  67.164179       NaN    NaN   \n",
       "2021-05-20  35.192309  85.444236 -39.294505  67.164179       NaN    NaN   \n",
       "2021-05-21  35.432692  85.633269 -38.925349  67.164179       NaN    NaN   \n",
       "\n",
       "              ZENT.BR  ^FCHI  ^N100  \n",
       "Date                                 \n",
       "2021-05-19  11.737308    NaN    NaN  \n",
       "2021-05-20  11.737308    NaN    NaN  \n",
       "2021-05-21  11.644155    NaN    NaN  \n",
       "\n",
       "[3 rows x 706 columns]"
      ]
     },
     "execution_count": 26,
     "metadata": {},
     "output_type": "execute_result"
    }
   ],
   "source": [
    "df_trailing_pe_data.tail(3)"
   ]
  },
  {
   "cell_type": "code",
   "execution_count": 27,
   "id": "cd0ede5b",
   "metadata": {
    "ExecuteTime": {
     "end_time": "2021-06-01T08:45:35.191346Z",
     "start_time": "2021-06-01T08:45:35.185998Z"
    }
   },
   "outputs": [],
   "source": [
    "# Most recent\n",
    "latest_pe = pd.Series(\n",
    "    data = [item[0] for item in df_trailing_pe_data.tail(1).T.values.tolist()],\n",
    "    index = list(df_trailing_pe_data.tail(1).T.index)\n",
    ")"
   ]
  },
  {
   "cell_type": "code",
   "execution_count": 28,
   "id": "8461467d",
   "metadata": {
    "ExecuteTime": {
     "end_time": "2021-06-01T08:45:35.200499Z",
     "start_time": "2021-06-01T08:45:35.195736Z"
    }
   },
   "outputs": [
    {
     "data": {
      "text/plain": [
       "2CRSI.PA   -17.903847\n",
       "2MX.PA            NaN\n",
       "ASP.PA      18.285714\n",
       "AALB.AS     43.301888\n",
       "ABI.BR      35.793103\n",
       "              ...    \n",
       "YATRA.AS          NaN\n",
       "CV.PA             NaN\n",
       "ZENT.BR     11.644155\n",
       "^FCHI             NaN\n",
       "^N100             NaN\n",
       "Length: 706, dtype: float64"
      ]
     },
     "execution_count": 28,
     "metadata": {},
     "output_type": "execute_result"
    }
   ],
   "source": [
    "latest_pe"
   ]
  },
  {
   "cell_type": "markdown",
   "id": "b63f9779",
   "metadata": {},
   "source": [
    "#### Retrieve Pre-calculated Forward PE"
   ]
  },
  {
   "cell_type": "code",
   "execution_count": 29,
   "id": "ac3fb0fe",
   "metadata": {
    "ExecuteTime": {
     "end_time": "2021-06-01T08:45:35.491250Z",
     "start_time": "2021-06-01T08:45:35.203240Z"
    },
    "code_folding": []
   },
   "outputs": [],
   "source": [
    "# Read data from s3\n",
    "role = get_execution_role()\n",
    "bucket=\"euronext-stocks\"\n",
    "data_key = \"df_forward_pe_data.csv\"\n",
    "data_location = 's3://{}/{}'.format(bucket, data_key)\n",
    "df_forward_pe_data = pd.read_csv(data_location,)\n",
    "df_forward_pe_data.set_index(df_forward_pe_data[\"Date\"], drop=True, inplace=True)\n",
    "df_forward_pe_data.index.name = \"Date\"\n",
    "df_forward_pe_data.index = pd.to_datetime(df_forward_pe_data.index)\n",
    "df_forward_pe_data.drop(\"Date\", axis=1, inplace=True)"
   ]
  },
  {
   "cell_type": "code",
   "execution_count": 30,
   "id": "974d2c26",
   "metadata": {
    "ExecuteTime": {
     "end_time": "2021-06-01T08:45:35.515968Z",
     "start_time": "2021-06-01T08:45:35.492922Z"
    },
    "scrolled": true
   },
   "outputs": [
    {
     "data": {
      "text/html": [
       "<div>\n",
       "<style scoped>\n",
       "    .dataframe tbody tr th:only-of-type {\n",
       "        vertical-align: middle;\n",
       "    }\n",
       "\n",
       "    .dataframe tbody tr th {\n",
       "        vertical-align: top;\n",
       "    }\n",
       "\n",
       "    .dataframe thead th {\n",
       "        text-align: right;\n",
       "    }\n",
       "</style>\n",
       "<table border=\"1\" class=\"dataframe\">\n",
       "  <thead>\n",
       "    <tr style=\"text-align: right;\">\n",
       "      <th></th>\n",
       "      <th>2CRSI.PA</th>\n",
       "      <th>2MX.PA</th>\n",
       "      <th>ASP.PA</th>\n",
       "      <th>AALB.AS</th>\n",
       "      <th>ABI.BR</th>\n",
       "      <th>AB.PA</th>\n",
       "      <th>ABCA.PA</th>\n",
       "      <th>ABEO.PA</th>\n",
       "      <th>ABNX.PA</th>\n",
       "      <th>ABVX.PA</th>\n",
       "      <th>...</th>\n",
       "      <th>WLN.PA</th>\n",
       "      <th>XFAB.PA</th>\n",
       "      <th>XIL.PA</th>\n",
       "      <th>XIOR.BR</th>\n",
       "      <th>XPO.PA</th>\n",
       "      <th>YATRA.AS</th>\n",
       "      <th>CV.PA</th>\n",
       "      <th>ZENT.BR</th>\n",
       "      <th>^FCHI</th>\n",
       "      <th>^N100</th>\n",
       "    </tr>\n",
       "    <tr>\n",
       "      <th>Date</th>\n",
       "      <th></th>\n",
       "      <th></th>\n",
       "      <th></th>\n",
       "      <th></th>\n",
       "      <th></th>\n",
       "      <th></th>\n",
       "      <th></th>\n",
       "      <th></th>\n",
       "      <th></th>\n",
       "      <th></th>\n",
       "      <th></th>\n",
       "      <th></th>\n",
       "      <th></th>\n",
       "      <th></th>\n",
       "      <th></th>\n",
       "      <th></th>\n",
       "      <th></th>\n",
       "      <th></th>\n",
       "      <th></th>\n",
       "      <th></th>\n",
       "      <th></th>\n",
       "    </tr>\n",
       "  </thead>\n",
       "  <tbody>\n",
       "    <tr>\n",
       "      <th>2019-05-21</th>\n",
       "      <td>NaN</td>\n",
       "      <td>NaN</td>\n",
       "      <td>8.730429</td>\n",
       "      <td>12.185997</td>\n",
       "      <td>13.984210</td>\n",
       "      <td>-5.250000</td>\n",
       "      <td>10.041166</td>\n",
       "      <td>19.837028</td>\n",
       "      <td>NaN</td>\n",
       "      <td>-6.190476</td>\n",
       "      <td>...</td>\n",
       "      <td>43.803419</td>\n",
       "      <td>13.157895</td>\n",
       "      <td>NaN</td>\n",
       "      <td>NaN</td>\n",
       "      <td>NaN</td>\n",
       "      <td>NaN</td>\n",
       "      <td>NaN</td>\n",
       "      <td>NaN</td>\n",
       "      <td>NaN</td>\n",
       "      <td>NaN</td>\n",
       "    </tr>\n",
       "    <tr>\n",
       "      <th>2019-05-22</th>\n",
       "      <td>NaN</td>\n",
       "      <td>NaN</td>\n",
       "      <td>8.530815</td>\n",
       "      <td>12.209567</td>\n",
       "      <td>14.091676</td>\n",
       "      <td>-5.273809</td>\n",
       "      <td>10.041166</td>\n",
       "      <td>19.702539</td>\n",
       "      <td>NaN</td>\n",
       "      <td>-6.292517</td>\n",
       "      <td>...</td>\n",
       "      <td>44.700854</td>\n",
       "      <td>12.921052</td>\n",
       "      <td>NaN</td>\n",
       "      <td>NaN</td>\n",
       "      <td>NaN</td>\n",
       "      <td>NaN</td>\n",
       "      <td>NaN</td>\n",
       "      <td>NaN</td>\n",
       "      <td>NaN</td>\n",
       "      <td>NaN</td>\n",
       "    </tr>\n",
       "    <tr>\n",
       "      <th>2019-05-23</th>\n",
       "      <td>NaN</td>\n",
       "      <td>NaN</td>\n",
       "      <td>8.667393</td>\n",
       "      <td>11.824582</td>\n",
       "      <td>14.143489</td>\n",
       "      <td>-5.160714</td>\n",
       "      <td>9.899742</td>\n",
       "      <td>19.702539</td>\n",
       "      <td>NaN</td>\n",
       "      <td>-6.095238</td>\n",
       "      <td>...</td>\n",
       "      <td>42.820512</td>\n",
       "      <td>12.500000</td>\n",
       "      <td>NaN</td>\n",
       "      <td>NaN</td>\n",
       "      <td>NaN</td>\n",
       "      <td>NaN</td>\n",
       "      <td>NaN</td>\n",
       "      <td>NaN</td>\n",
       "      <td>NaN</td>\n",
       "      <td>NaN</td>\n",
       "    </tr>\n",
       "  </tbody>\n",
       "</table>\n",
       "<p>3 rows × 706 columns</p>\n",
       "</div>"
      ],
      "text/plain": [
       "            2CRSI.PA  2MX.PA    ASP.PA    AALB.AS     ABI.BR     AB.PA  \\\n",
       "Date                                                                     \n",
       "2019-05-21       NaN     NaN  8.730429  12.185997  13.984210 -5.250000   \n",
       "2019-05-22       NaN     NaN  8.530815  12.209567  14.091676 -5.273809   \n",
       "2019-05-23       NaN     NaN  8.667393  11.824582  14.143489 -5.160714   \n",
       "\n",
       "              ABCA.PA    ABEO.PA  ABNX.PA   ABVX.PA  ...     WLN.PA  \\\n",
       "Date                                                 ...              \n",
       "2019-05-21  10.041166  19.837028      NaN -6.190476  ...  43.803419   \n",
       "2019-05-22  10.041166  19.702539      NaN -6.292517  ...  44.700854   \n",
       "2019-05-23   9.899742  19.702539      NaN -6.095238  ...  42.820512   \n",
       "\n",
       "              XFAB.PA  XIL.PA  XIOR.BR  XPO.PA  YATRA.AS  CV.PA  ZENT.BR  \\\n",
       "Date                                                                       \n",
       "2019-05-21  13.157895     NaN      NaN     NaN       NaN    NaN      NaN   \n",
       "2019-05-22  12.921052     NaN      NaN     NaN       NaN    NaN      NaN   \n",
       "2019-05-23  12.500000     NaN      NaN     NaN       NaN    NaN      NaN   \n",
       "\n",
       "            ^FCHI  ^N100  \n",
       "Date                      \n",
       "2019-05-21    NaN    NaN  \n",
       "2019-05-22    NaN    NaN  \n",
       "2019-05-23    NaN    NaN  \n",
       "\n",
       "[3 rows x 706 columns]"
      ]
     },
     "execution_count": 30,
     "metadata": {},
     "output_type": "execute_result"
    }
   ],
   "source": [
    "df_forward_pe_data.head(3)"
   ]
  },
  {
   "cell_type": "markdown",
   "id": "1ba86498",
   "metadata": {
    "ExecuteTime": {
     "end_time": "2021-05-23T19:03:16.049371Z",
     "start_time": "2021-05-23T19:03:16.044142Z"
    }
   },
   "source": [
    "#### Retrieve Pre-calculated Price to Sales"
   ]
  },
  {
   "cell_type": "code",
   "execution_count": 31,
   "id": "48dc36b5",
   "metadata": {
    "ExecuteTime": {
     "end_time": "2021-06-01T08:45:35.853991Z",
     "start_time": "2021-06-01T08:45:35.517939Z"
    }
   },
   "outputs": [],
   "source": [
    "# Read data from s3\n",
    "role = get_execution_role()\n",
    "bucket=\"euronext-stocks\"\n",
    "data_key = \"df_p2s_data.csv\"\n",
    "data_location = 's3://{}/{}'.format(bucket, data_key)\n",
    "df_p2s_data = pd.read_csv(data_location,)\n",
    "df_p2s_data.set_index(df_p2s_data[\"Date\"], drop=True, inplace=True)\n",
    "df_p2s_data.index.name = \"Date\"\n",
    "df_p2s_data.index = pd.to_datetime(df_p2s_data.index)\n",
    "df_p2s_data.drop(\"Date\", axis=1, inplace=True)"
   ]
  },
  {
   "cell_type": "code",
   "execution_count": 32,
   "id": "f5fcf1df",
   "metadata": {
    "ExecuteTime": {
     "end_time": "2021-06-01T08:45:35.880257Z",
     "start_time": "2021-06-01T08:45:35.855707Z"
    },
    "scrolled": true
   },
   "outputs": [
    {
     "data": {
      "text/html": [
       "<div>\n",
       "<style scoped>\n",
       "    .dataframe tbody tr th:only-of-type {\n",
       "        vertical-align: middle;\n",
       "    }\n",
       "\n",
       "    .dataframe tbody tr th {\n",
       "        vertical-align: top;\n",
       "    }\n",
       "\n",
       "    .dataframe thead th {\n",
       "        text-align: right;\n",
       "    }\n",
       "</style>\n",
       "<table border=\"1\" class=\"dataframe\">\n",
       "  <thead>\n",
       "    <tr style=\"text-align: right;\">\n",
       "      <th></th>\n",
       "      <th>2CRSI.PA</th>\n",
       "      <th>2MX.PA</th>\n",
       "      <th>ASP.PA</th>\n",
       "      <th>AALB.AS</th>\n",
       "      <th>ABI.BR</th>\n",
       "      <th>AB.PA</th>\n",
       "      <th>ABCA.PA</th>\n",
       "      <th>ABEO.PA</th>\n",
       "      <th>ABNX.PA</th>\n",
       "      <th>ABVX.PA</th>\n",
       "      <th>...</th>\n",
       "      <th>WLN.PA</th>\n",
       "      <th>XFAB.PA</th>\n",
       "      <th>XIL.PA</th>\n",
       "      <th>XIOR.BR</th>\n",
       "      <th>XPO.PA</th>\n",
       "      <th>YATRA.AS</th>\n",
       "      <th>CV.PA</th>\n",
       "      <th>ZENT.BR</th>\n",
       "      <th>^FCHI</th>\n",
       "      <th>^N100</th>\n",
       "    </tr>\n",
       "    <tr>\n",
       "      <th>Date</th>\n",
       "      <th></th>\n",
       "      <th></th>\n",
       "      <th></th>\n",
       "      <th></th>\n",
       "      <th></th>\n",
       "      <th></th>\n",
       "      <th></th>\n",
       "      <th></th>\n",
       "      <th></th>\n",
       "      <th></th>\n",
       "      <th></th>\n",
       "      <th></th>\n",
       "      <th></th>\n",
       "      <th></th>\n",
       "      <th></th>\n",
       "      <th></th>\n",
       "      <th></th>\n",
       "      <th></th>\n",
       "      <th></th>\n",
       "      <th></th>\n",
       "      <th></th>\n",
       "    </tr>\n",
       "  </thead>\n",
       "  <tbody>\n",
       "    <tr>\n",
       "      <th>2019-05-21</th>\n",
       "      <td>NaN</td>\n",
       "      <td>NaN</td>\n",
       "      <td>0.288065</td>\n",
       "      <td>1.233754</td>\n",
       "      <td>2.823867</td>\n",
       "      <td>123.562735</td>\n",
       "      <td>4.752492</td>\n",
       "      <td>NaN</td>\n",
       "      <td>inf</td>\n",
       "      <td>5956.115704</td>\n",
       "      <td>...</td>\n",
       "      <td>5.208558</td>\n",
       "      <td>1.367628</td>\n",
       "      <td>7.673372</td>\n",
       "      <td>11.892674</td>\n",
       "      <td>0.447448</td>\n",
       "      <td>NaN</td>\n",
       "      <td>NaN</td>\n",
       "      <td>0.739735</td>\n",
       "      <td>NaN</td>\n",
       "      <td>NaN</td>\n",
       "    </tr>\n",
       "    <tr>\n",
       "      <th>2019-05-22</th>\n",
       "      <td>NaN</td>\n",
       "      <td>NaN</td>\n",
       "      <td>0.281479</td>\n",
       "      <td>1.236140</td>\n",
       "      <td>2.845568</td>\n",
       "      <td>124.123110</td>\n",
       "      <td>4.752492</td>\n",
       "      <td>NaN</td>\n",
       "      <td>inf</td>\n",
       "      <td>6054.293182</td>\n",
       "      <td>...</td>\n",
       "      <td>5.315270</td>\n",
       "      <td>1.343011</td>\n",
       "      <td>7.641708</td>\n",
       "      <td>11.837678</td>\n",
       "      <td>0.447448</td>\n",
       "      <td>NaN</td>\n",
       "      <td>NaN</td>\n",
       "      <td>0.748811</td>\n",
       "      <td>NaN</td>\n",
       "      <td>NaN</td>\n",
       "    </tr>\n",
       "    <tr>\n",
       "      <th>2019-05-23</th>\n",
       "      <td>NaN</td>\n",
       "      <td>NaN</td>\n",
       "      <td>0.285985</td>\n",
       "      <td>1.197163</td>\n",
       "      <td>2.856031</td>\n",
       "      <td>121.461334</td>\n",
       "      <td>4.685556</td>\n",
       "      <td>NaN</td>\n",
       "      <td>inf</td>\n",
       "      <td>5864.482934</td>\n",
       "      <td>...</td>\n",
       "      <td>5.091683</td>\n",
       "      <td>1.299247</td>\n",
       "      <td>7.536160</td>\n",
       "      <td>12.167649</td>\n",
       "      <td>0.441010</td>\n",
       "      <td>NaN</td>\n",
       "      <td>NaN</td>\n",
       "      <td>0.739735</td>\n",
       "      <td>NaN</td>\n",
       "      <td>NaN</td>\n",
       "    </tr>\n",
       "  </tbody>\n",
       "</table>\n",
       "<p>3 rows × 706 columns</p>\n",
       "</div>"
      ],
      "text/plain": [
       "            2CRSI.PA  2MX.PA    ASP.PA   AALB.AS    ABI.BR       AB.PA  \\\n",
       "Date                                                                     \n",
       "2019-05-21       NaN     NaN  0.288065  1.233754  2.823867  123.562735   \n",
       "2019-05-22       NaN     NaN  0.281479  1.236140  2.845568  124.123110   \n",
       "2019-05-23       NaN     NaN  0.285985  1.197163  2.856031  121.461334   \n",
       "\n",
       "             ABCA.PA  ABEO.PA  ABNX.PA      ABVX.PA  ...    WLN.PA   XFAB.PA  \\\n",
       "Date                                                 ...                       \n",
       "2019-05-21  4.752492      NaN      inf  5956.115704  ...  5.208558  1.367628   \n",
       "2019-05-22  4.752492      NaN      inf  6054.293182  ...  5.315270  1.343011   \n",
       "2019-05-23  4.685556      NaN      inf  5864.482934  ...  5.091683  1.299247   \n",
       "\n",
       "              XIL.PA    XIOR.BR    XPO.PA  YATRA.AS  CV.PA   ZENT.BR  ^FCHI  \\\n",
       "Date                                                                          \n",
       "2019-05-21  7.673372  11.892674  0.447448       NaN    NaN  0.739735    NaN   \n",
       "2019-05-22  7.641708  11.837678  0.447448       NaN    NaN  0.748811    NaN   \n",
       "2019-05-23  7.536160  12.167649  0.441010       NaN    NaN  0.739735    NaN   \n",
       "\n",
       "            ^N100  \n",
       "Date               \n",
       "2019-05-21    NaN  \n",
       "2019-05-22    NaN  \n",
       "2019-05-23    NaN  \n",
       "\n",
       "[3 rows x 706 columns]"
      ]
     },
     "execution_count": 32,
     "metadata": {},
     "output_type": "execute_result"
    }
   ],
   "source": [
    "df_p2s_data.head(3)"
   ]
  },
  {
   "cell_type": "markdown",
   "id": "297be42d",
   "metadata": {},
   "source": [
    "#### Retrieve Pre-calculated Profit Margins"
   ]
  },
  {
   "cell_type": "code",
   "execution_count": 33,
   "id": "d4a1eaa9",
   "metadata": {
    "ExecuteTime": {
     "end_time": "2021-06-01T08:45:36.076410Z",
     "start_time": "2021-06-01T08:45:35.881736Z"
    }
   },
   "outputs": [],
   "source": [
    "# Read data from s3\n",
    "role = get_execution_role()\n",
    "bucket=\"euronext-stocks\"\n",
    "data_key = \"df_pm_data.csv\"\n",
    "data_location = 's3://{}/{}'.format(bucket, data_key)\n",
    "df_pm_data = pd.read_csv(data_location,)\n",
    "df_pm_data.set_index(df_pm_data[\"Unnamed: 0\"], drop=True, inplace=True)\n",
    "df_pm_data.index.name = \"Date\"\n",
    "df_pm_data.index = pd.to_datetime(df_pm_data.index)\n",
    "df_pm_data.drop(\"Unnamed: 0\", axis=1, inplace=True)"
   ]
  },
  {
   "cell_type": "code",
   "execution_count": 34,
   "id": "b53d6ae9",
   "metadata": {
    "ExecuteTime": {
     "end_time": "2021-06-01T08:45:36.100324Z",
     "start_time": "2021-06-01T08:45:36.078092Z"
    }
   },
   "outputs": [
    {
     "data": {
      "text/html": [
       "<div>\n",
       "<style scoped>\n",
       "    .dataframe tbody tr th:only-of-type {\n",
       "        vertical-align: middle;\n",
       "    }\n",
       "\n",
       "    .dataframe tbody tr th {\n",
       "        vertical-align: top;\n",
       "    }\n",
       "\n",
       "    .dataframe thead th {\n",
       "        text-align: right;\n",
       "    }\n",
       "</style>\n",
       "<table border=\"1\" class=\"dataframe\">\n",
       "  <thead>\n",
       "    <tr style=\"text-align: right;\">\n",
       "      <th></th>\n",
       "      <th>2CRSI.PA</th>\n",
       "      <th>2MX.PA</th>\n",
       "      <th>ASP.PA</th>\n",
       "      <th>AALB.AS</th>\n",
       "      <th>ABI.BR</th>\n",
       "      <th>AB.PA</th>\n",
       "      <th>ABCA.PA</th>\n",
       "      <th>ABEO.PA</th>\n",
       "      <th>ABNX.PA</th>\n",
       "      <th>ABVX.PA</th>\n",
       "      <th>...</th>\n",
       "      <th>WLN.PA</th>\n",
       "      <th>XFAB.PA</th>\n",
       "      <th>XIL.PA</th>\n",
       "      <th>XIOR.BR</th>\n",
       "      <th>XPO.PA</th>\n",
       "      <th>YATRA.AS</th>\n",
       "      <th>CV.PA</th>\n",
       "      <th>ZENT.BR</th>\n",
       "      <th>^FCHI</th>\n",
       "      <th>^N100</th>\n",
       "    </tr>\n",
       "    <tr>\n",
       "      <th>Date</th>\n",
       "      <th></th>\n",
       "      <th></th>\n",
       "      <th></th>\n",
       "      <th></th>\n",
       "      <th></th>\n",
       "      <th></th>\n",
       "      <th></th>\n",
       "      <th></th>\n",
       "      <th></th>\n",
       "      <th></th>\n",
       "      <th></th>\n",
       "      <th></th>\n",
       "      <th></th>\n",
       "      <th></th>\n",
       "      <th></th>\n",
       "      <th></th>\n",
       "      <th></th>\n",
       "      <th></th>\n",
       "      <th></th>\n",
       "      <th></th>\n",
       "      <th></th>\n",
       "    </tr>\n",
       "  </thead>\n",
       "  <tbody>\n",
       "    <tr>\n",
       "      <th>2011-03-31</th>\n",
       "      <td>NaN</td>\n",
       "      <td>NaN</td>\n",
       "      <td>NaN</td>\n",
       "      <td>NaN</td>\n",
       "      <td>NaN</td>\n",
       "      <td>NaN</td>\n",
       "      <td>NaN</td>\n",
       "      <td>NaN</td>\n",
       "      <td>NaN</td>\n",
       "      <td>NaN</td>\n",
       "      <td>...</td>\n",
       "      <td>NaN</td>\n",
       "      <td>NaN</td>\n",
       "      <td>NaN</td>\n",
       "      <td>NaN</td>\n",
       "      <td>NaN</td>\n",
       "      <td>NaN</td>\n",
       "      <td>-0.190773</td>\n",
       "      <td>NaN</td>\n",
       "      <td>NaN</td>\n",
       "      <td>NaN</td>\n",
       "    </tr>\n",
       "    <tr>\n",
       "      <th>2012-03-31</th>\n",
       "      <td>NaN</td>\n",
       "      <td>NaN</td>\n",
       "      <td>NaN</td>\n",
       "      <td>NaN</td>\n",
       "      <td>NaN</td>\n",
       "      <td>NaN</td>\n",
       "      <td>NaN</td>\n",
       "      <td>NaN</td>\n",
       "      <td>NaN</td>\n",
       "      <td>NaN</td>\n",
       "      <td>...</td>\n",
       "      <td>NaN</td>\n",
       "      <td>NaN</td>\n",
       "      <td>NaN</td>\n",
       "      <td>NaN</td>\n",
       "      <td>NaN</td>\n",
       "      <td>NaN</td>\n",
       "      <td>-0.679603</td>\n",
       "      <td>NaN</td>\n",
       "      <td>NaN</td>\n",
       "      <td>NaN</td>\n",
       "    </tr>\n",
       "    <tr>\n",
       "      <th>2013-03-31</th>\n",
       "      <td>NaN</td>\n",
       "      <td>NaN</td>\n",
       "      <td>NaN</td>\n",
       "      <td>NaN</td>\n",
       "      <td>NaN</td>\n",
       "      <td>NaN</td>\n",
       "      <td>NaN</td>\n",
       "      <td>NaN</td>\n",
       "      <td>NaN</td>\n",
       "      <td>NaN</td>\n",
       "      <td>...</td>\n",
       "      <td>NaN</td>\n",
       "      <td>NaN</td>\n",
       "      <td>NaN</td>\n",
       "      <td>NaN</td>\n",
       "      <td>NaN</td>\n",
       "      <td>NaN</td>\n",
       "      <td>0.047483</td>\n",
       "      <td>NaN</td>\n",
       "      <td>NaN</td>\n",
       "      <td>NaN</td>\n",
       "    </tr>\n",
       "  </tbody>\n",
       "</table>\n",
       "<p>3 rows × 706 columns</p>\n",
       "</div>"
      ],
      "text/plain": [
       "            2CRSI.PA  2MX.PA  ASP.PA  AALB.AS  ABI.BR  AB.PA  ABCA.PA  \\\n",
       "Date                                                                    \n",
       "2011-03-31       NaN     NaN     NaN      NaN     NaN    NaN      NaN   \n",
       "2012-03-31       NaN     NaN     NaN      NaN     NaN    NaN      NaN   \n",
       "2013-03-31       NaN     NaN     NaN      NaN     NaN    NaN      NaN   \n",
       "\n",
       "            ABEO.PA  ABNX.PA  ABVX.PA  ...  WLN.PA  XFAB.PA  XIL.PA  XIOR.BR  \\\n",
       "Date                                   ...                                     \n",
       "2011-03-31      NaN      NaN      NaN  ...     NaN      NaN     NaN      NaN   \n",
       "2012-03-31      NaN      NaN      NaN  ...     NaN      NaN     NaN      NaN   \n",
       "2013-03-31      NaN      NaN      NaN  ...     NaN      NaN     NaN      NaN   \n",
       "\n",
       "            XPO.PA  YATRA.AS     CV.PA  ZENT.BR  ^FCHI  ^N100  \n",
       "Date                                                           \n",
       "2011-03-31     NaN       NaN -0.190773      NaN    NaN    NaN  \n",
       "2012-03-31     NaN       NaN -0.679603      NaN    NaN    NaN  \n",
       "2013-03-31     NaN       NaN  0.047483      NaN    NaN    NaN  \n",
       "\n",
       "[3 rows x 706 columns]"
      ]
     },
     "execution_count": 34,
     "metadata": {},
     "output_type": "execute_result"
    }
   ],
   "source": [
    "df_pm_data.head(3)"
   ]
  },
  {
   "cell_type": "markdown",
   "id": "3897d0db",
   "metadata": {},
   "source": [
    "#### Retrieve Dividend Payout ratios"
   ]
  },
  {
   "cell_type": "code",
   "execution_count": 35,
   "id": "0c6f6800",
   "metadata": {
    "ExecuteTime": {
     "end_time": "2021-06-01T08:45:36.215903Z",
     "start_time": "2021-06-01T08:45:36.101978Z"
    }
   },
   "outputs": [],
   "source": [
    "# Read data from s3\n",
    "role = get_execution_role()\n",
    "bucket=\"euronext-stocks\"\n",
    "data_key = \"series_dpr_data.csv\"\n",
    "data_location = 's3://{}/{}'.format(bucket, data_key)\n",
    "df_dpr_data = pd.read_csv(data_location,)\n",
    "df_dpr_data.set_index(df_dpr_data[\"Unnamed: 0\"], drop=True, inplace=True)\n",
    "df_dpr_data.index.name = \"Date\"\n",
    "df_dpr_data.drop(\"Unnamed: 0\", axis=1, inplace=True)\n",
    "df_dpr_data.columns = [\"dpr\"]"
   ]
  },
  {
   "cell_type": "code",
   "execution_count": 36,
   "id": "bd4c7fde",
   "metadata": {
    "ExecuteTime": {
     "end_time": "2021-06-01T08:45:36.224152Z",
     "start_time": "2021-06-01T08:45:36.217480Z"
    },
    "scrolled": true
   },
   "outputs": [
    {
     "data": {
      "text/html": [
       "<div>\n",
       "<style scoped>\n",
       "    .dataframe tbody tr th:only-of-type {\n",
       "        vertical-align: middle;\n",
       "    }\n",
       "\n",
       "    .dataframe tbody tr th {\n",
       "        vertical-align: top;\n",
       "    }\n",
       "\n",
       "    .dataframe thead th {\n",
       "        text-align: right;\n",
       "    }\n",
       "</style>\n",
       "<table border=\"1\" class=\"dataframe\">\n",
       "  <thead>\n",
       "    <tr style=\"text-align: right;\">\n",
       "      <th></th>\n",
       "      <th>dpr</th>\n",
       "    </tr>\n",
       "    <tr>\n",
       "      <th>Date</th>\n",
       "      <th></th>\n",
       "    </tr>\n",
       "  </thead>\n",
       "  <tbody>\n",
       "    <tr>\n",
       "      <th>2CRSI.PA</th>\n",
       "      <td>0.0</td>\n",
       "    </tr>\n",
       "    <tr>\n",
       "      <th>2MX.PA</th>\n",
       "      <td>NaN</td>\n",
       "    </tr>\n",
       "    <tr>\n",
       "      <th>ASP.PA</th>\n",
       "      <td>0.0</td>\n",
       "    </tr>\n",
       "  </tbody>\n",
       "</table>\n",
       "</div>"
      ],
      "text/plain": [
       "          dpr\n",
       "Date         \n",
       "2CRSI.PA  0.0\n",
       "2MX.PA    NaN\n",
       "ASP.PA    0.0"
      ]
     },
     "execution_count": 36,
     "metadata": {},
     "output_type": "execute_result"
    }
   ],
   "source": [
    "df_dpr_data.head(3)"
   ]
  },
  {
   "cell_type": "markdown",
   "id": "8e8379dd",
   "metadata": {},
   "source": [
    "#### Retrieve Pre-calculated Price to Free Cashflow ratios"
   ]
  },
  {
   "cell_type": "code",
   "execution_count": 37,
   "id": "4be1e7d9",
   "metadata": {
    "ExecuteTime": {
     "end_time": "2021-06-01T08:45:36.570625Z",
     "start_time": "2021-06-01T08:45:36.225909Z"
    }
   },
   "outputs": [],
   "source": [
    "# Read data from s3\n",
    "role = get_execution_role()\n",
    "bucket=\"euronext-stocks\"\n",
    "data_key = \"df_pfcf_data.csv\"\n",
    "data_location = 's3://{}/{}'.format(bucket, data_key)\n",
    "df_pfcf_data = pd.read_csv(data_location,)\n",
    "df_pfcf_data.set_index(df_pfcf_data[\"Date\"], drop=True, inplace=True)\n",
    "df_pfcf_data.index.name = \"Date\"\n",
    "df_pfcf_data.index = pd.to_datetime(df_pfcf_data.index)\n",
    "df_pfcf_data.drop(\"Date\", axis=1, inplace=True)"
   ]
  },
  {
   "cell_type": "code",
   "execution_count": 38,
   "id": "5af8fdf9",
   "metadata": {
    "ExecuteTime": {
     "end_time": "2021-06-01T08:45:36.595609Z",
     "start_time": "2021-06-01T08:45:36.572308Z"
    }
   },
   "outputs": [
    {
     "data": {
      "text/html": [
       "<div>\n",
       "<style scoped>\n",
       "    .dataframe tbody tr th:only-of-type {\n",
       "        vertical-align: middle;\n",
       "    }\n",
       "\n",
       "    .dataframe tbody tr th {\n",
       "        vertical-align: top;\n",
       "    }\n",
       "\n",
       "    .dataframe thead th {\n",
       "        text-align: right;\n",
       "    }\n",
       "</style>\n",
       "<table border=\"1\" class=\"dataframe\">\n",
       "  <thead>\n",
       "    <tr style=\"text-align: right;\">\n",
       "      <th></th>\n",
       "      <th>2CRSI.PA</th>\n",
       "      <th>2MX.PA</th>\n",
       "      <th>ASP.PA</th>\n",
       "      <th>AALB.AS</th>\n",
       "      <th>ABI.BR</th>\n",
       "      <th>AB.PA</th>\n",
       "      <th>ABCA.PA</th>\n",
       "      <th>ABEO.PA</th>\n",
       "      <th>ABNX.PA</th>\n",
       "      <th>ABVX.PA</th>\n",
       "      <th>...</th>\n",
       "      <th>WLN.PA</th>\n",
       "      <th>XFAB.PA</th>\n",
       "      <th>XIL.PA</th>\n",
       "      <th>XIOR.BR</th>\n",
       "      <th>XPO.PA</th>\n",
       "      <th>YATRA.AS</th>\n",
       "      <th>CV.PA</th>\n",
       "      <th>ZENT.BR</th>\n",
       "      <th>^FCHI</th>\n",
       "      <th>^N100</th>\n",
       "    </tr>\n",
       "    <tr>\n",
       "      <th>Date</th>\n",
       "      <th></th>\n",
       "      <th></th>\n",
       "      <th></th>\n",
       "      <th></th>\n",
       "      <th></th>\n",
       "      <th></th>\n",
       "      <th></th>\n",
       "      <th></th>\n",
       "      <th></th>\n",
       "      <th></th>\n",
       "      <th></th>\n",
       "      <th></th>\n",
       "      <th></th>\n",
       "      <th></th>\n",
       "      <th></th>\n",
       "      <th></th>\n",
       "      <th></th>\n",
       "      <th></th>\n",
       "      <th></th>\n",
       "      <th></th>\n",
       "      <th></th>\n",
       "    </tr>\n",
       "  </thead>\n",
       "  <tbody>\n",
       "    <tr>\n",
       "      <th>2019-05-23</th>\n",
       "      <td>NaN</td>\n",
       "      <td>NaN</td>\n",
       "      <td>2.368719</td>\n",
       "      <td>11.574347</td>\n",
       "      <td>18.831727</td>\n",
       "      <td>-13.851545</td>\n",
       "      <td>NaN</td>\n",
       "      <td>NaN</td>\n",
       "      <td>NaN</td>\n",
       "      <td>-4.199688</td>\n",
       "      <td>...</td>\n",
       "      <td>39.292611</td>\n",
       "      <td>17.286104</td>\n",
       "      <td>NaN</td>\n",
       "      <td>287.423531</td>\n",
       "      <td>4.856122</td>\n",
       "      <td>NaN</td>\n",
       "      <td>NaN</td>\n",
       "      <td>8.179349</td>\n",
       "      <td>NaN</td>\n",
       "      <td>NaN</td>\n",
       "    </tr>\n",
       "    <tr>\n",
       "      <th>2019-05-24</th>\n",
       "      <td>NaN</td>\n",
       "      <td>NaN</td>\n",
       "      <td>2.411787</td>\n",
       "      <td>11.601264</td>\n",
       "      <td>18.788290</td>\n",
       "      <td>-13.484086</td>\n",
       "      <td>NaN</td>\n",
       "      <td>NaN</td>\n",
       "      <td>NaN</td>\n",
       "      <td>-4.251247</td>\n",
       "      <td>...</td>\n",
       "      <td>40.390610</td>\n",
       "      <td>17.813785</td>\n",
       "      <td>NaN</td>\n",
       "      <td>289.372163</td>\n",
       "      <td>4.856122</td>\n",
       "      <td>NaN</td>\n",
       "      <td>NaN</td>\n",
       "      <td>8.229529</td>\n",
       "      <td>NaN</td>\n",
       "      <td>NaN</td>\n",
       "    </tr>\n",
       "    <tr>\n",
       "      <th>2019-05-27</th>\n",
       "      <td>NaN</td>\n",
       "      <td>NaN</td>\n",
       "      <td>2.403173</td>\n",
       "      <td>11.670479</td>\n",
       "      <td>18.982484</td>\n",
       "      <td>-13.420181</td>\n",
       "      <td>NaN</td>\n",
       "      <td>NaN</td>\n",
       "      <td>NaN</td>\n",
       "      <td>-4.241873</td>\n",
       "      <td>...</td>\n",
       "      <td>40.390610</td>\n",
       "      <td>17.504455</td>\n",
       "      <td>NaN</td>\n",
       "      <td>290.671259</td>\n",
       "      <td>4.856122</td>\n",
       "      <td>NaN</td>\n",
       "      <td>NaN</td>\n",
       "      <td>8.279709</td>\n",
       "      <td>NaN</td>\n",
       "      <td>NaN</td>\n",
       "    </tr>\n",
       "  </tbody>\n",
       "</table>\n",
       "<p>3 rows × 706 columns</p>\n",
       "</div>"
      ],
      "text/plain": [
       "            2CRSI.PA  2MX.PA    ASP.PA    AALB.AS     ABI.BR      AB.PA  \\\n",
       "Date                                                                      \n",
       "2019-05-23       NaN     NaN  2.368719  11.574347  18.831727 -13.851545   \n",
       "2019-05-24       NaN     NaN  2.411787  11.601264  18.788290 -13.484086   \n",
       "2019-05-27       NaN     NaN  2.403173  11.670479  18.982484 -13.420181   \n",
       "\n",
       "            ABCA.PA  ABEO.PA  ABNX.PA   ABVX.PA  ...     WLN.PA    XFAB.PA  \\\n",
       "Date                                             ...                         \n",
       "2019-05-23      NaN      NaN      NaN -4.199688  ...  39.292611  17.286104   \n",
       "2019-05-24      NaN      NaN      NaN -4.251247  ...  40.390610  17.813785   \n",
       "2019-05-27      NaN      NaN      NaN -4.241873  ...  40.390610  17.504455   \n",
       "\n",
       "            XIL.PA     XIOR.BR    XPO.PA  YATRA.AS  CV.PA   ZENT.BR  ^FCHI  \\\n",
       "Date                                                                         \n",
       "2019-05-23     NaN  287.423531  4.856122       NaN    NaN  8.179349    NaN   \n",
       "2019-05-24     NaN  289.372163  4.856122       NaN    NaN  8.229529    NaN   \n",
       "2019-05-27     NaN  290.671259  4.856122       NaN    NaN  8.279709    NaN   \n",
       "\n",
       "            ^N100  \n",
       "Date               \n",
       "2019-05-23    NaN  \n",
       "2019-05-24    NaN  \n",
       "2019-05-27    NaN  \n",
       "\n",
       "[3 rows x 706 columns]"
      ]
     },
     "execution_count": 38,
     "metadata": {},
     "output_type": "execute_result"
    }
   ],
   "source": [
    "df_pfcf_data.head(3)"
   ]
  },
  {
   "cell_type": "markdown",
   "id": "37a511d4",
   "metadata": {},
   "source": [
    "#### Retrieve Debt to Equity ratios"
   ]
  },
  {
   "cell_type": "code",
   "execution_count": 39,
   "id": "a8ac132e",
   "metadata": {
    "ExecuteTime": {
     "end_time": "2021-06-01T08:45:36.767923Z",
     "start_time": "2021-06-01T08:45:36.597265Z"
    }
   },
   "outputs": [],
   "source": [
    "# Read data from s3\n",
    "role = get_execution_role()\n",
    "bucket=\"euronext-stocks\"\n",
    "data_key = \"df_de_data.csv\"\n",
    "data_location = 's3://{}/{}'.format(bucket, data_key)\n",
    "df_de_data = pd.read_csv(data_location,)\n",
    "df_de_data.set_index(df_de_data[\"Unnamed: 0\"], drop=True, inplace=True)\n",
    "df_de_data.index.name = \"Date\"\n",
    "df_de_data.index = pd.to_datetime(df_de_data.index)\n",
    "df_de_data.drop(\"Unnamed: 0\", axis=1, inplace=True)"
   ]
  },
  {
   "cell_type": "code",
   "execution_count": 40,
   "id": "acf71fe6",
   "metadata": {
    "ExecuteTime": {
     "end_time": "2021-06-01T08:45:36.793410Z",
     "start_time": "2021-06-01T08:45:36.769582Z"
    }
   },
   "outputs": [
    {
     "data": {
      "text/html": [
       "<div>\n",
       "<style scoped>\n",
       "    .dataframe tbody tr th:only-of-type {\n",
       "        vertical-align: middle;\n",
       "    }\n",
       "\n",
       "    .dataframe tbody tr th {\n",
       "        vertical-align: top;\n",
       "    }\n",
       "\n",
       "    .dataframe thead th {\n",
       "        text-align: right;\n",
       "    }\n",
       "</style>\n",
       "<table border=\"1\" class=\"dataframe\">\n",
       "  <thead>\n",
       "    <tr style=\"text-align: right;\">\n",
       "      <th></th>\n",
       "      <th>2CRSI.PA</th>\n",
       "      <th>2MX.PA</th>\n",
       "      <th>ASP.PA</th>\n",
       "      <th>AALB.AS</th>\n",
       "      <th>ABI.BR</th>\n",
       "      <th>AB.PA</th>\n",
       "      <th>ABCA.PA</th>\n",
       "      <th>ABEO.PA</th>\n",
       "      <th>ABNX.PA</th>\n",
       "      <th>ABVX.PA</th>\n",
       "      <th>...</th>\n",
       "      <th>WLN.PA</th>\n",
       "      <th>XFAB.PA</th>\n",
       "      <th>XIL.PA</th>\n",
       "      <th>XIOR.BR</th>\n",
       "      <th>XPO.PA</th>\n",
       "      <th>YATRA.AS</th>\n",
       "      <th>CV.PA</th>\n",
       "      <th>ZENT.BR</th>\n",
       "      <th>^FCHI</th>\n",
       "      <th>^N100</th>\n",
       "    </tr>\n",
       "    <tr>\n",
       "      <th>Date</th>\n",
       "      <th></th>\n",
       "      <th></th>\n",
       "      <th></th>\n",
       "      <th></th>\n",
       "      <th></th>\n",
       "      <th></th>\n",
       "      <th></th>\n",
       "      <th></th>\n",
       "      <th></th>\n",
       "      <th></th>\n",
       "      <th></th>\n",
       "      <th></th>\n",
       "      <th></th>\n",
       "      <th></th>\n",
       "      <th></th>\n",
       "      <th></th>\n",
       "      <th></th>\n",
       "      <th></th>\n",
       "      <th></th>\n",
       "      <th></th>\n",
       "      <th></th>\n",
       "    </tr>\n",
       "  </thead>\n",
       "  <tbody>\n",
       "    <tr>\n",
       "      <th>2020-10-31</th>\n",
       "      <td>NaN</td>\n",
       "      <td>NaN</td>\n",
       "      <td>NaN</td>\n",
       "      <td>NaN</td>\n",
       "      <td>NaN</td>\n",
       "      <td>NaN</td>\n",
       "      <td>NaN</td>\n",
       "      <td>NaN</td>\n",
       "      <td>NaN</td>\n",
       "      <td>NaN</td>\n",
       "      <td>...</td>\n",
       "      <td>NaN</td>\n",
       "      <td>NaN</td>\n",
       "      <td>NaN</td>\n",
       "      <td>NaN</td>\n",
       "      <td>NaN</td>\n",
       "      <td>NaN</td>\n",
       "      <td>NaN</td>\n",
       "      <td>NaN</td>\n",
       "      <td>NaN</td>\n",
       "      <td>NaN</td>\n",
       "    </tr>\n",
       "    <tr>\n",
       "      <th>2020-11-30</th>\n",
       "      <td>NaN</td>\n",
       "      <td>NaN</td>\n",
       "      <td>NaN</td>\n",
       "      <td>NaN</td>\n",
       "      <td>NaN</td>\n",
       "      <td>NaN</td>\n",
       "      <td>NaN</td>\n",
       "      <td>NaN</td>\n",
       "      <td>NaN</td>\n",
       "      <td>NaN</td>\n",
       "      <td>...</td>\n",
       "      <td>NaN</td>\n",
       "      <td>NaN</td>\n",
       "      <td>NaN</td>\n",
       "      <td>NaN</td>\n",
       "      <td>NaN</td>\n",
       "      <td>NaN</td>\n",
       "      <td>NaN</td>\n",
       "      <td>NaN</td>\n",
       "      <td>NaN</td>\n",
       "      <td>NaN</td>\n",
       "    </tr>\n",
       "    <tr>\n",
       "      <th>2020-12-31</th>\n",
       "      <td>NaN</td>\n",
       "      <td>NaN</td>\n",
       "      <td>2.683847</td>\n",
       "      <td>0.816696</td>\n",
       "      <td>2.17657</td>\n",
       "      <td>-2.518645</td>\n",
       "      <td>0.123521</td>\n",
       "      <td>NaN</td>\n",
       "      <td>NaN</td>\n",
       "      <td>NaN</td>\n",
       "      <td>...</td>\n",
       "      <td>0.979221</td>\n",
       "      <td>0.262568</td>\n",
       "      <td>NaN</td>\n",
       "      <td>1.498467</td>\n",
       "      <td>3.711813</td>\n",
       "      <td>NaN</td>\n",
       "      <td>NaN</td>\n",
       "      <td>0.614409</td>\n",
       "      <td>NaN</td>\n",
       "      <td>NaN</td>\n",
       "    </tr>\n",
       "    <tr>\n",
       "      <th>2021-01-03</th>\n",
       "      <td>NaN</td>\n",
       "      <td>NaN</td>\n",
       "      <td>NaN</td>\n",
       "      <td>NaN</td>\n",
       "      <td>NaN</td>\n",
       "      <td>NaN</td>\n",
       "      <td>NaN</td>\n",
       "      <td>NaN</td>\n",
       "      <td>NaN</td>\n",
       "      <td>NaN</td>\n",
       "      <td>...</td>\n",
       "      <td>NaN</td>\n",
       "      <td>NaN</td>\n",
       "      <td>NaN</td>\n",
       "      <td>NaN</td>\n",
       "      <td>NaN</td>\n",
       "      <td>NaN</td>\n",
       "      <td>NaN</td>\n",
       "      <td>NaN</td>\n",
       "      <td>NaN</td>\n",
       "      <td>NaN</td>\n",
       "    </tr>\n",
       "    <tr>\n",
       "      <th>2021-01-31</th>\n",
       "      <td>NaN</td>\n",
       "      <td>NaN</td>\n",
       "      <td>NaN</td>\n",
       "      <td>NaN</td>\n",
       "      <td>NaN</td>\n",
       "      <td>NaN</td>\n",
       "      <td>NaN</td>\n",
       "      <td>NaN</td>\n",
       "      <td>NaN</td>\n",
       "      <td>NaN</td>\n",
       "      <td>...</td>\n",
       "      <td>NaN</td>\n",
       "      <td>NaN</td>\n",
       "      <td>NaN</td>\n",
       "      <td>NaN</td>\n",
       "      <td>NaN</td>\n",
       "      <td>NaN</td>\n",
       "      <td>NaN</td>\n",
       "      <td>NaN</td>\n",
       "      <td>NaN</td>\n",
       "      <td>NaN</td>\n",
       "    </tr>\n",
       "  </tbody>\n",
       "</table>\n",
       "<p>5 rows × 706 columns</p>\n",
       "</div>"
      ],
      "text/plain": [
       "            2CRSI.PA  2MX.PA    ASP.PA   AALB.AS   ABI.BR     AB.PA   ABCA.PA  \\\n",
       "Date                                                                            \n",
       "2020-10-31       NaN     NaN       NaN       NaN      NaN       NaN       NaN   \n",
       "2020-11-30       NaN     NaN       NaN       NaN      NaN       NaN       NaN   \n",
       "2020-12-31       NaN     NaN  2.683847  0.816696  2.17657 -2.518645  0.123521   \n",
       "2021-01-03       NaN     NaN       NaN       NaN      NaN       NaN       NaN   \n",
       "2021-01-31       NaN     NaN       NaN       NaN      NaN       NaN       NaN   \n",
       "\n",
       "            ABEO.PA  ABNX.PA  ABVX.PA  ...    WLN.PA   XFAB.PA  XIL.PA  \\\n",
       "Date                                   ...                               \n",
       "2020-10-31      NaN      NaN      NaN  ...       NaN       NaN     NaN   \n",
       "2020-11-30      NaN      NaN      NaN  ...       NaN       NaN     NaN   \n",
       "2020-12-31      NaN      NaN      NaN  ...  0.979221  0.262568     NaN   \n",
       "2021-01-03      NaN      NaN      NaN  ...       NaN       NaN     NaN   \n",
       "2021-01-31      NaN      NaN      NaN  ...       NaN       NaN     NaN   \n",
       "\n",
       "             XIOR.BR    XPO.PA  YATRA.AS  CV.PA   ZENT.BR  ^FCHI  ^N100  \n",
       "Date                                                                     \n",
       "2020-10-31       NaN       NaN       NaN    NaN       NaN    NaN    NaN  \n",
       "2020-11-30       NaN       NaN       NaN    NaN       NaN    NaN    NaN  \n",
       "2020-12-31  1.498467  3.711813       NaN    NaN  0.614409    NaN    NaN  \n",
       "2021-01-03       NaN       NaN       NaN    NaN       NaN    NaN    NaN  \n",
       "2021-01-31       NaN       NaN       NaN    NaN       NaN    NaN    NaN  \n",
       "\n",
       "[5 rows x 706 columns]"
      ]
     },
     "execution_count": 40,
     "metadata": {},
     "output_type": "execute_result"
    }
   ],
   "source": [
    "df_de_data.tail()"
   ]
  },
  {
   "cell_type": "markdown",
   "id": "26ff0d8c",
   "metadata": {},
   "source": [
    "#### Retrieve Current ratios"
   ]
  },
  {
   "cell_type": "code",
   "execution_count": 41,
   "id": "efa36baf",
   "metadata": {
    "ExecuteTime": {
     "end_time": "2021-06-01T08:45:36.955452Z",
     "start_time": "2021-06-01T08:45:36.794989Z"
    }
   },
   "outputs": [],
   "source": [
    "# Read data from s3\n",
    "role = get_execution_role()\n",
    "bucket=\"euronext-stocks\"\n",
    "data_key = \"df_cr_data.csv\"\n",
    "data_location = 's3://{}/{}'.format(bucket, data_key)\n",
    "df_cr_data = pd.read_csv(data_location,)\n",
    "df_cr_data.set_index(df_cr_data[\"Unnamed: 0\"], drop=True, inplace=True)\n",
    "df_cr_data.index.name = \"Date\"\n",
    "df_cr_data.index = pd.to_datetime(df_cr_data.index)\n",
    "df_cr_data.drop(\"Unnamed: 0\", axis=1, inplace=True)"
   ]
  },
  {
   "cell_type": "code",
   "execution_count": 42,
   "id": "32c04afa",
   "metadata": {
    "ExecuteTime": {
     "end_time": "2021-06-01T08:45:36.980766Z",
     "start_time": "2021-06-01T08:45:36.957042Z"
    }
   },
   "outputs": [
    {
     "data": {
      "text/html": [
       "<div>\n",
       "<style scoped>\n",
       "    .dataframe tbody tr th:only-of-type {\n",
       "        vertical-align: middle;\n",
       "    }\n",
       "\n",
       "    .dataframe tbody tr th {\n",
       "        vertical-align: top;\n",
       "    }\n",
       "\n",
       "    .dataframe thead th {\n",
       "        text-align: right;\n",
       "    }\n",
       "</style>\n",
       "<table border=\"1\" class=\"dataframe\">\n",
       "  <thead>\n",
       "    <tr style=\"text-align: right;\">\n",
       "      <th></th>\n",
       "      <th>2CRSI.PA</th>\n",
       "      <th>2MX.PA</th>\n",
       "      <th>ASP.PA</th>\n",
       "      <th>AALB.AS</th>\n",
       "      <th>ABI.BR</th>\n",
       "      <th>AB.PA</th>\n",
       "      <th>ABCA.PA</th>\n",
       "      <th>ABEO.PA</th>\n",
       "      <th>ABNX.PA</th>\n",
       "      <th>ABVX.PA</th>\n",
       "      <th>...</th>\n",
       "      <th>WLN.PA</th>\n",
       "      <th>XFAB.PA</th>\n",
       "      <th>XIL.PA</th>\n",
       "      <th>XIOR.BR</th>\n",
       "      <th>XPO.PA</th>\n",
       "      <th>YATRA.AS</th>\n",
       "      <th>CV.PA</th>\n",
       "      <th>ZENT.BR</th>\n",
       "      <th>^FCHI</th>\n",
       "      <th>^N100</th>\n",
       "    </tr>\n",
       "    <tr>\n",
       "      <th>Date</th>\n",
       "      <th></th>\n",
       "      <th></th>\n",
       "      <th></th>\n",
       "      <th></th>\n",
       "      <th></th>\n",
       "      <th></th>\n",
       "      <th></th>\n",
       "      <th></th>\n",
       "      <th></th>\n",
       "      <th></th>\n",
       "      <th></th>\n",
       "      <th></th>\n",
       "      <th></th>\n",
       "      <th></th>\n",
       "      <th></th>\n",
       "      <th></th>\n",
       "      <th></th>\n",
       "      <th></th>\n",
       "      <th></th>\n",
       "      <th></th>\n",
       "      <th></th>\n",
       "    </tr>\n",
       "  </thead>\n",
       "  <tbody>\n",
       "    <tr>\n",
       "      <th>2011-03-31</th>\n",
       "      <td>NaN</td>\n",
       "      <td>NaN</td>\n",
       "      <td>NaN</td>\n",
       "      <td>NaN</td>\n",
       "      <td>NaN</td>\n",
       "      <td>NaN</td>\n",
       "      <td>NaN</td>\n",
       "      <td>NaN</td>\n",
       "      <td>NaN</td>\n",
       "      <td>NaN</td>\n",
       "      <td>...</td>\n",
       "      <td>NaN</td>\n",
       "      <td>NaN</td>\n",
       "      <td>NaN</td>\n",
       "      <td>NaN</td>\n",
       "      <td>NaN</td>\n",
       "      <td>NaN</td>\n",
       "      <td>4.753657</td>\n",
       "      <td>NaN</td>\n",
       "      <td>NaN</td>\n",
       "      <td>NaN</td>\n",
       "    </tr>\n",
       "    <tr>\n",
       "      <th>2012-03-31</th>\n",
       "      <td>NaN</td>\n",
       "      <td>NaN</td>\n",
       "      <td>NaN</td>\n",
       "      <td>NaN</td>\n",
       "      <td>NaN</td>\n",
       "      <td>NaN</td>\n",
       "      <td>NaN</td>\n",
       "      <td>NaN</td>\n",
       "      <td>NaN</td>\n",
       "      <td>NaN</td>\n",
       "      <td>...</td>\n",
       "      <td>NaN</td>\n",
       "      <td>NaN</td>\n",
       "      <td>NaN</td>\n",
       "      <td>NaN</td>\n",
       "      <td>NaN</td>\n",
       "      <td>NaN</td>\n",
       "      <td>1.383913</td>\n",
       "      <td>NaN</td>\n",
       "      <td>NaN</td>\n",
       "      <td>NaN</td>\n",
       "    </tr>\n",
       "    <tr>\n",
       "      <th>2013-03-31</th>\n",
       "      <td>NaN</td>\n",
       "      <td>NaN</td>\n",
       "      <td>NaN</td>\n",
       "      <td>NaN</td>\n",
       "      <td>NaN</td>\n",
       "      <td>NaN</td>\n",
       "      <td>NaN</td>\n",
       "      <td>NaN</td>\n",
       "      <td>NaN</td>\n",
       "      <td>NaN</td>\n",
       "      <td>...</td>\n",
       "      <td>NaN</td>\n",
       "      <td>NaN</td>\n",
       "      <td>NaN</td>\n",
       "      <td>NaN</td>\n",
       "      <td>NaN</td>\n",
       "      <td>NaN</td>\n",
       "      <td>1.351143</td>\n",
       "      <td>NaN</td>\n",
       "      <td>NaN</td>\n",
       "      <td>NaN</td>\n",
       "    </tr>\n",
       "  </tbody>\n",
       "</table>\n",
       "<p>3 rows × 706 columns</p>\n",
       "</div>"
      ],
      "text/plain": [
       "            2CRSI.PA  2MX.PA  ASP.PA  AALB.AS  ABI.BR  AB.PA  ABCA.PA  \\\n",
       "Date                                                                    \n",
       "2011-03-31       NaN     NaN     NaN      NaN     NaN    NaN      NaN   \n",
       "2012-03-31       NaN     NaN     NaN      NaN     NaN    NaN      NaN   \n",
       "2013-03-31       NaN     NaN     NaN      NaN     NaN    NaN      NaN   \n",
       "\n",
       "            ABEO.PA  ABNX.PA  ABVX.PA  ...  WLN.PA  XFAB.PA  XIL.PA  XIOR.BR  \\\n",
       "Date                                   ...                                     \n",
       "2011-03-31      NaN      NaN      NaN  ...     NaN      NaN     NaN      NaN   \n",
       "2012-03-31      NaN      NaN      NaN  ...     NaN      NaN     NaN      NaN   \n",
       "2013-03-31      NaN      NaN      NaN  ...     NaN      NaN     NaN      NaN   \n",
       "\n",
       "            XPO.PA  YATRA.AS     CV.PA  ZENT.BR  ^FCHI  ^N100  \n",
       "Date                                                           \n",
       "2011-03-31     NaN       NaN  4.753657      NaN    NaN    NaN  \n",
       "2012-03-31     NaN       NaN  1.383913      NaN    NaN    NaN  \n",
       "2013-03-31     NaN       NaN  1.351143      NaN    NaN    NaN  \n",
       "\n",
       "[3 rows x 706 columns]"
      ]
     },
     "execution_count": 42,
     "metadata": {},
     "output_type": "execute_result"
    }
   ],
   "source": [
    "df_cr_data.head(3)"
   ]
  },
  {
   "cell_type": "markdown",
   "id": "9c6c1a3a",
   "metadata": {},
   "source": [
    "#### Retrieve Covid data"
   ]
  },
  {
   "cell_type": "markdown",
   "id": "c787476b",
   "metadata": {},
   "source": [
    "##### New cases"
   ]
  },
  {
   "cell_type": "code",
   "execution_count": 43,
   "id": "7b9ba8e7",
   "metadata": {
    "ExecuteTime": {
     "end_time": "2021-06-01T08:45:37.089108Z",
     "start_time": "2021-06-01T08:45:36.982360Z"
    }
   },
   "outputs": [],
   "source": [
    "# Read data from s3\n",
    "role = get_execution_role()\n",
    "bucket=\"euronext-stocks\"\n",
    "data_key = \"df_log_new_cases.csv\"\n",
    "data_location = 's3://{}/{}'.format(bucket, data_key)\n",
    "df_log_new_cases = pd.read_csv(data_location,)\n",
    "df_log_new_cases.set_index(df_log_new_cases[\"date\"], drop=True, inplace=True)\n",
    "df_log_new_cases.index.name = \"Date\"\n",
    "df_log_new_cases.index = pd.to_datetime(df_log_new_cases.index)\n",
    "df_log_new_cases.drop(\"date\", axis=1, inplace=True)"
   ]
  },
  {
   "cell_type": "code",
   "execution_count": 44,
   "id": "9bea4678",
   "metadata": {
    "ExecuteTime": {
     "end_time": "2021-06-01T08:45:37.105439Z",
     "start_time": "2021-06-01T08:45:37.093206Z"
    }
   },
   "outputs": [
    {
     "data": {
      "text/html": [
       "<div>\n",
       "<style scoped>\n",
       "    .dataframe tbody tr th:only-of-type {\n",
       "        vertical-align: middle;\n",
       "    }\n",
       "\n",
       "    .dataframe tbody tr th {\n",
       "        vertical-align: top;\n",
       "    }\n",
       "\n",
       "    .dataframe thead th {\n",
       "        text-align: right;\n",
       "    }\n",
       "</style>\n",
       "<table border=\"1\" class=\"dataframe\">\n",
       "  <thead>\n",
       "    <tr style=\"text-align: right;\">\n",
       "      <th></th>\n",
       "      <th>new_cases_smoothed</th>\n",
       "    </tr>\n",
       "    <tr>\n",
       "      <th>Date</th>\n",
       "      <th></th>\n",
       "    </tr>\n",
       "  </thead>\n",
       "  <tbody>\n",
       "    <tr>\n",
       "      <th>2020-01-22</th>\n",
       "      <td>NaN</td>\n",
       "    </tr>\n",
       "    <tr>\n",
       "      <th>2020-01-23</th>\n",
       "      <td>NaN</td>\n",
       "    </tr>\n",
       "    <tr>\n",
       "      <th>2020-01-24</th>\n",
       "      <td>NaN</td>\n",
       "    </tr>\n",
       "    <tr>\n",
       "      <th>2020-01-25</th>\n",
       "      <td>NaN</td>\n",
       "    </tr>\n",
       "    <tr>\n",
       "      <th>2020-01-26</th>\n",
       "      <td>NaN</td>\n",
       "    </tr>\n",
       "    <tr>\n",
       "      <th>...</th>\n",
       "      <td>...</td>\n",
       "    </tr>\n",
       "    <tr>\n",
       "      <th>2021-05-23</th>\n",
       "      <td>13.294933</td>\n",
       "    </tr>\n",
       "    <tr>\n",
       "      <th>2021-05-24</th>\n",
       "      <td>13.274185</td>\n",
       "    </tr>\n",
       "    <tr>\n",
       "      <th>2021-05-25</th>\n",
       "      <td>13.251762</td>\n",
       "    </tr>\n",
       "    <tr>\n",
       "      <th>2021-05-26</th>\n",
       "      <td>13.223479</td>\n",
       "    </tr>\n",
       "    <tr>\n",
       "      <th>2021-05-27</th>\n",
       "      <td>NaN</td>\n",
       "    </tr>\n",
       "  </tbody>\n",
       "</table>\n",
       "<p>492 rows × 1 columns</p>\n",
       "</div>"
      ],
      "text/plain": [
       "            new_cases_smoothed\n",
       "Date                          \n",
       "2020-01-22                 NaN\n",
       "2020-01-23                 NaN\n",
       "2020-01-24                 NaN\n",
       "2020-01-25                 NaN\n",
       "2020-01-26                 NaN\n",
       "...                        ...\n",
       "2021-05-23           13.294933\n",
       "2021-05-24           13.274185\n",
       "2021-05-25           13.251762\n",
       "2021-05-26           13.223479\n",
       "2021-05-27                 NaN\n",
       "\n",
       "[492 rows x 1 columns]"
      ]
     },
     "execution_count": 44,
     "metadata": {},
     "output_type": "execute_result"
    }
   ],
   "source": [
    "df_log_new_cases"
   ]
  },
  {
   "cell_type": "markdown",
   "id": "df6b7ab8",
   "metadata": {},
   "source": [
    "##### New vaccinations"
   ]
  },
  {
   "cell_type": "code",
   "execution_count": 45,
   "id": "9aaee33e",
   "metadata": {
    "ExecuteTime": {
     "end_time": "2021-06-01T08:45:37.212545Z",
     "start_time": "2021-06-01T08:45:37.107454Z"
    }
   },
   "outputs": [],
   "source": [
    "# Read data from s3\n",
    "role = get_execution_role()\n",
    "bucket=\"euronext-stocks\"\n",
    "data_key = \"df_log_new_vaccinations.csv\"\n",
    "data_location = 's3://{}/{}'.format(bucket, data_key)\n",
    "df_log_new_vaccinations = pd.read_csv(data_location,)\n",
    "df_log_new_vaccinations.set_index(df_log_new_vaccinations[\"date\"], drop=True, inplace=True)\n",
    "df_log_new_vaccinations.index.name = \"Date\"\n",
    "df_log_new_vaccinations.index = pd.to_datetime(df_log_new_vaccinations.index)\n",
    "df_log_new_vaccinations.drop(\"date\", axis=1, inplace=True)"
   ]
  },
  {
   "cell_type": "code",
   "execution_count": 46,
   "id": "83d20eed",
   "metadata": {
    "ExecuteTime": {
     "end_time": "2021-06-01T08:45:37.223541Z",
     "start_time": "2021-06-01T08:45:37.214197Z"
    }
   },
   "outputs": [
    {
     "data": {
      "text/html": [
       "<div>\n",
       "<style scoped>\n",
       "    .dataframe tbody tr th:only-of-type {\n",
       "        vertical-align: middle;\n",
       "    }\n",
       "\n",
       "    .dataframe tbody tr th {\n",
       "        vertical-align: top;\n",
       "    }\n",
       "\n",
       "    .dataframe thead th {\n",
       "        text-align: right;\n",
       "    }\n",
       "</style>\n",
       "<table border=\"1\" class=\"dataframe\">\n",
       "  <thead>\n",
       "    <tr style=\"text-align: right;\">\n",
       "      <th></th>\n",
       "      <th>new_vaccinations_smoothed</th>\n",
       "    </tr>\n",
       "    <tr>\n",
       "      <th>Date</th>\n",
       "      <th></th>\n",
       "    </tr>\n",
       "  </thead>\n",
       "  <tbody>\n",
       "    <tr>\n",
       "      <th>2020-01-22</th>\n",
       "      <td>NaN</td>\n",
       "    </tr>\n",
       "    <tr>\n",
       "      <th>2020-01-23</th>\n",
       "      <td>NaN</td>\n",
       "    </tr>\n",
       "    <tr>\n",
       "      <th>2020-01-24</th>\n",
       "      <td>NaN</td>\n",
       "    </tr>\n",
       "    <tr>\n",
       "      <th>2020-01-25</th>\n",
       "      <td>NaN</td>\n",
       "    </tr>\n",
       "    <tr>\n",
       "      <th>2020-01-26</th>\n",
       "      <td>NaN</td>\n",
       "    </tr>\n",
       "    <tr>\n",
       "      <th>...</th>\n",
       "      <td>...</td>\n",
       "    </tr>\n",
       "    <tr>\n",
       "      <th>2021-05-23</th>\n",
       "      <td>17.152579</td>\n",
       "    </tr>\n",
       "    <tr>\n",
       "      <th>2021-05-24</th>\n",
       "      <td>17.161180</td>\n",
       "    </tr>\n",
       "    <tr>\n",
       "      <th>2021-05-25</th>\n",
       "      <td>17.219528</td>\n",
       "    </tr>\n",
       "    <tr>\n",
       "      <th>2021-05-26</th>\n",
       "      <td>17.249026</td>\n",
       "    </tr>\n",
       "    <tr>\n",
       "      <th>2021-05-27</th>\n",
       "      <td>17.229058</td>\n",
       "    </tr>\n",
       "  </tbody>\n",
       "</table>\n",
       "<p>492 rows × 1 columns</p>\n",
       "</div>"
      ],
      "text/plain": [
       "            new_vaccinations_smoothed\n",
       "Date                                 \n",
       "2020-01-22                        NaN\n",
       "2020-01-23                        NaN\n",
       "2020-01-24                        NaN\n",
       "2020-01-25                        NaN\n",
       "2020-01-26                        NaN\n",
       "...                               ...\n",
       "2021-05-23                  17.152579\n",
       "2021-05-24                  17.161180\n",
       "2021-05-25                  17.219528\n",
       "2021-05-26                  17.249026\n",
       "2021-05-27                  17.229058\n",
       "\n",
       "[492 rows x 1 columns]"
      ]
     },
     "execution_count": 46,
     "metadata": {},
     "output_type": "execute_result"
    }
   ],
   "source": [
    "df_log_new_vaccinations"
   ]
  },
  {
   "cell_type": "markdown",
   "id": "da34f06c",
   "metadata": {
    "heading_collapsed": true
   },
   "source": [
    "## Slicing"
   ]
  },
  {
   "cell_type": "code",
   "execution_count": 47,
   "id": "f262aed8",
   "metadata": {
    "ExecuteTime": {
     "end_time": "2021-06-01T08:45:37.240833Z",
     "start_time": "2021-06-01T08:45:37.225155Z"
    },
    "code_folding": [],
    "hidden": true
   },
   "outputs": [
    {
     "data": {
      "text/html": [
       "<div>\n",
       "<style scoped>\n",
       "    .dataframe tbody tr th:only-of-type {\n",
       "        vertical-align: middle;\n",
       "    }\n",
       "\n",
       "    .dataframe tbody tr th {\n",
       "        vertical-align: top;\n",
       "    }\n",
       "\n",
       "    .dataframe thead th {\n",
       "        text-align: right;\n",
       "    }\n",
       "</style>\n",
       "<table border=\"1\" class=\"dataframe\">\n",
       "  <thead>\n",
       "    <tr style=\"text-align: right;\">\n",
       "      <th></th>\n",
       "      <th>Adj Close</th>\n",
       "      <th>Close</th>\n",
       "      <th>High</th>\n",
       "      <th>Low</th>\n",
       "      <th>Open</th>\n",
       "      <th>Volume</th>\n",
       "    </tr>\n",
       "    <tr>\n",
       "      <th>Date</th>\n",
       "      <th></th>\n",
       "      <th></th>\n",
       "      <th></th>\n",
       "      <th></th>\n",
       "      <th></th>\n",
       "      <th></th>\n",
       "    </tr>\n",
       "  </thead>\n",
       "  <tbody>\n",
       "    <tr>\n",
       "      <th>2019-05-23</th>\n",
       "      <td>68.282265</td>\n",
       "      <td>71.900002</td>\n",
       "      <td>72.760002</td>\n",
       "      <td>71.519997</td>\n",
       "      <td>72.559998</td>\n",
       "      <td>1373243.0</td>\n",
       "    </tr>\n",
       "    <tr>\n",
       "      <th>2019-05-24</th>\n",
       "      <td>70.181633</td>\n",
       "      <td>73.900002</td>\n",
       "      <td>73.900002</td>\n",
       "      <td>72.360001</td>\n",
       "      <td>72.459999</td>\n",
       "      <td>1401751.0</td>\n",
       "    </tr>\n",
       "    <tr>\n",
       "      <th>2019-05-27</th>\n",
       "      <td>70.124641</td>\n",
       "      <td>73.839996</td>\n",
       "      <td>74.279999</td>\n",
       "      <td>73.320000</td>\n",
       "      <td>74.019997</td>\n",
       "      <td>566163.0</td>\n",
       "    </tr>\n",
       "    <tr>\n",
       "      <th>2019-05-28</th>\n",
       "      <td>69.972702</td>\n",
       "      <td>73.680000</td>\n",
       "      <td>74.360001</td>\n",
       "      <td>73.320000</td>\n",
       "      <td>73.739998</td>\n",
       "      <td>1496401.0</td>\n",
       "    </tr>\n",
       "    <tr>\n",
       "      <th>2019-05-29</th>\n",
       "      <td>67.655472</td>\n",
       "      <td>71.239998</td>\n",
       "      <td>72.839996</td>\n",
       "      <td>71.120003</td>\n",
       "      <td>72.739998</td>\n",
       "      <td>1999220.0</td>\n",
       "    </tr>\n",
       "    <tr>\n",
       "      <th>...</th>\n",
       "      <td>...</td>\n",
       "      <td>...</td>\n",
       "      <td>...</td>\n",
       "      <td>...</td>\n",
       "      <td>...</td>\n",
       "      <td>...</td>\n",
       "    </tr>\n",
       "    <tr>\n",
       "      <th>2021-05-17</th>\n",
       "      <td>130.360001</td>\n",
       "      <td>130.360001</td>\n",
       "      <td>132.000000</td>\n",
       "      <td>129.759995</td>\n",
       "      <td>131.880005</td>\n",
       "      <td>668462.0</td>\n",
       "    </tr>\n",
       "    <tr>\n",
       "      <th>2021-05-18</th>\n",
       "      <td>130.059998</td>\n",
       "      <td>130.059998</td>\n",
       "      <td>131.360001</td>\n",
       "      <td>129.720001</td>\n",
       "      <td>131.059998</td>\n",
       "      <td>626041.0</td>\n",
       "    </tr>\n",
       "    <tr>\n",
       "      <th>2021-05-19</th>\n",
       "      <td>126.220001</td>\n",
       "      <td>126.220001</td>\n",
       "      <td>128.960007</td>\n",
       "      <td>124.419998</td>\n",
       "      <td>128.679993</td>\n",
       "      <td>1135001.0</td>\n",
       "    </tr>\n",
       "    <tr>\n",
       "      <th>2021-05-20</th>\n",
       "      <td>128.460007</td>\n",
       "      <td>128.460007</td>\n",
       "      <td>128.460007</td>\n",
       "      <td>126.699997</td>\n",
       "      <td>127.000000</td>\n",
       "      <td>845701.0</td>\n",
       "    </tr>\n",
       "    <tr>\n",
       "      <th>2021-05-21</th>\n",
       "      <td>129.479996</td>\n",
       "      <td>129.479996</td>\n",
       "      <td>130.139999</td>\n",
       "      <td>127.959999</td>\n",
       "      <td>128.479996</td>\n",
       "      <td>1004129.0</td>\n",
       "    </tr>\n",
       "  </tbody>\n",
       "</table>\n",
       "<p>514 rows × 6 columns</p>\n",
       "</div>"
      ],
      "text/plain": [
       "             Adj Close       Close        High         Low        Open  \\\n",
       "Date                                                                     \n",
       "2019-05-23   68.282265   71.900002   72.760002   71.519997   72.559998   \n",
       "2019-05-24   70.181633   73.900002   73.900002   72.360001   72.459999   \n",
       "2019-05-27   70.124641   73.839996   74.279999   73.320000   74.019997   \n",
       "2019-05-28   69.972702   73.680000   74.360001   73.320000   73.739998   \n",
       "2019-05-29   67.655472   71.239998   72.839996   71.120003   72.739998   \n",
       "...                ...         ...         ...         ...         ...   \n",
       "2021-05-17  130.360001  130.360001  132.000000  129.759995  131.880005   \n",
       "2021-05-18  130.059998  130.059998  131.360001  129.720001  131.059998   \n",
       "2021-05-19  126.220001  126.220001  128.960007  124.419998  128.679993   \n",
       "2021-05-20  128.460007  128.460007  128.460007  126.699997  127.000000   \n",
       "2021-05-21  129.479996  129.479996  130.139999  127.959999  128.479996   \n",
       "\n",
       "               Volume  \n",
       "Date                   \n",
       "2019-05-23  1373243.0  \n",
       "2019-05-24  1401751.0  \n",
       "2019-05-27   566163.0  \n",
       "2019-05-28  1496401.0  \n",
       "2019-05-29  1999220.0  \n",
       "...               ...  \n",
       "2021-05-17   668462.0  \n",
       "2021-05-18   626041.0  \n",
       "2021-05-19  1135001.0  \n",
       "2021-05-20   845701.0  \n",
       "2021-05-21  1004129.0  \n",
       "\n",
       "[514 rows x 6 columns]"
      ]
     },
     "execution_count": 47,
     "metadata": {},
     "output_type": "execute_result"
    }
   ],
   "source": [
    "# Get all raw prices and volume data for a particular stock\n",
    "df_data.xs(\"SU.PA\", axis=1, level=1, drop_level=True)"
   ]
  },
  {
   "cell_type": "code",
   "execution_count": 48,
   "id": "d3c6f094",
   "metadata": {
    "ExecuteTime": {
     "end_time": "2021-06-01T08:45:37.246772Z",
     "start_time": "2021-06-01T08:45:37.242459Z"
    },
    "hidden": true
   },
   "outputs": [
    {
     "data": {
      "text/plain": [
       "Index(['Thursday', 'Friday', 'Monday', 'Tuesday', 'Wednesday', 'Thursday',\n",
       "       'Friday', 'Monday', 'Tuesday', 'Wednesday',\n",
       "       ...\n",
       "       'Monday', 'Tuesday', 'Wednesday', 'Thursday', 'Friday', 'Monday',\n",
       "       'Tuesday', 'Wednesday', 'Thursday', 'Friday'],\n",
       "      dtype='object', name='Date', length=514)"
      ]
     },
     "execution_count": 48,
     "metadata": {},
     "output_type": "execute_result"
    }
   ],
   "source": [
    "df_data.index.day_name()"
   ]
  },
  {
   "cell_type": "code",
   "execution_count": 49,
   "id": "2f90b041",
   "metadata": {
    "ExecuteTime": {
     "end_time": "2021-06-01T08:45:37.250739Z",
     "start_time": "2021-06-01T08:45:37.248408Z"
    },
    "code_folding": [],
    "hidden": true,
    "run_control": {
     "marked": false
    }
   },
   "outputs": [],
   "source": [
    "# Filter by date\n",
    "# df_prices.loc['2021-01-01':'2021-01-31']"
   ]
  },
  {
   "cell_type": "code",
   "execution_count": 50,
   "id": "ca308c44",
   "metadata": {
    "ExecuteTime": {
     "end_time": "2021-06-01T08:45:37.257172Z",
     "start_time": "2021-06-01T08:45:37.252453Z"
    },
    "code_folding": [
     0
    ],
    "hidden": true,
    "run_control": {
     "marked": false
    },
    "scrolled": true
   },
   "outputs": [
    {
     "name": "stdout",
     "output_type": "stream",
     "text": [
      "['Communication Services', 'Consumer Cyclical', 'Consumer Defensive', 'Energy', 'Financial', 'Financial Services', 'Healthcare', 'Industrial Goods', 'Industrials', 'Missing', 'Real Estate', 'Services', 'Technology', 'Utilities']\n"
     ]
    }
   ],
   "source": [
    "# Get sectors\n",
    "sectors = df_prices.columns.get_level_values(0).unique()[2:].to_list()\n",
    "sectors.sort()\n",
    "print(sectors) # full dataset\n",
    "\n",
    "# df_prices.columns.get_level_values(0).unique().to_list() # test dataset"
   ]
  },
  {
   "cell_type": "code",
   "execution_count": 51,
   "id": "7c152011",
   "metadata": {
    "ExecuteTime": {
     "end_time": "2021-06-01T08:45:37.262870Z",
     "start_time": "2021-06-01T08:45:37.258900Z"
    },
    "code_folding": [
     0
    ],
    "hidden": true,
    "run_control": {
     "marked": false
    },
    "scrolled": true
   },
   "outputs": [
    {
     "name": "stdout",
     "output_type": "stream",
     "text": [
      "['Advertising Agencies', 'Aerospace & Defense', 'Aerospace/Defense - Major Diversified', 'Airlines', 'Airports & Air Services', 'Aluminum', 'Apparel Manufacturing', 'Apparel Retail', 'Asset Management', 'Auto & Truck Dealerships', 'Auto Manufacturers', 'Auto Parts', 'Banks—Diversified', 'Banks—Regional', 'Beverages—Brewers', 'Beverages—Non-Alcoholic', 'Beverages—Wineries & Distilleries', 'Biotechnology', 'Broadcasting', 'Building Materials', 'Building Products & Equipment', 'Business Equipment & Supplies', 'Capital Markets', 'Chemicals', 'Communication Equipment', 'Computer Hardware', 'Confectioners', 'Conglomerates', 'Consulting Services', 'Consumer Electronics', 'Credit Services', 'Diagnostics & Research', 'Diversified Electronics', 'Diversified Machinery', 'Drug Manufacturers - Major', 'Drug Manufacturers—General', 'Drug Manufacturers—Specialty & Generic', 'Electrical Equipment & Parts', 'Electronic Components', 'Electronic Gaming & Multimedia', 'Engineering & Construction', 'Entertainment', 'Farm & Heavy Construction Machinery', 'Farm Products', 'Financial Conglomerates', 'Financial Data & Stock Exchanges', 'Food Distribution', 'Footwear & Accessories', 'Furnishings, Fixtures & Appliances', 'Gambling', 'Gold', 'Grocery Stores', 'Health Information Services', 'Home Improvement Retail', 'Household & Personal Products', 'Industrial Distribution', 'Information Technology Services', 'Infrastructure Operations', 'Insurance—Diversified', 'Insurance—Life', 'Insurance—Reinsurance', 'Integrated Freight & Logistics', 'Internet Content & Information', 'Internet Retail', 'Leisure', 'Lodging', 'Lumber & Wood Production', 'Luxury Goods', 'Marine Shipping', 'Medical Care Facilities', 'Medical Devices', 'Medical Distribution', 'Medical Instruments & Supplies', 'Medical Laboratories & Research', 'Metal Fabrication', 'Missing', 'Oil & Gas E&P', 'Oil & Gas Equipment & Services', 'Oil & Gas Integrated', 'Oil & Gas Midstream', 'Oil & Gas Refining & Marketing', 'Other Industrial Metals & Mining', 'Packaged Foods', 'Packaging & Containers', 'Paper & Paper Products', 'Pollution & Treatment Controls', 'Property & Casualty Insurance', 'Property Management', 'Publishing', 'REIT—Diversified', 'REIT—Healthcare Facilities', 'REIT—Hotel & Motel', 'REIT—Industrial', 'REIT—Office', 'REIT—Residential', 'REIT—Retail', 'Railroads', 'Real Estate Services', 'Real Estate—Development', 'Real Estate—Diversified', 'Recreational Vehicles', 'Rental & Leasing Services', 'Residential Construction', 'Resorts & Casinos', 'Restaurants', 'Scientific & Technical Instruments', 'Semiconductor Equipment & Materials', 'Semiconductors', 'Shell Companies', 'Software—Application', 'Software—Infrastructure', 'Specialty Business Services', 'Specialty Chemicals', 'Specialty Industrial Machinery', 'Specialty Retail', 'Staffing & Employment Services', 'Steel', 'Telecom Services', 'Textile Manufacturing', 'Travel Services', 'Utilities—Diversified', 'Utilities—Regulated Electric', 'Utilities—Regulated Gas', 'Utilities—Regulated Water', 'Utilities—Renewable', 'Waste Management']\n"
     ]
    }
   ],
   "source": [
    "# Get industries\n",
    "industries = df_prices.columns.get_level_values(1).unique()[2:].to_list()\n",
    "industries.sort() # full dataset\n",
    "print(industries)\n",
    "\n",
    "# df_prices.columns.get_level_values(1).unique().to_list() # test data"
   ]
  },
  {
   "cell_type": "code",
   "execution_count": 52,
   "id": "c7f7267c",
   "metadata": {
    "ExecuteTime": {
     "end_time": "2021-06-01T08:45:37.302225Z",
     "start_time": "2021-06-01T08:45:37.264553Z"
    },
    "code_folding": [
     0
    ],
    "hidden": true,
    "run_control": {
     "marked": false
    }
   },
   "outputs": [],
   "source": [
    "# Get latest values for all stocks in a particular sector/industry combination\n",
    "sector = \"Utilities\"\n",
    "industry = \"Utilities—Renewable\"\n",
    "# df_prices[sector][industry].iloc[107].sort_values(ascending=False)"
   ]
  },
  {
   "cell_type": "code",
   "execution_count": 53,
   "id": "543f216d",
   "metadata": {
    "ExecuteTime": {
     "end_time": "2021-06-01T08:45:37.307001Z",
     "start_time": "2021-06-01T08:45:37.303908Z"
    },
    "code_folding": [
     0
    ],
    "hidden": true,
    "run_control": {
     "marked": false
    },
    "scrolled": true
   },
   "outputs": [],
   "source": [
    "# Get data for all stocks in a particular sector\n",
    "# df_prices.xs(\"Energy\", axis=1, level=0, drop_level=False)"
   ]
  },
  {
   "cell_type": "code",
   "execution_count": 54,
   "id": "0ad83043",
   "metadata": {
    "ExecuteTime": {
     "end_time": "2021-06-01T08:45:37.311196Z",
     "start_time": "2021-06-01T08:45:37.308878Z"
    },
    "code_folding": [
     0
    ],
    "hidden": true,
    "run_control": {
     "marked": false
    },
    "scrolled": true
   },
   "outputs": [],
   "source": [
    "# Get data for all stocks in a particular industry\n",
    "# df_prices.xs(\"Utilities—Renewable\", axis=1, level=1, drop_level=False)\n",
    "# df_prices.xs(\"Airports & Air Services\", axis=1, level=1, drop_level=False)"
   ]
  },
  {
   "cell_type": "code",
   "execution_count": 55,
   "id": "4c22493e",
   "metadata": {
    "ExecuteTime": {
     "end_time": "2021-06-01T08:45:37.376143Z",
     "start_time": "2021-06-01T08:45:37.312842Z"
    },
    "code_folding": [
     0
    ],
    "hidden": true,
    "run_control": {
     "marked": false
    }
   },
   "outputs": [
    {
     "name": "stdout",
     "output_type": "stream",
     "text": [
      "['ABCA.PA', 'ALTUR.PA', 'AMUN.PA', 'BELR.BR', 'BELU.BR', 'BREB.BR', 'COMB.BR', 'ECT.AS', 'EEM.PA', 'EGR.PA', 'GBLB.BR', 'GIMB.BR', 'HAL.AS', 'IDIP.PA', 'IEX.AS', 'INTER.AS', 'IRD.PA', 'KBCA.BR', 'LBON.PA', 'MF.PA', 'MONC.PA', 'MOP.BR', 'MOPF.BR', 'NEXTS.PA', 'PEUG.PA', 'PREVA.AS', 'QFG.BR', 'REINA.AS', 'RF.PA', 'SOF.BR', 'TINC.BR', 'TKO.PA', 'UFF.PA', 'VALUE.AS', 'ABN.AS', 'INGA.AS', 'ACA.PA', 'BNB.BR', 'BNP.PA', 'CAF.PA', 'CAT31.PA', 'CCN.PA', 'CIV.PA', 'CMO.PA', 'CNF.PA', 'CRAP.PA', 'CRAV.PA', 'CRBP2.PA', 'CRLA.PA', 'CRLO.PA', 'CRSU.PA', 'CRTO.PA', 'GLE.PA', 'KBC.BR', 'KN.PA', 'VLK.AS', 'ADV.PA', 'BSD.PA', 'FLOW.AS', 'ROTH.PA', 'VIL.PA', 'EDEN.PA', 'FOAF.PA', 'ENX.PA', 'AGN.AS', 'AGS.BR', 'ASRNL.AS', 'CS.PA', 'NN.AS', 'CNP.PA', 'COFA.PA', 'SCR.PA', '2MX.PA', 'DSC2.AS', 'EFIC1.AS', 'ESG.AS', 'LVIDE.AS']\n"
     ]
    }
   ],
   "source": [
    "# Get stock tickers in a particular sector\n",
    "print([item[2] for item in df_prices.xs(\"Financial Services\", axis=1, level=0, drop_level=False).columns.to_list()])"
   ]
  },
  {
   "cell_type": "code",
   "execution_count": 56,
   "id": "d18ad035",
   "metadata": {
    "ExecuteTime": {
     "end_time": "2021-06-01T08:45:37.386773Z",
     "start_time": "2021-06-01T08:45:37.377726Z"
    },
    "code_folding": [
     0
    ],
    "hidden": true,
    "run_control": {
     "marked": false
    }
   },
   "outputs": [
    {
     "data": {
      "text/plain": [
       "['AIR.PA',\n",
       " 'AM.PA',\n",
       " 'FGA.PA',\n",
       " 'FII.PA',\n",
       " 'HO.PA',\n",
       " 'LAT.PA',\n",
       " 'SAF.PA',\n",
       " 'SOG.PA',\n",
       " 'SX.PA']"
      ]
     },
     "execution_count": 56,
     "metadata": {},
     "output_type": "execute_result"
    }
   ],
   "source": [
    "# Get stock tickers in a particular industry\n",
    "[item[2] for item in df_prices.xs(\"Aerospace & Defense\", axis=1, level=1, drop_level=False).columns.to_list()]"
   ]
  },
  {
   "cell_type": "code",
   "execution_count": 57,
   "id": "43565e8a",
   "metadata": {
    "ExecuteTime": {
     "end_time": "2021-06-01T08:45:37.398144Z",
     "start_time": "2021-06-01T08:45:37.388567Z"
    },
    "code_folding": [
     0
    ],
    "hidden": true,
    "run_control": {
     "marked": false
    },
    "scrolled": true
   },
   "outputs": [
    {
     "data": {
      "text/plain": [
       "[{'ABCA.PA': 'ABC arbitrage SA'},\n",
       " {'ALTUR.PA': 'Altur Investissement SCA, SCR'},\n",
       " {'AMUN.PA': 'Amundi SA'},\n",
       " {'BELR.BR': 'Belgian Resources and Capital Company'},\n",
       " {'BELU.BR': 'Beluga NV'},\n",
       " {'BREB.BR': 'Brederode SA'},\n",
       " {'COMB.BR': 'Compagnie du Bois Sauvage SA'},\n",
       " {'ECT.AS': 'Eurocastle Investment Limited'},\n",
       " {'EEM.PA': 'Electricité et Eaux de Madagascar Société Anonyme'},\n",
       " {'EGR.PA': 'Evergreen SA'},\n",
       " {'GBLB.BR': 'Groupe Bruxelles Lambert SA'},\n",
       " {'GIMB.BR': 'GIMV NV'},\n",
       " {'HAL.AS': 'HAL Trust'},\n",
       " {'IDIP.PA': 'IDI'},\n",
       " {'IEX.AS': 'IEX Group N.V.'},\n",
       " {'INTER.AS': 'Intertrust N.V.'},\n",
       " {'IRD.PA': 'Groupe IRD SA'},\n",
       " {'KBCA.BR': 'KBC Ancora SCA'},\n",
       " {'LBON.PA': 'Compagnie Lebon'},\n",
       " {'MF.PA': 'Wendel'},\n",
       " {'MONC.PA': 'Financière Moncey SA'},\n",
       " {'MOP.BR': 'Palmboomen Cultuur Maatschappij Mopoli (Palmeraies De Mopoli) N.V.'},\n",
       " {'MOPF.BR': 'Mopoli Fond'},\n",
       " {'NEXTS.PA': 'NextStage - S.C.A.'},\n",
       " {'PEUG.PA': 'Peugeot Invest Société anonyme'},\n",
       " {'PREVA.AS': 'Value8 N.V.'},\n",
       " {'QFG.BR': 'Quest for Growth Belgium'},\n",
       " {'REINA.AS': 'Reinet Investments S.C.A.'},\n",
       " {'RF.PA': 'Eurazeo SE'},\n",
       " {'SOF.BR': 'Sofina Société Anonyme'},\n",
       " {'TINC.BR': 'TINC Comm. VA'},\n",
       " {'TKO.PA': 'Tikehau Capital'},\n",
       " {'UFF.PA': 'Union Financière de France Banque SA'},\n",
       " {'VALUE.AS': 'Value8 N.V.'},\n",
       " {'ABN.AS': 'ABN AMRO Bank N.V.'},\n",
       " {'INGA.AS': 'ING Groep N.V.'},\n",
       " {'ACA.PA': 'Crédit Agricole S.A.'},\n",
       " {'BNB.BR': 'Banque nationale de Belgique Société anonyme'},\n",
       " {'BNP.PA': 'BNP Paribas SA'},\n",
       " {'CAF.PA': \"Caisse Régionale de Crédit Agricole Mutuel de Paris et d'Ile-de-France\"},\n",
       " {'CAT31.PA': 'Caisse Regionale de Credit Agricole Mutuel Toulouse 31'},\n",
       " {'CCN.PA': 'Caisse Régionale de Crédit Agricole Mutuel de Normandie-Seine Société coopérative'},\n",
       " {'CIV.PA': \"Caisse régionale de Crédit Agricole Mutuel d'Ille-et-Vilaine Société coopérative\"},\n",
       " {'CMO.PA': 'Caisse Régionale de Crédit Agricole du Morbihan'},\n",
       " {'CNF.PA': 'Caisse Régionale de Crédit Agricole Mutuel Nord de France Société coopérative'},\n",
       " {'CRAP.PA': 'Caisse Régionale de Crédit Agricole Mutuel Alpes Provence Société coopérative'},\n",
       " {'CRAV.PA': 'Caisse régionale de Crédit Agricole Mutuel Atlantique Vendée'},\n",
       " {'CRBP2.PA': 'Caisse Régionale de Crédit Agricole Mutuel Brie Picardie Société coopérative'},\n",
       " {'CRLA.PA': 'Caisse Régionale de Crédit Agricole Mutuel du Languedoc Société coopérative'},\n",
       " {'CRLO.PA': 'Caisse régionale de Crédit Agricole Mutuel Loire Haute-Loire - Société coopérative'},\n",
       " {'CRSU.PA': 'Caisse Régionale de Crédit Agricole Mutuel Sud Rhône Alpes'},\n",
       " {'CRTO.PA': 'Caisse Régionale de Crédit Agricole Mutuel de La Touraine et du Poitou Société Coopérative'},\n",
       " {'GLE.PA': 'Société Générale Société anonyme'},\n",
       " {'KBC.BR': 'KBC Group NV'},\n",
       " {'KN.PA': 'Natixis S.A.'},\n",
       " {'VLK.AS': 'Van Lanschot Kempen N.V.'},\n",
       " {'ADV.PA': 'Advenis SA'},\n",
       " {'BSD.PA': 'Bourse Direct SA'},\n",
       " {'FLOW.AS': 'Flow Traders N.V.'},\n",
       " {'ROTH.PA': 'Rothschild & Co SCA'},\n",
       " {'VIL.PA': 'VIEL & Cie, société anonyme'},\n",
       " {'EDEN.PA': 'Edenred SA'},\n",
       " {'FOAF.PA': 'Fin.Ouest Africain'},\n",
       " {'ENX.PA': 'Euronext N.V.'},\n",
       " {'AGN.AS': 'Aegon N.V.'},\n",
       " {'AGS.BR': 'ageas SA/NV'},\n",
       " {'ASRNL.AS': 'ASR Nederland N.V.'},\n",
       " {'CS.PA': 'AXA SA'},\n",
       " {'NN.AS': 'NN Group N.V.'},\n",
       " {'CNP.PA': 'CNP Assurances SA'},\n",
       " {'COFA.PA': 'COFACE SA'},\n",
       " {'SCR.PA': 'SCOR SE'},\n",
       " {'2MX.PA': '2MX Organic S.A.'},\n",
       " {'DSC2.AS': 'Dutch Star Companies TWO B.V.'},\n",
       " {'EFIC1.AS': 'European FinTech IPO Company 1 B.V.'},\n",
       " {'ESG.AS': 'ESG Core Investments B.V.'},\n",
       " {'LVIDE.AS': 'Lavide Holding N.V.'}]"
      ]
     },
     "execution_count": 57,
     "metadata": {},
     "output_type": "execute_result"
    }
   ],
   "source": [
    "# Get list of dicts of ticker and ticker names for a sector. Can use this to generate tickers_to_plot below\n",
    "sector = \"Financial Services\"\n",
    "[{ticker:ticker_info[ticker][0]} for ticker in [item[2] for item in df_prices.xs(sector, axis=1, level=0, drop_level=False).columns.to_list()]]"
   ]
  },
  {
   "cell_type": "code",
   "execution_count": 58,
   "id": "4ae1384e",
   "metadata": {
    "ExecuteTime": {
     "end_time": "2021-06-01T08:45:37.411092Z",
     "start_time": "2021-06-01T08:45:37.401655Z"
    },
    "code_folding": [
     0
    ],
    "hidden": true,
    "run_control": {
     "marked": false
    }
   },
   "outputs": [
    {
     "data": {
      "text/plain": [
       "[{'ADYEN.AS': 'Adyen N.V.'},\n",
       " {'EAS2P.AS': 'Ease2pay N.V.'},\n",
       " {'HIPAY.PA': 'HiPay Group SA'},\n",
       " {'ITE.PA': 'Itesoft S.A.'},\n",
       " {'KEYW.BR': 'Keyware Technologies NV'},\n",
       " {'VMX.PA': 'Verimatrix Société anonyme'},\n",
       " {'WLN.PA': 'Worldline SA'}]"
      ]
     },
     "execution_count": 58,
     "metadata": {},
     "output_type": "execute_result"
    }
   ],
   "source": [
    "# Get list of dicts of ticker and ticker names for an industry. Can use this to generate tickers_to_plot below\n",
    "industry = \"Software—Infrastructure\"\n",
    "[{ticker:ticker_info[ticker][0]} for ticker in [item[2] for item in df_prices.xs(industry, axis=1, level=1, drop_level=False).columns.to_list()]]"
   ]
  },
  {
   "cell_type": "markdown",
   "id": "77dbf2e4",
   "metadata": {},
   "source": [
    "## Plotting"
   ]
  },
  {
   "cell_type": "markdown",
   "id": "f6ae980e",
   "metadata": {},
   "source": [
    "### Reuseable components"
   ]
  },
  {
   "cell_type": "code",
   "execution_count": 59,
   "id": "2a0eec99",
   "metadata": {
    "ExecuteTime": {
     "end_time": "2021-06-01T08:45:37.419414Z",
     "start_time": "2021-06-01T08:45:37.414403Z"
    },
    "code_folding": [
     0
    ],
    "run_control": {
     "marked": false
    }
   },
   "outputs": [],
   "source": [
    "# List of tickers in alphabetical order\n",
    "ticker_list = list(df_raw_prices.columns)\n",
    "ticker_list.sort()"
   ]
  },
  {
   "cell_type": "markdown",
   "id": "741dacc6",
   "metadata": {},
   "source": [
    "### Plot functions"
   ]
  },
  {
   "cell_type": "code",
   "execution_count": 60,
   "id": "e871e896",
   "metadata": {
    "ExecuteTime": {
     "end_time": "2021-06-01T08:45:37.427376Z",
     "start_time": "2021-06-01T08:45:37.422332Z"
    },
    "code_folding": [
     0
    ],
    "run_control": {
     "marked": false
    }
   },
   "outputs": [],
   "source": [
    "# Heatmap displaying correlation of closing price between tickers\n",
    "def plot_corr_daily_returns(tickers, start_date, end_date, ma_days):\n",
    "    \n",
    "#     corr = df_daily_returns.loc[start_date:end_date][tickers].corr()\n",
    "#     corr = df_daily_returns.loc[start_date:end_date][tickers].rolling(window=ma_days, center=False).mean().corr()\n",
    "    corr = df_raw_prices.loc[start_date:end_date][tickers].rolling(window=ma_days, center=False).mean().corr()\n",
    "\n",
    "    # Generate a mask for the upper triangle\n",
    "    mask = np.triu(np.ones_like(corr, dtype=bool))\n",
    "\n",
    "    fig, ax = plt.subplots(figsize=(15,12))\n",
    "    sns.heatmap(corr, cmap=\"rocket_r\", ax=ax, square=True, annot=True, fmt=\".2g\", annot_kws={\"size\":8}, mask=mask) # plot heatmap with seaborn\n",
    "    # icefire\n",
    "    \n",
    "    plt.title(f\"Correlation of {ma_days} day Moving Averages of Close Prices\")\n",
    "    plt.tight_layout()"
   ]
  },
  {
   "cell_type": "markdown",
   "id": "f90f9096",
   "metadata": {},
   "source": [
    "### Single stock price with moving averages"
   ]
  },
  {
   "cell_type": "code",
   "execution_count": 61,
   "id": "3ba6d677",
   "metadata": {
    "ExecuteTime": {
     "end_time": "2021-06-01T08:45:38.110794Z",
     "start_time": "2021-06-01T08:45:37.429296Z"
    },
    "code_folding": [
     0
    ],
    "run_control": {
     "marked": false
    }
   },
   "outputs": [
    {
     "data": {
      "application/vnd.jupyter.widget-view+json": {
       "model_id": "8e6fb6ed4f9f42298f207ab842d26c43",
       "version_major": 2,
       "version_minor": 0
      },
      "text/plain": [
       "interactive(children=(Dropdown(description='ticker', options=('2CRSI.PA', '2MX.PA', 'AAA.PA', 'AALB.AS', 'AB.P…"
      ]
     },
     "metadata": {},
     "output_type": "display_data"
    }
   ],
   "source": [
    "# Plot a single stock Close price and several moving averages\n",
    "\n",
    "ticker_list = list(df_raw_prices.columns)\n",
    "ticker_list.sort()\n",
    "@widgets.interact(\n",
    "    ticker=ticker_list,\n",
    "    start_date=widgets.Text(value=\"2020-01-01\", description=\"start date\", continuous_update=False),\n",
    "    end_date=widgets.Text(value=\"2020-12-31\", description=\"end date\", continuous_update=False),\n",
    ")\n",
    "def plot_single_ticker(ticker, start_date, end_date):\n",
    "    \n",
    "    base = df_raw_prices.loc[start_date:end_date][ticker]\n",
    "    rolling_20 = np.round(base.rolling(window=20, center=False).mean(), 2)\n",
    "    rolling_50 = np.round(base.rolling(window=50, center=False).mean(), 2)\n",
    "    rolling_200 = np.round(base.rolling(window=200, center=False).mean(), 2)\n",
    "\n",
    "    fig, ax = plt.subplots(figsize=(15,5))\n",
    "    ax.plot(base, label=\"Close\", linewidth=4, alpha=.2)\n",
    "    ax.plot(rolling_20, label=\"20d M.A.\", linestyle=\"dashed\", linewidth=2)\n",
    "    ax.plot(rolling_50, label=\"50d M.A.\", linestyle=\"dashed\", linewidth=2)\n",
    "    ax.plot(rolling_200, label=\"200d M.A.\", linestyle=\"dashed\", linewidth=2)\n",
    "    ax.set_ylabel(\"Close Price\")\n",
    "    ax.xaxis.set_major_locator(mdates.MonthLocator(interval=1))\n",
    "    ax.set_title(f\"{ticker}\\n{start_date} to {end_date}\")\n",
    "    plt.xticks(rotation=45)\n",
    "    plt.legend()\n",
    "    plt.grid()"
   ]
  },
  {
   "cell_type": "markdown",
   "id": "d8e97a76",
   "metadata": {},
   "source": [
    "### Trailing P/E ratio"
   ]
  },
  {
   "cell_type": "code",
   "execution_count": 62,
   "id": "2b09b4b4",
   "metadata": {
    "ExecuteTime": {
     "end_time": "2021-06-01T08:45:38.123525Z",
     "start_time": "2021-06-01T08:45:38.112529Z"
    }
   },
   "outputs": [
    {
     "data": {
      "text/html": [
       "<div>\n",
       "<style scoped>\n",
       "    .dataframe tbody tr th:only-of-type {\n",
       "        vertical-align: middle;\n",
       "    }\n",
       "\n",
       "    .dataframe tbody tr th {\n",
       "        vertical-align: top;\n",
       "    }\n",
       "\n",
       "    .dataframe thead th {\n",
       "        text-align: right;\n",
       "    }\n",
       "</style>\n",
       "<table border=\"1\" class=\"dataframe\">\n",
       "  <thead>\n",
       "    <tr style=\"text-align: right;\">\n",
       "      <th></th>\n",
       "      <th>Name</th>\n",
       "      <th>Sector</th>\n",
       "      <th>Industry</th>\n",
       "    </tr>\n",
       "    <tr>\n",
       "      <th>Ticker</th>\n",
       "      <th></th>\n",
       "      <th></th>\n",
       "      <th></th>\n",
       "    </tr>\n",
       "  </thead>\n",
       "  <tbody>\n",
       "    <tr>\n",
       "      <th>AALB.AS</th>\n",
       "      <td>Aalberts N.V.</td>\n",
       "      <td>Industrials</td>\n",
       "      <td>Specialty Industrial Machinery</td>\n",
       "    </tr>\n",
       "    <tr>\n",
       "      <th>AGFB.BR</th>\n",
       "      <td>Agfa-Gevaert NV</td>\n",
       "      <td>Industrials</td>\n",
       "      <td>Specialty Industrial Machinery</td>\n",
       "    </tr>\n",
       "    <tr>\n",
       "      <th>ALO.PA</th>\n",
       "      <td>Alstom SA</td>\n",
       "      <td>Industrials</td>\n",
       "      <td>Specialty Industrial Machinery</td>\n",
       "    </tr>\n",
       "    <tr>\n",
       "      <th>BALYO.PA</th>\n",
       "      <td>Balyo SA</td>\n",
       "      <td>Industrials</td>\n",
       "      <td>Specialty Industrial Machinery</td>\n",
       "    </tr>\n",
       "    <tr>\n",
       "      <th>EPS.PA</th>\n",
       "      <td>ENGIE Eps S.A.</td>\n",
       "      <td>Industrials</td>\n",
       "      <td>Specialty Industrial Machinery</td>\n",
       "    </tr>\n",
       "    <tr>\n",
       "      <th>GNE.PA</th>\n",
       "      <td>General Electric Company</td>\n",
       "      <td>Industrials</td>\n",
       "      <td>Specialty Industrial Machinery</td>\n",
       "    </tr>\n",
       "    <tr>\n",
       "      <th>SFPI.PA</th>\n",
       "      <td>GROUPE SFPI SA</td>\n",
       "      <td>Industrials</td>\n",
       "      <td>Specialty Industrial Machinery</td>\n",
       "    </tr>\n",
       "    <tr>\n",
       "      <th>HAMO.BR</th>\n",
       "      <td>Hamon &amp; Cie (International) SA</td>\n",
       "      <td>Industrials</td>\n",
       "      <td>Specialty Industrial Machinery</td>\n",
       "    </tr>\n",
       "    <tr>\n",
       "      <th>JEN.BR</th>\n",
       "      <td>Jensen-Group NV</td>\n",
       "      <td>Industrials</td>\n",
       "      <td>Specialty Industrial Machinery</td>\n",
       "    </tr>\n",
       "    <tr>\n",
       "      <th>LR.PA</th>\n",
       "      <td>Legrand SA</td>\n",
       "      <td>Industrials</td>\n",
       "      <td>Specialty Industrial Machinery</td>\n",
       "    </tr>\n",
       "    <tr>\n",
       "      <th>MTU.PA</th>\n",
       "      <td>Manitou BF SA</td>\n",
       "      <td>Industrials</td>\n",
       "      <td>Specialty Industrial Machinery</td>\n",
       "    </tr>\n",
       "    <tr>\n",
       "      <th>MAREL.AS</th>\n",
       "      <td>Marel hf.</td>\n",
       "      <td>Industrials</td>\n",
       "      <td>Specialty Industrial Machinery</td>\n",
       "    </tr>\n",
       "    <tr>\n",
       "      <th>MCPHY.PA</th>\n",
       "      <td>McPhy Energy S.A.</td>\n",
       "      <td>Industrials</td>\n",
       "      <td>Specialty Industrial Machinery</td>\n",
       "    </tr>\n",
       "    <tr>\n",
       "      <th>PIC.BR</th>\n",
       "      <td>Picanol nv</td>\n",
       "      <td>Industrials</td>\n",
       "      <td>Specialty Industrial Machinery</td>\n",
       "    </tr>\n",
       "    <tr>\n",
       "      <th>PREC.PA</th>\n",
       "      <td>Precia S.A.</td>\n",
       "      <td>Industrials</td>\n",
       "      <td>Specialty Industrial Machinery</td>\n",
       "    </tr>\n",
       "    <tr>\n",
       "      <th>PWG.PA</th>\n",
       "      <td>Prodways Group SA</td>\n",
       "      <td>Industrials</td>\n",
       "      <td>Specialty Industrial Machinery</td>\n",
       "    </tr>\n",
       "    <tr>\n",
       "      <th>SU.PA</th>\n",
       "      <td>Schneider Electric S.E.</td>\n",
       "      <td>Industrials</td>\n",
       "      <td>Specialty Industrial Machinery</td>\n",
       "    </tr>\n",
       "  </tbody>\n",
       "</table>\n",
       "</div>"
      ],
      "text/plain": [
       "                                    Name       Sector  \\\n",
       "Ticker                                                  \n",
       "AALB.AS                    Aalberts N.V.  Industrials   \n",
       "AGFB.BR                  Agfa-Gevaert NV  Industrials   \n",
       "ALO.PA                         Alstom SA  Industrials   \n",
       "BALYO.PA                        Balyo SA  Industrials   \n",
       "EPS.PA                    ENGIE Eps S.A.  Industrials   \n",
       "GNE.PA          General Electric Company  Industrials   \n",
       "SFPI.PA                   GROUPE SFPI SA  Industrials   \n",
       "HAMO.BR   Hamon & Cie (International) SA  Industrials   \n",
       "JEN.BR                   Jensen-Group NV  Industrials   \n",
       "LR.PA                         Legrand SA  Industrials   \n",
       "MTU.PA                     Manitou BF SA  Industrials   \n",
       "MAREL.AS                       Marel hf.  Industrials   \n",
       "MCPHY.PA               McPhy Energy S.A.  Industrials   \n",
       "PIC.BR                        Picanol nv  Industrials   \n",
       "PREC.PA                      Precia S.A.  Industrials   \n",
       "PWG.PA                 Prodways Group SA  Industrials   \n",
       "SU.PA            Schneider Electric S.E.  Industrials   \n",
       "\n",
       "                                Industry  \n",
       "Ticker                                    \n",
       "AALB.AS   Specialty Industrial Machinery  \n",
       "AGFB.BR   Specialty Industrial Machinery  \n",
       "ALO.PA    Specialty Industrial Machinery  \n",
       "BALYO.PA  Specialty Industrial Machinery  \n",
       "EPS.PA    Specialty Industrial Machinery  \n",
       "GNE.PA    Specialty Industrial Machinery  \n",
       "SFPI.PA   Specialty Industrial Machinery  \n",
       "HAMO.BR   Specialty Industrial Machinery  \n",
       "JEN.BR    Specialty Industrial Machinery  \n",
       "LR.PA     Specialty Industrial Machinery  \n",
       "MTU.PA    Specialty Industrial Machinery  \n",
       "MAREL.AS  Specialty Industrial Machinery  \n",
       "MCPHY.PA  Specialty Industrial Machinery  \n",
       "PIC.BR    Specialty Industrial Machinery  \n",
       "PREC.PA   Specialty Industrial Machinery  \n",
       "PWG.PA    Specialty Industrial Machinery  \n",
       "SU.PA     Specialty Industrial Machinery  "
      ]
     },
     "execution_count": 62,
     "metadata": {},
     "output_type": "execute_result"
    }
   ],
   "source": [
    "# Name               Schneider Electric S.E.\n",
    "# Sector                         Industrials\n",
    "# Industry    Specialty Industrial Machinery\n",
    "\n",
    "df_ticker_info.loc[df_ticker_info[\"Industry\"]==\"Specialty Industrial Machinery\"]"
   ]
  },
  {
   "cell_type": "code",
   "execution_count": 63,
   "id": "6e4737a6",
   "metadata": {
    "ExecuteTime": {
     "end_time": "2021-06-01T08:45:38.611712Z",
     "start_time": "2021-06-01T08:45:38.125241Z"
    },
    "code_folding": [
     0
    ]
   },
   "outputs": [
    {
     "data": {
      "application/vnd.jupyter.widget-view+json": {
       "model_id": "2317187e2f5c44ba9b21ffcd65e24d38",
       "version_major": 2,
       "version_minor": 0
      },
      "text/plain": [
       "interactive(children=(SelectMultiple(description='Tickers', index=(625,), options=('2CRSI.PA', '2MX.PA', 'AAA.…"
      ]
     },
     "metadata": {},
     "output_type": "display_data"
    }
   ],
   "source": [
    "# Plot Trailing Price-Earnings Ratio for multiple stocks\n",
    "# Plot multiple stocks or indices against each other and customize the legend labels\n",
    "\n",
    "ticker_list = list(df_trailing_pe_data.columns)\n",
    "ticker_list.sort()\n",
    "@widgets.interact(\n",
    "    tickers_to_plot=widgets.SelectMultiple(options=ticker_list[:-1], value=[\"SU.PA\"], description=\"Tickers\", disabled=False),\n",
    "#     tickers_to_plot=widgets.SelectMultiple(options=ticker_list[:-1], value=[\"^FCHI\"], description=\"Tickers\", disabled=False),\n",
    "    start_date=widgets.Text(value=\"2021-01-01\", description=\"start date\", continuous_update=False),\n",
    "    end_date=widgets.Text(value=\"2021-12-31\", description=\"end date\", continuous_update=False),\n",
    ")\n",
    "def pe_ratio(tickers_to_plot, start_date, end_date):\n",
    "    \"\"\"\n",
    "    Function to plot a stock against an index (or other stock) and customize the legend labels.\n",
    "    Input is a list of key:pairs (python dicts) in the form ticker:ticker description\n",
    "    \"\"\"\n",
    "    fig = plt.figure(figsize=(15,8))\n",
    "    ax = fig.add_subplot(111)\n",
    "    \n",
    "    # Baseline the data at start date and convert to percentages\n",
    "    df_plot = df_trailing_pe_data.loc[start_date:end_date]\n",
    "    \n",
    "    for ticker in tickers_to_plot:\n",
    "        df_plot[ticker].plot(ax=ax, legend=ticker)\n",
    "        \n",
    "    lines, labels = ax.get_legend_handles_labels()\n",
    "    \n",
    "#     mylabels = [list(ticker.values())[0] for ticker in tickers_to_plot]\n",
    "    \n",
    "#     ax.legend(lines, mylabels, loc='best')  # legend for first two lines only\n",
    "    ax.legend()\n",
    "    ax.set_xlabel(\"\"); ax.set_ylabel(\"Trailing P/E Ratio\")\n",
    "    ax.set_title(f\"Trailing Price-Earnings Ratio comparison\\n{start_date} to {end_date}\")\n",
    "    plt.grid()"
   ]
  },
  {
   "cell_type": "markdown",
   "id": "f8718581",
   "metadata": {},
   "source": [
    "### Foward P/E ratio"
   ]
  },
  {
   "cell_type": "code",
   "execution_count": 64,
   "id": "25c5db3f",
   "metadata": {
    "ExecuteTime": {
     "end_time": "2021-06-01T08:45:39.110297Z",
     "start_time": "2021-06-01T08:45:38.613542Z"
    },
    "code_folding": [
     0
    ]
   },
   "outputs": [
    {
     "data": {
      "application/vnd.jupyter.widget-view+json": {
       "model_id": "9c6d12d219b84f8bb8e7d47ab69e4e42",
       "version_major": 2,
       "version_minor": 0
      },
      "text/plain": [
       "interactive(children=(SelectMultiple(description='Tickers', index=(625,), options=('2CRSI.PA', '2MX.PA', 'AAA.…"
      ]
     },
     "metadata": {},
     "output_type": "display_data"
    }
   ],
   "source": [
    "# Plot Forward Price-Earnings Ratio for multiple stocks\n",
    "# Plot multiple stocks or indices against each other and customize the legend labels\n",
    "\n",
    "ticker_list = list(df_forward_pe_data.columns)\n",
    "ticker_list.sort()\n",
    "@widgets.interact(\n",
    "    tickers_to_plot=widgets.SelectMultiple(options=ticker_list[:-1], value=[\"SU.PA\"], description=\"Tickers\", disabled=False),\n",
    "#     tickers_to_plot=widgets.SelectMultiple(options=ticker_list[:-1], value=[\"^FCHI\"], description=\"Tickers\", disabled=False),\n",
    "    start_date=widgets.Text(value=\"2021-01-01\", description=\"start date\", continuous_update=False),\n",
    "    end_date=widgets.Text(value=\"2021-12-31\", description=\"end date\", continuous_update=False),\n",
    ")\n",
    "def pe_ratio(tickers_to_plot, start_date, end_date):\n",
    "    \"\"\"\n",
    "    Function to plot a stock against an index (or other stock) and customize the legend labels.\n",
    "    Input is a list of key:pairs (python dicts) in the form ticker:ticker description\n",
    "    \"\"\"\n",
    "    fig = plt.figure(figsize=(15,8))\n",
    "    ax = fig.add_subplot(111)\n",
    "    \n",
    "    # Baseline the data at start date and convert to percentages\n",
    "    df_plot = df_forward_pe_data.loc[start_date:end_date]\n",
    "    \n",
    "    for ticker in tickers_to_plot:\n",
    "        df_plot[ticker].plot(ax=ax, legend=ticker)\n",
    "        \n",
    "    lines, labels = ax.get_legend_handles_labels()\n",
    "    \n",
    "#     mylabels = [list(ticker.values())[0] for ticker in tickers_to_plot]\n",
    "    \n",
    "#     ax.legend(lines, mylabels, loc='best')  # legend for first two lines only\n",
    "    ax.legend()\n",
    "    ax.set_xlabel(\"\"); ax.set_ylabel(\"Foward P/E Ratio\")\n",
    "    ax.set_title(f\"Forward Price-Earnings Ratio comparison\\n{start_date} to {end_date}\")\n",
    "    plt.grid()"
   ]
  },
  {
   "cell_type": "markdown",
   "id": "4161f884",
   "metadata": {},
   "source": [
    "### Return comparisons"
   ]
  },
  {
   "cell_type": "code",
   "execution_count": 65,
   "id": "b7bfbbb4",
   "metadata": {
    "ExecuteTime": {
     "end_time": "2021-06-01T08:45:39.519150Z",
     "start_time": "2021-06-01T08:45:39.111958Z"
    },
    "code_folding": [
     0
    ],
    "run_control": {
     "marked": false
    }
   },
   "outputs": [
    {
     "data": {
      "application/vnd.jupyter.widget-view+json": {
       "model_id": "43d227c3ff16420f8cfb3b4c08b783b1",
       "version_major": 2,
       "version_minor": 0
      },
      "text/plain": [
       "interactive(children=(SelectMultiple(description='Tickers', options=('2CRSI.PA', '2MX.PA', 'AAA.PA', 'AALB.AS'…"
      ]
     },
     "metadata": {},
     "output_type": "display_data"
    }
   ],
   "source": [
    "# Plot multiple stocks or indices against each other and customize the legend labels\n",
    "\n",
    "ticker_list = list(df_raw_prices.columns)\n",
    "ticker_list.sort()\n",
    "@widgets.interact(\n",
    "    tickers_to_plot=widgets.SelectMultiple(options=ticker_list[:-1], description=\"Tickers\", disabled=False),\n",
    "#     tickers_to_plot=widgets.SelectMultiple(options=ticker_list[:-1], value=[\"^FCHI\"], description=\"Tickers\", disabled=False),\n",
    "    start_date=widgets.Text(value=\"2020-01-01\", description=\"start date\", continuous_update=False),\n",
    "    end_date=widgets.Text(value=\"2020-12-31\", description=\"end date\", continuous_update=False),\n",
    ")\n",
    "def plot_tickers(tickers_to_plot, start_date, end_date):\n",
    "    \"\"\"\n",
    "    Function to plot a stock against an index (or other stock) and customize the legend labels.\n",
    "    Input is a list of key:pairs (python dicts) in the form ticker:ticker description\n",
    "    \"\"\"\n",
    "    fig = plt.figure(figsize=(15,8))\n",
    "    ax = fig.add_subplot(111)\n",
    "    \n",
    "    # Baseline the data at start date and convert to percentages\n",
    "    df_plot = df_raw_prices.loc[start_date:end_date]\n",
    "    df_plot = (df_plot/df_plot.iloc[0] - 1) * 100\n",
    "    \n",
    "    for ticker in tickers_to_plot:\n",
    "        df_plot[ticker].plot(ax=ax, legend=ticker)\n",
    "    \n",
    "    df_plot[\"^FCHI\"].plot(ax=ax, legend=\"^FCHI\", linewidth=4, alpha=.2, color=\"gray\")\n",
    "        \n",
    "    lines, labels = ax.get_legend_handles_labels()\n",
    "    \n",
    "#     mylabels = [list(ticker.values())[0] for ticker in tickers_to_plot]\n",
    "    \n",
    "#     ax.legend(lines, mylabels, loc='best')  # legend for first two lines only\n",
    "    ax.legend()\n",
    "    ax.set_xlabel(\"\"); ax.set_ylabel(\"Return %\")\n",
    "    ax.set_title(f\"% Returns comparison\\n{start_date} to {end_date}\")\n",
    "    plt.grid()"
   ]
  },
  {
   "cell_type": "markdown",
   "id": "9611c027",
   "metadata": {},
   "source": [
    "### Alpha & Beta"
   ]
  },
  {
   "cell_type": "code",
   "execution_count": 66,
   "id": "61ab04c8",
   "metadata": {
    "ExecuteTime": {
     "end_time": "2021-06-01T08:45:40.288955Z",
     "start_time": "2021-06-01T08:45:39.520956Z"
    },
    "code_folding": [
     0
    ],
    "run_control": {
     "marked": false
    }
   },
   "outputs": [
    {
     "data": {
      "application/vnd.jupyter.widget-view+json": {
       "model_id": "a018483c6f504228a66bc01ccd616a51",
       "version_major": 2,
       "version_minor": 0
      },
      "text/plain": [
       "interactive(children=(Dropdown(description='ticker1', options=('2CRSI.PA', '2MX.PA', 'AAA.PA', 'AALB.AS', 'AB.…"
      ]
     },
     "metadata": {},
     "output_type": "display_data"
    }
   ],
   "source": [
    "# Regression plot\n",
    "\n",
    "@widgets.interact(\n",
    "    ticker1=ticker_list,\n",
    "    ticker2=ticker_list,\n",
    "    start_date=widgets.Text(value=\"2020-01-01\", description=\"start date\", continuous_update=False),\n",
    "    end_date=widgets.Text(value=\"2020-12-31\", description=\"end date\", continuous_update=False),\n",
    ")\n",
    "def regression_plot(ticker1, ticker2, start_date, end_date):\n",
    "    \n",
    "    # Transform data for alpha, beta and plotting\n",
    "    data = pd.DataFrame(\n",
    "        {\n",
    "            ticker1:[item[0] for item in df_prices.loc[start_date:end_date].xs(ticker1, axis=1, level=2, drop_level=False).values.tolist()],\n",
    "            ticker2:[item[0] for item in df_prices.loc[start_date:end_date].xs(ticker2, axis=1, level=2, drop_level=False).values.tolist()]\n",
    "        }\n",
    "    )\n",
    "\n",
    "    data_returns = (data/data.iloc[0] - 1) * 100\n",
    "    \n",
    "    (beta, alpha) = stats.linregress(data_returns[ticker2],\n",
    "                    data_returns[ticker1])[0:2]\n",
    "\n",
    "#     fig, ax = plt.subplots()\n",
    "    fig, ax = plt.subplots(figsize=(12,8))\n",
    "    ax = sns.regplot(x=ticker2, y=ticker1, data=data_returns)\n",
    "    ax.set_title(f\"Regression plot for\\n{ticker2} vs {ticker1}\\n{start_date} to {end_date}\\nBeta={round(beta, 4)}\\nAlpha={round(alpha,5)}\")\n",
    "    ax.xaxis.set_major_locator(MultipleLocator(10))\n",
    "    ax.yaxis.set_major_locator(MultipleLocator(10))\n",
    "    plt.gca().set_aspect(\"equal\")\n",
    "    plt.grid()\n",
    "    plt.show()"
   ]
  },
  {
   "cell_type": "markdown",
   "id": "62dd0ee0",
   "metadata": {},
   "source": [
    "### Volatility"
   ]
  },
  {
   "cell_type": "code",
   "execution_count": 67,
   "id": "4885cebc",
   "metadata": {
    "ExecuteTime": {
     "end_time": "2021-06-01T08:45:40.370011Z",
     "start_time": "2021-06-01T08:45:40.290656Z"
    }
   },
   "outputs": [],
   "source": [
    "# Create dataframe of annualized volatility of log returns, rolling window = 20 days\n",
    "# https://stackoverflow.com/questions/38828622/calculating-the-stock-price-volatility-from-a-3-columns-csv\n",
    "df_vols = np.log(1 + df_raw_prices.pct_change()).rolling(window=20).std() * (255**0.5)"
   ]
  },
  {
   "cell_type": "code",
   "execution_count": 68,
   "id": "4d02740c",
   "metadata": {
    "ExecuteTime": {
     "end_time": "2021-06-01T08:45:40.766664Z",
     "start_time": "2021-06-01T08:45:40.371641Z"
    }
   },
   "outputs": [
    {
     "data": {
      "image/png": "[encoded data removed]",
      "text/plain": [
       "<Figure size 1080x360 with 1 Axes>"
      ]
     },
     "metadata": {},
     "output_type": "display_data"
    }
   ],
   "source": [
    "# Plot rolling vol comaprison\n",
    "# tickers_to_plot = [\"SU.PA\", \"EUCAR.PA\", \"^FCHI\"]\n",
    "# tickers_to_plot = ['FAUV.PA', 'FORE.PA', 'GET.PA', 'GIRO.PA']\n",
    "# tickers_to_plot = df_ticker_info.loc[df_ticker_info[\"Industry\"]==\"Railroads\"].index.tolist()\n",
    "# tickers_to_plot = df_ticker_info.loc[df_ticker_info[\"Industry\"]==\"Biotechnology\"].index.tolist()\n",
    "tickers_to_plot = df_ticker_info.loc[df_ticker_info[\"Industry\"]==\"Drug Manufacturers—General\"].index.tolist()\n",
    "df_vols[tickers_to_plot].plot(figsize=(15,5),\n",
    "#                               color=[\"green\", \"blue\", \"gray\"],\n",
    "                             )\n",
    "plt.title(\"Realized Volatility\\n(Annualized, rolling window=20)\")\n",
    "plt.grid()"
   ]
  },
  {
   "cell_type": "code",
   "execution_count": 69,
   "id": "9c05f02f",
   "metadata": {
    "ExecuteTime": {
     "end_time": "2021-06-01T08:45:41.105510Z",
     "start_time": "2021-06-01T08:45:40.768427Z"
    }
   },
   "outputs": [
    {
     "data": {
      "image/png": "[encoded data removed]",
      "text/plain": [
       "<Figure size 504x432 with 1 Axes>"
      ]
     },
     "metadata": {},
     "output_type": "display_data"
    }
   ],
   "source": [
    "# Plot most volatile stocks in past 20 days\n",
    "today = \"2021-05-21\"\n",
    "top_n_vols = 20\n",
    "df_vols.loc[today].sort_values(ascending=False)[:top_n_vols].sort_values().plot(kind=\"barh\", figsize=(7,6))\n",
    "plt.title(f\"Top {top_n_vols} most volatile stocks in past 20 days\\nas at {today}\")\n",
    "plt.xlabel(\"Annualized vol of log returns in %\")\n",
    "plt.grid()"
   ]
  },
  {
   "cell_type": "code",
   "execution_count": 70,
   "id": "a09d4c5c",
   "metadata": {
    "ExecuteTime": {
     "end_time": "2021-06-01T08:45:41.558057Z",
     "start_time": "2021-06-01T08:45:41.109114Z"
    }
   },
   "outputs": [
    {
     "data": {
      "image/png": "[encoded data removed]",
      "text/plain": [
       "<Figure size 504x720 with 1 Axes>"
      ]
     },
     "metadata": {},
     "output_type": "display_data"
    }
   ],
   "source": [
    "# Plot most volatile stocks in past 20 days\n",
    "industry = \"Biotechnology\"\n",
    "today = \"2021-05-21\"\n",
    "top_n_vols = 100\n",
    "df_vols.loc[today][df_ticker_info.loc[df_ticker_info[\"Industry\"]==industry].index.tolist()].sort_values(ascending=False)[:top_n_vols].sort_values().plot(kind=\"barh\", figsize=(7,10))\n",
    "plt.title(f\"Top {top_n_vols} most volatile stocks in {industry} industry over past 20 days\\nas at {today}\")\n",
    "plt.xlabel(\"Annualized vol of log returns in %\")\n",
    "plt.grid()"
   ]
  },
  {
   "cell_type": "markdown",
   "id": "01f1f9b2",
   "metadata": {
    "heading_collapsed": true
   },
   "source": [
    "### Correlation of moving average returns"
   ]
  },
  {
   "cell_type": "code",
   "execution_count": 71,
   "id": "f0c036d2",
   "metadata": {
    "ExecuteTime": {
     "end_time": "2021-06-01T08:45:41.564085Z",
     "start_time": "2021-06-01T08:45:41.561295Z"
    },
    "hidden": true,
    "run_control": {
     "marked": false
    }
   },
   "outputs": [],
   "source": [
    "start_date = '2021-01-01'\n",
    "end_date = '2021-12-31'\n",
    "ma_days = 20"
   ]
  },
  {
   "cell_type": "code",
   "execution_count": 72,
   "id": "cc28e87b",
   "metadata": {
    "ExecuteTime": {
     "end_time": "2021-06-01T08:45:41.568869Z",
     "start_time": "2021-06-01T08:45:41.565713Z"
    },
    "code_folding": [],
    "hidden": true,
    "run_control": {
     "marked": false
    }
   },
   "outputs": [],
   "source": [
    "# Make list of tickers to plot\n",
    "tickers = ['EC.PA', 'LFDE.PA', 'MAU.PA', 'CGG.PA', 'CLB.AS', 'FTI.PA', 'FUR.AS', 'GTT.PA', 'SBMO.AS', 'SLB.PA', 'TE.PA', 'VPK.AS', 'RDSA.AS', 'RDSB.AS', 'EURN.BR', 'EXM.BR', 'FLUX.BR', 'DPAM.PA', 'ES.PA']\n",
    "# tickers = df_raw_prices.columns # DON'T DO THIS FOR ~700 EURONEXT STOCKS!!!"
   ]
  },
  {
   "cell_type": "code",
   "execution_count": 73,
   "id": "5190d634",
   "metadata": {
    "ExecuteTime": {
     "end_time": "2021-06-01T08:45:43.414647Z",
     "start_time": "2021-06-01T08:45:41.577830Z"
    },
    "code_folding": [],
    "hidden": true,
    "run_control": {
     "marked": false
    }
   },
   "outputs": [
    {
     "data": {
      "image/png": "[encoded data removed]",
      "text/plain": [
       "<Figure size 1080x864 with 2 Axes>"
      ]
     },
     "metadata": {},
     "output_type": "display_data"
    }
   ],
   "source": [
    "# Plot correlation of closing price between tickers\n",
    "plot_corr_daily_returns(tickers, start_date, end_date, ma_days)"
   ]
  },
  {
   "cell_type": "code",
   "execution_count": null,
   "id": "8c500064",
   "metadata": {
    "hidden": true
   },
   "outputs": [],
   "source": []
  },
  {
   "cell_type": "code",
   "execution_count": null,
   "id": "485b7a3d",
   "metadata": {
    "hidden": true
   },
   "outputs": [],
   "source": []
  },
  {
   "cell_type": "code",
   "execution_count": null,
   "id": "ff0044c0",
   "metadata": {
    "hidden": true
   },
   "outputs": [],
   "source": []
  },
  {
   "cell_type": "code",
   "execution_count": null,
   "id": "663b6324",
   "metadata": {
    "hidden": true
   },
   "outputs": [],
   "source": []
  },
  {
   "cell_type": "code",
   "execution_count": null,
   "id": "1f641c87",
   "metadata": {
    "hidden": true
   },
   "outputs": [],
   "source": []
  },
  {
   "cell_type": "code",
   "execution_count": null,
   "id": "5c655848",
   "metadata": {
    "hidden": true
   },
   "outputs": [],
   "source": []
  },
  {
   "cell_type": "code",
   "execution_count": null,
   "id": "ab566b5a",
   "metadata": {
    "hidden": true
   },
   "outputs": [],
   "source": []
  },
  {
   "cell_type": "markdown",
   "id": "7fad209a",
   "metadata": {
    "heading_collapsed": true
   },
   "source": [
    "### Compare weekly patterns"
   ]
  },
  {
   "cell_type": "code",
   "execution_count": 74,
   "id": "11f9fcb9",
   "metadata": {
    "ExecuteTime": {
     "end_time": "2021-06-01T08:45:43.421802Z",
     "start_time": "2021-06-01T08:45:43.419030Z"
    },
    "hidden": true
   },
   "outputs": [],
   "source": [
    "stock_to_compare = \"^FCHI\"\n",
    "start_date = \"2021-01-01\"\n",
    "end_date = \"2021-12-31\""
   ]
  },
  {
   "cell_type": "code",
   "execution_count": 75,
   "id": "7d21a029",
   "metadata": {
    "ExecuteTime": {
     "end_time": "2021-06-01T08:45:43.452302Z",
     "start_time": "2021-06-01T08:45:43.423510Z"
    },
    "code_folding": [
     0
    ],
    "hidden": true
   },
   "outputs": [],
   "source": [
    "def plot_comparison_of_weeks(stock_to_compare):\n",
    "\n",
    "    df_compare_weeks = pd.DataFrame(df_raw_prices.loc[start_date:end_date][stock_to_compare])\n",
    "\n",
    "    # Get day of week for each date in the index\n",
    "    df_compare_weeks[\"weekday\"] = df_compare_weeks.index.to_series().dt.day_name()\n",
    "    # Get week number for each date in the index\n",
    "    df_compare_weeks[\"weeknum\"] = df_compare_weeks.index.to_series().dt.week\n",
    "    df_compare_weeks = df_compare_weeks.pivot_table(index=\"weeknum\", columns=\"weekday\", values=stock_to_compare).transpose()\n",
    "    df_compare_weeks = df_compare_weeks.reindex([\"Monday\", \"Tuesday\", \"Wednesday\", \"Thursday\", \"Friday\"])\n",
    "    \n",
    "    df_compare_weeks = (df_compare_weeks/df_compare_weeks.iloc[0] - 1) * 100\n",
    "    \n",
    "    colors = [\"white\" if df_compare_weeks[col].iloc[0] < df_compare_weeks[col].iloc[4] else \"red\" for col in df_compare_weeks.columns]\n",
    "    fig, ax = plt.subplots(figsize=(15,7)) \n",
    "\n",
    "    df_compare_weeks.plot(ax=ax, color=colors, alpha=.6, linewidth=4)\n",
    "    ax.get_legend().remove()\n",
    "    ax.set_facecolor(\"black\")\n",
    "    plt.xlabel(None)\n",
    "    return colors"
   ]
  },
  {
   "cell_type": "code",
   "execution_count": 76,
   "id": "8cdfeb20",
   "metadata": {
    "ExecuteTime": {
     "end_time": "2021-06-01T08:45:43.797127Z",
     "start_time": "2021-06-01T08:45:43.454107Z"
    },
    "hidden": true
   },
   "outputs": [
    {
     "data": {
      "image/png": "[encoded data removed]",
      "text/plain": [
       "<Figure size 1080x504 with 1 Axes>"
      ]
     },
     "metadata": {},
     "output_type": "display_data"
    }
   ],
   "source": [
    "colors = plot_comparison_of_weeks(stock_to_compare)"
   ]
  },
  {
   "cell_type": "code",
   "execution_count": 77,
   "id": "22825840",
   "metadata": {
    "ExecuteTime": {
     "end_time": "2021-06-01T08:45:43.805075Z",
     "start_time": "2021-06-01T08:45:43.798987Z"
    },
    "hidden": true
   },
   "outputs": [
    {
     "data": {
      "text/plain": [
       "red      12\n",
       "white     8\n",
       "dtype: int64"
      ]
     },
     "execution_count": 77,
     "metadata": {},
     "output_type": "execute_result"
    }
   ],
   "source": [
    "pd.Series(colors).value_counts()"
   ]
  },
  {
   "cell_type": "code",
   "execution_count": null,
   "id": "278e85e5",
   "metadata": {
    "hidden": true
   },
   "outputs": [],
   "source": []
  },
  {
   "cell_type": "markdown",
   "id": "afde14e5",
   "metadata": {},
   "source": [
    "## Trading Strategies"
   ]
  },
  {
   "cell_type": "markdown",
   "id": "9664567b",
   "metadata": {},
   "source": [
    "### ML-based Trading Strategy"
   ]
  },
  {
   "cell_type": "markdown",
   "id": "cd5fd54d",
   "metadata": {},
   "source": [
    "#### Target to be predicted"
   ]
  },
  {
   "cell_type": "markdown",
   "id": "1f662d47",
   "metadata": {},
   "source": [
    "1-week forward return classification. One of:\n",
    "\n",
    "- Loss (> n% loss)\n",
    "- Even (> Loss < Profit)\n",
    "- Profit (> n% profit)\n",
    "\n",
    "e.g. Price on t = 100, price on t + 1week = 103, (103/100)-1 = 3%, if n% = 2% then class=\"Profit\""
   ]
  },
  {
   "cell_type": "markdown",
   "id": "296fe05c",
   "metadata": {},
   "source": [
    "#### Features to be implemented"
   ]
  },
  {
   "cell_type": "markdown",
   "id": "92a96cd5",
   "metadata": {},
   "source": [
    "- Alpha (performance relative to index), last 10 days, last 5 days\n",
    "- Beta (volatility/risk relative to index), last 10 days, last 5 days\n",
    "- Trailing PE --> DONE\n",
    "- Forward PE --> DONE\n",
    "- Current realized vol, last 10 days, last 5 days\n",
    "- Price to Sales --> DONE\n",
    "- Profit margin --> DONE\n",
    "- Dividend payout\n",
    "- Price to Free Cashflow --> DONE\n",
    "- Debt to Equity --> DONE\n",
    "- Current ratio --> DONE\n",
    "- Moving Average crosses, 5d crossing 10d\n",
    "- Correlation to index, last 10 days, last 5 days\n",
    "- Index performance, last 10 days, last 5 days --> DONE\n",
    "- Stock (self) performance, last 10 days, last 5 days --> DONE\n",
    "- Index performance, last 10 days, last 5 days as 1 (gain) or -1 (loss)\n",
    "- Stock (self) performance, last 10 days, last 5 days as 1 (gain) or -1 (loss)\n",
    "- ARIMA forecast: https://pypi.org/project/pmdarima/ and https://github.com/cdignam8304/time-series/tree/master/tutorial\n",
    "\n",
    "https://github.com/owid/covid-19-data/tree/master/public/data\n",
    "\n",
    "NB: Data generated using \"covid_data.ipynb\"\n",
    "- Covid new cases (smoothed + log transform) --> DONE\n",
    "- Covid new vaccinations (smoothed + log transform) --> DONE"
   ]
  },
  {
   "cell_type": "markdown",
   "id": "82a14e8b",
   "metadata": {},
   "source": [
    "#### Parameters"
   ]
  },
  {
   "cell_type": "code",
   "execution_count": 98,
   "id": "15da5497",
   "metadata": {
    "ExecuteTime": {
     "end_time": "2021-06-01T09:23:28.381483Z",
     "start_time": "2021-06-01T09:23:28.375888Z"
    }
   },
   "outputs": [],
   "source": [
    "# days_forward = 5\n",
    "days_forward = 10\n",
    "target_return = .05 # 5%\n",
    "# target_return = .00 # 0%\n",
    "test_ratio = .2"
   ]
  },
  {
   "cell_type": "markdown",
   "id": "e96cc05a",
   "metadata": {},
   "source": [
    "#### Create labeled dataset"
   ]
  },
  {
   "cell_type": "code",
   "execution_count": 99,
   "id": "9659fc9d",
   "metadata": {
    "ExecuteTime": {
     "end_time": "2021-06-01T09:23:29.322993Z",
     "start_time": "2021-06-01T09:23:29.319993Z"
    },
    "scrolled": true
   },
   "outputs": [],
   "source": [
    "# df_raw_prices"
   ]
  },
  {
   "cell_type": "code",
   "execution_count": 100,
   "id": "0567aa9d",
   "metadata": {
    "ExecuteTime": {
     "end_time": "2021-06-01T09:23:30.229586Z",
     "start_time": "2021-06-01T09:23:30.223199Z"
    }
   },
   "outputs": [],
   "source": [
    "# Create dataframe of n days forward returns\n",
    "df_nday_returns = -df_raw_prices.diff(-days_forward)/df_raw_prices"
   ]
  },
  {
   "cell_type": "code",
   "execution_count": 101,
   "id": "a8fdb741",
   "metadata": {
    "ExecuteTime": {
     "end_time": "2021-06-01T09:23:31.039345Z",
     "start_time": "2021-06-01T09:23:31.015692Z"
    },
    "scrolled": true
   },
   "outputs": [
    {
     "data": {
      "text/html": [
       "<div>\n",
       "<style scoped>\n",
       "    .dataframe tbody tr th:only-of-type {\n",
       "        vertical-align: middle;\n",
       "    }\n",
       "\n",
       "    .dataframe tbody tr th {\n",
       "        vertical-align: top;\n",
       "    }\n",
       "\n",
       "    .dataframe thead th {\n",
       "        text-align: right;\n",
       "    }\n",
       "</style>\n",
       "<table border=\"1\" class=\"dataframe\">\n",
       "  <thead>\n",
       "    <tr style=\"text-align: right;\">\n",
       "      <th></th>\n",
       "      <th>2CRSI.PA</th>\n",
       "      <th>2MX.PA</th>\n",
       "      <th>AAA.PA</th>\n",
       "      <th>AALB.AS</th>\n",
       "      <th>AB.PA</th>\n",
       "      <th>ABCA.PA</th>\n",
       "      <th>ABEO.PA</th>\n",
       "      <th>ABI.BR</th>\n",
       "      <th>ABIO.PA</th>\n",
       "      <th>ABN.AS</th>\n",
       "      <th>...</th>\n",
       "      <th>WKL.AS</th>\n",
       "      <th>WLN.PA</th>\n",
       "      <th>XFAB.PA</th>\n",
       "      <th>XIL.PA</th>\n",
       "      <th>XIOR.BR</th>\n",
       "      <th>XPO.PA</th>\n",
       "      <th>YATRA.AS</th>\n",
       "      <th>ZENT.BR</th>\n",
       "      <th>^FCHI</th>\n",
       "      <th>^N100</th>\n",
       "    </tr>\n",
       "    <tr>\n",
       "      <th>Date</th>\n",
       "      <th></th>\n",
       "      <th></th>\n",
       "      <th></th>\n",
       "      <th></th>\n",
       "      <th></th>\n",
       "      <th></th>\n",
       "      <th></th>\n",
       "      <th></th>\n",
       "      <th></th>\n",
       "      <th></th>\n",
       "      <th></th>\n",
       "      <th></th>\n",
       "      <th></th>\n",
       "      <th></th>\n",
       "      <th></th>\n",
       "      <th></th>\n",
       "      <th></th>\n",
       "      <th></th>\n",
       "      <th></th>\n",
       "      <th></th>\n",
       "      <th></th>\n",
       "    </tr>\n",
       "  </thead>\n",
       "  <tbody>\n",
       "    <tr>\n",
       "      <th>2019-05-23</th>\n",
       "      <td>0.015487</td>\n",
       "      <td>NaN</td>\n",
       "      <td>0.039474</td>\n",
       "      <td>0.019601</td>\n",
       "      <td>0.070358</td>\n",
       "      <td>0.014286</td>\n",
       "      <td>-0.000000</td>\n",
       "      <td>0.007463</td>\n",
       "      <td>0.139336</td>\n",
       "      <td>0.011936</td>\n",
       "      <td>...</td>\n",
       "      <td>0.022515</td>\n",
       "      <td>0.135729</td>\n",
       "      <td>0.029474</td>\n",
       "      <td>0.042017</td>\n",
       "      <td>0.001129</td>\n",
       "      <td>0.160584</td>\n",
       "      <td>0.125000</td>\n",
       "      <td>-0.018405</td>\n",
       "      <td>-0.000557</td>\n",
       "      <td>0.001512</td>\n",
       "    </tr>\n",
       "    <tr>\n",
       "      <th>2019-05-24</th>\n",
       "      <td>0.026608</td>\n",
       "      <td>NaN</td>\n",
       "      <td>0.039474</td>\n",
       "      <td>0.037454</td>\n",
       "      <td>0.074645</td>\n",
       "      <td>0.015798</td>\n",
       "      <td>-0.010417</td>\n",
       "      <td>0.026384</td>\n",
       "      <td>0.144638</td>\n",
       "      <td>0.000524</td>\n",
       "      <td>...</td>\n",
       "      <td>0.023665</td>\n",
       "      <td>0.142718</td>\n",
       "      <td>0.006129</td>\n",
       "      <td>0.093793</td>\n",
       "      <td>0.003366</td>\n",
       "      <td>0.153285</td>\n",
       "      <td>0.130952</td>\n",
       "      <td>-0.024390</td>\n",
       "      <td>0.008942</td>\n",
       "      <td>0.010257</td>\n",
       "    </tr>\n",
       "    <tr>\n",
       "      <th>2019-05-27</th>\n",
       "      <td>0.006593</td>\n",
       "      <td>NaN</td>\n",
       "      <td>0.039474</td>\n",
       "      <td>0.039539</td>\n",
       "      <td>0.097619</td>\n",
       "      <td>0.014063</td>\n",
       "      <td>-0.017668</td>\n",
       "      <td>0.018980</td>\n",
       "      <td>0.127139</td>\n",
       "      <td>-0.000260</td>\n",
       "      <td>...</td>\n",
       "      <td>0.023337</td>\n",
       "      <td>0.145631</td>\n",
       "      <td>0.043659</td>\n",
       "      <td>0.150070</td>\n",
       "      <td>-0.006704</td>\n",
       "      <td>0.204380</td>\n",
       "      <td>0.130952</td>\n",
       "      <td>-0.042424</td>\n",
       "      <td>0.008678</td>\n",
       "      <td>0.009889</td>\n",
       "    </tr>\n",
       "  </tbody>\n",
       "</table>\n",
       "<p>3 rows × 706 columns</p>\n",
       "</div>"
      ],
      "text/plain": [
       "            2CRSI.PA  2MX.PA    AAA.PA   AALB.AS     AB.PA   ABCA.PA  \\\n",
       "Date                                                                   \n",
       "2019-05-23  0.015487     NaN  0.039474  0.019601  0.070358  0.014286   \n",
       "2019-05-24  0.026608     NaN  0.039474  0.037454  0.074645  0.015798   \n",
       "2019-05-27  0.006593     NaN  0.039474  0.039539  0.097619  0.014063   \n",
       "\n",
       "             ABEO.PA    ABI.BR   ABIO.PA    ABN.AS  ...    WKL.AS    WLN.PA  \\\n",
       "Date                                                ...                       \n",
       "2019-05-23 -0.000000  0.007463  0.139336  0.011936  ...  0.022515  0.135729   \n",
       "2019-05-24 -0.010417  0.026384  0.144638  0.000524  ...  0.023665  0.142718   \n",
       "2019-05-27 -0.017668  0.018980  0.127139 -0.000260  ...  0.023337  0.145631   \n",
       "\n",
       "             XFAB.PA    XIL.PA   XIOR.BR    XPO.PA  YATRA.AS   ZENT.BR  \\\n",
       "Date                                                                     \n",
       "2019-05-23  0.029474  0.042017  0.001129  0.160584  0.125000 -0.018405   \n",
       "2019-05-24  0.006129  0.093793  0.003366  0.153285  0.130952 -0.024390   \n",
       "2019-05-27  0.043659  0.150070 -0.006704  0.204380  0.130952 -0.042424   \n",
       "\n",
       "               ^FCHI     ^N100  \n",
       "Date                            \n",
       "2019-05-23 -0.000557  0.001512  \n",
       "2019-05-24  0.008942  0.010257  \n",
       "2019-05-27  0.008678  0.009889  \n",
       "\n",
       "[3 rows x 706 columns]"
      ]
     },
     "execution_count": 101,
     "metadata": {},
     "output_type": "execute_result"
    }
   ],
   "source": [
    "df_nday_returns.head(3)"
   ]
  },
  {
   "cell_type": "code",
   "execution_count": 102,
   "id": "b104cd7a",
   "metadata": {
    "ExecuteTime": {
     "end_time": "2021-06-01T09:23:38.766977Z",
     "start_time": "2021-06-01T09:23:38.746164Z"
    }
   },
   "outputs": [],
   "source": [
    "# Create dataframe of n days forward log returns\n",
    "df_nday_log_returns = -np.log(1+df_raw_prices.pct_change(-days_forward))"
   ]
  },
  {
   "cell_type": "code",
   "execution_count": 103,
   "id": "c22ef861",
   "metadata": {
    "ExecuteTime": {
     "end_time": "2021-06-01T09:23:39.817661Z",
     "start_time": "2021-06-01T09:23:39.794240Z"
    }
   },
   "outputs": [
    {
     "data": {
      "text/html": [
       "<div>\n",
       "<style scoped>\n",
       "    .dataframe tbody tr th:only-of-type {\n",
       "        vertical-align: middle;\n",
       "    }\n",
       "\n",
       "    .dataframe tbody tr th {\n",
       "        vertical-align: top;\n",
       "    }\n",
       "\n",
       "    .dataframe thead th {\n",
       "        text-align: right;\n",
       "    }\n",
       "</style>\n",
       "<table border=\"1\" class=\"dataframe\">\n",
       "  <thead>\n",
       "    <tr style=\"text-align: right;\">\n",
       "      <th></th>\n",
       "      <th>2CRSI.PA</th>\n",
       "      <th>2MX.PA</th>\n",
       "      <th>AAA.PA</th>\n",
       "      <th>AALB.AS</th>\n",
       "      <th>AB.PA</th>\n",
       "      <th>ABCA.PA</th>\n",
       "      <th>ABEO.PA</th>\n",
       "      <th>ABI.BR</th>\n",
       "      <th>ABIO.PA</th>\n",
       "      <th>ABN.AS</th>\n",
       "      <th>...</th>\n",
       "      <th>WKL.AS</th>\n",
       "      <th>WLN.PA</th>\n",
       "      <th>XFAB.PA</th>\n",
       "      <th>XIL.PA</th>\n",
       "      <th>XIOR.BR</th>\n",
       "      <th>XPO.PA</th>\n",
       "      <th>YATRA.AS</th>\n",
       "      <th>ZENT.BR</th>\n",
       "      <th>^FCHI</th>\n",
       "      <th>^N100</th>\n",
       "    </tr>\n",
       "    <tr>\n",
       "      <th>Date</th>\n",
       "      <th></th>\n",
       "      <th></th>\n",
       "      <th></th>\n",
       "      <th></th>\n",
       "      <th></th>\n",
       "      <th></th>\n",
       "      <th></th>\n",
       "      <th></th>\n",
       "      <th></th>\n",
       "      <th></th>\n",
       "      <th></th>\n",
       "      <th></th>\n",
       "      <th></th>\n",
       "      <th></th>\n",
       "      <th></th>\n",
       "      <th></th>\n",
       "      <th></th>\n",
       "      <th></th>\n",
       "      <th></th>\n",
       "      <th></th>\n",
       "      <th></th>\n",
       "    </tr>\n",
       "  </thead>\n",
       "  <tbody>\n",
       "    <tr>\n",
       "      <th>2019-05-23</th>\n",
       "      <td>0.015368</td>\n",
       "      <td>NaN</td>\n",
       "      <td>0.038715</td>\n",
       "      <td>0.019412</td>\n",
       "      <td>0.067993</td>\n",
       "      <td>0.014185</td>\n",
       "      <td>-0.000000</td>\n",
       "      <td>0.007435</td>\n",
       "      <td>0.130446</td>\n",
       "      <td>0.011866</td>\n",
       "      <td>...</td>\n",
       "      <td>0.022266</td>\n",
       "      <td>0.127274</td>\n",
       "      <td>0.029048</td>\n",
       "      <td>0.041158</td>\n",
       "      <td>0.001128</td>\n",
       "      <td>0.148923</td>\n",
       "      <td>0.117783</td>\n",
       "      <td>-0.018576</td>\n",
       "      <td>-0.000557</td>\n",
       "      <td>0.001511</td>\n",
       "    </tr>\n",
       "    <tr>\n",
       "      <th>2019-05-24</th>\n",
       "      <td>0.026260</td>\n",
       "      <td>NaN</td>\n",
       "      <td>0.038715</td>\n",
       "      <td>0.036770</td>\n",
       "      <td>0.071990</td>\n",
       "      <td>0.015674</td>\n",
       "      <td>-0.010471</td>\n",
       "      <td>0.026042</td>\n",
       "      <td>0.135089</td>\n",
       "      <td>0.000524</td>\n",
       "      <td>...</td>\n",
       "      <td>0.023389</td>\n",
       "      <td>0.133410</td>\n",
       "      <td>0.006110</td>\n",
       "      <td>0.089652</td>\n",
       "      <td>0.003360</td>\n",
       "      <td>0.142614</td>\n",
       "      <td>0.123060</td>\n",
       "      <td>-0.024693</td>\n",
       "      <td>0.008902</td>\n",
       "      <td>0.010205</td>\n",
       "    </tr>\n",
       "    <tr>\n",
       "      <th>2019-05-27</th>\n",
       "      <td>0.006572</td>\n",
       "      <td>NaN</td>\n",
       "      <td>0.038715</td>\n",
       "      <td>0.038777</td>\n",
       "      <td>0.093143</td>\n",
       "      <td>0.013965</td>\n",
       "      <td>-0.017826</td>\n",
       "      <td>0.018802</td>\n",
       "      <td>0.119683</td>\n",
       "      <td>-0.000260</td>\n",
       "      <td>...</td>\n",
       "      <td>0.023069</td>\n",
       "      <td>0.135956</td>\n",
       "      <td>0.042733</td>\n",
       "      <td>0.139823</td>\n",
       "      <td>-0.006727</td>\n",
       "      <td>0.185965</td>\n",
       "      <td>0.123060</td>\n",
       "      <td>-0.043350</td>\n",
       "      <td>0.008641</td>\n",
       "      <td>0.009840</td>\n",
       "    </tr>\n",
       "  </tbody>\n",
       "</table>\n",
       "<p>3 rows × 706 columns</p>\n",
       "</div>"
      ],
      "text/plain": [
       "            2CRSI.PA  2MX.PA    AAA.PA   AALB.AS     AB.PA   ABCA.PA  \\\n",
       "Date                                                                   \n",
       "2019-05-23  0.015368     NaN  0.038715  0.019412  0.067993  0.014185   \n",
       "2019-05-24  0.026260     NaN  0.038715  0.036770  0.071990  0.015674   \n",
       "2019-05-27  0.006572     NaN  0.038715  0.038777  0.093143  0.013965   \n",
       "\n",
       "             ABEO.PA    ABI.BR   ABIO.PA    ABN.AS  ...    WKL.AS    WLN.PA  \\\n",
       "Date                                                ...                       \n",
       "2019-05-23 -0.000000  0.007435  0.130446  0.011866  ...  0.022266  0.127274   \n",
       "2019-05-24 -0.010471  0.026042  0.135089  0.000524  ...  0.023389  0.133410   \n",
       "2019-05-27 -0.017826  0.018802  0.119683 -0.000260  ...  0.023069  0.135956   \n",
       "\n",
       "             XFAB.PA    XIL.PA   XIOR.BR    XPO.PA  YATRA.AS   ZENT.BR  \\\n",
       "Date                                                                     \n",
       "2019-05-23  0.029048  0.041158  0.001128  0.148923  0.117783 -0.018576   \n",
       "2019-05-24  0.006110  0.089652  0.003360  0.142614  0.123060 -0.024693   \n",
       "2019-05-27  0.042733  0.139823 -0.006727  0.185965  0.123060 -0.043350   \n",
       "\n",
       "               ^FCHI     ^N100  \n",
       "Date                            \n",
       "2019-05-23 -0.000557  0.001511  \n",
       "2019-05-24  0.008902  0.010205  \n",
       "2019-05-27  0.008641  0.009840  \n",
       "\n",
       "[3 rows x 706 columns]"
      ]
     },
     "execution_count": 103,
     "metadata": {},
     "output_type": "execute_result"
    }
   ],
   "source": [
    "df_nday_log_returns.head(3)"
   ]
  },
  {
   "cell_type": "code",
   "execution_count": 104,
   "id": "d9519ff1",
   "metadata": {
    "ExecuteTime": {
     "end_time": "2021-06-01T09:23:41.178184Z",
     "start_time": "2021-06-01T09:23:41.022160Z"
    }
   },
   "outputs": [],
   "source": [
    "# Stack the actual returns so can look at correlations\n",
    "df_nday_returns_stacked = df_nday_returns.stack().reset_index()\n",
    "df_nday_returns_stacked.columns = [\"Date\", \"Ticker\", \"n_day_return\"]\n",
    "df_nday_returns_stacked.sort_values([\"Ticker\", \"Date\", ], inplace=True)"
   ]
  },
  {
   "cell_type": "code",
   "execution_count": 123,
   "id": "75bc35bc",
   "metadata": {
    "ExecuteTime": {
     "end_time": "2021-06-01T11:23:06.635668Z",
     "start_time": "2021-06-01T11:23:06.630472Z"
    }
   },
   "outputs": [],
   "source": [
    "# df_nday_returns_stacked"
   ]
  },
  {
   "cell_type": "code",
   "execution_count": 105,
   "id": "c1b6b668",
   "metadata": {
    "ExecuteTime": {
     "end_time": "2021-06-01T09:23:41.966103Z",
     "start_time": "2021-06-01T09:23:41.842693Z"
    }
   },
   "outputs": [],
   "source": [
    "# Stack the actual returns so can look at correlations\n",
    "df_nday_log_returns_stacked = df_nday_log_returns.stack().reset_index()\n",
    "df_nday_log_returns_stacked.columns = [\"Date\", \"Ticker\", \"n_day_log_return\"]\n",
    "df_nday_log_returns_stacked.sort_values([\"Ticker\", \"Date\", ], inplace=True)"
   ]
  },
  {
   "cell_type": "code",
   "execution_count": 119,
   "id": "a0a6eb1f",
   "metadata": {
    "ExecuteTime": {
     "end_time": "2021-06-01T11:16:31.855274Z",
     "start_time": "2021-06-01T11:16:31.841890Z"
    }
   },
   "outputs": [
    {
     "data": {
      "text/html": [
       "<div>\n",
       "<style scoped>\n",
       "    .dataframe tbody tr th:only-of-type {\n",
       "        vertical-align: middle;\n",
       "    }\n",
       "\n",
       "    .dataframe tbody tr th {\n",
       "        vertical-align: top;\n",
       "    }\n",
       "\n",
       "    .dataframe thead th {\n",
       "        text-align: right;\n",
       "    }\n",
       "</style>\n",
       "<table border=\"1\" class=\"dataframe\">\n",
       "  <thead>\n",
       "    <tr style=\"text-align: right;\">\n",
       "      <th></th>\n",
       "      <th>Date</th>\n",
       "      <th>Ticker</th>\n",
       "      <th>n_day_log_return</th>\n",
       "    </tr>\n",
       "  </thead>\n",
       "  <tbody>\n",
       "    <tr>\n",
       "      <th>0</th>\n",
       "      <td>2019-05-23</td>\n",
       "      <td>2CRSI.PA</td>\n",
       "      <td>0.015368</td>\n",
       "    </tr>\n",
       "    <tr>\n",
       "      <th>650</th>\n",
       "      <td>2019-05-24</td>\n",
       "      <td>2CRSI.PA</td>\n",
       "      <td>0.026260</td>\n",
       "    </tr>\n",
       "    <tr>\n",
       "      <th>1300</th>\n",
       "      <td>2019-05-27</td>\n",
       "      <td>2CRSI.PA</td>\n",
       "      <td>0.006572</td>\n",
       "    </tr>\n",
       "    <tr>\n",
       "      <th>1950</th>\n",
       "      <td>2019-05-28</td>\n",
       "      <td>2CRSI.PA</td>\n",
       "      <td>-0.002176</td>\n",
       "    </tr>\n",
       "    <tr>\n",
       "      <th>2600</th>\n",
       "      <td>2019-05-29</td>\n",
       "      <td>2CRSI.PA</td>\n",
       "      <td>0.006572</td>\n",
       "    </tr>\n",
       "    <tr>\n",
       "      <th>...</th>\n",
       "      <td>...</td>\n",
       "      <td>...</td>\n",
       "      <td>...</td>\n",
       "    </tr>\n",
       "    <tr>\n",
       "      <th>331548</th>\n",
       "      <td>2021-05-03</td>\n",
       "      <td>^N100</td>\n",
       "      <td>-0.000607</td>\n",
       "    </tr>\n",
       "    <tr>\n",
       "      <th>332231</th>\n",
       "      <td>2021-05-04</td>\n",
       "      <td>^N100</td>\n",
       "      <td>0.012807</td>\n",
       "    </tr>\n",
       "    <tr>\n",
       "      <th>332914</th>\n",
       "      <td>2021-05-05</td>\n",
       "      <td>^N100</td>\n",
       "      <td>-0.019185</td>\n",
       "    </tr>\n",
       "    <tr>\n",
       "      <th>333598</th>\n",
       "      <td>2021-05-06</td>\n",
       "      <td>^N100</td>\n",
       "      <td>-0.006326</td>\n",
       "    </tr>\n",
       "    <tr>\n",
       "      <th>334282</th>\n",
       "      <td>2021-05-07</td>\n",
       "      <td>^N100</td>\n",
       "      <td>-0.007414</td>\n",
       "    </tr>\n",
       "  </tbody>\n",
       "</table>\n",
       "<p>334283 rows × 3 columns</p>\n",
       "</div>"
      ],
      "text/plain": [
       "             Date    Ticker  n_day_log_return\n",
       "0      2019-05-23  2CRSI.PA          0.015368\n",
       "650    2019-05-24  2CRSI.PA          0.026260\n",
       "1300   2019-05-27  2CRSI.PA          0.006572\n",
       "1950   2019-05-28  2CRSI.PA         -0.002176\n",
       "2600   2019-05-29  2CRSI.PA          0.006572\n",
       "...           ...       ...               ...\n",
       "331548 2021-05-03     ^N100         -0.000607\n",
       "332231 2021-05-04     ^N100          0.012807\n",
       "332914 2021-05-05     ^N100         -0.019185\n",
       "333598 2021-05-06     ^N100         -0.006326\n",
       "334282 2021-05-07     ^N100         -0.007414\n",
       "\n",
       "[334283 rows x 3 columns]"
      ]
     },
     "execution_count": 119,
     "metadata": {},
     "output_type": "execute_result"
    }
   ],
   "source": [
    "df_nday_log_returns_stacked"
   ]
  },
  {
   "cell_type": "code",
   "execution_count": 120,
   "id": "1e23c3c6",
   "metadata": {
    "ExecuteTime": {
     "end_time": "2021-06-01T11:16:50.031830Z",
     "start_time": "2021-06-01T11:16:47.372990Z"
    },
    "code_folding": []
   },
   "outputs": [],
   "source": [
    "# Convert n days forward returns to target labels\n",
    "\n",
    "def convert_2_target(x):\n",
    "    try:\n",
    "#         if x >= target_return:\n",
    "        if x > target_return:\n",
    "            return 1\n",
    "#         elif x <= -target_return:\n",
    "#             return -1\n",
    "        else:\n",
    "            return 0\n",
    "    except:\n",
    "        return 0\n"
   ]
  },
  {
   "cell_type": "code",
   "execution_count": 125,
   "id": "06443927",
   "metadata": {
    "ExecuteTime": {
     "end_time": "2021-06-01T11:26:58.405046Z",
     "start_time": "2021-06-01T11:26:58.251053Z"
    }
   },
   "outputs": [
    {
     "data": {
      "text/plain": [
       "0    268440\n",
       "1     65843\n",
       "Name: n_day_log_return, dtype: int64"
      ]
     },
     "execution_count": 125,
     "metadata": {},
     "output_type": "execute_result"
    }
   ],
   "source": [
    "# df_targets = df_nday_log_returns_stacked.applymap(convert_2_target)\n",
    "\n",
    "df_nday_log_returns_stacked[\"n_day_log_return\"].apply(lambda x: convert_2_target(x)).value_counts()"
   ]
  },
  {
   "cell_type": "code",
   "execution_count": 121,
   "id": "60e22de5",
   "metadata": {
    "ExecuteTime": {
     "end_time": "2021-06-01T11:16:51.123593Z",
     "start_time": "2021-06-01T11:16:51.114712Z"
    },
    "scrolled": true
   },
   "outputs": [
    {
     "data": {
      "text/html": [
       "<div>\n",
       "<style scoped>\n",
       "    .dataframe tbody tr th:only-of-type {\n",
       "        vertical-align: middle;\n",
       "    }\n",
       "\n",
       "    .dataframe tbody tr th {\n",
       "        vertical-align: top;\n",
       "    }\n",
       "\n",
       "    .dataframe thead th {\n",
       "        text-align: right;\n",
       "    }\n",
       "</style>\n",
       "<table border=\"1\" class=\"dataframe\">\n",
       "  <thead>\n",
       "    <tr style=\"text-align: right;\">\n",
       "      <th></th>\n",
       "      <th>Date</th>\n",
       "      <th>Ticker</th>\n",
       "      <th>n_day_log_return</th>\n",
       "    </tr>\n",
       "  </thead>\n",
       "  <tbody>\n",
       "    <tr>\n",
       "      <th>0</th>\n",
       "      <td>0</td>\n",
       "      <td>0</td>\n",
       "      <td>0</td>\n",
       "    </tr>\n",
       "    <tr>\n",
       "      <th>650</th>\n",
       "      <td>0</td>\n",
       "      <td>0</td>\n",
       "      <td>0</td>\n",
       "    </tr>\n",
       "    <tr>\n",
       "      <th>1300</th>\n",
       "      <td>0</td>\n",
       "      <td>0</td>\n",
       "      <td>0</td>\n",
       "    </tr>\n",
       "    <tr>\n",
       "      <th>1950</th>\n",
       "      <td>0</td>\n",
       "      <td>0</td>\n",
       "      <td>0</td>\n",
       "    </tr>\n",
       "    <tr>\n",
       "      <th>2600</th>\n",
       "      <td>0</td>\n",
       "      <td>0</td>\n",
       "      <td>0</td>\n",
       "    </tr>\n",
       "    <tr>\n",
       "      <th>...</th>\n",
       "      <td>...</td>\n",
       "      <td>...</td>\n",
       "      <td>...</td>\n",
       "    </tr>\n",
       "    <tr>\n",
       "      <th>331548</th>\n",
       "      <td>0</td>\n",
       "      <td>0</td>\n",
       "      <td>0</td>\n",
       "    </tr>\n",
       "    <tr>\n",
       "      <th>332231</th>\n",
       "      <td>0</td>\n",
       "      <td>0</td>\n",
       "      <td>0</td>\n",
       "    </tr>\n",
       "    <tr>\n",
       "      <th>332914</th>\n",
       "      <td>0</td>\n",
       "      <td>0</td>\n",
       "      <td>0</td>\n",
       "    </tr>\n",
       "    <tr>\n",
       "      <th>333598</th>\n",
       "      <td>0</td>\n",
       "      <td>0</td>\n",
       "      <td>0</td>\n",
       "    </tr>\n",
       "    <tr>\n",
       "      <th>334282</th>\n",
       "      <td>0</td>\n",
       "      <td>0</td>\n",
       "      <td>0</td>\n",
       "    </tr>\n",
       "  </tbody>\n",
       "</table>\n",
       "<p>334283 rows × 3 columns</p>\n",
       "</div>"
      ],
      "text/plain": [
       "        Date  Ticker  n_day_log_return\n",
       "0          0       0                 0\n",
       "650        0       0                 0\n",
       "1300       0       0                 0\n",
       "1950       0       0                 0\n",
       "2600       0       0                 0\n",
       "...      ...     ...               ...\n",
       "331548     0       0                 0\n",
       "332231     0       0                 0\n",
       "332914     0       0                 0\n",
       "333598     0       0                 0\n",
       "334282     0       0                 0\n",
       "\n",
       "[334283 rows x 3 columns]"
      ]
     },
     "execution_count": 121,
     "metadata": {},
     "output_type": "execute_result"
    }
   ],
   "source": [
    "df_targets"
   ]
  },
  {
   "cell_type": "code",
   "execution_count": 109,
   "id": "ffebeafc",
   "metadata": {
    "ExecuteTime": {
     "end_time": "2021-06-01T09:23:46.818509Z",
     "start_time": "2021-06-01T09:23:46.814689Z"
    }
   },
   "outputs": [
    {
     "data": {
      "text/plain": [
       "(334283, 3)"
      ]
     },
     "execution_count": 109,
     "metadata": {},
     "output_type": "execute_result"
    }
   ],
   "source": [
    "df_targets.shape"
   ]
  },
  {
   "cell_type": "code",
   "execution_count": 110,
   "id": "3f3ccf3a",
   "metadata": {
    "ExecuteTime": {
     "end_time": "2021-06-01T09:23:59.816804Z",
     "start_time": "2021-06-01T09:23:59.186973Z"
    }
   },
   "outputs": [],
   "source": [
    "# df_targets.stack().unstack() # this is how you get back to original frame\n",
    "\n",
    "df_targets_stacked = df_targets.stack().reset_index()\n",
    "df_targets_stacked.columns = [\"Date\", \"Ticker\", \"Target\"]\n",
    "df_targets_stacked.sort_values([\"Ticker\", \"Date\", ], inplace=True)"
   ]
  },
  {
   "cell_type": "code",
   "execution_count": 112,
   "id": "66b6f7f1",
   "metadata": {
    "ExecuteTime": {
     "end_time": "2021-06-01T09:36:24.410033Z",
     "start_time": "2021-06-01T09:36:24.396989Z"
    }
   },
   "outputs": [
    {
     "data": {
      "text/html": [
       "<div>\n",
       "<style scoped>\n",
       "    .dataframe tbody tr th:only-of-type {\n",
       "        vertical-align: middle;\n",
       "    }\n",
       "\n",
       "    .dataframe tbody tr th {\n",
       "        vertical-align: top;\n",
       "    }\n",
       "\n",
       "    .dataframe thead th {\n",
       "        text-align: right;\n",
       "    }\n",
       "</style>\n",
       "<table border=\"1\" class=\"dataframe\">\n",
       "  <thead>\n",
       "    <tr style=\"text-align: right;\">\n",
       "      <th></th>\n",
       "      <th>Date</th>\n",
       "      <th>Ticker</th>\n",
       "      <th>Target</th>\n",
       "    </tr>\n",
       "  </thead>\n",
       "  <tbody>\n",
       "    <tr>\n",
       "      <th>0</th>\n",
       "      <td>0</td>\n",
       "      <td>Date</td>\n",
       "      <td>0</td>\n",
       "    </tr>\n",
       "    <tr>\n",
       "      <th>1824</th>\n",
       "      <td>1</td>\n",
       "      <td>Date</td>\n",
       "      <td>0</td>\n",
       "    </tr>\n",
       "    <tr>\n",
       "      <th>3336</th>\n",
       "      <td>2</td>\n",
       "      <td>Date</td>\n",
       "      <td>0</td>\n",
       "    </tr>\n",
       "    <tr>\n",
       "      <th>4848</th>\n",
       "      <td>3</td>\n",
       "      <td>Date</td>\n",
       "      <td>0</td>\n",
       "    </tr>\n",
       "    <tr>\n",
       "      <th>6360</th>\n",
       "      <td>4</td>\n",
       "      <td>Date</td>\n",
       "      <td>0</td>\n",
       "    </tr>\n",
       "    <tr>\n",
       "      <th>...</th>\n",
       "      <td>...</td>\n",
       "      <td>...</td>\n",
       "      <td>...</td>\n",
       "    </tr>\n",
       "    <tr>\n",
       "      <th>996800</th>\n",
       "      <td>334278</td>\n",
       "      <td>n_day_log_return</td>\n",
       "      <td>1</td>\n",
       "    </tr>\n",
       "    <tr>\n",
       "      <th>998312</th>\n",
       "      <td>334279</td>\n",
       "      <td>n_day_log_return</td>\n",
       "      <td>0</td>\n",
       "    </tr>\n",
       "    <tr>\n",
       "      <th>999824</th>\n",
       "      <td>334280</td>\n",
       "      <td>n_day_log_return</td>\n",
       "      <td>0</td>\n",
       "    </tr>\n",
       "    <tr>\n",
       "      <th>1001336</th>\n",
       "      <td>334281</td>\n",
       "      <td>n_day_log_return</td>\n",
       "      <td>0</td>\n",
       "    </tr>\n",
       "    <tr>\n",
       "      <th>1002848</th>\n",
       "      <td>334282</td>\n",
       "      <td>n_day_log_return</td>\n",
       "      <td>0</td>\n",
       "    </tr>\n",
       "  </tbody>\n",
       "</table>\n",
       "<p>1002849 rows × 3 columns</p>\n",
       "</div>"
      ],
      "text/plain": [
       "           Date            Ticker  Target\n",
       "0             0              Date       0\n",
       "1824          1              Date       0\n",
       "3336          2              Date       0\n",
       "4848          3              Date       0\n",
       "6360          4              Date       0\n",
       "...         ...               ...     ...\n",
       "996800   334278  n_day_log_return       1\n",
       "998312   334279  n_day_log_return       0\n",
       "999824   334280  n_day_log_return       0\n",
       "1001336  334281  n_day_log_return       0\n",
       "1002848  334282  n_day_log_return       0\n",
       "\n",
       "[1002849 rows x 3 columns]"
      ]
     },
     "execution_count": 112,
     "metadata": {},
     "output_type": "execute_result"
    }
   ],
   "source": [
    "df_targets_stacked"
   ]
  },
  {
   "cell_type": "code",
   "execution_count": 111,
   "id": "1fe5334b",
   "metadata": {
    "ExecuteTime": {
     "end_time": "2021-06-01T09:24:01.869986Z",
     "start_time": "2021-06-01T09:24:01.720142Z"
    }
   },
   "outputs": [
    {
     "ename": "AttributeError",
     "evalue": "'int' object has no attribute 'year'",
     "output_type": "error",
     "traceback": [
      "\u001b[0;31m---------------------------------------------------------------------------\u001b[0m",
      "\u001b[0;31mAttributeError\u001b[0m                            Traceback (most recent call last)",
      "\u001b[0;32m<ipython-input-111-a96304155b43>\u001b[0m in \u001b[0;36m<module>\u001b[0;34m\u001b[0m\n\u001b[1;32m      6\u001b[0m     \u001b[0;32mreturn\u001b[0m \u001b[0mpd\u001b[0m\u001b[0;34m.\u001b[0m\u001b[0mto_datetime\u001b[0m\u001b[0;34m(\u001b[0m\u001b[0mdatestring\u001b[0m\u001b[0;34m)\u001b[0m\u001b[0;34m\u001b[0m\u001b[0;34m\u001b[0m\u001b[0m\n\u001b[1;32m      7\u001b[0m \u001b[0;34m\u001b[0m\u001b[0m\n\u001b[0;32m----> 8\u001b[0;31m \u001b[0mdf_targets_stacked\u001b[0m\u001b[0;34m[\u001b[0m\u001b[0;34m\"Prev_Yr_End\"\u001b[0m\u001b[0;34m]\u001b[0m \u001b[0;34m=\u001b[0m \u001b[0mdf_targets_stacked\u001b[0m\u001b[0;34m[\u001b[0m\u001b[0;34m\"Date\"\u001b[0m\u001b[0;34m]\u001b[0m\u001b[0;34m.\u001b[0m\u001b[0mapply\u001b[0m\u001b[0;34m(\u001b[0m\u001b[0;32mlambda\u001b[0m \u001b[0mx\u001b[0m\u001b[0;34m:\u001b[0m \u001b[0mget_prev_yr_end\u001b[0m\u001b[0;34m(\u001b[0m\u001b[0mx\u001b[0m\u001b[0;34m)\u001b[0m\u001b[0;34m)\u001b[0m\u001b[0;34m\u001b[0m\u001b[0;34m\u001b[0m\u001b[0m\n\u001b[0m\u001b[1;32m      9\u001b[0m \u001b[0;34m\u001b[0m\u001b[0m\n\u001b[1;32m     10\u001b[0m \u001b[0;31m# Put columns in better order so Target is last column\u001b[0m\u001b[0;34m\u001b[0m\u001b[0;34m\u001b[0m\u001b[0;34m\u001b[0m\u001b[0m\n",
      "\u001b[0;32m~/anaconda3/envs/python3/lib/python3.6/site-packages/pandas/core/series.py\u001b[0m in \u001b[0;36mapply\u001b[0;34m(self, func, convert_dtype, args, **kwds)\u001b[0m\n\u001b[1;32m   4211\u001b[0m             \u001b[0;32melse\u001b[0m\u001b[0;34m:\u001b[0m\u001b[0;34m\u001b[0m\u001b[0;34m\u001b[0m\u001b[0m\n\u001b[1;32m   4212\u001b[0m                 \u001b[0mvalues\u001b[0m \u001b[0;34m=\u001b[0m \u001b[0mself\u001b[0m\u001b[0;34m.\u001b[0m\u001b[0mastype\u001b[0m\u001b[0;34m(\u001b[0m\u001b[0mobject\u001b[0m\u001b[0;34m)\u001b[0m\u001b[0;34m.\u001b[0m\u001b[0m_values\u001b[0m\u001b[0;34m\u001b[0m\u001b[0;34m\u001b[0m\u001b[0m\n\u001b[0;32m-> 4213\u001b[0;31m                 \u001b[0mmapped\u001b[0m \u001b[0;34m=\u001b[0m \u001b[0mlib\u001b[0m\u001b[0;34m.\u001b[0m\u001b[0mmap_infer\u001b[0m\u001b[0;34m(\u001b[0m\u001b[0mvalues\u001b[0m\u001b[0;34m,\u001b[0m \u001b[0mf\u001b[0m\u001b[0;34m,\u001b[0m \u001b[0mconvert\u001b[0m\u001b[0;34m=\u001b[0m\u001b[0mconvert_dtype\u001b[0m\u001b[0;34m)\u001b[0m\u001b[0;34m\u001b[0m\u001b[0;34m\u001b[0m\u001b[0m\n\u001b[0m\u001b[1;32m   4214\u001b[0m \u001b[0;34m\u001b[0m\u001b[0m\n\u001b[1;32m   4215\u001b[0m         \u001b[0;32mif\u001b[0m \u001b[0mlen\u001b[0m\u001b[0;34m(\u001b[0m\u001b[0mmapped\u001b[0m\u001b[0;34m)\u001b[0m \u001b[0;32mand\u001b[0m \u001b[0misinstance\u001b[0m\u001b[0;34m(\u001b[0m\u001b[0mmapped\u001b[0m\u001b[0;34m[\u001b[0m\u001b[0;36m0\u001b[0m\u001b[0;34m]\u001b[0m\u001b[0;34m,\u001b[0m \u001b[0mSeries\u001b[0m\u001b[0;34m)\u001b[0m\u001b[0;34m:\u001b[0m\u001b[0;34m\u001b[0m\u001b[0;34m\u001b[0m\u001b[0m\n",
      "\u001b[0;32mpandas/_libs/lib.pyx\u001b[0m in \u001b[0;36mpandas._libs.lib.map_infer\u001b[0;34m()\u001b[0m\n",
      "\u001b[0;32m<ipython-input-111-a96304155b43>\u001b[0m in \u001b[0;36m<lambda>\u001b[0;34m(x)\u001b[0m\n\u001b[1;32m      6\u001b[0m     \u001b[0;32mreturn\u001b[0m \u001b[0mpd\u001b[0m\u001b[0;34m.\u001b[0m\u001b[0mto_datetime\u001b[0m\u001b[0;34m(\u001b[0m\u001b[0mdatestring\u001b[0m\u001b[0;34m)\u001b[0m\u001b[0;34m\u001b[0m\u001b[0;34m\u001b[0m\u001b[0m\n\u001b[1;32m      7\u001b[0m \u001b[0;34m\u001b[0m\u001b[0m\n\u001b[0;32m----> 8\u001b[0;31m \u001b[0mdf_targets_stacked\u001b[0m\u001b[0;34m[\u001b[0m\u001b[0;34m\"Prev_Yr_End\"\u001b[0m\u001b[0;34m]\u001b[0m \u001b[0;34m=\u001b[0m \u001b[0mdf_targets_stacked\u001b[0m\u001b[0;34m[\u001b[0m\u001b[0;34m\"Date\"\u001b[0m\u001b[0;34m]\u001b[0m\u001b[0;34m.\u001b[0m\u001b[0mapply\u001b[0m\u001b[0;34m(\u001b[0m\u001b[0;32mlambda\u001b[0m \u001b[0mx\u001b[0m\u001b[0;34m:\u001b[0m \u001b[0mget_prev_yr_end\u001b[0m\u001b[0;34m(\u001b[0m\u001b[0mx\u001b[0m\u001b[0;34m)\u001b[0m\u001b[0;34m)\u001b[0m\u001b[0;34m\u001b[0m\u001b[0;34m\u001b[0m\u001b[0m\n\u001b[0m\u001b[1;32m      9\u001b[0m \u001b[0;34m\u001b[0m\u001b[0m\n\u001b[1;32m     10\u001b[0m \u001b[0;31m# Put columns in better order so Target is last column\u001b[0m\u001b[0;34m\u001b[0m\u001b[0;34m\u001b[0m\u001b[0;34m\u001b[0m\u001b[0m\n",
      "\u001b[0;32m<ipython-input-111-a96304155b43>\u001b[0m in \u001b[0;36mget_prev_yr_end\u001b[0;34m(x)\u001b[0m\n\u001b[1;32m      2\u001b[0m \u001b[0;34m\u001b[0m\u001b[0m\n\u001b[1;32m      3\u001b[0m \u001b[0;32mdef\u001b[0m \u001b[0mget_prev_yr_end\u001b[0m\u001b[0;34m(\u001b[0m\u001b[0mx\u001b[0m\u001b[0;34m)\u001b[0m\u001b[0;34m:\u001b[0m\u001b[0;34m\u001b[0m\u001b[0;34m\u001b[0m\u001b[0m\n\u001b[0;32m----> 4\u001b[0;31m     \u001b[0myr\u001b[0m \u001b[0;34m=\u001b[0m \u001b[0mx\u001b[0m\u001b[0;34m.\u001b[0m\u001b[0myear\u001b[0m\u001b[0;34m-\u001b[0m\u001b[0;36m1\u001b[0m\u001b[0;34m\u001b[0m\u001b[0;34m\u001b[0m\u001b[0m\n\u001b[0m\u001b[1;32m      5\u001b[0m     \u001b[0mdatestring\u001b[0m \u001b[0;34m=\u001b[0m \u001b[0;34mf\"{yr}-12-31\"\u001b[0m\u001b[0;34m\u001b[0m\u001b[0;34m\u001b[0m\u001b[0m\n\u001b[1;32m      6\u001b[0m     \u001b[0;32mreturn\u001b[0m \u001b[0mpd\u001b[0m\u001b[0;34m.\u001b[0m\u001b[0mto_datetime\u001b[0m\u001b[0;34m(\u001b[0m\u001b[0mdatestring\u001b[0m\u001b[0;34m)\u001b[0m\u001b[0;34m\u001b[0m\u001b[0;34m\u001b[0m\u001b[0m\n",
      "\u001b[0;31mAttributeError\u001b[0m: 'int' object has no attribute 'year'"
     ]
    }
   ],
   "source": [
    "# Add column with previous yr end date so can be used to link to features from financial statements\n",
    "\n",
    "def get_prev_yr_end(x):\n",
    "    yr = x.year-1\n",
    "    datestring = f\"{yr}-12-31\"\n",
    "    return pd.to_datetime(datestring)\n",
    "\n",
    "df_targets_stacked[\"Prev_Yr_End\"] = df_targets_stacked[\"Date\"].apply(lambda x: get_prev_yr_end(x))\n",
    "\n",
    "# Put columns in better order so Target is last column\n",
    "cols = ['Date', 'Prev_Yr_End', 'Ticker', 'Target']\n",
    "df_targets_stacked = df_targets_stacked[cols]"
   ]
  },
  {
   "cell_type": "code",
   "execution_count": null,
   "id": "6fca04c7",
   "metadata": {
    "ExecuteTime": {
     "end_time": "2021-05-31T14:26:07.568778Z",
     "start_time": "2021-05-31T14:26:07.555096Z"
    }
   },
   "outputs": [],
   "source": [
    "df_targets_stacked"
   ]
  },
  {
   "cell_type": "markdown",
   "id": "2033ea58",
   "metadata": {
    "ExecuteTime": {
     "end_time": "2021-05-25T18:55:00.000943Z",
     "start_time": "2021-05-25T18:54:59.994226Z"
    }
   },
   "source": [
    "#### Features"
   ]
  },
  {
   "cell_type": "markdown",
   "id": "49f2910e",
   "metadata": {},
   "source": [
    "##### Trailing PE"
   ]
  },
  {
   "cell_type": "code",
   "execution_count": null,
   "id": "77a2b5d0",
   "metadata": {
    "ExecuteTime": {
     "end_time": "2021-05-31T14:26:08.343238Z",
     "start_time": "2021-05-31T14:26:08.197265Z"
    }
   },
   "outputs": [],
   "source": [
    "df_trailing_pe_stacked = df_trailing_pe_data.stack().reset_index()\n",
    "df_trailing_pe_stacked.columns = [\"Date\", \"Ticker\", \"Trailing_PE\"]\n",
    "df_trailing_pe_stacked.sort_values([\"Ticker\", \"Date\", ], inplace=True)"
   ]
  },
  {
   "cell_type": "code",
   "execution_count": null,
   "id": "194b1c12",
   "metadata": {
    "ExecuteTime": {
     "end_time": "2021-05-31T14:26:08.983294Z",
     "start_time": "2021-05-31T14:26:08.970528Z"
    }
   },
   "outputs": [],
   "source": [
    "df_trailing_pe_stacked"
   ]
  },
  {
   "cell_type": "markdown",
   "id": "54c9bc8a",
   "metadata": {},
   "source": [
    "##### Forward PE"
   ]
  },
  {
   "cell_type": "code",
   "execution_count": null,
   "id": "d9f41f7f",
   "metadata": {
    "ExecuteTime": {
     "end_time": "2021-05-31T14:26:09.685579Z",
     "start_time": "2021-05-31T14:26:09.609503Z"
    }
   },
   "outputs": [],
   "source": [
    "df_forward_pe_stacked = df_forward_pe_data.stack().reset_index()\n",
    "df_forward_pe_stacked.columns = [\"Date\", \"Ticker\", \"Forward_PE\"]\n",
    "df_forward_pe_stacked.sort_values([\"Ticker\", \"Date\", ], inplace=True)"
   ]
  },
  {
   "cell_type": "code",
   "execution_count": null,
   "id": "3040b7b9",
   "metadata": {
    "ExecuteTime": {
     "end_time": "2021-05-31T14:26:10.336402Z",
     "start_time": "2021-05-31T14:26:10.323042Z"
    }
   },
   "outputs": [],
   "source": [
    "df_forward_pe_stacked"
   ]
  },
  {
   "cell_type": "markdown",
   "id": "ee804268",
   "metadata": {},
   "source": [
    "##### Price 2 Sales"
   ]
  },
  {
   "cell_type": "code",
   "execution_count": null,
   "id": "ae1d2835",
   "metadata": {
    "ExecuteTime": {
     "end_time": "2021-05-31T14:26:11.067761Z",
     "start_time": "2021-05-31T14:26:10.956917Z"
    }
   },
   "outputs": [],
   "source": [
    "df_p2s_stacked = df_p2s_data.stack().reset_index()\n",
    "df_p2s_stacked.columns = [\"Date\", \"Ticker\", \"P2S\"]\n",
    "df_p2s_stacked.sort_values([\"Ticker\", \"Date\", ], inplace=True)"
   ]
  },
  {
   "cell_type": "code",
   "execution_count": null,
   "id": "62520378",
   "metadata": {
    "ExecuteTime": {
     "end_time": "2021-05-31T14:26:11.710209Z",
     "start_time": "2021-05-31T14:26:11.694792Z"
    }
   },
   "outputs": [],
   "source": [
    "df_p2s_stacked"
   ]
  },
  {
   "cell_type": "markdown",
   "id": "db4c5ad1",
   "metadata": {},
   "source": [
    "##### Profit Margins"
   ]
  },
  {
   "cell_type": "code",
   "execution_count": null,
   "id": "a7f3c711",
   "metadata": {
    "ExecuteTime": {
     "end_time": "2021-05-31T14:26:12.360459Z",
     "start_time": "2021-05-31T14:26:12.349746Z"
    }
   },
   "outputs": [],
   "source": [
    "df_pm_stacked = df_pm_data.stack().reset_index()\n",
    "df_pm_stacked.columns = [\"Date\", \"Ticker\", \"ProfitMargin\"]\n",
    "df_pm_stacked.sort_values([\"Ticker\", \"Date\", ], inplace=True)"
   ]
  },
  {
   "cell_type": "code",
   "execution_count": null,
   "id": "12052ca0",
   "metadata": {
    "ExecuteTime": {
     "end_time": "2021-05-31T14:26:13.009114Z",
     "start_time": "2021-05-31T14:26:12.995104Z"
    }
   },
   "outputs": [],
   "source": [
    "df_pm_stacked"
   ]
  },
  {
   "cell_type": "markdown",
   "id": "4abb001e",
   "metadata": {},
   "source": [
    "##### Dividend Payout ratios"
   ]
  },
  {
   "cell_type": "code",
   "execution_count": null,
   "id": "93cd5194",
   "metadata": {
    "ExecuteTime": {
     "end_time": "2021-05-31T14:26:14.598778Z",
     "start_time": "2021-05-31T14:26:14.588081Z"
    }
   },
   "outputs": [],
   "source": [
    "# COME BACK TO THIS LATER!"
   ]
  },
  {
   "cell_type": "markdown",
   "id": "34b1b527",
   "metadata": {},
   "source": [
    "##### Price to Free Cashflow"
   ]
  },
  {
   "cell_type": "code",
   "execution_count": null,
   "id": "f2c7bf65",
   "metadata": {
    "ExecuteTime": {
     "end_time": "2021-05-31T14:26:15.726940Z",
     "start_time": "2021-05-31T14:26:15.640902Z"
    }
   },
   "outputs": [],
   "source": [
    "df_pfcf_stacked = df_pfcf_data.stack().reset_index()\n",
    "df_pfcf_stacked.columns = [\"Date\", \"Ticker\", \"P2FCF\"]\n",
    "df_pfcf_stacked.sort_values([\"Ticker\", \"Date\", ], inplace=True)"
   ]
  },
  {
   "cell_type": "code",
   "execution_count": null,
   "id": "e8b28407",
   "metadata": {
    "ExecuteTime": {
     "end_time": "2021-05-31T14:26:16.883760Z",
     "start_time": "2021-05-31T14:26:16.819144Z"
    }
   },
   "outputs": [],
   "source": [
    "df_pfcf_stacked"
   ]
  },
  {
   "cell_type": "markdown",
   "id": "d9eb298a",
   "metadata": {},
   "source": [
    "##### Debt Equity ratios"
   ]
  },
  {
   "cell_type": "code",
   "execution_count": null,
   "id": "f73e1195",
   "metadata": {
    "ExecuteTime": {
     "end_time": "2021-05-31T14:26:17.992984Z",
     "start_time": "2021-05-31T14:26:17.981294Z"
    }
   },
   "outputs": [],
   "source": [
    "df_de_stacked = df_de_data.stack().reset_index()\n",
    "df_de_stacked.columns = [\"Date\", \"Ticker\", \"DebtEquity\"]\n",
    "df_de_stacked.sort_values([\"Ticker\", \"Date\", ], inplace=True)"
   ]
  },
  {
   "cell_type": "code",
   "execution_count": null,
   "id": "05cb3113",
   "metadata": {
    "ExecuteTime": {
     "end_time": "2021-05-31T14:26:18.649602Z",
     "start_time": "2021-05-31T14:26:18.636049Z"
    }
   },
   "outputs": [],
   "source": [
    "df_de_stacked"
   ]
  },
  {
   "cell_type": "markdown",
   "id": "1b25bb97",
   "metadata": {},
   "source": [
    "##### Current ratios"
   ]
  },
  {
   "cell_type": "code",
   "execution_count": null,
   "id": "1f33acd6",
   "metadata": {
    "ExecuteTime": {
     "end_time": "2021-05-31T14:26:19.299164Z",
     "start_time": "2021-05-31T14:26:19.287373Z"
    }
   },
   "outputs": [],
   "source": [
    "df_cr_stacked = df_cr_data.stack().reset_index()\n",
    "df_cr_stacked.columns = [\"Date\", \"Ticker\", \"CurrRatio\"]\n",
    "df_cr_stacked.sort_values([\"Ticker\", \"Date\", ], inplace=True)"
   ]
  },
  {
   "cell_type": "code",
   "execution_count": null,
   "id": "acffeeac",
   "metadata": {
    "ExecuteTime": {
     "end_time": "2021-05-31T14:26:19.956651Z",
     "start_time": "2021-05-31T14:26:19.939535Z"
    }
   },
   "outputs": [],
   "source": [
    "df_cr_stacked"
   ]
  },
  {
   "cell_type": "markdown",
   "id": "1d712e9f",
   "metadata": {},
   "source": [
    "##### Covid new cases"
   ]
  },
  {
   "cell_type": "code",
   "execution_count": null,
   "id": "6b521649",
   "metadata": {
    "ExecuteTime": {
     "end_time": "2021-05-31T14:26:20.594028Z",
     "start_time": "2021-05-31T14:26:20.589524Z"
    }
   },
   "outputs": [],
   "source": [
    "df_covid_cases_stacked = df_log_new_cases.reset_index()\n",
    "df_covid_cases_stacked.columns = [\"Date\", \"log_new_cases\"]"
   ]
  },
  {
   "cell_type": "code",
   "execution_count": null,
   "id": "9cabcf70",
   "metadata": {
    "ExecuteTime": {
     "end_time": "2021-05-31T14:26:21.248052Z",
     "start_time": "2021-05-31T14:26:21.236363Z"
    }
   },
   "outputs": [],
   "source": [
    "df_covid_cases_stacked"
   ]
  },
  {
   "cell_type": "markdown",
   "id": "8bc24e53",
   "metadata": {},
   "source": [
    "##### Covid new vaccinations"
   ]
  },
  {
   "cell_type": "code",
   "execution_count": null,
   "id": "0df099c6",
   "metadata": {
    "ExecuteTime": {
     "end_time": "2021-05-31T14:26:21.895991Z",
     "start_time": "2021-05-31T14:26:21.892085Z"
    }
   },
   "outputs": [],
   "source": [
    "df_covid_vaccinations_stacked = df_log_new_vaccinations.reset_index()\n",
    "df_covid_vaccinations_stacked.columns = [\"Date\", \"log_new_vaccinations\"]"
   ]
  },
  {
   "cell_type": "code",
   "execution_count": null,
   "id": "4c3c5655",
   "metadata": {
    "ExecuteTime": {
     "end_time": "2021-05-31T14:26:22.542804Z",
     "start_time": "2021-05-31T14:26:22.531176Z"
    }
   },
   "outputs": [],
   "source": [
    "df_covid_vaccinations_stacked"
   ]
  },
  {
   "cell_type": "markdown",
   "id": "12b3673b",
   "metadata": {},
   "source": [
    "##### Index performance"
   ]
  },
  {
   "cell_type": "code",
   "execution_count": null,
   "id": "c48ce949",
   "metadata": {
    "ExecuteTime": {
     "end_time": "2021-05-31T14:26:23.174834Z",
     "start_time": "2021-05-31T14:26:23.171746Z"
    }
   },
   "outputs": [],
   "source": [
    "# Use this to create binary features\n",
    "def gain_or_loss(x):\n",
    "    if x > 0:\n",
    "        return 1\n",
    "    return -1"
   ]
  },
  {
   "cell_type": "code",
   "execution_count": null,
   "id": "97b7eed6",
   "metadata": {
    "ExecuteTime": {
     "end_time": "2021-05-31T14:26:23.811264Z",
     "start_time": "2021-05-31T14:26:23.800005Z"
    }
   },
   "outputs": [],
   "source": [
    "periods = 5\n",
    "index_chg_5 = (df_raw_prices[\"^N100\"].diff(periods=periods)/df_raw_prices[\"^N100\"].shift(periods=periods))\n",
    "index_chg_5 = index_chg_5.reset_index()\n",
    "index_chg_5.columns = [\"Date\", \"euronext_5d_chg\"]\n",
    "index_chg_5.fillna(value=0, inplace=True)\n",
    "\n",
    "periods = 10\n",
    "index_chg_10 = (df_raw_prices[\"^N100\"].diff(periods=periods)/df_raw_prices[\"^N100\"].shift(periods=periods))\n",
    "index_chg_10 = index_chg_10.reset_index()\n",
    "index_chg_10.columns = [\"Date\", \"euronext_10d_chg\"]\n",
    "index_chg_10.fillna(value=0, inplace=True)"
   ]
  },
  {
   "cell_type": "code",
   "execution_count": null,
   "id": "d9ce6da7",
   "metadata": {
    "ExecuteTime": {
     "end_time": "2021-05-31T14:26:24.453137Z",
     "start_time": "2021-05-31T14:26:24.447562Z"
    }
   },
   "outputs": [],
   "source": [
    "index_chg_5_binary = index_chg_5[[\"Date\"]]\n",
    "index_chg_5_binary[\"euronext_5d_chg_binary\"] = index_chg_5[\"euronext_5d_chg\"].apply(lambda x: gain_or_loss(x))"
   ]
  },
  {
   "cell_type": "code",
   "execution_count": null,
   "id": "054aa296",
   "metadata": {
    "ExecuteTime": {
     "end_time": "2021-05-31T14:26:25.086734Z",
     "start_time": "2021-05-31T14:26:25.081055Z"
    }
   },
   "outputs": [],
   "source": [
    "index_chg_10_binary = index_chg_10[[\"Date\"]]\n",
    "index_chg_10_binary[\"euronext_10d_chg_binary\"] = index_chg_10[\"euronext_10d_chg\"].apply(lambda x: gain_or_loss(x))"
   ]
  },
  {
   "cell_type": "markdown",
   "id": "c989f01c",
   "metadata": {},
   "source": [
    "##### Stock (self) performance "
   ]
  },
  {
   "cell_type": "code",
   "execution_count": null,
   "id": "bbcbf597",
   "metadata": {
    "ExecuteTime": {
     "end_time": "2021-05-31T14:26:26.026418Z",
     "start_time": "2021-05-31T14:26:25.726276Z"
    }
   },
   "outputs": [],
   "source": [
    "periods = 5\n",
    "stock_chg_5 = (df_raw_prices.diff(periods=periods)/df_raw_prices.shift(periods=periods)).stack().reset_index()\n",
    "stock_chg_5.columns = [\"Date\", \"Ticker\", \"stock_chg_5\"]\n",
    "stock_chg_5.sort_values([\"Ticker\", \"Date\", ], inplace=True)\n",
    "\n",
    "periods = 10\n",
    "stock_chg_10 = (df_raw_prices.diff(periods=periods)/df_raw_prices.shift(periods=periods)).stack().reset_index()\n",
    "stock_chg_10.columns = [\"Date\", \"Ticker\", \"stock_chg_10\"]\n",
    "stock_chg_10.sort_values([\"Ticker\", \"Date\", ], inplace=True)"
   ]
  },
  {
   "cell_type": "code",
   "execution_count": null,
   "id": "36945f45",
   "metadata": {
    "ExecuteTime": {
     "end_time": "2021-05-31T14:26:26.674942Z",
     "start_time": "2021-05-31T14:26:26.665354Z"
    }
   },
   "outputs": [],
   "source": [
    "stock_chg_5.head()"
   ]
  },
  {
   "cell_type": "code",
   "execution_count": null,
   "id": "b7bc29a0",
   "metadata": {
    "ExecuteTime": {
     "end_time": "2021-05-31T14:26:27.318223Z",
     "start_time": "2021-05-31T14:26:27.305007Z"
    }
   },
   "outputs": [],
   "source": [
    "stock_chg_10.head()"
   ]
  },
  {
   "cell_type": "code",
   "execution_count": null,
   "id": "a6d268da",
   "metadata": {
    "ExecuteTime": {
     "end_time": "2021-05-31T14:26:28.115785Z",
     "start_time": "2021-05-31T14:26:27.960654Z"
    }
   },
   "outputs": [],
   "source": [
    "stock_chg_5_binary = stock_chg_5[[\"Date\", \"Ticker\"]]\n",
    "stock_chg_5_binary[\"stock_chg_5_binary\"] = stock_chg_5[\"stock_chg_5\"].apply(lambda x: gain_or_loss(x))"
   ]
  },
  {
   "cell_type": "code",
   "execution_count": null,
   "id": "f224c33f",
   "metadata": {
    "ExecuteTime": {
     "end_time": "2021-05-31T14:26:28.917595Z",
     "start_time": "2021-05-31T14:26:28.764227Z"
    }
   },
   "outputs": [],
   "source": [
    "stock_chg_10_binary = stock_chg_10[[\"Date\", \"Ticker\"]]\n",
    "stock_chg_10_binary[\"stock_chg_10_binary\"] = stock_chg_10[\"stock_chg_10\"].apply(lambda x: gain_or_loss(x))"
   ]
  },
  {
   "cell_type": "markdown",
   "id": "cdd4b9ed",
   "metadata": {},
   "source": [
    "#### Regression models: SVR and RandomForestRegressor"
   ]
  },
  {
   "cell_type": "code",
   "execution_count": null,
   "id": "ac7d73fe",
   "metadata": {
    "ExecuteTime": {
     "end_time": "2021-05-31T19:33:14.267709Z",
     "start_time": "2021-05-31T19:33:13.916630Z"
    }
   },
   "outputs": [],
   "source": [
    "df_raw_prices[\"MC.PA\"].plot()"
   ]
  },
  {
   "cell_type": "code",
   "execution_count": null,
   "id": "8280d0ea",
   "metadata": {
    "ExecuteTime": {
     "end_time": "2021-05-31T21:08:18.368161Z",
     "start_time": "2021-05-31T21:08:18.357004Z"
    }
   },
   "outputs": [],
   "source": [
    "to_predict_svr = df_raw_prices.loc[\"2020-04-01\":\"2021-12-31\"][[\"MC.PA\"]].rolling(window=10, center=False).mean()\n",
    "to_predict_svr.reset_index(inplace=True)"
   ]
  },
  {
   "cell_type": "code",
   "execution_count": null,
   "id": "bd5d1284",
   "metadata": {
    "ExecuteTime": {
     "end_time": "2021-05-31T21:08:19.854380Z",
     "start_time": "2021-05-31T21:08:19.647244Z"
    }
   },
   "outputs": [],
   "source": [
    "to_predict_svr[\"MC.PA\"].plot()"
   ]
  },
  {
   "cell_type": "code",
   "execution_count": null,
   "id": "c47a7573",
   "metadata": {
    "ExecuteTime": {
     "end_time": "2021-05-31T21:08:29.287797Z",
     "start_time": "2021-05-31T21:08:29.211905Z"
    }
   },
   "outputs": [],
   "source": [
    "# define function for create N lags\n",
    "def create_lags(df, N):\n",
    "    for i in range(N):\n",
    "        df['Lag' + str(i+1)] = df[\"MC.PA\"].shift(i+1)\n",
    "    return df\n",
    "\n",
    "# create 10 lags\n",
    "num_lags = 100\n",
    "to_predict_svr = create_lags(to_predict_svr, num_lags)"
   ]
  },
  {
   "cell_type": "code",
   "execution_count": null,
   "id": "63f637ca",
   "metadata": {
    "ExecuteTime": {
     "end_time": "2021-05-31T21:08:30.530768Z",
     "start_time": "2021-05-31T21:08:30.524178Z"
    }
   },
   "outputs": [],
   "source": [
    "to_predict_svr.dropna(inplace=True)"
   ]
  },
  {
   "cell_type": "code",
   "execution_count": null,
   "id": "22d425a1",
   "metadata": {
    "ExecuteTime": {
     "end_time": "2021-05-31T21:08:31.751249Z",
     "start_time": "2021-05-31T21:08:31.723564Z"
    }
   },
   "outputs": [],
   "source": [
    "to_predict_svr.head()"
   ]
  },
  {
   "cell_type": "code",
   "execution_count": null,
   "id": "6530f959",
   "metadata": {
    "ExecuteTime": {
     "end_time": "2021-05-31T21:08:33.177049Z",
     "start_time": "2021-05-31T21:08:32.948500Z"
    }
   },
   "outputs": [],
   "source": [
    "to_predict_svr[\"MC.PA\"].plot()\n",
    "plt.grid()"
   ]
  },
  {
   "cell_type": "code",
   "execution_count": null,
   "id": "03f9af88",
   "metadata": {
    "ExecuteTime": {
     "end_time": "2021-05-31T21:08:38.987457Z",
     "start_time": "2021-05-31T21:08:38.980736Z"
    },
    "scrolled": true
   },
   "outputs": [],
   "source": [
    "y = to_predict_svr[\"MC.PA\"].values\n",
    "X = to_predict_svr.iloc[:, 2:].values"
   ]
  },
  {
   "cell_type": "code",
   "execution_count": null,
   "id": "533fd6d2",
   "metadata": {
    "ExecuteTime": {
     "end_time": "2021-05-31T21:08:40.243150Z",
     "start_time": "2021-05-31T21:08:40.238861Z"
    }
   },
   "outputs": [],
   "source": [
    "y.shape"
   ]
  },
  {
   "cell_type": "code",
   "execution_count": null,
   "id": "ae6b9a10",
   "metadata": {
    "ExecuteTime": {
     "end_time": "2021-05-31T21:08:44.363653Z",
     "start_time": "2021-05-31T21:08:44.356383Z"
    }
   },
   "outputs": [],
   "source": [
    "train_idx = int(len(to_predict_svr)*.9)\n",
    "train_idx"
   ]
  },
  {
   "cell_type": "code",
   "execution_count": null,
   "id": "a050858e",
   "metadata": {
    "ExecuteTime": {
     "end_time": "2021-05-31T21:08:45.662116Z",
     "start_time": "2021-05-31T21:08:45.658573Z"
    }
   },
   "outputs": [],
   "source": [
    "X_train, y_train, X_test, y_test = X[:train_idx], y[:train_idx], X[train_idx:], y[train_idx:]"
   ]
  },
  {
   "cell_type": "code",
   "execution_count": null,
   "id": "04427b86",
   "metadata": {
    "ExecuteTime": {
     "end_time": "2021-05-31T21:08:49.346041Z",
     "start_time": "2021-05-31T21:08:46.833054Z"
    }
   },
   "outputs": [],
   "source": [
    "# fit and predict\n",
    "\n",
    "# clf = SVR(\n",
    "#     C=1,\n",
    "# )\n",
    "\n",
    "clf = RandomForestRegressor(n_estimators=500)\n",
    "\n",
    "clf.fit(X_train, y_train)"
   ]
  },
  {
   "cell_type": "code",
   "execution_count": null,
   "id": "fe82f689",
   "metadata": {
    "ExecuteTime": {
     "end_time": "2021-05-31T21:08:50.566330Z",
     "start_time": "2021-05-31T21:08:50.507461Z"
    }
   },
   "outputs": [],
   "source": [
    "preds_test = clf.predict(X_test)"
   ]
  },
  {
   "cell_type": "code",
   "execution_count": null,
   "id": "90c5a0a0",
   "metadata": {
    "ExecuteTime": {
     "end_time": "2021-05-31T21:08:51.947028Z",
     "start_time": "2021-05-31T21:08:51.739165Z"
    }
   },
   "outputs": [],
   "source": [
    "plt.plot(y_train)"
   ]
  },
  {
   "cell_type": "code",
   "execution_count": null,
   "id": "7a4ce0fc",
   "metadata": {
    "ExecuteTime": {
     "end_time": "2021-05-31T21:08:52.162818Z",
     "start_time": "2021-05-31T21:08:51.948822Z"
    }
   },
   "outputs": [],
   "source": [
    "plt.plot(y_test)"
   ]
  },
  {
   "cell_type": "code",
   "execution_count": null,
   "id": "9d6dd796",
   "metadata": {
    "ExecuteTime": {
     "end_time": "2021-05-31T21:08:54.719985Z",
     "start_time": "2021-05-31T21:08:54.508048Z"
    }
   },
   "outputs": [],
   "source": [
    "plt.plot(preds_test)"
   ]
  },
  {
   "cell_type": "markdown",
   "id": "fbbbcf33",
   "metadata": {},
   "source": [
    "#### ARIMA"
   ]
  },
  {
   "cell_type": "code",
   "execution_count": null,
   "id": "1801b260",
   "metadata": {
    "ExecuteTime": {
     "end_time": "2021-05-31T21:08:55.909271Z",
     "start_time": "2021-05-31T21:08:55.906441Z"
    }
   },
   "outputs": [],
   "source": [
    "# ?pm.auto_arima"
   ]
  },
  {
   "cell_type": "code",
   "execution_count": null,
   "id": "e38c422a",
   "metadata": {
    "ExecuteTime": {
     "end_time": "2021-05-31T21:08:59.765243Z",
     "start_time": "2021-05-31T21:08:57.088033Z"
    }
   },
   "outputs": [],
   "source": [
    "model = pm.auto_arima(\n",
    "    y_train,\n",
    "    seasonal=False,\n",
    ")"
   ]
  },
  {
   "cell_type": "code",
   "execution_count": null,
   "id": "937a3fed",
   "metadata": {
    "ExecuteTime": {
     "end_time": "2021-05-31T21:09:00.957809Z",
     "start_time": "2021-05-31T21:09:00.947468Z"
    }
   },
   "outputs": [],
   "source": [
    "# make your forecasts\n",
    "forecasts = model.predict(y_test.shape[0])  # predict N steps into the future"
   ]
  },
  {
   "cell_type": "code",
   "execution_count": null,
   "id": "49083d6a",
   "metadata": {
    "ExecuteTime": {
     "end_time": "2021-05-31T21:09:02.357332Z",
     "start_time": "2021-05-31T21:09:02.148585Z"
    }
   },
   "outputs": [],
   "source": [
    "# Visualize the forecasts (blue=train, green=forecasts)\n",
    "x = np.arange(y.shape[0])\n",
    "plt.plot(x[:train_idx], y_train, c='blue')\n",
    "plt.plot(x[train_idx:], forecasts, c='green')\n",
    "plt.show()"
   ]
  },
  {
   "cell_type": "code",
   "execution_count": null,
   "id": "7cc4a10c",
   "metadata": {
    "ExecuteTime": {
     "end_time": "2021-05-31T21:14:18.765012Z",
     "start_time": "2021-05-31T21:14:18.185785Z"
    }
   },
   "outputs": [],
   "source": [
    "sns.jointplot(\n",
    "        x=y_test,\n",
    "        y=forecasts,\n",
    "        kind=\"resid\",\n",
    "#         color=\"#4CB391\",\n",
    "    )"
   ]
  },
  {
   "cell_type": "markdown",
   "id": "bbcb0c11",
   "metadata": {},
   "source": [
    "#### Combine features with target"
   ]
  },
  {
   "cell_type": "code",
   "execution_count": null,
   "id": "0657bfef",
   "metadata": {
    "ExecuteTime": {
     "end_time": "2021-05-31T14:26:33.286006Z",
     "start_time": "2021-05-31T14:26:29.552454Z"
    },
    "code_folding": []
   },
   "outputs": [],
   "source": [
    "# Merge each feature into single dataframe, along with target labels...\n",
    "# NB: features from financial statements and static ratios require special treatment due to year end dates\n",
    "\n",
    "# Trailing PE\n",
    "model_data = pd.merge(\n",
    "     left=df_trailing_pe_stacked,\n",
    "     right=df_targets_stacked,\n",
    "#      how=\"inner\",\n",
    "     how=\"right\",\n",
    "     left_on=[\"Date\", \"Ticker\"],\n",
    "     right_on=[\"Date\", \"Ticker\"],\n",
    "     sort=False,\n",
    "     validate=\"one_to_one\",\n",
    " )\n",
    "\n",
    "# Forward PE\n",
    "model_data = pd.merge(\n",
    "     left= df_forward_pe_stacked,\n",
    "     right = model_data,\n",
    "#      how=\"inner\",\n",
    "     how=\"right\",\n",
    "     left_on=[\"Date\", \"Ticker\"],\n",
    "     right_on=[\"Date\", \"Ticker\"],\n",
    "     sort=False,\n",
    "     validate=\"one_to_one\",\n",
    " )\n",
    "\n",
    "# Price 2 Sales\n",
    "model_data = pd.merge(\n",
    "     left= df_p2s_stacked,\n",
    "     right = model_data,\n",
    "#      how=\"inner\",\n",
    "     how=\"right\",\n",
    "     left_on=[\"Date\", \"Ticker\"],\n",
    "     right_on=[\"Date\", \"Ticker\"],\n",
    "     sort=False,\n",
    "     validate=\"one_to_one\",\n",
    " )\n",
    "\n",
    "# Profit Margins\n",
    "model_data = pd.merge(\n",
    "     left= df_pm_stacked,\n",
    "     right = model_data,\n",
    "#      how=\"inner\",\n",
    "     how=\"right\",\n",
    "     left_on=[\"Date\", \"Ticker\"],\n",
    "     right_on=[\"Prev_Yr_End\", \"Ticker\"],\n",
    "     sort=False,\n",
    "#      validate=\"one_to_one\",\n",
    " )\n",
    "model_data.drop([\"Date_x\"], axis=1, inplace=True) # remove superfluous column\n",
    "model_data.rename(columns={'Date_y':'Date'}, inplace=True) # fix column name\n",
    "\n",
    "# Dividend Payout ratios - CPME BACK TO THIS LATER!\n",
    "\n",
    "# Price 2 Free Cashflow\n",
    "model_data = pd.merge(\n",
    "     left= df_pfcf_stacked,\n",
    "     right = model_data,\n",
    "#      how=\"inner\",\n",
    "     how=\"right\",\n",
    "     left_on=[\"Date\", \"Ticker\"],\n",
    "     right_on=[\"Date\", \"Ticker\"],\n",
    "     sort=False,\n",
    "     validate=\"one_to_one\",\n",
    " )\n",
    "\n",
    "# Debt Equity ratios\n",
    "model_data = pd.merge(\n",
    "     left= df_de_stacked,\n",
    "     right = model_data,\n",
    "#      how=\"inner\",\n",
    "     how=\"right\",\n",
    "     left_on=[\"Date\", \"Ticker\"],\n",
    "     right_on=[\"Prev_Yr_End\", \"Ticker\"],\n",
    "     sort=False,\n",
    "#      validate=\"one_to_one\",\n",
    " )\n",
    "model_data.drop([\"Date_x\"], axis=1, inplace=True) # remove superfluous column\n",
    "model_data.rename(columns={'Date_y':'Date'}, inplace=True) # fix column name\n",
    "\n",
    "# Current ratios\n",
    "model_data = pd.merge(\n",
    "     left= df_cr_stacked,\n",
    "     right = model_data,\n",
    "#      how=\"inner\",\n",
    "     how=\"right\",\n",
    "     left_on=[\"Date\", \"Ticker\"],\n",
    "     right_on=[\"Prev_Yr_End\", \"Ticker\"],\n",
    "     sort=False,\n",
    "#      validate=\"one_to_one\",\n",
    " )\n",
    "model_data.drop([\"Date_x\"], axis=1, inplace=True) # remove superfluous column\n",
    "model_data.rename(columns={'Date_y':'Date'}, inplace=True) # fix column name\n",
    "\n",
    "# Covid new cases\n",
    "model_data = pd.merge(\n",
    "     left= df_covid_cases_stacked,\n",
    "     right = model_data,\n",
    "#      how=\"inner\",\n",
    "     how=\"right\",\n",
    "     left_on=[\"Date\"],\n",
    "     right_on=[\"Date\"],\n",
    "     sort=False,\n",
    "#      validate=\"one_to_one\",\n",
    " )\n",
    "\n",
    "# Covid new vaccinations\n",
    "model_data = pd.merge(\n",
    "     left= df_covid_vaccinations_stacked,\n",
    "     right = model_data,\n",
    "#      how=\"inner\",\n",
    "     how=\"right\",\n",
    "     left_on=[\"Date\"],\n",
    "     right_on=[\"Date\"],\n",
    "     sort=False,\n",
    "#      validate=\"one_to_one\",\n",
    " )\n",
    "\n",
    "# 5-day change in euronext index\n",
    "model_data = pd.merge(\n",
    "     left= index_chg_5,\n",
    "     right = model_data,\n",
    "#      how=\"inner\",\n",
    "     how=\"right\",\n",
    "     left_on=[\"Date\"],\n",
    "     right_on=[\"Date\"],\n",
    "     sort=False,\n",
    "#      validate=\"one_to_one\",\n",
    " )\n",
    "\n",
    "# 10-day change in euronext index\n",
    "model_data = pd.merge(\n",
    "     left= index_chg_10,\n",
    "     right = model_data,\n",
    "#      how=\"inner\",\n",
    "     how=\"right\",\n",
    "     left_on=[\"Date\"],\n",
    "     right_on=[\"Date\"],\n",
    "     sort=False,\n",
    "#      validate=\"one_to_one\",\n",
    " )\n",
    "\n",
    "# 5-day change in index as binary\n",
    "model_data = pd.merge(\n",
    "     left= index_chg_5_binary,\n",
    "     right = model_data,\n",
    "#      how=\"inner\",\n",
    "     how=\"right\",\n",
    "     left_on=[\"Date\"],\n",
    "     right_on=[\"Date\"],\n",
    "     sort=False,\n",
    "#      validate=\"one_to_one\",\n",
    " )\n",
    "\n",
    "# 10-day change in index as binary\n",
    "model_data = pd.merge(\n",
    "     left= index_chg_10_binary,\n",
    "     right = model_data,\n",
    "#      how=\"inner\",\n",
    "     how=\"right\",\n",
    "     left_on=[\"Date\"],\n",
    "     right_on=[\"Date\"],\n",
    "     sort=False,\n",
    "#      validate=\"one_to_one\",\n",
    " )\n",
    "\n",
    "# 5-day change in stock price\n",
    "model_data = pd.merge(\n",
    "     left= stock_chg_5,\n",
    "     right = model_data,\n",
    "#      how=\"inner\",\n",
    "     how=\"right\",\n",
    "     left_on=[\"Date\", \"Ticker\"],\n",
    "     right_on=[\"Date\", \"Ticker\"],\n",
    "     sort=False,\n",
    "     validate=\"one_to_one\",\n",
    " )\n",
    "\n",
    "# 10-day change in stock price\n",
    "model_data = pd.merge(\n",
    "     left= stock_chg_10,\n",
    "     right = model_data,\n",
    "#      how=\"inner\",\n",
    "     how=\"right\",\n",
    "     left_on=[\"Date\", \"Ticker\"],\n",
    "     right_on=[\"Date\", \"Ticker\"],\n",
    "     sort=False,\n",
    "     validate=\"one_to_one\",\n",
    " )\n",
    "\n",
    "# 5-day change in stock price as binary\n",
    "model_data = pd.merge(\n",
    "     left= stock_chg_5_binary,\n",
    "     right = model_data,\n",
    "#      how=\"inner\",\n",
    "     how=\"right\",\n",
    "     left_on=[\"Date\", \"Ticker\"],\n",
    "     right_on=[\"Date\", \"Ticker\"],\n",
    "     sort=False,\n",
    "     validate=\"one_to_one\",\n",
    " )\n",
    "\n",
    "# 10-day change in stock price as binary\n",
    "model_data = pd.merge(\n",
    "     left= stock_chg_10_binary,\n",
    "     right = model_data,\n",
    "#      how=\"inner\",\n",
    "     how=\"right\",\n",
    "     left_on=[\"Date\", \"Ticker\"],\n",
    "     right_on=[\"Date\", \"Ticker\"],\n",
    "     sort=False,\n",
    "     validate=\"one_to_one\",\n",
    " )\n",
    "\n",
    "# df_nday_returns (this is value used to create target labels)\n",
    "model_data = pd.merge(\n",
    "     left= df_nday_returns_stacked,\n",
    "     right = model_data,\n",
    "#      how=\"inner\",\n",
    "     how=\"right\",\n",
    "     left_on=[\"Date\", \"Ticker\"],\n",
    "     right_on=[\"Date\", \"Ticker\"],\n",
    "     sort=False,\n",
    "     validate=\"one_to_one\",\n",
    " )"
   ]
  },
  {
   "cell_type": "code",
   "execution_count": null,
   "id": "03c3dae8",
   "metadata": {
    "ExecuteTime": {
     "end_time": "2021-05-31T14:26:33.870556Z",
     "start_time": "2021-05-31T14:26:33.866369Z"
    }
   },
   "outputs": [],
   "source": [
    "model_data.shape\n",
    "\n",
    "# (362884, 11) before adding Covid data"
   ]
  },
  {
   "cell_type": "code",
   "execution_count": null,
   "id": "3dd96bc5",
   "metadata": {
    "ExecuteTime": {
     "end_time": "2021-05-31T14:26:34.527265Z",
     "start_time": "2021-05-31T14:26:34.446775Z"
    },
    "scrolled": true
   },
   "outputs": [],
   "source": [
    "model_data.sample(10)"
   ]
  },
  {
   "cell_type": "code",
   "execution_count": null,
   "id": "31fa9716",
   "metadata": {
    "ExecuteTime": {
     "end_time": "2021-05-31T14:26:35.432950Z",
     "start_time": "2021-05-31T14:26:35.123529Z"
    },
    "scrolled": true
   },
   "outputs": [],
   "source": [
    "model_data.describe(include=\"all\")"
   ]
  },
  {
   "cell_type": "markdown",
   "id": "4ff4be33",
   "metadata": {},
   "source": [
    "#### Target class counts"
   ]
  },
  {
   "cell_type": "code",
   "execution_count": null,
   "id": "714ee7c8",
   "metadata": {
    "ExecuteTime": {
     "end_time": "2021-05-31T14:26:36.247015Z",
     "start_time": "2021-05-31T14:26:36.007027Z"
    },
    "code_folding": []
   },
   "outputs": [],
   "source": [
    "# Plot target value counts\n",
    "model_data[\"Target\"].value_counts().sort_values(ascending=True).plot.barh(figsize=(8, 2))\n",
    "plt.grid()\n",
    "plt.title(\"Target counts in full dataset\")\n",
    "plt.tight_layout()"
   ]
  },
  {
   "cell_type": "markdown",
   "id": "6bcb7c82",
   "metadata": {},
   "source": [
    "#### Correlation of features with target"
   ]
  },
  {
   "cell_type": "code",
   "execution_count": null,
   "id": "56294a11",
   "metadata": {
    "ExecuteTime": {
     "end_time": "2021-05-31T14:26:36.831859Z",
     "start_time": "2021-05-31T14:26:36.827165Z"
    }
   },
   "outputs": [],
   "source": [
    "model_data.columns"
   ]
  },
  {
   "cell_type": "code",
   "execution_count": null,
   "id": "64c551c5",
   "metadata": {
    "ExecuteTime": {
     "end_time": "2021-05-31T14:26:37.827032Z",
     "start_time": "2021-05-31T14:26:37.409903Z"
    },
    "code_folding": []
   },
   "outputs": [],
   "source": [
    "# Plot correlation matrix\n",
    "\n",
    "# Calc correlations\n",
    "corr = model_data[[\n",
    "    'stock_chg_10_binary',\n",
    "    'stock_chg_5_binary',\n",
    "    'euronext_10d_chg_binary',\n",
    "    'euronext_5d_chg_binary',\n",
    "    'n_day_return',\n",
    "    'Target',\n",
    "]].corr()\n",
    "\n",
    "# Generate a mask for the upper triangle\n",
    "mask = np.triu(np.ones_like(corr, dtype=bool))\n",
    "# Set up the matplotlib figure\n",
    "fig, ax = plt.subplots(figsize=(11, 9))\n",
    "# Generate a custom diverging colormap\n",
    "cmap = sns.diverging_palette(230, 20, as_cmap=True)\n",
    "# Draw the heatmap with the mask and correct aspect ratio\n",
    "sns.heatmap(corr, mask=mask, cmap=cmap, vmax=.3, center=0,\n",
    "            square=True, linewidths=.5, cbar_kws={\"shrink\": .5})\n",
    "plt.title(\"Pearson Correlation between Features\")\n",
    "plt.tight_layout()"
   ]
  },
  {
   "cell_type": "code",
   "execution_count": null,
   "id": "bdc8764b",
   "metadata": {
    "ExecuteTime": {
     "end_time": "2021-05-31T14:39:22.935828Z",
     "start_time": "2021-05-31T14:39:17.005956Z"
    },
    "code_folding": [],
    "scrolled": false
   },
   "outputs": [],
   "source": [
    "# Is past performance and indicator of the future?\n",
    "\n",
    "# kind : { \"scatter\" | \"kde\" | \"hist\" | \"hex\" | \"reg\" | \"resid\" }\n",
    "\n",
    "ticker = \"MC.PA\"\n",
    "start_date = \"2019-01-01\"\n",
    "end_date = \"2021-12-31\"\n",
    "plot_data = model_data.loc[(model_data[\"Date\"] > start_date) & (model_data[\"Date\"] < end_date)]\n",
    "\n",
    "historical_data = [\n",
    "    \"stock_chg_5\",\n",
    "    \"stock_chg_10\",\n",
    "    \"euronext_5d_chg\",\n",
    "    \"euronext_10d_chg\",\n",
    "    \"Trailing_PE\",\n",
    "    \"Forward_PE\",\n",
    "    \"log_new_cases\",\n",
    "]\n",
    "\n",
    "for hd in historical_data:\n",
    "    n = historical_data.index(hd)\n",
    "    y = plot_data.loc[model_data[\"Ticker\"]==ticker][\"n_day_return\"]\n",
    "    x = plot_data.loc[model_data[\"Ticker\"]==ticker][hd]\n",
    "#     ax.scatter(x, y, alpha=.5)\n",
    "    sns.jointplot(\n",
    "        x=x,\n",
    "        y=y,\n",
    "        kind=\"hex\",\n",
    "#         color=\"#4CB391\",\n",
    "    )\n",
    "#     plt.ylim(-.3, .3); plt.xlim(-.3, .3)\n",
    "    \n",
    "\n",
    "plt.tight_layout()"
   ]
  },
  {
   "cell_type": "markdown",
   "id": "7f389e12",
   "metadata": {},
   "source": [
    "#### Data quality issues"
   ]
  },
  {
   "cell_type": "code",
   "execution_count": null,
   "id": "ebe194ae",
   "metadata": {
    "ExecuteTime": {
     "end_time": "2021-05-31T06:51:59.926053Z",
     "start_time": "2021-05-31T06:51:59.920233Z"
    },
    "scrolled": true
   },
   "outputs": [],
   "source": [
    "# model_data.loc[model_data[\"Forward_PE\"]==np.inf] # These need to be fixed!"
   ]
  },
  {
   "cell_type": "code",
   "execution_count": null,
   "id": "d9d36dd5",
   "metadata": {
    "ExecuteTime": {
     "end_time": "2021-05-31T06:51:59.932404Z",
     "start_time": "2021-05-31T06:51:59.927597Z"
    },
    "scrolled": true
   },
   "outputs": [],
   "source": [
    "# model_data.loc[model_data[\"P2S\"]==np.inf] # These need to be fixed!"
   ]
  },
  {
   "cell_type": "code",
   "execution_count": null,
   "id": "20cf112b",
   "metadata": {
    "ExecuteTime": {
     "end_time": "2021-05-31T06:51:59.936654Z",
     "start_time": "2021-05-31T06:51:59.934136Z"
    }
   },
   "outputs": [],
   "source": [
    "# model_data[\"P2FCF\"].hist(bins=100, log=True) # Need to deal with outliers?"
   ]
  },
  {
   "cell_type": "code",
   "execution_count": null,
   "id": "ef1b7730",
   "metadata": {
    "ExecuteTime": {
     "end_time": "2021-05-31T06:51:59.941694Z",
     "start_time": "2021-05-31T06:51:59.938319Z"
    }
   },
   "outputs": [],
   "source": [
    "# model_data[\"CurrRatio\"].hist(bins=100, log=True) # Need to deal with outliers?"
   ]
  },
  {
   "cell_type": "markdown",
   "id": "c3fa79e6",
   "metadata": {},
   "source": [
    "#### Create modeling dataset"
   ]
  },
  {
   "cell_type": "code",
   "execution_count": null,
   "id": "c4857ff3",
   "metadata": {
    "ExecuteTime": {
     "end_time": "2021-05-31T06:51:59.952356Z",
     "start_time": "2021-05-31T06:51:59.943447Z"
    }
   },
   "outputs": [],
   "source": [
    "columns_to_drop = [\n",
    "    \"Ticker\",\n",
    "    \"Date\",\n",
    "    \"Prev_Yr_End\",\n",
    "    \"Target\",\n",
    "]\n",
    "df_featureset = model_data.drop(columns_to_drop, axis=1)"
   ]
  },
  {
   "cell_type": "code",
   "execution_count": null,
   "id": "fc64ec30",
   "metadata": {
    "ExecuteTime": {
     "end_time": "2021-05-31T06:51:59.958348Z",
     "start_time": "2021-05-31T06:51:59.954335Z"
    }
   },
   "outputs": [],
   "source": [
    "df_featureset.shape"
   ]
  },
  {
   "cell_type": "code",
   "execution_count": null,
   "id": "35286390",
   "metadata": {
    "ExecuteTime": {
     "end_time": "2021-05-31T06:52:00.028643Z",
     "start_time": "2021-05-31T06:51:59.960081Z"
    }
   },
   "outputs": [],
   "source": [
    "# Replace np.nan and np.inf with 0s (not sure this is best treatment!)\n",
    "df_featureset.replace(to_replace=np.nan, value=0, inplace=True)\n",
    "df_featureset.replace(to_replace=np.inf, value=0, inplace=True)\n",
    "df_featureset.replace(to_replace=-np.inf, value=0, inplace=True)"
   ]
  },
  {
   "cell_type": "code",
   "execution_count": null,
   "id": "761636c3",
   "metadata": {
    "ExecuteTime": {
     "end_time": "2021-05-31T06:52:00.107632Z",
     "start_time": "2021-05-31T06:52:00.030481Z"
    }
   },
   "outputs": [],
   "source": [
    "df_featureset.describe()"
   ]
  },
  {
   "cell_type": "code",
   "execution_count": null,
   "id": "386d1826",
   "metadata": {
    "ExecuteTime": {
     "end_time": "2021-05-31T06:52:00.128625Z",
     "start_time": "2021-05-31T06:52:00.109662Z"
    }
   },
   "outputs": [],
   "source": [
    "df_featureset.sample(5)"
   ]
  },
  {
   "cell_type": "markdown",
   "id": "97a97393",
   "metadata": {},
   "source": [
    "#### Train / Test split"
   ]
  },
  {
   "cell_type": "code",
   "execution_count": null,
   "id": "9cd99623",
   "metadata": {
    "ExecuteTime": {
     "end_time": "2021-05-31T06:52:00.134582Z",
     "start_time": "2021-05-31T06:52:00.130449Z"
    }
   },
   "outputs": [],
   "source": [
    "traintest_cutoff = math.floor(len(df_featureset.index)*(1-test_ratio))\n",
    "traintest_cutoff"
   ]
  },
  {
   "cell_type": "code",
   "execution_count": null,
   "id": "8c202191",
   "metadata": {
    "ExecuteTime": {
     "end_time": "2021-05-31T06:52:00.145718Z",
     "start_time": "2021-05-31T06:52:00.136303Z"
    }
   },
   "outputs": [],
   "source": [
    "df_train_features = df_featureset.iloc[:traintest_cutoff]\n",
    "features_train = df_train_features.values\n",
    "df_test_features = df_featureset.iloc[traintest_cutoff:]\n",
    "features_test = df_test_features.values\n",
    "target_train = model_data[\"Target\"].iloc[:traintest_cutoff]\n",
    "target_test = model_data[\"Target\"].iloc[traintest_cutoff:]"
   ]
  },
  {
   "cell_type": "code",
   "execution_count": null,
   "id": "59127027",
   "metadata": {
    "ExecuteTime": {
     "end_time": "2021-05-31T06:52:00.156191Z",
     "start_time": "2021-05-31T06:52:00.147537Z"
    }
   },
   "outputs": [],
   "source": [
    "target_train.value_counts(normalize=True)"
   ]
  },
  {
   "cell_type": "code",
   "execution_count": null,
   "id": "3a7065d1",
   "metadata": {
    "ExecuteTime": {
     "end_time": "2021-05-31T06:52:00.164767Z",
     "start_time": "2021-05-31T06:52:00.158049Z"
    }
   },
   "outputs": [],
   "source": [
    "target_test.value_counts(normalize=True)"
   ]
  },
  {
   "cell_type": "markdown",
   "id": "ea45fb2b",
   "metadata": {},
   "source": [
    "#### Build classifier"
   ]
  },
  {
   "cell_type": "code",
   "execution_count": null,
   "id": "bd43fd5c",
   "metadata": {
    "ExecuteTime": {
     "end_time": "2021-05-31T06:52:00.168894Z",
     "start_time": "2021-05-31T06:52:00.166486Z"
    }
   },
   "outputs": [],
   "source": [
    "# ?RandomForestClassifier"
   ]
  },
  {
   "cell_type": "code",
   "execution_count": null,
   "id": "40f14053",
   "metadata": {
    "ExecuteTime": {
     "end_time": "2021-05-31T06:52:00.203034Z",
     "start_time": "2021-05-31T06:52:00.170541Z"
    }
   },
   "outputs": [],
   "source": [
    "clf = RandomForestClassifier(\n",
    "    n_estimators=100,\n",
    "#     class_weight=\"balanced\", # slightly worse performance when balanced\n",
    ")\n",
    "\n",
    "# clf = SVC()\n",
    "\n",
    "# clf = LogisticRegression(class_weight=\"balanced\")"
   ]
  },
  {
   "cell_type": "code",
   "execution_count": null,
   "id": "a8283781",
   "metadata": {
    "ExecuteTime": {
     "end_time": "2021-05-31T06:52:57.318142Z",
     "start_time": "2021-05-31T06:52:00.204960Z"
    }
   },
   "outputs": [],
   "source": [
    "clf.fit(features_train, target_train)"
   ]
  },
  {
   "cell_type": "code",
   "execution_count": null,
   "id": "c0f5219c",
   "metadata": {
    "ExecuteTime": {
     "end_time": "2021-05-31T06:53:08.507413Z",
     "start_time": "2021-05-31T06:52:57.320081Z"
    }
   },
   "outputs": [],
   "source": [
    "clf.score(features_train, target_train)"
   ]
  },
  {
   "cell_type": "markdown",
   "id": "a099ea0f",
   "metadata": {},
   "source": [
    "#### Evaluate against test set"
   ]
  },
  {
   "cell_type": "code",
   "execution_count": null,
   "id": "282f26c8",
   "metadata": {
    "ExecuteTime": {
     "end_time": "2021-05-31T06:53:11.498261Z",
     "start_time": "2021-05-31T06:53:08.509054Z"
    }
   },
   "outputs": [],
   "source": [
    "predictions_test = clf.predict(features_test)"
   ]
  },
  {
   "cell_type": "code",
   "execution_count": null,
   "id": "37d15a14",
   "metadata": {
    "ExecuteTime": {
     "end_time": "2021-05-31T06:53:11.508122Z",
     "start_time": "2021-05-31T06:53:11.500037Z"
    }
   },
   "outputs": [],
   "source": [
    "pd.Series(predictions_test).value_counts()"
   ]
  },
  {
   "cell_type": "code",
   "execution_count": null,
   "id": "48116339",
   "metadata": {
    "ExecuteTime": {
     "end_time": "2021-05-31T06:53:11.573466Z",
     "start_time": "2021-05-31T06:53:11.509741Z"
    }
   },
   "outputs": [],
   "source": [
    "print(confusion_matrix(target_test, predictions_test, normalize=\"all\"))"
   ]
  },
  {
   "cell_type": "code",
   "execution_count": null,
   "id": "78d777e7",
   "metadata": {
    "ExecuteTime": {
     "end_time": "2021-05-31T06:53:11.660543Z",
     "start_time": "2021-05-31T06:53:11.575311Z"
    }
   },
   "outputs": [],
   "source": [
    "print(classification_report(target_test, predictions_test))"
   ]
  },
  {
   "cell_type": "markdown",
   "id": "49e64870",
   "metadata": {},
   "source": [
    "#### Previous results"
   ]
  },
  {
   "cell_type": "markdown",
   "id": "dcc5db5c",
   "metadata": {},
   "source": [
    "\n",
    "-----------------------------------------------------\n",
    "\n",
    "precision    recall  f1-score   support\n",
    "\n",
    "          -1       0.14      0.06      0.08      6925\n",
    "           0       0.80      0.84      0.82     56760\n",
    "           1       0.16      0.18      0.17      8892\n",
    "\n",
    "    accuracy                           0.69     72577\n",
    "   macro avg       0.37      0.36      0.36     72577\n",
    "weighted avg       0.66      0.69      0.67     72577\n",
    "\n",
    "-----------------------------------------------------\n",
    "(without Covid features)"
   ]
  },
  {
   "cell_type": "markdown",
   "id": "b9efe64f",
   "metadata": {},
   "source": [
    "\n",
    "-----------------------------------------------------\n",
    "\n",
    "precision    recall  f1-score   support\n",
    "\n",
    "          -1       0.16      0.12      0.14      5283\n",
    "           0       0.83      0.91      0.87     58911\n",
    "           1       0.19      0.11      0.14      8383\n",
    "\n",
    "    accuracy                           0.76     72577\n",
    "   macro avg       0.40      0.38      0.38     72577\n",
    "weighted avg       0.71      0.76      0.73     72577\n",
    "\n",
    "-----------------------------------------------------\n",
    "(with Covid features)"
   ]
  },
  {
   "cell_type": "markdown",
   "id": "27d1a6db",
   "metadata": {
    "heading_collapsed": true
   },
   "source": [
    "### Moving Average Strategy"
   ]
  },
  {
   "cell_type": "code",
   "execution_count": null,
   "id": "1cdb9a03",
   "metadata": {
    "ExecuteTime": {
     "end_time": "2021-05-27T05:50:40.596506Z",
     "start_time": "2021-05-27T05:50:39.011730Z"
    },
    "code_folding": [
     0
    ],
    "hidden": true,
    "run_control": {
     "marked": false
    }
   },
   "outputs": [],
   "source": [
    "# Create trade recommendations\n",
    "\n",
    "# Create moving averages\n",
    "rolling_20 = np.round(df_raw_prices.rolling(window=20, center=False).mean(), 2)\n",
    "rolling_50 = np.round(df_raw_prices.rolling(window=50, center=False).mean(), 2)\n",
    "\n",
    "# Creates df where if M.A.20 < M.A.50 then True else False\n",
    "rolling_diff = pd.DataFrame(np.where(rolling_20<rolling_50, True, False), columns=df_raw_prices.columns, index=df_raw_prices.index)\n",
    "\n",
    "# Apply following to rolling_diff dataframe:\n",
    "\n",
    "# If yesterday == True and today == False\n",
    "# Then \"Sell\"\n",
    "# Elif yesterday == False and today == True\n",
    "# Then \"Buy\"\n",
    "# Else None\n",
    "sell_opps = rolling_diff < rolling_diff.shift(periods=-1)\n",
    "buy_opps = rolling_diff > rolling_diff.shift(periods=-1)\n",
    "\n",
    "# Replace boolean values with \"Buy\"/\"Sell\" strings, then merge into single dataframe\n",
    "sell_opps.replace(to_replace=True, value=\"Sell\", inplace=True)\n",
    "sell_opps.replace(to_replace=False, value=np.nan, inplace=True)\n",
    "buy_opps.replace(to_replace=True, value=\"Buy\", inplace=True)\n",
    "buy_opps.replace(to_replace=False, value=np.nan, inplace=True)\n",
    "all_opps = sell_opps.mask(buy_opps==\"Buy\", buy_opps) # Merge buy_opps with sell_opps"
   ]
  },
  {
   "cell_type": "code",
   "execution_count": null,
   "id": "744eca98",
   "metadata": {
    "ExecuteTime": {
     "end_time": "2021-05-27T05:50:40.604853Z",
     "start_time": "2021-05-27T05:50:40.598601Z"
    },
    "code_folding": [],
    "hidden": true,
    "run_control": {
     "marked": false
    }
   },
   "outputs": [],
   "source": [
    "# Get all historic recommendations for a given ticker\n",
    "# ticker = \"SU.PA\"\n",
    "# all_opps[ticker][~all_opps[ticker].isnull()]"
   ]
  },
  {
   "cell_type": "code",
   "execution_count": null,
   "id": "ad5694be",
   "metadata": {
    "ExecuteTime": {
     "end_time": "2021-05-27T05:50:40.675805Z",
     "start_time": "2021-05-27T05:50:40.606612Z"
    },
    "code_folding": [
     0
    ],
    "hidden": true,
    "run_control": {
     "marked": false
    }
   },
   "outputs": [],
   "source": [
    "# Get historic price on particular date for particular ticker\n",
    "# df_raw_prices[ticker][\"2020-03-11\"]"
   ]
  },
  {
   "cell_type": "code",
   "execution_count": null,
   "id": "8269f620",
   "metadata": {
    "ExecuteTime": {
     "end_time": "2021-05-27T05:50:40.681705Z",
     "start_time": "2021-05-27T05:50:40.677707Z"
    },
    "code_folding": [
     0
    ],
    "hidden": true,
    "run_control": {
     "marked": false
    }
   },
   "outputs": [],
   "source": [
    "# Total counts\n",
    "# buy_opps\n",
    "# sell_opps\n",
    "# print(f\"There are {all_opps[all_opps=='Sell'].count().sum()} sell opportunities.\")\n",
    "# print(f\"There are {all_opps[all_opps=='Buy'].count().sum()} buy opportunities.\")\n",
    "# all_opps.count().sum() # Counts values that are neither NA or np.nan\n",
    "\n",
    "# all_opps[all_opps=='Sell'].loc[\"2021-04-26\"].count().sum()\n",
    "# all_opps[all_opps=='Buy'].loc[\"2021-04-26\"].count().sum()"
   ]
  },
  {
   "cell_type": "code",
   "execution_count": null,
   "id": "cb71a44b",
   "metadata": {
    "ExecuteTime": {
     "end_time": "2021-05-27T05:50:40.686706Z",
     "start_time": "2021-05-27T05:50:40.683730Z"
    },
    "hidden": true,
    "run_control": {
     "marked": false
    }
   },
   "outputs": [],
   "source": [
    "opportunity_date = \"2021-05-21\""
   ]
  },
  {
   "cell_type": "code",
   "execution_count": null,
   "id": "c6791e59",
   "metadata": {
    "ExecuteTime": {
     "end_time": "2021-05-27T05:50:40.708688Z",
     "start_time": "2021-05-27T05:50:40.688778Z"
    },
    "code_folding": [
     0
    ],
    "hidden": true,
    "run_control": {
     "marked": false
    }
   },
   "outputs": [],
   "source": [
    "# Generate Buy and Sell recommendations\n",
    "recommend_buy = list(all_opps.loc[opportunity_date][all_opps.loc[opportunity_date]==\"Buy\"].index)\n",
    "recommend_sell = list(all_opps.loc[opportunity_date][all_opps.loc[opportunity_date]==\"Sell\"].index)"
   ]
  },
  {
   "cell_type": "code",
   "execution_count": null,
   "id": "b204db0d",
   "metadata": {
    "ExecuteTime": {
     "end_time": "2021-05-27T05:50:40.717625Z",
     "start_time": "2021-05-27T05:50:40.710698Z"
    },
    "code_folding": [
     0,
     1
    ],
    "hidden": true,
    "run_control": {
     "marked": false
    }
   },
   "outputs": [],
   "source": [
    "# Function to plot recommendations\n",
    "def plot_recommendation(ticker, start_date, end_date, ax):\n",
    "    \n",
    "    base = df_raw_prices.loc[start_date:end_date][ticker]\n",
    "    rolling_20 = np.round(base.rolling(window=20, center=False).mean(), 2)\n",
    "    rolling_50 = np.round(base.rolling(window=50, center=False).mean(), 2)\n",
    "    rolling_200 = np.round(base.rolling(window=200, center=False).mean(), 2)\n",
    "\n",
    "    ax = ax\n",
    "    ax.plot(base, label=\"Close\", linewidth=4, alpha=.2)\n",
    "    ax.plot(rolling_20, label=\"20d M.A.\", linestyle=\"dashed\", linewidth=2)\n",
    "    ax.plot(rolling_50, label=\"50d M.A.\", linestyle=\"dashed\", linewidth=2)\n",
    "    ax.plot(rolling_200, label=\"200d M.A.\", linestyle=\"dashed\", linewidth=2)\n",
    "    ax.set_ylabel(\"Close Price\")\n",
    "    ax.xaxis.set_major_locator(mdates.MonthLocator(interval=1))\n",
    "    ax.set_title(f\"{ticker}\")\n",
    "    plt.xticks(rotation=45)\n",
    "    plt.legend()\n",
    "    plt.grid()"
   ]
  },
  {
   "cell_type": "code",
   "execution_count": null,
   "id": "9b6fb22a",
   "metadata": {
    "ExecuteTime": {
     "end_time": "2021-05-27T05:50:40.727777Z",
     "start_time": "2021-05-27T05:50:40.719476Z"
    },
    "code_folding": [
     0
    ],
    "hidden": true,
    "run_control": {
     "marked": false
    }
   },
   "outputs": [],
   "source": [
    "# Plot Buy recommendations\n",
    "if math.ceil(len(recommend_buy)/3) == 1:\n",
    "    height = (math.ceil(len(recommend_buy))/3*4)+3\n",
    "else:\n",
    "    height = (math.ceil(len(recommend_buy))/3*4)\n",
    "\n",
    "fig = plt.figure(figsize=(15, height))\n",
    "for buy in recommend_buy:\n",
    "    n = recommend_buy.index(buy)+1\n",
    "#     print(n)\n",
    "    ax = fig.add_subplot(math.ceil(len(recommend_buy)/3), 3, n)\n",
    "    plot_recommendation(buy, \"2021-01-01\", opportunity_date, ax=ax)\n",
    "plt.suptitle(f\"BUY RECOMMENDATIONS {opportunity_date}\\n\")\n",
    "plt.tight_layout()"
   ]
  },
  {
   "cell_type": "code",
   "execution_count": null,
   "id": "d59b2549",
   "metadata": {
    "ExecuteTime": {
     "end_time": "2021-05-27T05:50:40.738005Z",
     "start_time": "2021-05-27T05:50:40.729669Z"
    },
    "code_folding": [
     0
    ],
    "hidden": true,
    "run_control": {
     "marked": false
    }
   },
   "outputs": [],
   "source": [
    "# Plot Sell recommendations\n",
    "if math.ceil(len(recommend_sell)/3) == 1:\n",
    "    height = (math.ceil(len(recommend_sell))/3*4)+3\n",
    "else:\n",
    "    height = (math.ceil(len(recommend_sell))/3*4)\n",
    "\n",
    "fig = plt.figure(figsize=(15,height))\n",
    "for sell in recommend_sell:\n",
    "    n = recommend_sell.index(sell)+1\n",
    "#     print(n)\n",
    "    ax = fig.add_subplot(math.ceil(len(recommend_sell)/3), 3, n)\n",
    "    plot_recommendation(sell, \"2021-01-01\", opportunity_date, ax=ax)\n",
    "plt.suptitle(f\"SELL RECOMMENDATIONS {opportunity_date}\\n\")\n",
    "plt.tight_layout()"
   ]
  },
  {
   "cell_type": "markdown",
   "id": "8af9abc5",
   "metadata": {
    "heading_collapsed": true
   },
   "source": [
    "### Back-test Moving Average Strategy"
   ]
  },
  {
   "cell_type": "code",
   "execution_count": null,
   "id": "b87a2988",
   "metadata": {
    "ExecuteTime": {
     "end_time": "2021-05-27T05:50:40.756530Z",
     "start_time": "2021-05-27T05:50:40.739881Z"
    },
    "code_folding": [
     0
    ],
    "hidden": true,
    "run_control": {
     "marked": false
    }
   },
   "outputs": [],
   "source": [
    "# Function to run Back-testing\n",
    "\n",
    "def run_backtest(start_date, end_date):\n",
    "\n",
    "    # Generate Buy trades\n",
    "    index = all_opps.index\n",
    "    buy_trades = {}\n",
    "    for ticker in all_opps.columns:\n",
    "        condition = all_opps[ticker] == \"Buy\"\n",
    "        buy_indices = index[condition]\n",
    "        buy_indices_list = buy_indices.tolist()\n",
    "        buy_ind_dates = [str(ts.year) + \"-\" + str(ts.month) + \"-\" + str(ts.day) for ts in buy_indices_list]\n",
    "        df_raw_prices.loc[buy_ind_dates][ticker]\n",
    "        buy_prices = list(df_raw_prices.loc[buy_ind_dates][ticker].values)\n",
    "        buy_trades[ticker] = list(zip(buy_ind_dates, buy_prices))\n",
    "\n",
    "    # Generate Sell trades\n",
    "    index = all_opps.index\n",
    "    sell_trades = {}\n",
    "    for ticker in all_opps.columns:\n",
    "        condition = all_opps[ticker] == \"Sell\"\n",
    "        sell_indices = index[condition]\n",
    "        sell_indices_list = sell_indices.tolist()\n",
    "        sell_ind_dates = [str(ts.year) + \"-\" + str(ts.month) + \"-\" + str(ts.day) for ts in sell_indices_list]\n",
    "        df_raw_prices.loc[sell_ind_dates][ticker]\n",
    "        sell_prices = list(df_raw_prices.loc[sell_ind_dates][ticker].values)\n",
    "        sell_trades[ticker] = list(zip(sell_ind_dates, sell_prices))\n",
    "\n",
    "    # Apply strategy and calculate p&l per ticker:\n",
    "\n",
    "    profits_losses = []\n",
    "\n",
    "    for ticker in df_raw_prices.columns.to_list()[:-2]: # -2 to exclude the indices CAC40 and Euronext\n",
    "    # for ticker in df_raw_prices.columns.to_list()[650:655]: # for testing use the first (tickers)\n",
    "    #     print(\"=\" * 72)\n",
    "    #     print(ticker)\n",
    "        buy_dates = [datetime.strptime(trade[0], \"%Y-%m-%d\").date() for trade in buy_trades[ticker]]\n",
    "        sell_dates = [datetime.strptime(trade[0], \"%Y-%m-%d\").date() for trade in sell_trades[ticker]]\n",
    "        all_dates = buy_dates + sell_dates\n",
    "        \n",
    "#         print(type(all_dates[0]))\n",
    "        \n",
    "        direction = [-1 for date in buy_dates] + [1 for date in sell_dates]\n",
    "        buy_close = [trade[1] for trade in buy_trades[ticker]]\n",
    "        sell_close = [trade[1] for trade in sell_trades[ticker]]\n",
    "        all_close = buy_close + sell_close\n",
    "        df_executions = pd.DataFrame({\n",
    "            \"Direction\": direction,\n",
    "            \"Close\": all_close,\n",
    "        }, index=all_dates)\n",
    "        df_executions.sort_index(inplace=True)\n",
    "        df_executions[\"Cashflow\"] = df_executions[\"Direction\"] * df_executions[\"Close\"]\n",
    "        \n",
    "        # Keep executions only within the prescribed date range we are running the backtest for:\n",
    "        s = pd.to_datetime(start_date).date()\n",
    "        e = pd.to_datetime(end_date).date()\n",
    "        df_executions = df_executions[s:e]\n",
    "        \n",
    "    #     try:\n",
    "    #         print(\"First\", df_executions.iloc[0][\"Direction\"])\n",
    "    #     except:\n",
    "    #         pass\n",
    "    #     try:\n",
    "    #         print(\"Last,\", df_executions.iloc[len(df_executions)-1][\"Direction\"])\n",
    "    #     except:\n",
    "    #         pass\n",
    "\n",
    "        # Execution Rules\n",
    "        # ---------------\n",
    "        # Always start with a Buy and always end with a Sell. Avoid short selling and unrealised p&l.\n",
    "\n",
    "        try:\n",
    "            # Drop first row if its a Sell\n",
    "            if df_executions.iloc[0][\"Direction\"] == 1:\n",
    "                df_executions.drop(df_executions.index[0], inplace=True, axis=0)\n",
    "        except:\n",
    "            pass\n",
    "\n",
    "        try:\n",
    "            # Drop last row if its a Buy\n",
    "            if df_executions.iloc[len(df_executions)-1][\"Direction\"] == -1:\n",
    "                df_executions.drop(df_executions.index[len(df_executions)-1], inplace=True, axis=0)\n",
    "        except:\n",
    "            pass\n",
    "\n",
    "    #     print(df_executions)\n",
    "        ticker_pnl = df_executions[\"Cashflow\"].sum()\n",
    "        profits_losses.append(ticker_pnl)\n",
    "    \n",
    "    df_Backtest_Results = pd.DataFrame({\n",
    "        \"Back-test PnL\":profits_losses,\n",
    "    }, index=df_raw_prices.columns[:-2])\n",
    "    \n",
    "    return df_Backtest_Results, df_executions\n",
    "    "
   ]
  },
  {
   "cell_type": "code",
   "execution_count": null,
   "id": "f0873809",
   "metadata": {
    "ExecuteTime": {
     "end_time": "2021-05-27T05:50:40.760839Z",
     "start_time": "2021-05-27T05:50:40.758443Z"
    },
    "hidden": true,
    "run_control": {
     "marked": false
    }
   },
   "outputs": [],
   "source": [
    "# Generate backtest results\n",
    "# start_date = \"2019-01-01\"\n",
    "# end_date = \"2021-12-31\"\n",
    "\n",
    "# df_Backtest_Results, df_executions = run_backtest(start_date, end_date)"
   ]
  },
  {
   "cell_type": "code",
   "execution_count": null,
   "id": "65e2f09d",
   "metadata": {
    "ExecuteTime": {
     "end_time": "2021-05-27T05:50:40.765863Z",
     "start_time": "2021-05-27T05:50:40.762399Z"
    },
    "hidden": true,
    "run_control": {
     "marked": false
    }
   },
   "outputs": [],
   "source": [
    "# df_executions"
   ]
  },
  {
   "cell_type": "code",
   "execution_count": null,
   "id": "92528b0e",
   "metadata": {
    "ExecuteTime": {
     "end_time": "2021-05-27T05:50:40.770912Z",
     "start_time": "2021-05-27T05:50:40.767619Z"
    },
    "hidden": true,
    "run_control": {
     "marked": false
    }
   },
   "outputs": [],
   "source": [
    "# df_Backtest_Results.sort_values(by=\"Back-test PnL\", ascending=False)"
   ]
  },
  {
   "cell_type": "code",
   "execution_count": null,
   "id": "d451cb78",
   "metadata": {
    "ExecuteTime": {
     "end_time": "2021-05-27T05:50:40.775444Z",
     "start_time": "2021-05-27T05:50:40.772701Z"
    },
    "hidden": true,
    "run_control": {
     "marked": false
    }
   },
   "outputs": [],
   "source": [
    "# df_Backtest_Results.describe()"
   ]
  },
  {
   "cell_type": "code",
   "execution_count": null,
   "id": "973b9c45",
   "metadata": {
    "ExecuteTime": {
     "end_time": "2021-05-27T05:50:40.779878Z",
     "start_time": "2021-05-27T05:50:40.777371Z"
    },
    "hidden": true,
    "run_control": {
     "marked": false
    }
   },
   "outputs": [],
   "source": [
    "# df_Backtest_Results.sum()"
   ]
  },
  {
   "cell_type": "code",
   "execution_count": null,
   "id": "2854f537",
   "metadata": {
    "ExecuteTime": {
     "end_time": "2021-05-27T05:50:40.858550Z",
     "start_time": "2021-05-27T05:50:40.781518Z"
    },
    "hidden": true,
    "run_control": {
     "marked": false
    }
   },
   "outputs": [],
   "source": [
    "# df_Backtest_Results.hist(bins=100, log=True, figsize=(10, 6), alpha=.5)"
   ]
  },
  {
   "cell_type": "code",
   "execution_count": null,
   "id": "49a582ef",
   "metadata": {
    "ExecuteTime": {
     "end_time": "2021-05-27T05:50:40.863467Z",
     "start_time": "2021-05-27T05:50:40.860342Z"
    },
    "hidden": true,
    "run_control": {
     "marked": false
    }
   },
   "outputs": [],
   "source": [
    "# df_Backtest_Results.loc[\"VLTSA.PA\"]"
   ]
  },
  {
   "cell_type": "code",
   "execution_count": null,
   "id": "dab8040c",
   "metadata": {
    "hidden": true,
    "run_control": {
     "marked": false
    }
   },
   "outputs": [],
   "source": []
  },
  {
   "cell_type": "markdown",
   "id": "a53b80e2",
   "metadata": {
    "heading_collapsed": true
   },
   "source": [
    "## Test widgets"
   ]
  },
  {
   "cell_type": "markdown",
   "id": "bd4a8a66",
   "metadata": {
    "hidden": true
   },
   "source": [
    "#### Test 1: single widgets"
   ]
  },
  {
   "cell_type": "code",
   "execution_count": null,
   "id": "9425a9d4",
   "metadata": {
    "ExecuteTime": {
     "end_time": "2021-05-27T05:50:40.868591Z",
     "start_time": "2021-05-27T05:50:40.865822Z"
    },
    "code_folding": [],
    "hidden": true,
    "run_control": {
     "marked": false
    }
   },
   "outputs": [],
   "source": [
    "# def print_value(myvalue):\n",
    "#     print(f\"The current value is: {myvalue}\")"
   ]
  },
  {
   "cell_type": "code",
   "execution_count": null,
   "id": "02ee655d",
   "metadata": {
    "ExecuteTime": {
     "end_time": "2021-05-27T05:50:40.872893Z",
     "start_time": "2021-05-27T05:50:40.870391Z"
    },
    "hidden": true,
    "run_control": {
     "marked": false
    }
   },
   "outputs": [],
   "source": [
    "# widgets.interact(print_value, myvalue=[1, 2, 3, 4, 5]) # use list to create dropdown"
   ]
  },
  {
   "cell_type": "code",
   "execution_count": null,
   "id": "428a62d9",
   "metadata": {
    "ExecuteTime": {
     "end_time": "2021-05-27T05:50:40.877261Z",
     "start_time": "2021-05-27T05:50:40.874777Z"
    },
    "hidden": true,
    "run_control": {
     "marked": false
    }
   },
   "outputs": [],
   "source": [
    "# widgets.interact(print_value, myvalue=(0, 10, 1)) # use tuple to create number slider"
   ]
  },
  {
   "cell_type": "code",
   "execution_count": null,
   "id": "1b79aeb9",
   "metadata": {
    "ExecuteTime": {
     "end_time": "2021-05-27T05:50:40.883664Z",
     "start_time": "2021-05-27T05:50:40.878937Z"
    },
    "hidden": true,
    "run_control": {
     "marked": false
    }
   },
   "outputs": [],
   "source": [
    "# widgets.interact(print_value, myvalue=(0, 10, .5)) # for decimal values"
   ]
  },
  {
   "cell_type": "code",
   "execution_count": null,
   "id": "ef4f0236",
   "metadata": {
    "ExecuteTime": {
     "end_time": "2021-05-27T05:50:40.888216Z",
     "start_time": "2021-05-27T05:50:40.885548Z"
    },
    "hidden": true,
    "run_control": {
     "marked": false
    }
   },
   "outputs": [],
   "source": [
    "# widgets.interact(print_value, myvalue=True) # for boolean"
   ]
  },
  {
   "cell_type": "code",
   "execution_count": null,
   "id": "dda8af97",
   "metadata": {
    "ExecuteTime": {
     "end_time": "2021-05-27T05:50:40.893234Z",
     "start_time": "2021-05-27T05:50:40.889832Z"
    },
    "code_folding": [],
    "hidden": true,
    "run_control": {
     "marked": false
    }
   },
   "outputs": [],
   "source": [
    "# Multiselect dropdown. Use shift or ctrl to select multiple values\n",
    "# w = widgets.SelectMultiple(\n",
    "#     options=['Apples', 'Oranges', 'Pears'],\n",
    "#     value=['Oranges'],\n",
    "#     #rows=10,\n",
    "#     description='Fruits',\n",
    "#     disabled=False\n",
    "# )\n",
    "# w"
   ]
  },
  {
   "cell_type": "code",
   "execution_count": null,
   "id": "11f3dc48",
   "metadata": {
    "ExecuteTime": {
     "end_time": "2021-05-27T05:50:40.897745Z",
     "start_time": "2021-05-27T05:50:40.895249Z"
    },
    "hidden": true,
    "run_control": {
     "marked": false
    }
   },
   "outputs": [],
   "source": [
    "# print(w.value)"
   ]
  },
  {
   "cell_type": "markdown",
   "id": "7bd7e694",
   "metadata": {
    "hidden": true
   },
   "source": [
    "#### Test 2: multiple widgets"
   ]
  },
  {
   "cell_type": "code",
   "execution_count": null,
   "id": "70d8bc44",
   "metadata": {
    "ExecuteTime": {
     "end_time": "2021-05-27T05:50:40.903048Z",
     "start_time": "2021-05-27T05:50:40.899566Z"
    },
    "hidden": true,
    "run_control": {
     "marked": false
    }
   },
   "outputs": [],
   "source": [
    "# def three_variables(x, y, z):\n",
    "#     return (x, y, z)"
   ]
  },
  {
   "cell_type": "code",
   "execution_count": null,
   "id": "e4f2ed51",
   "metadata": {
    "ExecuteTime": {
     "end_time": "2021-05-27T05:50:40.907456Z",
     "start_time": "2021-05-27T05:50:40.905112Z"
    },
    "hidden": true,
    "run_control": {
     "marked": false
    }
   },
   "outputs": [],
   "source": [
    "# _ = widgets.interact(\n",
    "#     three_variables,\n",
    "#     x=[\"Blue\", \"Green\", \"Black\"],\n",
    "#     y=(1, 5, 1),\n",
    "#     z=True,\n",
    "# )"
   ]
  },
  {
   "cell_type": "markdown",
   "id": "a685fac0",
   "metadata": {
    "ExecuteTime": {
     "end_time": "2021-04-27T12:50:00.904026Z",
     "start_time": "2021-04-27T12:50:00.897692Z"
    },
    "hidden": true
   },
   "source": [
    "#### Fixed variables"
   ]
  },
  {
   "cell_type": "code",
   "execution_count": null,
   "id": "641eb97c",
   "metadata": {
    "ExecuteTime": {
     "end_time": "2021-05-27T05:50:40.912240Z",
     "start_time": "2021-05-27T05:50:40.909326Z"
    },
    "hidden": true,
    "run_control": {
     "marked": false
    }
   },
   "outputs": [],
   "source": [
    "# _ = widgets.interact(\n",
    "#     three_variables,\n",
    "#     x=[\"Blue\", \"Green\", \"Black\"],\n",
    "#     y=(1, 5, 1),\n",
    "#     z=widgets.fixed(\"I am fixed\"),\n",
    "# )"
   ]
  },
  {
   "cell_type": "markdown",
   "id": "3561f167",
   "metadata": {
    "hidden": true
   },
   "source": [
    "   #### Create widgets with decorators"
   ]
  },
  {
   "cell_type": "code",
   "execution_count": null,
   "id": "f0dc5db5",
   "metadata": {
    "ExecuteTime": {
     "end_time": "2021-05-27T05:50:40.916779Z",
     "start_time": "2021-05-27T05:50:40.914134Z"
    },
    "hidden": true,
    "run_control": {
     "marked": false
    }
   },
   "outputs": [],
   "source": [
    "# @widgets.interact(x=(0, 10, 1), y=[\"a\", \"b\", \"c\"])\n",
    "# def print_slider_val(x, y):\n",
    "#     print(f\"Slider says: {x}. Dropdown says: {y}\")"
   ]
  },
  {
   "cell_type": "markdown",
   "id": "64cf838f",
   "metadata": {
    "hidden": true
   },
   "source": [
    "#### Create one of my charts"
   ]
  },
  {
   "cell_type": "code",
   "execution_count": null,
   "id": "5a153cf0",
   "metadata": {
    "ExecuteTime": {
     "end_time": "2021-05-27T05:50:40.921590Z",
     "start_time": "2021-05-27T05:50:40.918707Z"
    },
    "hidden": true,
    "run_control": {
     "marked": false
    }
   },
   "outputs": [],
   "source": [
    "# ticker_list = list(df_raw_prices.columns)\n",
    "# ticker_list.sort()\n",
    "# @widgets.interact(\n",
    "#     ticker=ticker_list,\n",
    "#     start_date=widgets.Text(value=\"2020-01-01\", description=\"start date\", continuous_update=False),\n",
    "#     end_date=widgets.Text(value=\"2020-12-31\", description=\"end date\", continuous_update=False),\n",
    "# )\n",
    "# def plot_ticker(ticker, start_date, end_date):\n",
    "#     df_raw_prices.loc[start_date:end_date][ticker].plot()\n",
    "#     plt.title(ticker)"
   ]
  },
  {
   "cell_type": "code",
   "execution_count": null,
   "id": "87cfd3fc",
   "metadata": {
    "hidden": true,
    "run_control": {
     "marked": false
    }
   },
   "outputs": [],
   "source": []
  }
 ],
 "metadata": {
  "kernelspec": {
   "display_name": "conda_python3",
   "language": "python",
   "name": "conda_python3"
  },
  "language_info": {
   "codemirror_mode": {
    "name": "ipython",
    "version": 3
   },
   "file_extension": ".py",
   "mimetype": "text/x-python",
   "name": "python",
   "nbconvert_exporter": "python",
   "pygments_lexer": "ipython3",
   "version": "3.6.13"
  },
  "toc": {
   "base_numbering": 1,
   "nav_menu": {},
   "number_sections": true,
   "sideBar": true,
   "skip_h1_title": false,
   "title_cell": "Table of Contents",
   "title_sidebar": "Contents",
   "toc_cell": false,
   "toc_position": {
    "height": "calc(100% - 180px)",
    "left": "10px",
    "top": "150px",
    "width": "453px"
   },
   "toc_section_display": true,
   "toc_window_display": true
  },
  "toc-autonumbering": false,
  "toc-showcode": false,
  "toc-showmarkdowntxt": false,
  "toc-showtags": false,
  "varInspector": {
   "cols": {
    "lenName": 16,
    "lenType": 16,
    "lenVar": 40
   },
   "kernels_config": {
    "python": {
     "delete_cmd_postfix": "",
     "delete_cmd_prefix": "del ",
     "library": "var_list.py",
     "varRefreshCmd": "print(var_dic_list())"
    },
    "r": {
     "delete_cmd_postfix": ") ",
     "delete_cmd_prefix": "rm(",
     "library": "var_list.r",
     "varRefreshCmd": "cat(var_dic_list()) "
    }
   },
   "types_to_exclude": [
    "module",
    "function",
    "builtin_function_or_method",
    "instance",
    "_Feature"
   ],
   "window_display": false
  }
 },
 "nbformat": 4,
 "nbformat_minor": 5
}
