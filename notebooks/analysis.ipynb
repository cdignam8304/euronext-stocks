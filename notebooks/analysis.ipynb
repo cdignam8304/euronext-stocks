{
 "cells": [
  {
   "cell_type": "markdown",
   "id": "fifteen-signal",
   "metadata": {},
   "source": [
    "<div style=\"font-size: 32px; color: gray; font-weight: bold; text-align: center;\">Stock Analysis</div>"
   ]
  },
  {
   "cell_type": "markdown",
   "id": "supported-prototype",
   "metadata": {},
   "source": [
    "---"
   ]
  },
  {
   "cell_type": "code",
   "execution_count": 142,
   "id": "aboriginal-freight",
   "metadata": {
    "ExecuteTime": {
     "end_time": "2021-05-02T19:52:40.057037Z",
     "start_time": "2021-05-02T19:52:40.047040Z"
    },
    "code_folding": []
   },
   "outputs": [],
   "source": [
    "# Libraries\n",
    "# import yfinance as yf\n",
    "from matplotlib import pyplot as plt\n",
    "from matplotlib.ticker import (MultipleLocator, AutoMinorLocator)\n",
    "import matplotlib.dates as mdates\n",
    "%matplotlib inline\n",
    "import seaborn as sns; sns.set_theme(color_codes=True)\n",
    "import pandas as pd\n",
    "import numpy as np\n",
    "import boto3\n",
    "from io import StringIO\n",
    "from sagemaker import get_execution_role\n",
    "import warnings\n",
    "warnings.filterwarnings(\"ignore\")\n",
    "import pickle\n",
    "from scipy import stats\n",
    "plt.style.use('seaborn-white')\n",
    "import numpy as np\n",
    "import math\n",
    "import ipywidgets as widgets\n",
    "from datetime import datetime"
   ]
  },
  {
   "cell_type": "code",
   "execution_count": 143,
   "id": "individual-hazard",
   "metadata": {
    "ExecuteTime": {
     "end_time": "2021-05-02T19:52:40.062495Z",
     "start_time": "2021-05-02T19:52:40.060201Z"
    },
    "code_folding": []
   },
   "outputs": [],
   "source": [
    "# print(plt.style.available)"
   ]
  },
  {
   "cell_type": "markdown",
   "id": "every-insert",
   "metadata": {},
   "source": [
    "## Get data"
   ]
  },
  {
   "cell_type": "markdown",
   "id": "exempt-worth",
   "metadata": {
    "heading_collapsed": true
   },
   "source": [
    "### Retrieve ticker info data from s3"
   ]
  },
  {
   "cell_type": "code",
   "execution_count": 144,
   "id": "cleared-lincoln",
   "metadata": {
    "ExecuteTime": {
     "end_time": "2021-05-02T19:52:40.165763Z",
     "start_time": "2021-05-02T19:52:40.064285Z"
    },
    "code_folding": [],
    "hidden": true
   },
   "outputs": [],
   "source": [
    "# Read ticker_info from s3\n",
    "\n",
    "s3 = boto3.client(\"s3\")\n",
    "\n",
    "#Read the object stored in key 'myList001'\n",
    "object = s3.get_object(Bucket=\"euronext-stocks\", Key=\"ticker_info\")\n",
    "# object = s3.get_object(Bucket=\"euronext-stocks\", Key=\"ticker_info_test\")\n",
    "serializedObject = object['Body'].read()\n",
    "ticker_info = pickle.loads(serializedObject) # Deserialize the retrieved object"
   ]
  },
  {
   "cell_type": "markdown",
   "id": "immediate-noise",
   "metadata": {
    "heading_collapsed": true
   },
   "source": [
    "### Retrieve price data from s3"
   ]
  },
  {
   "cell_type": "code",
   "execution_count": 145,
   "id": "armed-moment",
   "metadata": {
    "ExecuteTime": {
     "end_time": "2021-05-02T19:52:40.725343Z",
     "start_time": "2021-05-02T19:52:40.170974Z"
    },
    "code_folding": [],
    "hidden": true
   },
   "outputs": [],
   "source": [
    "# Read data from s3\n",
    "role = get_execution_role()\n",
    "bucket=\"euronext-stocks\"\n",
    "data_key = \"df_prices.csv\"\n",
    "data_location = 's3://{}/{}'.format(bucket, data_key)\n",
    "df_prices = pd.read_csv(data_location,)\n",
    "df_prices.set_index(df_prices[\"Date\"], drop=True, inplace=True)\n",
    "df_prices.drop(\"Date\", axis=1, inplace=True)\n",
    "df_prices.index = pd.to_datetime(df_prices.index)\n",
    "df_prices.interpolate(method='linear', inplace=True) # use linear interpolation for missing values"
   ]
  },
  {
   "cell_type": "code",
   "execution_count": 146,
   "id": "ranking-capability",
   "metadata": {
    "ExecuteTime": {
     "end_time": "2021-05-02T19:52:40.735746Z",
     "start_time": "2021-05-02T19:52:40.727385Z"
    },
    "hidden": true
   },
   "outputs": [
    {
     "data": {
      "text/plain": [
       "(514, 706)"
      ]
     },
     "execution_count": 146,
     "metadata": {},
     "output_type": "execute_result"
    }
   ],
   "source": [
    "df_prices.shape"
   ]
  },
  {
   "cell_type": "markdown",
   "id": "electrical-column",
   "metadata": {
    "heading_collapsed": true
   },
   "source": [
    "### Create data frame of raw prices"
   ]
  },
  {
   "cell_type": "code",
   "execution_count": 147,
   "id": "demanding-airplane",
   "metadata": {
    "ExecuteTime": {
     "end_time": "2021-05-02T19:52:40.741157Z",
     "start_time": "2021-05-02T19:52:40.737446Z"
    },
    "hidden": true
   },
   "outputs": [],
   "source": [
    "df_raw_prices = df_prices.copy()"
   ]
  },
  {
   "cell_type": "code",
   "execution_count": 148,
   "id": "young-projector",
   "metadata": {
    "ExecuteTime": {
     "end_time": "2021-05-02T19:52:40.750050Z",
     "start_time": "2021-05-02T19:52:40.742642Z"
    },
    "hidden": true
   },
   "outputs": [
    {
     "data": {
      "text/plain": [
       "Date\n",
       "2021-04-26    23.549999\n",
       "2021-04-27    24.000000\n",
       "2021-04-28    23.799999\n",
       "2021-04-29    24.000000\n",
       "2021-04-30    23.600000\n",
       "Name: VLTSA.PA, dtype: float64"
      ]
     },
     "execution_count": 148,
     "metadata": {},
     "output_type": "execute_result"
    }
   ],
   "source": [
    "df_raw_prices[\"VLTSA.PA\"].tail()"
   ]
  },
  {
   "cell_type": "markdown",
   "id": "distributed-occasion",
   "metadata": {
    "heading_collapsed": true
   },
   "source": [
    "### Create dataframe of % daily returns"
   ]
  },
  {
   "cell_type": "code",
   "execution_count": 149,
   "id": "suspended-knitting",
   "metadata": {
    "ExecuteTime": {
     "end_time": "2021-05-02T19:52:40.762072Z",
     "start_time": "2021-05-02T19:52:40.751779Z"
    },
    "hidden": true
   },
   "outputs": [],
   "source": [
    "df_daily_returns = df_prices.pct_change()"
   ]
  },
  {
   "cell_type": "code",
   "execution_count": 150,
   "id": "possible-legislature",
   "metadata": {
    "ExecuteTime": {
     "end_time": "2021-05-02T19:52:40.768371Z",
     "start_time": "2021-05-02T19:52:40.764566Z"
    },
    "hidden": true
   },
   "outputs": [
    {
     "data": {
      "text/plain": [
       "(514, 706)"
      ]
     },
     "execution_count": 150,
     "metadata": {},
     "output_type": "execute_result"
    }
   ],
   "source": [
    "df_daily_returns.shape"
   ]
  },
  {
   "cell_type": "markdown",
   "id": "emerging-source",
   "metadata": {
    "heading_collapsed": true
   },
   "source": [
    "### Create dataframe of returns from period 0 with sector and industry headings"
   ]
  },
  {
   "cell_type": "code",
   "execution_count": 151,
   "id": "taken-remainder",
   "metadata": {
    "ExecuteTime": {
     "end_time": "2021-05-02T19:52:40.839843Z",
     "start_time": "2021-05-02T19:52:40.770488Z"
    },
    "code_folding": [
     0
    ],
    "hidden": true
   },
   "outputs": [],
   "source": [
    "# Use ticker metadata in column headings of df_prices dataframe\n",
    "col_tuples = [(ticker_info[ticker][1], ticker_info[ticker][2], ticker) for ticker in ticker_info] # sector and industry\n",
    "df_prices.columns = col_tuples\n",
    "df_prices.columns = pd.MultiIndex.from_tuples(df_prices.columns,)\n",
    "\n",
    "# Tidy up ordering and grouping on column headers\n",
    "new_columns = df_prices.columns.sort_values(ascending=[True, True, True])\n",
    "df_prices = df_prices[new_columns]"
   ]
  },
  {
   "cell_type": "code",
   "execution_count": 152,
   "id": "surgical-imperial",
   "metadata": {
    "ExecuteTime": {
     "end_time": "2021-05-02T19:52:40.907573Z",
     "start_time": "2021-05-02T19:52:40.842592Z"
    },
    "hidden": true
   },
   "outputs": [
    {
     "data": {
      "text/plain": [
       "(514, 706)"
      ]
     },
     "execution_count": 152,
     "metadata": {},
     "output_type": "execute_result"
    }
   ],
   "source": [
    "df_prices.shape"
   ]
  },
  {
   "cell_type": "code",
   "execution_count": 153,
   "id": "balanced-circuit",
   "metadata": {
    "ExecuteTime": {
     "end_time": "2021-05-02T19:52:40.913728Z",
     "start_time": "2021-05-02T19:52:40.911436Z"
    },
    "code_folding": [],
    "hidden": true,
    "scrolled": true
   },
   "outputs": [],
   "source": [
    "# df_prices.head()"
   ]
  },
  {
   "cell_type": "markdown",
   "id": "bearing-finding",
   "metadata": {
    "heading_collapsed": true
   },
   "source": [
    "## Slicing"
   ]
  },
  {
   "cell_type": "code",
   "execution_count": 154,
   "id": "sacred-wireless",
   "metadata": {
    "ExecuteTime": {
     "end_time": "2021-05-02T19:52:40.922506Z",
     "start_time": "2021-05-02T19:52:40.915268Z"
    },
    "code_folding": [],
    "hidden": true
   },
   "outputs": [],
   "source": [
    "# Filter by date\n",
    "# df_prices.loc['2021-01-01':'2021-01-31']"
   ]
  },
  {
   "cell_type": "code",
   "execution_count": 155,
   "id": "formed-beads",
   "metadata": {
    "ExecuteTime": {
     "end_time": "2021-05-02T19:52:40.934038Z",
     "start_time": "2021-05-02T19:52:40.925963Z"
    },
    "hidden": true,
    "scrolled": true
   },
   "outputs": [
    {
     "name": "stdout",
     "output_type": "stream",
     "text": [
      "['Communication Services', 'Consumer Cyclical', 'Consumer Defensive', 'Energy', 'Financial', 'Financial Services', 'Healthcare', 'Industrial Goods', 'Industrials', 'Missing', 'Real Estate', 'Services', 'Technology', 'Utilities']\n"
     ]
    }
   ],
   "source": [
    "# Get sectors\n",
    "sectors = df_prices.columns.get_level_values(0).unique()[2:].to_list()\n",
    "sectors.sort()\n",
    "print(sectors) # full dataset\n",
    "\n",
    "# df_prices.columns.get_level_values(0).unique().to_list() # test dataset"
   ]
  },
  {
   "cell_type": "code",
   "execution_count": 156,
   "id": "anticipated-customer",
   "metadata": {
    "ExecuteTime": {
     "end_time": "2021-05-02T19:52:40.944318Z",
     "start_time": "2021-05-02T19:52:40.935550Z"
    },
    "hidden": true,
    "scrolled": true
   },
   "outputs": [
    {
     "name": "stdout",
     "output_type": "stream",
     "text": [
      "['Advertising Agencies', 'Aerospace & Defense', 'Aerospace/Defense - Major Diversified', 'Airlines', 'Airports & Air Services', 'Aluminum', 'Apparel Manufacturing', 'Apparel Retail', 'Asset Management', 'Auto & Truck Dealerships', 'Auto Manufacturers', 'Auto Parts', 'Banks—Diversified', 'Banks—Regional', 'Beverages—Brewers', 'Beverages—Non-Alcoholic', 'Beverages—Wineries & Distilleries', 'Biotechnology', 'Broadcasting', 'Building Materials', 'Building Products & Equipment', 'Business Equipment & Supplies', 'Capital Markets', 'Chemicals', 'Communication Equipment', 'Computer Hardware', 'Confectioners', 'Conglomerates', 'Consulting Services', 'Consumer Electronics', 'Credit Services', 'Diagnostics & Research', 'Diversified Electronics', 'Diversified Machinery', 'Drug Manufacturers - Major', 'Drug Manufacturers—General', 'Drug Manufacturers—Specialty & Generic', 'Electrical Equipment & Parts', 'Electronic Components', 'Electronic Gaming & Multimedia', 'Engineering & Construction', 'Entertainment', 'Farm & Heavy Construction Machinery', 'Farm Products', 'Financial Conglomerates', 'Financial Data & Stock Exchanges', 'Food Distribution', 'Footwear & Accessories', 'Furnishings, Fixtures & Appliances', 'Gambling', 'General Contractors', 'Gold', 'Grocery Stores', 'Health Information Services', 'Home Improvement Retail', 'Household & Personal Products', 'Industrial Distribution', 'Information Technology Services', 'Infrastructure Operations', 'Insurance—Diversified', 'Insurance—Life', 'Insurance—Reinsurance', 'Integrated Freight & Logistics', 'Internet Content & Information', 'Internet Retail', 'Leisure', 'Lodging', 'Lumber & Wood Production', 'Luxury Goods', 'Marine Shipping', 'Medical Care Facilities', 'Medical Devices', 'Medical Distribution', 'Medical Instruments & Supplies', 'Medical Laboratories & Research', 'Metal Fabrication', 'Missing', 'Oil & Gas E&P', 'Oil & Gas Equipment & Services', 'Oil & Gas Integrated', 'Oil & Gas Midstream', 'Oil & Gas Refining & Marketing', 'Other Industrial Metals & Mining', 'Packaged Foods', 'Packaging & Containers', 'Paper & Paper Products', 'Pollution & Treatment Controls', 'Property & Casualty Insurance', 'Property Management', 'Publishing', 'REIT—Diversified', 'REIT—Hotel & Motel', 'REIT—Industrial', 'REIT—Office', 'REIT—Residential', 'REIT—Retail', 'Railroads', 'Real Estate Services', 'Real Estate—Development', 'Real Estate—Diversified', 'Recreational Vehicles', 'Rental & Leasing Services', 'Residential Construction', 'Resorts & Casinos', 'Restaurants', 'Scientific & Technical Instruments', 'Semiconductor Equipment & Materials', 'Semiconductors', 'Shell Companies', 'Software—Application', 'Software—Infrastructure', 'Specialty Business Services', 'Specialty Chemicals', 'Specialty Industrial Machinery', 'Specialty Retail', 'Staffing & Employment Services', 'Steel', 'Telecom Services', 'Textile Manufacturing', 'Travel Services', 'Utilities—Diversified', 'Utilities—Regulated Electric', 'Utilities—Regulated Gas', 'Utilities—Regulated Water', 'Utilities—Renewable', 'Waste Management']\n"
     ]
    }
   ],
   "source": [
    "# Get industries\n",
    "industries = df_prices.columns.get_level_values(1).unique()[2:].to_list()\n",
    "industries.sort() # full dataset\n",
    "print(industries)\n",
    "\n",
    "# df_prices.columns.get_level_values(1).unique().to_list() # test data"
   ]
  },
  {
   "cell_type": "code",
   "execution_count": 157,
   "id": "acquired-revolution",
   "metadata": {
    "ExecuteTime": {
     "end_time": "2021-05-02T19:52:40.949695Z",
     "start_time": "2021-05-02T19:52:40.946143Z"
    },
    "code_folding": [
     0
    ],
    "hidden": true
   },
   "outputs": [],
   "source": [
    "# Get latest values for all stocks in a particular sector/industry combination\n",
    "sector = \"Utilities\"\n",
    "industry = \"Utilities—Renewable\"\n",
    "# df_prices[sector][industry].iloc[107].sort_values(ascending=False)"
   ]
  },
  {
   "cell_type": "code",
   "execution_count": 158,
   "id": "historic-shirt",
   "metadata": {
    "ExecuteTime": {
     "end_time": "2021-05-02T19:52:40.955273Z",
     "start_time": "2021-05-02T19:52:40.951502Z"
    },
    "code_folding": [],
    "hidden": true,
    "scrolled": true
   },
   "outputs": [],
   "source": [
    "# Get data for all stocks in a particular sector\n",
    "# df_prices.xs(\"Energy\", axis=1, level=0, drop_level=False)"
   ]
  },
  {
   "cell_type": "code",
   "execution_count": 159,
   "id": "comparative-layer",
   "metadata": {
    "ExecuteTime": {
     "end_time": "2021-05-02T19:52:40.961045Z",
     "start_time": "2021-05-02T19:52:40.957209Z"
    },
    "code_folding": [],
    "hidden": true,
    "scrolled": true
   },
   "outputs": [],
   "source": [
    "# Get data for all stocks in a particular industry\n",
    "# df_prices.xs(\"Utilities—Renewable\", axis=1, level=1, drop_level=False)\n",
    "# df_prices.xs(\"Airports & Air Services\", axis=1, level=1, drop_level=False)"
   ]
  },
  {
   "cell_type": "code",
   "execution_count": 160,
   "id": "alpine-angle",
   "metadata": {
    "ExecuteTime": {
     "end_time": "2021-05-02T19:52:40.970521Z",
     "start_time": "2021-05-02T19:52:40.962778Z"
    },
    "code_folding": [
     0
    ],
    "hidden": true
   },
   "outputs": [
    {
     "name": "stdout",
     "output_type": "stream",
     "text": [
      "['EC.PA', 'LFDE.PA', 'MAU.PA', 'CGG.PA', 'CLB.AS', 'FTI.PA', 'FUR.AS', 'GTT.PA', 'SBMO.AS', 'SLB.PA', 'TE.PA', 'VPK.AS', 'RDSA.AS', 'RDSB.AS', 'EURN.BR', 'EXM.BR', 'FLUX.BR', 'DPAM.PA', 'ES.PA']\n"
     ]
    }
   ],
   "source": [
    "# Get stock tickers in a particular sector\n",
    "print([item[2] for item in df_prices.xs(\"Energy\", axis=1, level=0, drop_level=False).columns.to_list()])"
   ]
  },
  {
   "cell_type": "code",
   "execution_count": 161,
   "id": "alternative-twist",
   "metadata": {
    "ExecuteTime": {
     "end_time": "2021-05-02T19:52:40.979329Z",
     "start_time": "2021-05-02T19:52:40.972348Z"
    },
    "code_folding": [
     0
    ],
    "hidden": true
   },
   "outputs": [
    {
     "data": {
      "text/plain": [
       "['ALX.AS', 'CNV.PA', 'SRP.PA', 'TKWY.AS']"
      ]
     },
     "execution_count": 161,
     "metadata": {},
     "output_type": "execute_result"
    }
   ],
   "source": [
    "# Get stock tickers in a particular industry\n",
    "[item[2] for item in df_prices.xs(\"Internet Retail\", axis=1, level=1, drop_level=False).columns.to_list()]"
   ]
  },
  {
   "cell_type": "code",
   "execution_count": 162,
   "id": "split-solomon",
   "metadata": {
    "ExecuteTime": {
     "end_time": "2021-05-02T19:52:40.987583Z",
     "start_time": "2021-05-02T19:52:40.981090Z"
    },
    "code_folding": [
     0
    ],
    "hidden": true
   },
   "outputs": [
    {
     "data": {
      "text/plain": [
       "[{'EC.PA': 'Total Gabon'},\n",
       " {'LFDE.PA': \"La Française de l'Energie S.A.\"},\n",
       " {'MAU.PA': 'Etablissements Maurel & Prom S.A.'},\n",
       " {'CGG.PA': 'CGG'},\n",
       " {'CLB.AS': 'Core Laboratories N.V.'},\n",
       " {'FTI.PA': 'TechnipFMC plc'},\n",
       " {'FUR.AS': 'Fugro N.V.'},\n",
       " {'GTT.PA': 'Gaztransport & Technigaz SA'},\n",
       " {'SBMO.AS': 'SBM Offshore N.V.'},\n",
       " {'SLB.PA': 'Schlumberger Limited'},\n",
       " {'TE.PA': 'Technip Energies N.V.'},\n",
       " {'VPK.AS': 'Royal Vopak N.V.'},\n",
       " {'RDSA.AS': 'Royal Dutch Shell plc'},\n",
       " {'RDSB.AS': 'Royal Dutch Shell plc'},\n",
       " {'EURN.BR': 'Euronav NV'},\n",
       " {'EXM.BR': 'Exmar NV'},\n",
       " {'FLUX.BR': 'Fluxys Belgium SA'},\n",
       " {'DPAM.PA': \"Les Docks des Pétroles d'Ambès -SA\"},\n",
       " {'ES.PA': 'Esso S.A.F.'}]"
      ]
     },
     "execution_count": 162,
     "metadata": {},
     "output_type": "execute_result"
    }
   ],
   "source": [
    "# Get list of dicts of ticker and ticker names for a sector. Can use this to generate tickers_to_plot below\n",
    "sector = \"Energy\"\n",
    "[{ticker:ticker_info[ticker][0]} for ticker in [item[2] for item in df_prices.xs(sector, axis=1, level=0, drop_level=False).columns.to_list()]]"
   ]
  },
  {
   "cell_type": "code",
   "execution_count": 163,
   "id": "attached-explosion",
   "metadata": {
    "ExecuteTime": {
     "end_time": "2021-05-02T19:52:41.048637Z",
     "start_time": "2021-05-02T19:52:40.989269Z"
    },
    "hidden": true
   },
   "outputs": [
    {
     "data": {
      "text/plain": [
       "[{'ALX.AS': 'Alumexx N.V.'},\n",
       " {'CNV.PA': 'Cnova N.V.'},\n",
       " {'SRP.PA': 'SRP Groupe S.A.'},\n",
       " {'TKWY.AS': 'Just Eat Takeaway.com N.V.'}]"
      ]
     },
     "execution_count": 163,
     "metadata": {},
     "output_type": "execute_result"
    }
   ],
   "source": [
    "# Get list of dicts of ticker and ticker names for an industry. Can use this to generate tickers_to_plot below\n",
    "industry = \"Internet Retail\"\n",
    "[{ticker:ticker_info[ticker][0]} for ticker in [item[2] for item in df_prices.xs(industry, axis=1, level=1, drop_level=False).columns.to_list()]]"
   ]
  },
  {
   "cell_type": "markdown",
   "id": "numerous-sterling",
   "metadata": {},
   "source": [
    "## Plotting"
   ]
  },
  {
   "cell_type": "markdown",
   "id": "aboriginal-choice",
   "metadata": {},
   "source": [
    "### Reuseable components"
   ]
  },
  {
   "cell_type": "code",
   "execution_count": 164,
   "id": "dense-archive",
   "metadata": {
    "ExecuteTime": {
     "end_time": "2021-05-02T19:52:41.056125Z",
     "start_time": "2021-05-02T19:52:41.050316Z"
    },
    "code_folding": [
     0
    ]
   },
   "outputs": [],
   "source": [
    "# List of tickers in alphabetical order\n",
    "ticker_list = list(df_raw_prices.columns)\n",
    "ticker_list.sort()"
   ]
  },
  {
   "cell_type": "markdown",
   "id": "premium-sleeping",
   "metadata": {},
   "source": [
    "### Plot functions"
   ]
  },
  {
   "cell_type": "code",
   "execution_count": 165,
   "id": "extra-purchase",
   "metadata": {
    "ExecuteTime": {
     "end_time": "2021-05-02T19:52:41.065786Z",
     "start_time": "2021-05-02T19:52:41.060550Z"
    },
    "code_folding": [
     0
    ]
   },
   "outputs": [],
   "source": [
    "# Heatmap displaying correlation of daily returns for a group of tickers\n",
    "def plot_corr_daily_returns(tickers, start_date, end_date, ma_days):\n",
    "    \n",
    "#     corr = df_daily_returns.loc[start_date:end_date][tickers].corr()\n",
    "#     corr = df_daily_returns.loc[start_date:end_date][tickers].rolling(window=ma_days, center=False).mean().corr()\n",
    "    corr = df_raw_prices.loc[start_date:end_date][tickers].rolling(window=ma_days, center=False).mean().corr()\n",
    "\n",
    "    # Generate a mask for the upper triangle\n",
    "    mask = np.triu(np.ones_like(corr, dtype=bool))\n",
    "\n",
    "    fig, ax = plt.subplots(figsize=(10,8))\n",
    "    sns.heatmap(corr, cmap=\"rocket_r\", ax=ax, square=True, annot=True, fmt=\".2g\", annot_kws={\"size\":8}, mask=mask) # plot heatmap with seaborn\n",
    "    # icefire\n",
    "    \n",
    "    plt.title(f\"Correlation of {ma_days} day Moving Averages of Close Prices\")\n",
    "    plt.tight_layout()"
   ]
  },
  {
   "cell_type": "markdown",
   "id": "still-formula",
   "metadata": {},
   "source": [
    "### Single stock"
   ]
  },
  {
   "cell_type": "code",
   "execution_count": 166,
   "id": "second-kelly",
   "metadata": {
    "ExecuteTime": {
     "end_time": "2021-05-02T19:52:41.540569Z",
     "start_time": "2021-05-02T19:52:41.068655Z"
    },
    "code_folding": [
     0
    ]
   },
   "outputs": [
    {
     "data": {
      "application/vnd.jupyter.widget-view+json": {
       "model_id": "01aa8cd8cdff4c939d18a78c810437bc",
       "version_major": 2,
       "version_minor": 0
      },
      "text/plain": [
       "interactive(children=(Dropdown(description='ticker', options=('2CRSI.PA', '2MX.PA', 'AAA.PA', 'AALB.AS', 'AB.P…"
      ]
     },
     "metadata": {},
     "output_type": "display_data"
    }
   ],
   "source": [
    "# Plot a single stock Close price and several moving averages\n",
    "\n",
    "ticker_list = list(df_raw_prices.columns)\n",
    "ticker_list.sort()\n",
    "@widgets.interact(\n",
    "    ticker=ticker_list,\n",
    "    start_date=widgets.Text(value=\"2020-01-01\", description=\"start date\", continuous_update=False),\n",
    "    end_date=widgets.Text(value=\"2020-12-31\", description=\"end date\", continuous_update=False),\n",
    ")\n",
    "def plot_single_ticker(ticker, start_date, end_date):\n",
    "    \n",
    "    \n",
    "    base = df_raw_prices.loc[start_date:end_date][ticker]\n",
    "    rolling_20 = np.round(base.rolling(window=20, center=False).mean(), 2)\n",
    "    rolling_50 = np.round(base.rolling(window=50, center=False).mean(), 2)\n",
    "    rolling_200 = np.round(base.rolling(window=200, center=False).mean(), 2)\n",
    "\n",
    "    fig, ax = plt.subplots(figsize=(15,5))\n",
    "    ax.plot(base, label=\"Close\", linewidth=4, alpha=.2)\n",
    "    ax.plot(rolling_20, label=\"20d M.A.\", linestyle=\"dashed\", linewidth=2)\n",
    "    ax.plot(rolling_50, label=\"50d M.A.\", linestyle=\"dashed\", linewidth=2)\n",
    "    ax.plot(rolling_200, label=\"200d M.A.\", linestyle=\"dashed\", linewidth=2)\n",
    "    ax.set_ylabel(\"Close Price\")\n",
    "    ax.xaxis.set_major_locator(mdates.MonthLocator(interval=1))\n",
    "    ax.set_title(f\"{ticker}\\n{start_date} to {end_date}\")\n",
    "    plt.xticks(rotation=45)\n",
    "    plt.legend()\n",
    "    plt.grid()"
   ]
  },
  {
   "cell_type": "markdown",
   "id": "heated-prompt",
   "metadata": {},
   "source": [
    "### Return comparisons"
   ]
  },
  {
   "cell_type": "code",
   "execution_count": 167,
   "id": "global-bailey",
   "metadata": {
    "ExecuteTime": {
     "end_time": "2021-05-02T19:52:41.963291Z",
     "start_time": "2021-05-02T19:52:41.542010Z"
    },
    "code_folding": [
     0
    ]
   },
   "outputs": [
    {
     "data": {
      "application/vnd.jupyter.widget-view+json": {
       "model_id": "3f06c9a7d3cd489a88efa6e2e85673cc",
       "version_major": 2,
       "version_minor": 0
      },
      "text/plain": [
       "interactive(children=(SelectMultiple(description='Tickers', index=(704,), options=('2CRSI.PA', '2MX.PA', 'AAA.…"
      ]
     },
     "metadata": {},
     "output_type": "display_data"
    }
   ],
   "source": [
    "# Plot multiple stocks or indices against each other and customize the legend labels\n",
    "\n",
    "ticker_list = list(df_raw_prices.columns)\n",
    "ticker_list.sort()\n",
    "@widgets.interact(\n",
    "    tickers_to_plot=widgets.SelectMultiple(options=ticker_list, value=[\"^FCHI\"], description=\"Tickers\", disabled=False),\n",
    "    start_date=widgets.Text(value=\"2020-01-01\", description=\"start date\", continuous_update=False),\n",
    "    end_date=widgets.Text(value=\"2020-12-31\", description=\"end date\", continuous_update=False),\n",
    ")\n",
    "def plot_tickers(tickers_to_plot, start_date, end_date):\n",
    "    \"\"\"\n",
    "    Function to plot a stock against an index (or other stock) and customize the legend labels.\n",
    "    Input is a list of key:pairs (python dicts) in the form ticker:ticker description\n",
    "    \"\"\"\n",
    "    fig = plt.figure(figsize=(15,8))\n",
    "    ax = fig.add_subplot(111)\n",
    "    \n",
    "    # Baseline the data at start date and convert to percentages\n",
    "    df_plot = df_raw_prices.loc[start_date:end_date]\n",
    "    df_plot = (df_plot/df_plot.iloc[0] - 1) * 100\n",
    "    \n",
    "    for ticker in tickers_to_plot:\n",
    "#         df_plot.xs(list(ticker.keys())[0], axis=1, level=2, drop_level=False).plot(ax=ax)\n",
    "        df_plot[ticker].plot(ax=ax, legend=ticker)\n",
    "        \n",
    "    lines, labels = ax.get_legend_handles_labels()\n",
    "    \n",
    "#     mylabels = [list(ticker.values())[0] for ticker in tickers_to_plot]\n",
    "    \n",
    "#     ax.legend(lines, mylabels, loc='best')  # legend for first two lines only\n",
    "    ax.legend()\n",
    "    ax.set_xlabel(\"\"); ax.set_ylabel(\"Return %\")\n",
    "    ax.set_title(f\"% Returns comparison\\n{start_date} to {end_date}\")\n",
    "    plt.grid()"
   ]
  },
  {
   "cell_type": "markdown",
   "id": "equal-bibliography",
   "metadata": {},
   "source": [
    "### Alpha & Beta"
   ]
  },
  {
   "cell_type": "code",
   "execution_count": 168,
   "id": "pressed-conversion",
   "metadata": {
    "ExecuteTime": {
     "end_time": "2021-05-02T19:52:42.407543Z",
     "start_time": "2021-05-02T19:52:41.965292Z"
    },
    "code_folding": [
     0
    ]
   },
   "outputs": [
    {
     "data": {
      "application/vnd.jupyter.widget-view+json": {
       "model_id": "3cf9177e0e334745ab166e4a5f05a445",
       "version_major": 2,
       "version_minor": 0
      },
      "text/plain": [
       "interactive(children=(Dropdown(description='ticker1', options=('2CRSI.PA', '2MX.PA', 'AAA.PA', 'AALB.AS', 'AB.…"
      ]
     },
     "metadata": {},
     "output_type": "display_data"
    }
   ],
   "source": [
    "# Regression plot\n",
    "\n",
    "@widgets.interact(\n",
    "    ticker1=ticker_list,\n",
    "    ticker2=ticker_list,\n",
    "    start_date=widgets.Text(value=\"2020-01-01\", description=\"start date\", continuous_update=False),\n",
    "    end_date=widgets.Text(value=\"2020-12-31\", description=\"end date\", continuous_update=False),\n",
    ")\n",
    "def regression_plot(ticker1, ticker2, start_date, end_date):\n",
    "    \n",
    "    # Transform data for alpha, beta and plotting\n",
    "    data = pd.DataFrame(\n",
    "        {\n",
    "            ticker1:[item[0] for item in df_prices.loc[start_date:end_date].xs(ticker1, axis=1, level=2, drop_level=False).values.tolist()],\n",
    "            ticker2:[item[0] for item in df_prices.loc[start_date:end_date].xs(ticker2, axis=1, level=2, drop_level=False).values.tolist()]\n",
    "        }\n",
    "    )\n",
    "\n",
    "    data_returns = (data/data.iloc[0] - 1) * 100\n",
    "    \n",
    "    (beta, alpha) = stats.linregress(data_returns[ticker2],\n",
    "                    data_returns[ticker1])[0:2]\n",
    "\n",
    "#     fig, ax = plt.subplots()\n",
    "    fig, ax = plt.subplots(figsize=(12,8))\n",
    "    ax = sns.regplot(x=ticker2, y=ticker1, data=data_returns)\n",
    "    ax.set_title(f\"Regression plot for\\n{ticker2} vs {ticker1}\\n{start_date} to {end_date}\\nBeta={round(beta, 4)}\\nAlpha={round(alpha,5)}\")\n",
    "    ax.xaxis.set_major_locator(MultipleLocator(10))\n",
    "    ax.yaxis.set_major_locator(MultipleLocator(10))\n",
    "    plt.gca().set_aspect(\"equal\")\n",
    "    plt.grid()\n",
    "    plt.show()"
   ]
  },
  {
   "cell_type": "markdown",
   "id": "shared-purpose",
   "metadata": {},
   "source": [
    "### Volatility"
   ]
  },
  {
   "cell_type": "code",
   "execution_count": 169,
   "id": "continuous-harvey",
   "metadata": {
    "ExecuteTime": {
     "end_time": "2021-05-02T19:52:43.024406Z",
     "start_time": "2021-05-02T19:52:42.409348Z"
    },
    "code_folding": [
     0
    ]
   },
   "outputs": [
    {
     "data": {
      "application/vnd.jupyter.widget-view+json": {
       "model_id": "59747c1d1afc4d0c86c50822588dca1c",
       "version_major": 2,
       "version_minor": 0
      },
      "text/plain": [
       "interactive(children=(Dropdown(description='ticker1', options=('2CRSI.PA', '2MX.PA', 'AAA.PA', 'AALB.AS', 'AB.…"
      ]
     },
     "metadata": {},
     "output_type": "display_data"
    }
   ],
   "source": [
    "# Compare volatility of 2 tickers\n",
    "\n",
    "ticker_list = list(df_raw_prices.columns)\n",
    "ticker_list.sort()\n",
    "@widgets.interact(\n",
    "    ticker1=ticker_list,\n",
    "    ticker2=ticker_list,\n",
    "    start_date=widgets.Text(value=\"2020-01-01\", description=\"start date\", continuous_update=False),\n",
    "    end_date=widgets.Text(value=\"2020-12-31\", description=\"end date\", continuous_update=False),\n",
    ")\n",
    "def plot_vol_comparison(ticker1, ticker2, start_date, end_date):\n",
    "    \"\"\"\n",
    "    1. 2-year vol comparison. (*** Could update to have dynamic date ranges ***)\n",
    "    2. Uses standard deviation for vol calculation.\n",
    "    \"\"\"\n",
    "    tickers = [ticker1, ticker2]\n",
    "    fig, ax = plt.subplots(figsize=(10,6))\n",
    "    for ticker in tickers:\n",
    "        mean = np.mean(df_daily_returns.loc[start_date:end_date][ticker])\n",
    "        vol = np.std(df_daily_returns.loc[start_date:end_date][ticker])\n",
    "        df_daily_returns.loc[start_date:end_date][ticker].hist(bins=50, ax=ax, label=f\"{ticker} µ={mean:.3f} vol={vol:.3f}\", alpha=.5)\n",
    "    plt.legend()\n",
    "    plt.title(f\"Compare volatility of daily returns\\n{start_date} to {end_date}\")\n",
    "    plt.tight_layout()"
   ]
  },
  {
   "cell_type": "markdown",
   "id": "italic-penguin",
   "metadata": {},
   "source": [
    "### Correlation of moving average returns"
   ]
  },
  {
   "cell_type": "code",
   "execution_count": 170,
   "id": "formal-punishment",
   "metadata": {
    "ExecuteTime": {
     "end_time": "2021-05-02T19:52:43.028714Z",
     "start_time": "2021-05-02T19:52:43.026088Z"
    }
   },
   "outputs": [],
   "source": [
    "start_date = '2019-04-27'\n",
    "end_date = '2019-12-31'\n",
    "ma_days = 50"
   ]
  },
  {
   "cell_type": "code",
   "execution_count": 171,
   "id": "indonesian-channels",
   "metadata": {
    "ExecuteTime": {
     "end_time": "2021-05-02T19:52:43.034771Z",
     "start_time": "2021-05-02T19:52:43.030344Z"
    }
   },
   "outputs": [],
   "source": [
    "# tickers = ['EC.PA', 'LFDE.PA', 'MAU.PA', 'CGG.PA', 'CLB.AS', 'FTI.PA', 'FUR.AS', 'GTT.PA', 'SBMO.AS', 'SLB.PA', 'TE.PA', 'VPK.AS', 'RDSA.AS', 'RDSB.AS', 'EURN.BR', 'EXM.BR', 'FLUX.BR', 'DPAM.PA', 'ES.PA']\n",
    "tickers = [\"VLTSA.PA\", \"SU.PA\", \"^FCHI\", \"^N100\"]"
   ]
  },
  {
   "cell_type": "code",
   "execution_count": 172,
   "id": "trained-terrorist",
   "metadata": {
    "ExecuteTime": {
     "end_time": "2021-05-02T19:52:43.339974Z",
     "start_time": "2021-05-02T19:52:43.036373Z"
    },
    "code_folding": []
   },
   "outputs": [
    {
     "data": {
      "image/png": "[encoded data removed]",
      "text/plain": [
       "<Figure size 720x576 with 2 Axes>"
      ]
     },
     "metadata": {},
     "output_type": "display_data"
    }
   ],
   "source": [
    "# Plot correlation of returns between group of tickers\n",
    "plot_corr_daily_returns(tickers, start_date, end_date, ma_days)"
   ]
  },
  {
   "cell_type": "markdown",
   "id": "driven-result",
   "metadata": {},
   "source": [
    "### Trade Recommendations"
   ]
  },
  {
   "cell_type": "code",
   "execution_count": 173,
   "id": "copyrighted-commission",
   "metadata": {
    "ExecuteTime": {
     "end_time": "2021-05-02T19:52:45.177316Z",
     "start_time": "2021-05-02T19:52:43.341702Z"
    },
    "code_folding": [
     0
    ]
   },
   "outputs": [],
   "source": [
    "# Create trade recommendations\n",
    "\n",
    "# Create moving averages\n",
    "rolling_20 = np.round(df_raw_prices.rolling(window=20, center=False).mean(), 2)\n",
    "rolling_50 = np.round(df_raw_prices.rolling(window=50, center=False).mean(), 2)\n",
    "\n",
    "# Creates df where if M.A.20 < M.A.50 then True else False\n",
    "rolling_diff = pd.DataFrame(np.where(rolling_20<rolling_50, True, False), columns=df_raw_prices.columns, index=df_raw_prices.index)\n",
    "\n",
    "# Apply following to rolling_diff dataframe:\n",
    "\n",
    "# If yesterday == True and today == False\n",
    "# Then \"Sell\"\n",
    "# Elif yesterday == False and today == True\n",
    "# Then \"Buy\"\n",
    "# Else None\n",
    "sell_opps = rolling_diff < rolling_diff.shift(periods=-1)\n",
    "buy_opps = rolling_diff > rolling_diff.shift(periods=-1)\n",
    "\n",
    "# Replace boolean values with \"Buy\"/\"Sell\" strings, then merge into single dataframe\n",
    "sell_opps.replace(to_replace=True, value=\"Sell\", inplace=True)\n",
    "sell_opps.replace(to_replace=False, value=np.nan, inplace=True)\n",
    "buy_opps.replace(to_replace=True, value=\"Buy\", inplace=True)\n",
    "buy_opps.replace(to_replace=False, value=np.nan, inplace=True)\n",
    "all_opps = sell_opps.mask(buy_opps==\"Buy\", buy_opps) # Merge buy_opps with sell_opps"
   ]
  },
  {
   "cell_type": "code",
   "execution_count": 174,
   "id": "dynamic-enclosure",
   "metadata": {
    "ExecuteTime": {
     "end_time": "2021-05-02T19:52:45.186978Z",
     "start_time": "2021-05-02T19:52:45.179205Z"
    },
    "code_folding": [
     0
    ]
   },
   "outputs": [
    {
     "data": {
      "text/plain": [
       "Date\n",
       "2019-08-08    Sell\n",
       "2019-09-13     Buy\n",
       "2020-03-11    Sell\n",
       "2020-05-05     Buy\n",
       "Name: SU.PA, dtype: object"
      ]
     },
     "execution_count": 174,
     "metadata": {},
     "output_type": "execute_result"
    }
   ],
   "source": [
    "# Get all historic recommendations for a given ticker\n",
    "ticker = \"SU.PA\"\n",
    "all_opps[ticker][~all_opps[ticker].isnull()]"
   ]
  },
  {
   "cell_type": "code",
   "execution_count": 175,
   "id": "variable-colonial",
   "metadata": {
    "ExecuteTime": {
     "end_time": "2021-05-02T19:52:45.191126Z",
     "start_time": "2021-05-02T19:52:45.188769Z"
    },
    "code_folding": [
     0
    ]
   },
   "outputs": [],
   "source": [
    "# Get historic price on particular date for particular ticker\n",
    "# df_raw_prices[ticker][\"2020-03-11\"]"
   ]
  },
  {
   "cell_type": "code",
   "execution_count": 176,
   "id": "desirable-decline",
   "metadata": {
    "ExecuteTime": {
     "end_time": "2021-05-02T19:52:45.197311Z",
     "start_time": "2021-05-02T19:52:45.192901Z"
    },
    "code_folding": [
     0
    ]
   },
   "outputs": [],
   "source": [
    "# Total counts\n",
    "# buy_opps\n",
    "# sell_opps\n",
    "# print(f\"There are {all_opps[all_opps=='Sell'].count().sum()} sell opportunities.\")\n",
    "# print(f\"There are {all_opps[all_opps=='Buy'].count().sum()} buy opportunities.\")\n",
    "# all_opps.count().sum() # Counts values that are neither NA or np.nan\n",
    "\n",
    "# all_opps[all_opps=='Sell'].loc[\"2021-04-26\"].count().sum()\n",
    "# all_opps[all_opps=='Buy'].loc[\"2021-04-26\"].count().sum()"
   ]
  },
  {
   "cell_type": "code",
   "execution_count": 195,
   "id": "sweet-trigger",
   "metadata": {
    "ExecuteTime": {
     "end_time": "2021-05-02T20:50:26.110863Z",
     "start_time": "2021-05-02T20:50:26.105488Z"
    }
   },
   "outputs": [],
   "source": [
    "opportunity_date = \"2021-04-29\""
   ]
  },
  {
   "cell_type": "code",
   "execution_count": 196,
   "id": "average-bunch",
   "metadata": {
    "ExecuteTime": {
     "end_time": "2021-05-02T20:50:26.537396Z",
     "start_time": "2021-05-02T20:50:26.529456Z"
    },
    "code_folding": [
     0
    ]
   },
   "outputs": [],
   "source": [
    "# Generate Buy and Sell recommendations\n",
    "recommend_buy = list(all_opps.loc[opportunity_date][all_opps.loc[opportunity_date]==\"Buy\"].index)\n",
    "recommend_sell = list(all_opps.loc[opportunity_date][all_opps.loc[opportunity_date]==\"Sell\"].index)"
   ]
  },
  {
   "cell_type": "code",
   "execution_count": 197,
   "id": "worldwide-expert",
   "metadata": {
    "ExecuteTime": {
     "end_time": "2021-05-02T20:50:26.747803Z",
     "start_time": "2021-05-02T20:50:26.739871Z"
    },
    "code_folding": [
     0,
     1
    ]
   },
   "outputs": [],
   "source": [
    "# Function to plot recommendations\n",
    "def plot_recommendation(ticker, start_date, end_date, ax):\n",
    "    \n",
    "    base = df_raw_prices.loc[start_date:end_date][ticker]\n",
    "    rolling_20 = np.round(base.rolling(window=20, center=False).mean(), 2)\n",
    "    rolling_50 = np.round(base.rolling(window=50, center=False).mean(), 2)\n",
    "    rolling_200 = np.round(base.rolling(window=200, center=False).mean(), 2)\n",
    "\n",
    "    ax = ax\n",
    "    ax.plot(base, label=\"Close\", linewidth=4, alpha=.2)\n",
    "    ax.plot(rolling_20, label=\"20d M.A.\", linestyle=\"dashed\", linewidth=2)\n",
    "    ax.plot(rolling_50, label=\"50d M.A.\", linestyle=\"dashed\", linewidth=2)\n",
    "    ax.plot(rolling_200, label=\"200d M.A.\", linestyle=\"dashed\", linewidth=2)\n",
    "    ax.set_ylabel(\"Close Price\")\n",
    "    ax.xaxis.set_major_locator(mdates.MonthLocator(interval=1))\n",
    "    ax.set_title(f\"{ticker}\")\n",
    "    plt.xticks(rotation=45)\n",
    "    plt.legend()\n",
    "    plt.grid()"
   ]
  },
  {
   "cell_type": "code",
   "execution_count": 198,
   "id": "composed-history",
   "metadata": {
    "ExecuteTime": {
     "end_time": "2021-05-02T20:50:28.194980Z",
     "start_time": "2021-05-02T20:50:27.250952Z"
    },
    "code_folding": [
     0
    ]
   },
   "outputs": [
    {
     "data": {
      "image/png": "[encoded data removed]",
      "text/plain": [
       "<Figure size 1080x504 with 3 Axes>"
      ]
     },
     "metadata": {},
     "output_type": "display_data"
    }
   ],
   "source": [
    "# Plot Buy recommendations\n",
    "if math.ceil(len(recommend_buy)/3) == 1:\n",
    "    height = (math.ceil(len(recommend_buy))/3*4)+3\n",
    "else:\n",
    "    height = (math.ceil(len(recommend_buy))/3*4)\n",
    "\n",
    "fig = plt.figure(figsize=(15, height))\n",
    "for buy in recommend_buy:\n",
    "    n = recommend_buy.index(buy)+1\n",
    "#     print(n)\n",
    "    ax = fig.add_subplot(math.ceil(len(recommend_buy)/3), 3, n)\n",
    "    plot_recommendation(buy, \"2021-01-01\", opportunity_date, ax=ax)\n",
    "plt.suptitle(f\"BUY RECOMMENDATIONS {opportunity_date}\\n\")\n",
    "plt.tight_layout()"
   ]
  },
  {
   "cell_type": "code",
   "execution_count": 199,
   "id": "approximate-secondary",
   "metadata": {
    "ExecuteTime": {
     "end_time": "2021-05-02T20:50:30.818987Z",
     "start_time": "2021-05-02T20:50:28.405507Z"
    },
    "code_folding": [
     0
    ]
   },
   "outputs": [
    {
     "data": {
      "image/png": "[encoded data removed]",
      "text/plain": [
       "<Figure size 1080x576 with 6 Axes>"
      ]
     },
     "metadata": {},
     "output_type": "display_data"
    }
   ],
   "source": [
    "# Plot Sell recommendations\n",
    "if math.ceil(len(recommend_sell)/3) == 1:\n",
    "    height = (math.ceil(len(recommend_sell))/3*4)+3\n",
    "else:\n",
    "    height = (math.ceil(len(recommend_sell))/3*4)\n",
    "\n",
    "fig = plt.figure(figsize=(15,height))\n",
    "for sell in recommend_sell:\n",
    "    n = recommend_sell.index(sell)+1\n",
    "#     print(n)\n",
    "    ax = fig.add_subplot(math.ceil(len(recommend_sell)/3), 3, n)\n",
    "    plot_recommendation(sell, \"2021-01-01\", opportunity_date, ax=ax)\n",
    "plt.suptitle(f\"SELL RECOMMENDATIONS {opportunity_date}\\n\")\n",
    "plt.tight_layout()"
   ]
  },
  {
   "cell_type": "markdown",
   "id": "thirty-access",
   "metadata": {},
   "source": [
    "### Back-test trading strategy"
   ]
  },
  {
   "cell_type": "code",
   "execution_count": 182,
   "id": "raising-dietary",
   "metadata": {
    "ExecuteTime": {
     "end_time": "2021-05-02T19:52:48.224705Z",
     "start_time": "2021-05-02T19:52:48.208748Z"
    },
    "code_folding": [
     2
    ]
   },
   "outputs": [],
   "source": [
    "# Function to run Back-testing\n",
    "\n",
    "def run_backtest(start_date, end_date):\n",
    "\n",
    "    # Generate Buy trades\n",
    "    index = all_opps.index\n",
    "    buy_trades = {}\n",
    "    for ticker in all_opps.columns:\n",
    "        condition = all_opps[ticker] == \"Buy\"\n",
    "        buy_indices = index[condition]\n",
    "        buy_indices_list = buy_indices.tolist()\n",
    "        buy_ind_dates = [str(ts.year) + \"-\" + str(ts.month) + \"-\" + str(ts.day) for ts in buy_indices_list]\n",
    "        df_raw_prices.loc[buy_ind_dates][ticker]\n",
    "        buy_prices = list(df_raw_prices.loc[buy_ind_dates][ticker].values)\n",
    "        buy_trades[ticker] = list(zip(buy_ind_dates, buy_prices))\n",
    "\n",
    "    # Generate Sell trades\n",
    "    index = all_opps.index\n",
    "    sell_trades = {}\n",
    "    for ticker in all_opps.columns:\n",
    "        condition = all_opps[ticker] == \"Sell\"\n",
    "        sell_indices = index[condition]\n",
    "        sell_indices_list = sell_indices.tolist()\n",
    "        sell_ind_dates = [str(ts.year) + \"-\" + str(ts.month) + \"-\" + str(ts.day) for ts in sell_indices_list]\n",
    "        df_raw_prices.loc[sell_ind_dates][ticker]\n",
    "        sell_prices = list(df_raw_prices.loc[sell_ind_dates][ticker].values)\n",
    "        sell_trades[ticker] = list(zip(sell_ind_dates, sell_prices))\n",
    "\n",
    "    # Apply strategy and calculate p&l per ticker:\n",
    "\n",
    "    profits_losses = []\n",
    "\n",
    "    for ticker in df_raw_prices.columns.to_list()[:-2]: # -2 to exclude the indices CAC40 and Euronext\n",
    "    # for ticker in df_raw_prices.columns.to_list()[650:655]: # for testing use the first (tickers)\n",
    "    #     print(\"=\" * 72)\n",
    "    #     print(ticker)\n",
    "        buy_dates = [datetime.strptime(trade[0], \"%Y-%m-%d\").date() for trade in buy_trades[ticker]]\n",
    "        sell_dates = [datetime.strptime(trade[0], \"%Y-%m-%d\").date() for trade in sell_trades[ticker]]\n",
    "        all_dates = buy_dates + sell_dates\n",
    "        \n",
    "#         print(type(all_dates[0]))\n",
    "        \n",
    "        direction = [-1 for date in buy_dates] + [1 for date in sell_dates]\n",
    "        buy_close = [trade[1] for trade in buy_trades[ticker]]\n",
    "        sell_close = [trade[1] for trade in sell_trades[ticker]]\n",
    "        all_close = buy_close + sell_close\n",
    "        df_executions = pd.DataFrame({\n",
    "            \"Direction\": direction,\n",
    "            \"Close\": all_close,\n",
    "        }, index=all_dates)\n",
    "        df_executions.sort_index(inplace=True)\n",
    "        df_executions[\"Cashflow\"] = df_executions[\"Direction\"] * df_executions[\"Close\"]\n",
    "        \n",
    "        # Keep executions only within the prescribed date range we are running the backtest for:\n",
    "        s = pd.to_datetime(start_date).date()\n",
    "        e = pd.to_datetime(end_date).date()\n",
    "        df_executions = df_executions[s:e]\n",
    "        \n",
    "    #     try:\n",
    "    #         print(\"First\", df_executions.iloc[0][\"Direction\"])\n",
    "    #     except:\n",
    "    #         pass\n",
    "    #     try:\n",
    "    #         print(\"Last,\", df_executions.iloc[len(df_executions)-1][\"Direction\"])\n",
    "    #     except:\n",
    "    #         pass\n",
    "\n",
    "        # Execution Rules\n",
    "        # ---------------\n",
    "        # Always start with a Buy and always end with a Sell. Avoid short selling and unrealised p&l.\n",
    "\n",
    "        try:\n",
    "            # Drop first row if its a Sell\n",
    "            if df_executions.iloc[0][\"Direction\"] == 1:\n",
    "                df_executions.drop(df_executions.index[0], inplace=True, axis=0)\n",
    "        except:\n",
    "            pass\n",
    "\n",
    "        try:\n",
    "            # Drop last row if its a Buy\n",
    "            if df_executions.iloc[len(df_executions)-1][\"Direction\"] == -1:\n",
    "                df_executions.drop(df_executions.index[len(df_executions)-1], inplace=True, axis=0)\n",
    "        except:\n",
    "            pass\n",
    "\n",
    "    #     print(df_executions)\n",
    "        ticker_pnl = df_executions[\"Cashflow\"].sum()\n",
    "        profits_losses.append(ticker_pnl)\n",
    "    \n",
    "    df_Backtest_Results = pd.DataFrame({\n",
    "        \"Back-test PnL\":profits_losses,\n",
    "    }, index=df_raw_prices.columns[:-2])\n",
    "    \n",
    "    return df_Backtest_Results, df_executions\n",
    "    "
   ]
  },
  {
   "cell_type": "code",
   "execution_count": 183,
   "id": "executed-bulgarian",
   "metadata": {
    "ExecuteTime": {
     "end_time": "2021-05-02T19:52:54.580872Z",
     "start_time": "2021-05-02T19:52:48.226421Z"
    }
   },
   "outputs": [],
   "source": [
    "# Generate backtest results\n",
    "start_date = \"2019-01-01\"\n",
    "end_date = \"2021-12-31\"\n",
    "\n",
    "df_Backtest_Results, df_executions = run_backtest(start_date, end_date)"
   ]
  },
  {
   "cell_type": "code",
   "execution_count": 184,
   "id": "driving-participant",
   "metadata": {
    "ExecuteTime": {
     "end_time": "2021-05-02T19:52:54.586518Z",
     "start_time": "2021-05-02T19:52:54.582513Z"
    }
   },
   "outputs": [],
   "source": [
    "# df_executions"
   ]
  },
  {
   "cell_type": "code",
   "execution_count": 185,
   "id": "unlimited-darwin",
   "metadata": {
    "ExecuteTime": {
     "end_time": "2021-05-02T19:52:54.598227Z",
     "start_time": "2021-05-02T19:52:54.588169Z"
    }
   },
   "outputs": [
    {
     "data": {
      "text/html": [
       "<div>\n",
       "<style scoped>\n",
       "    .dataframe tbody tr th:only-of-type {\n",
       "        vertical-align: middle;\n",
       "    }\n",
       "\n",
       "    .dataframe tbody tr th {\n",
       "        vertical-align: top;\n",
       "    }\n",
       "\n",
       "    .dataframe thead th {\n",
       "        text-align: right;\n",
       "    }\n",
       "</style>\n",
       "<table border=\"1\" class=\"dataframe\">\n",
       "  <thead>\n",
       "    <tr style=\"text-align: right;\">\n",
       "      <th></th>\n",
       "      <th>Back-test PnL</th>\n",
       "    </tr>\n",
       "  </thead>\n",
       "  <tbody>\n",
       "    <tr>\n",
       "      <th>MONC.PA</th>\n",
       "      <td>1039.700195</td>\n",
       "    </tr>\n",
       "    <tr>\n",
       "      <th>ADYEN.AS</th>\n",
       "      <td>845.000000</td>\n",
       "    </tr>\n",
       "    <tr>\n",
       "      <th>BGHS.AS</th>\n",
       "      <td>305.000000</td>\n",
       "    </tr>\n",
       "    <tr>\n",
       "      <th>MALT.PA</th>\n",
       "      <td>289.488281</td>\n",
       "    </tr>\n",
       "    <tr>\n",
       "      <th>FLOB.BR</th>\n",
       "      <td>236.480014</td>\n",
       "    </tr>\n",
       "    <tr>\n",
       "      <th>...</th>\n",
       "      <td>...</td>\n",
       "    </tr>\n",
       "    <tr>\n",
       "      <th>EPCP.PA</th>\n",
       "      <td>-139.800049</td>\n",
       "    </tr>\n",
       "    <tr>\n",
       "      <th>CBDG.PA</th>\n",
       "      <td>-147.142578</td>\n",
       "    </tr>\n",
       "    <tr>\n",
       "      <th>RBT.PA</th>\n",
       "      <td>-151.287659</td>\n",
       "    </tr>\n",
       "    <tr>\n",
       "      <th>AM.PA</th>\n",
       "      <td>-453.000000</td>\n",
       "    </tr>\n",
       "    <tr>\n",
       "      <th>ARTO.PA</th>\n",
       "      <td>-487.291504</td>\n",
       "    </tr>\n",
       "  </tbody>\n",
       "</table>\n",
       "<p>704 rows × 1 columns</p>\n",
       "</div>"
      ],
      "text/plain": [
       "          Back-test PnL\n",
       "MONC.PA     1039.700195\n",
       "ADYEN.AS     845.000000\n",
       "BGHS.AS      305.000000\n",
       "MALT.PA      289.488281\n",
       "FLOB.BR      236.480014\n",
       "...                 ...\n",
       "EPCP.PA     -139.800049\n",
       "CBDG.PA     -147.142578\n",
       "RBT.PA      -151.287659\n",
       "AM.PA       -453.000000\n",
       "ARTO.PA     -487.291504\n",
       "\n",
       "[704 rows x 1 columns]"
      ]
     },
     "execution_count": 185,
     "metadata": {},
     "output_type": "execute_result"
    }
   ],
   "source": [
    "df_Backtest_Results.sort_values(by=\"Back-test PnL\", ascending=False)"
   ]
  },
  {
   "cell_type": "code",
   "execution_count": 186,
   "id": "round-franklin",
   "metadata": {
    "ExecuteTime": {
     "end_time": "2021-05-02T19:52:54.611980Z",
     "start_time": "2021-05-02T19:52:54.599975Z"
    }
   },
   "outputs": [
    {
     "data": {
      "text/html": [
       "<div>\n",
       "<style scoped>\n",
       "    .dataframe tbody tr th:only-of-type {\n",
       "        vertical-align: middle;\n",
       "    }\n",
       "\n",
       "    .dataframe tbody tr th {\n",
       "        vertical-align: top;\n",
       "    }\n",
       "\n",
       "    .dataframe thead th {\n",
       "        text-align: right;\n",
       "    }\n",
       "</style>\n",
       "<table border=\"1\" class=\"dataframe\">\n",
       "  <thead>\n",
       "    <tr style=\"text-align: right;\">\n",
       "      <th></th>\n",
       "      <th>Back-test PnL</th>\n",
       "    </tr>\n",
       "  </thead>\n",
       "  <tbody>\n",
       "    <tr>\n",
       "      <th>count</th>\n",
       "      <td>704.000000</td>\n",
       "    </tr>\n",
       "    <tr>\n",
       "      <th>mean</th>\n",
       "      <td>4.386320</td>\n",
       "    </tr>\n",
       "    <tr>\n",
       "      <th>std</th>\n",
       "      <td>64.245317</td>\n",
       "    </tr>\n",
       "    <tr>\n",
       "      <th>min</th>\n",
       "      <td>-487.291504</td>\n",
       "    </tr>\n",
       "    <tr>\n",
       "      <th>25%</th>\n",
       "      <td>-1.234172</td>\n",
       "    </tr>\n",
       "    <tr>\n",
       "      <th>50%</th>\n",
       "      <td>0.059104</td>\n",
       "    </tr>\n",
       "    <tr>\n",
       "      <th>75%</th>\n",
       "      <td>3.119948</td>\n",
       "    </tr>\n",
       "    <tr>\n",
       "      <th>max</th>\n",
       "      <td>1039.700195</td>\n",
       "    </tr>\n",
       "  </tbody>\n",
       "</table>\n",
       "</div>"
      ],
      "text/plain": [
       "       Back-test PnL\n",
       "count     704.000000\n",
       "mean        4.386320\n",
       "std        64.245317\n",
       "min      -487.291504\n",
       "25%        -1.234172\n",
       "50%         0.059104\n",
       "75%         3.119948\n",
       "max      1039.700195"
      ]
     },
     "execution_count": 186,
     "metadata": {},
     "output_type": "execute_result"
    }
   ],
   "source": [
    "df_Backtest_Results.describe()"
   ]
  },
  {
   "cell_type": "code",
   "execution_count": 187,
   "id": "pharmaceutical-thermal",
   "metadata": {
    "ExecuteTime": {
     "end_time": "2021-05-02T19:52:54.618442Z",
     "start_time": "2021-05-02T19:52:54.613594Z"
    }
   },
   "outputs": [
    {
     "data": {
      "text/plain": [
       "Back-test PnL    3087.969583\n",
       "dtype: float64"
      ]
     },
     "execution_count": 187,
     "metadata": {},
     "output_type": "execute_result"
    }
   ],
   "source": [
    "df_Backtest_Results.sum()"
   ]
  },
  {
   "cell_type": "code",
   "execution_count": 188,
   "id": "careful-brazil",
   "metadata": {
    "ExecuteTime": {
     "end_time": "2021-05-02T19:52:55.270828Z",
     "start_time": "2021-05-02T19:52:54.620159Z"
    }
   },
   "outputs": [
    {
     "data": {
      "text/plain": [
       "array([[<AxesSubplot:title={'center':'Back-test PnL'}>]], dtype=object)"
      ]
     },
     "execution_count": 188,
     "metadata": {},
     "output_type": "execute_result"
    },
    {
     "data": {
      "image/png": "[encoded data removed]",
      "text/plain": [
       "<Figure size 720x432 with 1 Axes>"
      ]
     },
     "metadata": {},
     "output_type": "display_data"
    }
   ],
   "source": [
    "df_Backtest_Results.hist(bins=100, log=True, figsize=(10, 6), alpha=.5)"
   ]
  },
  {
   "cell_type": "code",
   "execution_count": 189,
   "id": "humanitarian-subscription",
   "metadata": {
    "ExecuteTime": {
     "end_time": "2021-05-02T19:52:55.278205Z",
     "start_time": "2021-05-02T19:52:55.272554Z"
    }
   },
   "outputs": [
    {
     "data": {
      "text/plain": [
       "Back-test PnL    11.289999\n",
       "Name: VLTSA.PA, dtype: float64"
      ]
     },
     "execution_count": 189,
     "metadata": {},
     "output_type": "execute_result"
    }
   ],
   "source": [
    "df_Backtest_Results.loc[\"VLTSA.PA\"]"
   ]
  },
  {
   "cell_type": "code",
   "execution_count": null,
   "id": "detailed-bacteria",
   "metadata": {},
   "outputs": [],
   "source": []
  },
  {
   "cell_type": "markdown",
   "id": "sorted-gamma",
   "metadata": {
    "heading_collapsed": true
   },
   "source": [
    "### Test widgets"
   ]
  },
  {
   "cell_type": "markdown",
   "id": "southeast-sandwich",
   "metadata": {
    "heading_collapsed": true,
    "hidden": true
   },
   "source": [
    "#### Test 1: single widgets"
   ]
  },
  {
   "cell_type": "code",
   "execution_count": null,
   "id": "unlikely-gates",
   "metadata": {
    "ExecuteTime": {
     "end_time": "2021-04-27T21:30:53.428495Z",
     "start_time": "2021-04-27T21:30:53.425765Z"
    },
    "code_folding": [
     0
    ],
    "hidden": true
   },
   "outputs": [],
   "source": [
    "def print_value(myvalue):\n",
    "    print(f\"The current value is: {myvalue}\")"
   ]
  },
  {
   "cell_type": "code",
   "execution_count": null,
   "id": "loose-worthy",
   "metadata": {
    "ExecuteTime": {
     "end_time": "2021-04-27T21:30:53.454114Z",
     "start_time": "2021-04-27T21:30:53.430273Z"
    },
    "hidden": true
   },
   "outputs": [],
   "source": [
    "widgets.interact(print_value, myvalue=[1, 2, 3, 4, 5]) # use list to create dropdown"
   ]
  },
  {
   "cell_type": "code",
   "execution_count": null,
   "id": "interpreted-interaction",
   "metadata": {
    "ExecuteTime": {
     "end_time": "2021-04-27T21:30:53.479122Z",
     "start_time": "2021-04-27T21:30:53.455595Z"
    },
    "hidden": true
   },
   "outputs": [],
   "source": [
    "widgets.interact(print_value, myvalue=(0, 10, 1)) # use tuple to create number slider"
   ]
  },
  {
   "cell_type": "code",
   "execution_count": null,
   "id": "dental-stream",
   "metadata": {
    "ExecuteTime": {
     "end_time": "2021-04-27T21:30:53.504848Z",
     "start_time": "2021-04-27T21:30:53.480627Z"
    },
    "hidden": true
   },
   "outputs": [],
   "source": [
    "widgets.interact(print_value, myvalue=(0, 10, .5)) # for decimal values"
   ]
  },
  {
   "cell_type": "code",
   "execution_count": null,
   "id": "completed-service",
   "metadata": {
    "ExecuteTime": {
     "end_time": "2021-04-27T21:30:53.530044Z",
     "start_time": "2021-04-27T21:30:53.506597Z"
    },
    "hidden": true
   },
   "outputs": [],
   "source": [
    "widgets.interact(print_value, myvalue=True) # for boolean"
   ]
  },
  {
   "cell_type": "code",
   "execution_count": null,
   "id": "weird-queen",
   "metadata": {
    "ExecuteTime": {
     "end_time": "2021-04-27T21:30:53.543154Z",
     "start_time": "2021-04-27T21:30:53.531671Z"
    },
    "code_folding": [
     0
    ],
    "hidden": true
   },
   "outputs": [],
   "source": [
    "# Multiselect dropdown. Use shift or ctrl to select multiple values\n",
    "w = widgets.SelectMultiple(\n",
    "    options=['Apples', 'Oranges', 'Pears'],\n",
    "    value=['Oranges'],\n",
    "    #rows=10,\n",
    "    description='Fruits',\n",
    "    disabled=False\n",
    ")\n",
    "w"
   ]
  },
  {
   "cell_type": "code",
   "execution_count": null,
   "id": "sixth-stocks",
   "metadata": {
    "ExecuteTime": {
     "end_time": "2021-04-27T21:30:53.547935Z",
     "start_time": "2021-04-27T21:30:53.544937Z"
    },
    "hidden": true
   },
   "outputs": [],
   "source": [
    "print(w.value)"
   ]
  },
  {
   "cell_type": "markdown",
   "id": "exciting-charger",
   "metadata": {
    "heading_collapsed": true,
    "hidden": true
   },
   "source": [
    "#### Test 2: multiple widgets"
   ]
  },
  {
   "cell_type": "code",
   "execution_count": null,
   "id": "mature-automation",
   "metadata": {
    "ExecuteTime": {
     "end_time": "2021-04-27T21:30:53.552998Z",
     "start_time": "2021-04-27T21:30:53.549622Z"
    },
    "hidden": true
   },
   "outputs": [],
   "source": [
    "def three_variables(x, y, z):\n",
    "    return (x, y, z)"
   ]
  },
  {
   "cell_type": "code",
   "execution_count": null,
   "id": "brave-triumph",
   "metadata": {
    "ExecuteTime": {
     "end_time": "2021-04-27T21:30:53.593420Z",
     "start_time": "2021-04-27T21:30:53.554688Z"
    },
    "hidden": true
   },
   "outputs": [],
   "source": [
    "_ = widgets.interact(\n",
    "    three_variables,\n",
    "    x=[\"Blue\", \"Green\", \"Black\"],\n",
    "    y=(1, 5, 1),\n",
    "    z=True,\n",
    ")"
   ]
  },
  {
   "cell_type": "markdown",
   "id": "synthetic-minutes",
   "metadata": {
    "ExecuteTime": {
     "end_time": "2021-04-27T12:50:00.904026Z",
     "start_time": "2021-04-27T12:50:00.897692Z"
    },
    "heading_collapsed": true,
    "hidden": true
   },
   "source": [
    "#### Fixed variables"
   ]
  },
  {
   "cell_type": "code",
   "execution_count": null,
   "id": "covered-accreditation",
   "metadata": {
    "ExecuteTime": {
     "end_time": "2021-04-27T21:30:53.625915Z",
     "start_time": "2021-04-27T21:30:53.595090Z"
    },
    "hidden": true
   },
   "outputs": [],
   "source": [
    "_ = widgets.interact(\n",
    "    three_variables,\n",
    "    x=[\"Blue\", \"Green\", \"Black\"],\n",
    "    y=(1, 5, 1),\n",
    "    z=widgets.fixed(\"I am fixed\"),\n",
    ")"
   ]
  },
  {
   "cell_type": "markdown",
   "id": "european-symphony",
   "metadata": {
    "hidden": true
   },
   "source": [
    "   #### Create widgets with decorators"
   ]
  },
  {
   "cell_type": "code",
   "execution_count": null,
   "id": "italian-financing",
   "metadata": {
    "ExecuteTime": {
     "end_time": "2021-04-27T21:30:53.719857Z",
     "start_time": "2021-04-27T21:30:53.627608Z"
    },
    "hidden": true
   },
   "outputs": [],
   "source": [
    "@widgets.interact(x=(0, 10, 1), y=[\"a\", \"b\", \"c\"])\n",
    "def print_slider_val(x, y):\n",
    "    print(f\"Slider says: {x}. Dropdown says: {y}\")"
   ]
  },
  {
   "cell_type": "markdown",
   "id": "banned-travel",
   "metadata": {
    "heading_collapsed": true,
    "hidden": true
   },
   "source": [
    "#### Create one of my charts"
   ]
  },
  {
   "cell_type": "code",
   "execution_count": null,
   "id": "binary-manchester",
   "metadata": {
    "ExecuteTime": {
     "end_time": "2021-04-27T21:30:54.053517Z",
     "start_time": "2021-04-27T21:30:53.721669Z"
    },
    "hidden": true
   },
   "outputs": [],
   "source": [
    "ticker_list = list(df_raw_prices.columns)\n",
    "ticker_list.sort()\n",
    "@widgets.interact(\n",
    "    ticker=ticker_list,\n",
    "    start_date=widgets.Text(value=\"2020-01-01\", description=\"start date\", continuous_update=False),\n",
    "    end_date=widgets.Text(value=\"2020-12-31\", description=\"end date\", continuous_update=False),\n",
    ")\n",
    "def plot_ticker(ticker, start_date, end_date):\n",
    "    df_raw_prices.loc[start_date:end_date][ticker].plot()\n",
    "    plt.title(ticker)"
   ]
  },
  {
   "cell_type": "code",
   "execution_count": null,
   "id": "needed-recycling",
   "metadata": {
    "hidden": true
   },
   "outputs": [],
   "source": []
  }
 ],
 "metadata": {
  "kernelspec": {
   "display_name": "conda_python3",
   "language": "python",
   "name": "conda_python3"
  },
  "language_info": {
   "codemirror_mode": {
    "name": "ipython",
    "version": 3
   },
   "file_extension": ".py",
   "mimetype": "text/x-python",
   "name": "python",
   "nbconvert_exporter": "python",
   "pygments_lexer": "ipython3",
   "version": "3.6.13"
  },
  "toc": {
   "base_numbering": 1,
   "nav_menu": {},
   "number_sections": true,
   "sideBar": true,
   "skip_h1_title": false,
   "title_cell": "Table of Contents",
   "title_sidebar": "Contents",
   "toc_cell": false,
   "toc_position": {
    "height": "calc(100% - 180px)",
    "left": "10px",
    "top": "150px",
    "width": "273.797px"
   },
   "toc_section_display": true,
   "toc_window_display": true
  },
  "toc-autonumbering": false,
  "toc-showcode": false,
  "toc-showmarkdowntxt": false,
  "varInspector": {
   "cols": {
    "lenName": 16,
    "lenType": 16,
    "lenVar": 40
   },
   "kernels_config": {
    "python": {
     "delete_cmd_postfix": "",
     "delete_cmd_prefix": "del ",
     "library": "var_list.py",
     "varRefreshCmd": "print(var_dic_list())"
    },
    "r": {
     "delete_cmd_postfix": ") ",
     "delete_cmd_prefix": "rm(",
     "library": "var_list.r",
     "varRefreshCmd": "cat(var_dic_list()) "
    }
   },
   "types_to_exclude": [
    "module",
    "function",
    "builtin_function_or_method",
    "instance",
    "_Feature"
   ],
   "window_display": false
  }
 },
 "nbformat": 4,
 "nbformat_minor": 5
}
