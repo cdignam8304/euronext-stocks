{
 "cells": [
  {
   "cell_type": "markdown",
   "id": "c6a384c2",
   "metadata": {},
   "source": [
    "<div style=\"font-size: 32px; color: gray; font-weight: bold; text-align: center;\">Stock Analysis</div>"
   ]
  },
  {
   "cell_type": "markdown",
   "id": "964e8ee8",
   "metadata": {},
   "source": [
    "---"
   ]
  },
  {
   "cell_type": "markdown",
   "id": "0304ca8f",
   "metadata": {},
   "source": [
    "## Investment Ratios"
   ]
  },
  {
   "cell_type": "markdown",
   "id": "2bc32c27",
   "metadata": {},
   "source": [
    "### Price-earnings ratio"
   ]
  },
  {
   "cell_type": "markdown",
   "id": "df91795e",
   "metadata": {},
   "source": [
    "Divide a company's share price by its annual earnings per share to calculate the P/E ratio. This ratio shows how much investors are willing to pay for $1 of a company's earnings. \"It is probably the best way of comparing assets in different sectors and of finding true bargains,\" says Steven Jon Kaplan, CEO of True Contrarian Investments. Higher P/E ratios suggest a company's future earnings are expected to grow and may appear overvalued compared with companies with lower P/Es. That said, a high or low P/E doesn't necessarily indicate a good or bad investment; it offers a snapshot that begs additional inquiry. Given the uncertainty of future cash flows, it can be helpful for investors to rely on historical P/Es and use a mix of other ratios to evaluate and pick stocks."
   ]
  },
  {
   "cell_type": "markdown",
   "id": "2971db31",
   "metadata": {},
   "source": [
    "### Price-sales ratio"
   ]
  },
  {
   "cell_type": "markdown",
   "id": "03a6be4f",
   "metadata": {},
   "source": [
    "Robert Johnson, professor of finance at Creighton University in Omaha, Nebraska, touts the benefits of calculating a stock's price divided by sales per share, commonly referred to as the price-to-sales ratio. \"The price-to-sales ratio is used by analysts who want to eliminate some of the distortions that can result in company earnings,\" Johnson says. It's a useful ratio to determine whether a company has earnings, cash flow or even positive book value since sales is always a positive number. A lower ratio suggests you've found a bargain, or a value stock. Industry consensus says lower P/S stocks have better value because investors are paying less for every dollar of a company's revenues. P/S ratio values can vary across sectors, so to best assess a company's P/S, compare it with industry peers."
   ]
  },
  {
   "cell_type": "markdown",
   "id": "bd21c29f",
   "metadata": {},
   "source": [
    "### Profit margin ratio"
   ]
  },
  {
   "cell_type": "markdown",
   "id": "1948b5a6",
   "metadata": {},
   "source": [
    "This is the amount of profit a company makes for every unit of sales. Investors calculate this ratio by dividing net profit over revenue. Profit margins are unique to an industry – with grocery chains known for low profit margins, while software companies can claim double-digit ratios. But this information doesn't necessarily mean that it's better to buy a software company than a grocery store stock. A high profit margin means a business can offer products priced higher than its costs, yielding profits through effective pricing strategies. A low profit margin may mean there are inefficient pricing strategies, where a business cannot produce enough profit to cover expenses. Any stock could be a winner with a growing revenue stream and steady profit margins."
   ]
  },
  {
   "cell_type": "markdown",
   "id": "68406c5e",
   "metadata": {},
   "source": [
    "### Dividend payout ratio"
   ]
  },
  {
   "cell_type": "markdown",
   "id": "a4c8f390",
   "metadata": {},
   "source": [
    "Companies with rising dividend payments are favored by John Robinson, owner and founder of Nest Egg Guru in Hawaii. The dividend payout ratio is the percentage of net income paid to investors in the form of dividends. This ratio tells investors how much earnings are paid out in dividends versus how much is reinvested back into the company. The higher the percentage, the less money remains to reinvest back into growing the company. \"Companies that pay out less than 60% of their earnings as dividends tend to have room for further dividend increases and the ability to withstand temporary earnings downturns without having to reduce or eliminate dividend payments,\" he says."
   ]
  },
  {
   "cell_type": "markdown",
   "id": "340b2497",
   "metadata": {},
   "source": [
    "### Price-free cash flow ratio"
   ]
  },
  {
   "cell_type": "markdown",
   "id": "3db76373",
   "metadata": {},
   "source": [
    "Tim Parker, a partner at Regency Wealth Management in New York City, reveres free cash flow because that is the amount of money left over after a company reinvests in the business to pay dividends, buy back shares or make acquisitions. To determine price-free cash flow, divide the company's share price by the operating free cash flow per share. The ratio measures how much cash a company earns for each share of stock. Investors want to search for companies with growing free cash flow that are selling at a bargain. Parker favors this ratio since free cash flow is harder to manipulate than earnings. A lower ratio indicates a company may be undervalued, while a higher ratio may signal overvaluation."
   ]
  },
  {
   "cell_type": "markdown",
   "id": "83763cd3",
   "metadata": {},
   "source": [
    "### Debit-equity ratio\n"
   ]
  },
  {
   "cell_type": "markdown",
   "id": "ae5fa6cd",
   "metadata": {},
   "source": [
    "Valuation ratios are important, but so are quality measures, such as debt and liquidity metrics. Divide a company's total liabilities by its shareholder equity to compute the debt-equity ratio. This ratio explains a company's financial leverage, the comparison between borrowed funds and equity or ownership. Think of this ratio like a homeowner's mortgage value versus principal on the home. A greater proportion of debt constrains a company's flexibility to grow as more revenue is directed to pay debt costs. Like most ratios, compare the debt-equity ratio to those of other industry members, as some sectors, such as utilities, have higher typical debt ratios compared with others."
   ]
  },
  {
   "cell_type": "markdown",
   "id": "35e9930f",
   "metadata": {},
   "source": [
    "### Quick and current ratios\n"
   ]
  },
  {
   "cell_type": "markdown",
   "id": "278b95bc",
   "metadata": {},
   "source": [
    "Sameer Samana, global equity and technical strategist at Wells Fargo Investment Institute in St. Louis, recommends examining the quick ratio and current ratio. These liquidity ratios measure if a company has enough working capital to handle potential downturns and financial setbacks. The current ratio divides current assets by current liabilities to measure how much cash a company has on hand to pay short-term obligations within a year. The quick ratio sums cash, marketable securities and accounts receivables and divides this sum by current liabilities. Higher numbers for these ratios suggest greater liquidity, while lower ratios may suggest a company cannot meet short-term obligations."
   ]
  },
  {
   "cell_type": "markdown",
   "id": "05ed184c",
   "metadata": {},
   "source": [
    "### EBITDA-to-sales ratio"
   ]
  },
  {
   "cell_type": "markdown",
   "id": "7b7d05a6",
   "metadata": {
    "ExecuteTime": {
     "end_time": "2021-05-15T13:19:32.800320Z",
     "start_time": "2021-05-15T13:19:32.795361Z"
    }
   },
   "source": [
    "This metric is the company's EBITDA – which is an abbreviation for earnings before interest, taxes, depreciation and amortization – divided by its net sales. This ratio is used to evaluate a company's overall profitability or earnings before expenses, by comparing revenue with earnings. \"The stability of EBITDA typically determines investors' appetite for the amount of debt it believes the business should have,\" says Bryan Lee, chief investment officer at Blue Zone Wealth Advisors in Los Angeles. \"A more levered company brings higher volatility for how the equity trades. This volatility can amplify returns on the upside but also to the downside,\" he says. EBITDA margin offers a transparent view into business operations by eliminating noncash or nonoperating expenses like interest costs, taxes and depreciation that may dim profits, giving a more precise view of a company's profitability."
   ]
  },
  {
   "cell_type": "markdown",
   "id": "8767346d",
   "metadata": {},
   "source": [
    "## Libraries"
   ]
  },
  {
   "cell_type": "code",
   "execution_count": 1,
   "id": "0f00aa38",
   "metadata": {
    "ExecuteTime": {
     "end_time": "2021-05-18T20:41:01.596790Z",
     "start_time": "2021-05-18T20:41:00.483350Z"
    },
    "code_folding": [
     0
    ],
    "run_control": {
     "marked": false
    }
   },
   "outputs": [],
   "source": [
    "# Libraries\n",
    "# import yfinance as yf\n",
    "from matplotlib import pyplot as plt\n",
    "from matplotlib.ticker import (MultipleLocator, AutoMinorLocator)\n",
    "import matplotlib.dates as mdates\n",
    "%matplotlib inline\n",
    "import seaborn as sns; sns.set_theme(color_codes=True)\n",
    "import pandas as pd\n",
    "import numpy as np\n",
    "import boto3\n",
    "from io import StringIO\n",
    "from sagemaker import get_execution_role\n",
    "import warnings\n",
    "warnings.filterwarnings(\"ignore\")\n",
    "import pickle\n",
    "from scipy import stats\n",
    "plt.style.use('seaborn-white')\n",
    "import numpy as np\n",
    "import math\n",
    "import ipywidgets as widgets\n",
    "from datetime import datetime"
   ]
  },
  {
   "cell_type": "code",
   "execution_count": 2,
   "id": "4aa63e17",
   "metadata": {
    "ExecuteTime": {
     "end_time": "2021-05-18T20:41:01.604706Z",
     "start_time": "2021-05-18T20:41:01.598567Z"
    },
    "code_folding": [],
    "run_control": {
     "marked": false
    }
   },
   "outputs": [],
   "source": [
    "# print(plt.style.available)"
   ]
  },
  {
   "cell_type": "markdown",
   "id": "686317c9",
   "metadata": {},
   "source": [
    "## Get data"
   ]
  },
  {
   "cell_type": "markdown",
   "id": "d4c60303",
   "metadata": {},
   "source": [
    "### Retrieve ticker info data from s3"
   ]
  },
  {
   "cell_type": "code",
   "execution_count": 3,
   "id": "0135485d",
   "metadata": {
    "ExecuteTime": {
     "end_time": "2021-05-18T20:41:01.770017Z",
     "start_time": "2021-05-18T20:41:01.607061Z"
    },
    "code_folding": [
     0
    ],
    "run_control": {
     "marked": false
    }
   },
   "outputs": [],
   "source": [
    "# Read ticker_info from s3\n",
    "\n",
    "s3 = boto3.client(\"s3\")\n",
    "\n",
    "#Read the object stored in key 'myList001'\n",
    "# object = s3.get_object(Bucket=\"euronext-stocks\", Key=\"ticker_info\")\n",
    "object = s3.get_object(Bucket=\"euronext-stocks\", Key=\"ticker_info_cac40\")\n",
    "# object = s3.get_object(Bucket=\"euronext-stocks\", Key=\"ticker_info_test\")\n",
    "serializedObject = object['Body'].read()\n",
    "ticker_info = pickle.loads(serializedObject) # Deserialize the retrieved object"
   ]
  },
  {
   "cell_type": "code",
   "execution_count": 4,
   "id": "cc88db1b",
   "metadata": {
    "ExecuteTime": {
     "end_time": "2021-05-18T20:41:01.801225Z",
     "start_time": "2021-05-18T20:41:01.772017Z"
    },
    "code_folding": [
     0
    ],
    "scrolled": true
   },
   "outputs": [
    {
     "data": {
      "text/html": [
       "<div>\n",
       "<style scoped>\n",
       "    .dataframe tbody tr th:only-of-type {\n",
       "        vertical-align: middle;\n",
       "    }\n",
       "\n",
       "    .dataframe tbody tr th {\n",
       "        vertical-align: top;\n",
       "    }\n",
       "\n",
       "    .dataframe thead th {\n",
       "        text-align: right;\n",
       "    }\n",
       "</style>\n",
       "<table border=\"1\" class=\"dataframe\">\n",
       "  <thead>\n",
       "    <tr style=\"text-align: right;\">\n",
       "      <th></th>\n",
       "      <th>Name</th>\n",
       "      <th>Sector</th>\n",
       "      <th>Industry</th>\n",
       "    </tr>\n",
       "    <tr>\n",
       "      <th>Ticker</th>\n",
       "      <th></th>\n",
       "      <th></th>\n",
       "      <th></th>\n",
       "    </tr>\n",
       "  </thead>\n",
       "  <tbody>\n",
       "    <tr>\n",
       "      <th>EURUSD=X</th>\n",
       "      <td>Missing</td>\n",
       "      <td>Missing</td>\n",
       "      <td>Missing</td>\n",
       "    </tr>\n",
       "    <tr>\n",
       "      <th>^FCHI</th>\n",
       "      <td>Missing</td>\n",
       "      <td>Missing</td>\n",
       "      <td>Missing</td>\n",
       "    </tr>\n",
       "    <tr>\n",
       "      <th>AI.PA</th>\n",
       "      <td>L'Air Liquide S.A.</td>\n",
       "      <td>Basic Materials</td>\n",
       "      <td>Chemicals</td>\n",
       "    </tr>\n",
       "    <tr>\n",
       "      <th>AIR.PA</th>\n",
       "      <td>Airbus SE</td>\n",
       "      <td>Industrials</td>\n",
       "      <td>Aerospace &amp; Defense</td>\n",
       "    </tr>\n",
       "    <tr>\n",
       "      <th>ALO.PA</th>\n",
       "      <td>Alstom SA</td>\n",
       "      <td>Industrials</td>\n",
       "      <td>Specialty Industrial Machinery</td>\n",
       "    </tr>\n",
       "    <tr>\n",
       "      <th>MT.PA</th>\n",
       "      <td>Missing</td>\n",
       "      <td>Missing</td>\n",
       "      <td>Missing</td>\n",
       "    </tr>\n",
       "    <tr>\n",
       "      <th>ATO.PA</th>\n",
       "      <td>Atos SE</td>\n",
       "      <td>Technology</td>\n",
       "      <td>Information Technology Services</td>\n",
       "    </tr>\n",
       "    <tr>\n",
       "      <th>CS.PA</th>\n",
       "      <td>AXA SA</td>\n",
       "      <td>Financial Services</td>\n",
       "      <td>Insurance—Diversified</td>\n",
       "    </tr>\n",
       "    <tr>\n",
       "      <th>BNP.PA</th>\n",
       "      <td>BNP Paribas SA</td>\n",
       "      <td>Financial Services</td>\n",
       "      <td>Banks—Regional</td>\n",
       "    </tr>\n",
       "    <tr>\n",
       "      <th>EN.PA</th>\n",
       "      <td>Bouygues SA</td>\n",
       "      <td>Industrials</td>\n",
       "      <td>Engineering &amp; Construction</td>\n",
       "    </tr>\n",
       "    <tr>\n",
       "      <th>CAP.PA</th>\n",
       "      <td>Capgemini SE</td>\n",
       "      <td>Technology</td>\n",
       "      <td>Information Technology Services</td>\n",
       "    </tr>\n",
       "    <tr>\n",
       "      <th>CA.PA</th>\n",
       "      <td>Carrefour SA</td>\n",
       "      <td>Consumer Defensive</td>\n",
       "      <td>Grocery Stores</td>\n",
       "    </tr>\n",
       "    <tr>\n",
       "      <th>ACA.PA</th>\n",
       "      <td>Crédit Agricole S.A.</td>\n",
       "      <td>Financial Services</td>\n",
       "      <td>Banks—Regional</td>\n",
       "    </tr>\n",
       "    <tr>\n",
       "      <th>BN.PA</th>\n",
       "      <td>Danone S.A.</td>\n",
       "      <td>Consumer Defensive</td>\n",
       "      <td>Packaged Foods</td>\n",
       "    </tr>\n",
       "    <tr>\n",
       "      <th>DSY.PA</th>\n",
       "      <td>Dassault Systèmes SE</td>\n",
       "      <td>Technology</td>\n",
       "      <td>Software—Application</td>\n",
       "    </tr>\n",
       "    <tr>\n",
       "      <th>ENGI.PA</th>\n",
       "      <td>ENGIE SA</td>\n",
       "      <td>Utilities</td>\n",
       "      <td>Utilities—Diversified</td>\n",
       "    </tr>\n",
       "    <tr>\n",
       "      <th>EL.PA</th>\n",
       "      <td>EssilorLuxottica Société anonyme</td>\n",
       "      <td>Healthcare</td>\n",
       "      <td>Medical Instruments &amp; Supplies</td>\n",
       "    </tr>\n",
       "    <tr>\n",
       "      <th>RMS.PA</th>\n",
       "      <td>Hermès International Société en commandite par...</td>\n",
       "      <td>Consumer Cyclical</td>\n",
       "      <td>Luxury Goods</td>\n",
       "    </tr>\n",
       "    <tr>\n",
       "      <th>KER.PA</th>\n",
       "      <td>Kering SA</td>\n",
       "      <td>Consumer Cyclical</td>\n",
       "      <td>Luxury Goods</td>\n",
       "    </tr>\n",
       "    <tr>\n",
       "      <th>OR.PA</th>\n",
       "      <td>L'Oréal S.A.</td>\n",
       "      <td>Consumer Defensive</td>\n",
       "      <td>Household &amp; Personal Products</td>\n",
       "    </tr>\n",
       "    <tr>\n",
       "      <th>LR.PA</th>\n",
       "      <td>Legrand SA</td>\n",
       "      <td>Industrials</td>\n",
       "      <td>Specialty Industrial Machinery</td>\n",
       "    </tr>\n",
       "    <tr>\n",
       "      <th>MC.PA</th>\n",
       "      <td>LVMH Moët Hennessy - Louis Vuitton, Société Eu...</td>\n",
       "      <td>Consumer Cyclical</td>\n",
       "      <td>Luxury Goods</td>\n",
       "    </tr>\n",
       "    <tr>\n",
       "      <th>ML.PA</th>\n",
       "      <td>Compagnie Générale des Établissements Michelin...</td>\n",
       "      <td>Missing</td>\n",
       "      <td>Missing</td>\n",
       "    </tr>\n",
       "    <tr>\n",
       "      <th>ORA.PA</th>\n",
       "      <td>Orange S.A.</td>\n",
       "      <td>Communication Services</td>\n",
       "      <td>Telecom Services</td>\n",
       "    </tr>\n",
       "    <tr>\n",
       "      <th>RI.PA</th>\n",
       "      <td>Pernod Ricard SA</td>\n",
       "      <td>Consumer Defensive</td>\n",
       "      <td>Beverages—Wineries &amp; Distilleries</td>\n",
       "    </tr>\n",
       "    <tr>\n",
       "      <th>PUB.PA</th>\n",
       "      <td>Publicis Groupe S.A.</td>\n",
       "      <td>Communication Services</td>\n",
       "      <td>Advertising Agencies</td>\n",
       "    </tr>\n",
       "    <tr>\n",
       "      <th>RNO.PA</th>\n",
       "      <td>Renault SA</td>\n",
       "      <td>Consumer Cyclical</td>\n",
       "      <td>Auto Manufacturers</td>\n",
       "    </tr>\n",
       "    <tr>\n",
       "      <th>SAF.PA</th>\n",
       "      <td>Safran SA</td>\n",
       "      <td>Industrials</td>\n",
       "      <td>Aerospace &amp; Defense</td>\n",
       "    </tr>\n",
       "    <tr>\n",
       "      <th>SGO.PA</th>\n",
       "      <td>Compagnie de Saint-Gobain S.A.</td>\n",
       "      <td>Industrials</td>\n",
       "      <td>Building Products &amp; Equipment</td>\n",
       "    </tr>\n",
       "    <tr>\n",
       "      <th>SAN.PA</th>\n",
       "      <td>Sanofi</td>\n",
       "      <td>Healthcare</td>\n",
       "      <td>Drug Manufacturers—General</td>\n",
       "    </tr>\n",
       "    <tr>\n",
       "      <th>SU.PA</th>\n",
       "      <td>Schneider Electric S.E.</td>\n",
       "      <td>Industrials</td>\n",
       "      <td>Specialty Industrial Machinery</td>\n",
       "    </tr>\n",
       "    <tr>\n",
       "      <th>GLE.PA</th>\n",
       "      <td>Société Générale Société anonyme</td>\n",
       "      <td>Financial Services</td>\n",
       "      <td>Banks—Regional</td>\n",
       "    </tr>\n",
       "    <tr>\n",
       "      <th>STLA.PA</th>\n",
       "      <td>Stellantis N.V.</td>\n",
       "      <td>Consumer Cyclical</td>\n",
       "      <td>Auto Manufacturers</td>\n",
       "    </tr>\n",
       "    <tr>\n",
       "      <th>STM.PA</th>\n",
       "      <td>STMicroelectronics N.V.</td>\n",
       "      <td>Technology</td>\n",
       "      <td>Semiconductors</td>\n",
       "    </tr>\n",
       "    <tr>\n",
       "      <th>TEP.PA</th>\n",
       "      <td>Teleperformance SE</td>\n",
       "      <td>Industrials</td>\n",
       "      <td>Consulting Services</td>\n",
       "    </tr>\n",
       "    <tr>\n",
       "      <th>HO.PA</th>\n",
       "      <td>Thales S.A.</td>\n",
       "      <td>Industrials</td>\n",
       "      <td>Aerospace &amp; Defense</td>\n",
       "    </tr>\n",
       "    <tr>\n",
       "      <th>FP.PA</th>\n",
       "      <td>TOTAL SE</td>\n",
       "      <td>Missing</td>\n",
       "      <td>Missing</td>\n",
       "    </tr>\n",
       "    <tr>\n",
       "      <th>URW.PA</th>\n",
       "      <td>Missing</td>\n",
       "      <td>Missing</td>\n",
       "      <td>Missing</td>\n",
       "    </tr>\n",
       "    <tr>\n",
       "      <th>VIE.PA</th>\n",
       "      <td>Veolia Environnement S.A.</td>\n",
       "      <td>Industrials</td>\n",
       "      <td>Waste Management</td>\n",
       "    </tr>\n",
       "    <tr>\n",
       "      <th>DG.PA</th>\n",
       "      <td>VINCI SA</td>\n",
       "      <td>Industrials</td>\n",
       "      <td>Engineering &amp; Construction</td>\n",
       "    </tr>\n",
       "    <tr>\n",
       "      <th>VIV.PA</th>\n",
       "      <td>Vivendi SE</td>\n",
       "      <td>Communication Services</td>\n",
       "      <td>Broadcasting</td>\n",
       "    </tr>\n",
       "    <tr>\n",
       "      <th>WLN.PA</th>\n",
       "      <td>Worldline SA</td>\n",
       "      <td>Technology</td>\n",
       "      <td>Software—Infrastructure</td>\n",
       "    </tr>\n",
       "  </tbody>\n",
       "</table>\n",
       "</div>"
      ],
      "text/plain": [
       "                                                       Name  \\\n",
       "Ticker                                                        \n",
       "EURUSD=X                                            Missing   \n",
       "^FCHI                                               Missing   \n",
       "AI.PA                                    L'Air Liquide S.A.   \n",
       "AIR.PA                                            Airbus SE   \n",
       "ALO.PA                                            Alstom SA   \n",
       "MT.PA                                               Missing   \n",
       "ATO.PA                                              Atos SE   \n",
       "CS.PA                                                AXA SA   \n",
       "BNP.PA                                       BNP Paribas SA   \n",
       "EN.PA                                           Bouygues SA   \n",
       "CAP.PA                                         Capgemini SE   \n",
       "CA.PA                                          Carrefour SA   \n",
       "ACA.PA                                 Crédit Agricole S.A.   \n",
       "BN.PA                                           Danone S.A.   \n",
       "DSY.PA                                 Dassault Systèmes SE   \n",
       "ENGI.PA                                            ENGIE SA   \n",
       "EL.PA                      EssilorLuxottica Société anonyme   \n",
       "RMS.PA    Hermès International Société en commandite par...   \n",
       "KER.PA                                            Kering SA   \n",
       "OR.PA                                          L'Oréal S.A.   \n",
       "LR.PA                                            Legrand SA   \n",
       "MC.PA     LVMH Moët Hennessy - Louis Vuitton, Société Eu...   \n",
       "ML.PA     Compagnie Générale des Établissements Michelin...   \n",
       "ORA.PA                                          Orange S.A.   \n",
       "RI.PA                                      Pernod Ricard SA   \n",
       "PUB.PA                                 Publicis Groupe S.A.   \n",
       "RNO.PA                                           Renault SA   \n",
       "SAF.PA                                            Safran SA   \n",
       "SGO.PA                       Compagnie de Saint-Gobain S.A.   \n",
       "SAN.PA                                               Sanofi   \n",
       "SU.PA                               Schneider Electric S.E.   \n",
       "GLE.PA                     Société Générale Société anonyme   \n",
       "STLA.PA                                     Stellantis N.V.   \n",
       "STM.PA                              STMicroelectronics N.V.   \n",
       "TEP.PA                                   Teleperformance SE   \n",
       "HO.PA                                           Thales S.A.   \n",
       "FP.PA                                              TOTAL SE   \n",
       "URW.PA                                              Missing   \n",
       "VIE.PA                            Veolia Environnement S.A.   \n",
       "DG.PA                                              VINCI SA   \n",
       "VIV.PA                                           Vivendi SE   \n",
       "WLN.PA                                         Worldline SA   \n",
       "\n",
       "                          Sector                           Industry  \n",
       "Ticker                                                               \n",
       "EURUSD=X                 Missing                            Missing  \n",
       "^FCHI                    Missing                            Missing  \n",
       "AI.PA            Basic Materials                          Chemicals  \n",
       "AIR.PA               Industrials                Aerospace & Defense  \n",
       "ALO.PA               Industrials     Specialty Industrial Machinery  \n",
       "MT.PA                    Missing                            Missing  \n",
       "ATO.PA                Technology    Information Technology Services  \n",
       "CS.PA         Financial Services              Insurance—Diversified  \n",
       "BNP.PA        Financial Services                     Banks—Regional  \n",
       "EN.PA                Industrials         Engineering & Construction  \n",
       "CAP.PA                Technology    Information Technology Services  \n",
       "CA.PA         Consumer Defensive                     Grocery Stores  \n",
       "ACA.PA        Financial Services                     Banks—Regional  \n",
       "BN.PA         Consumer Defensive                     Packaged Foods  \n",
       "DSY.PA                Technology               Software—Application  \n",
       "ENGI.PA                Utilities              Utilities—Diversified  \n",
       "EL.PA                 Healthcare     Medical Instruments & Supplies  \n",
       "RMS.PA         Consumer Cyclical                       Luxury Goods  \n",
       "KER.PA         Consumer Cyclical                       Luxury Goods  \n",
       "OR.PA         Consumer Defensive      Household & Personal Products  \n",
       "LR.PA                Industrials     Specialty Industrial Machinery  \n",
       "MC.PA          Consumer Cyclical                       Luxury Goods  \n",
       "ML.PA                    Missing                            Missing  \n",
       "ORA.PA    Communication Services                   Telecom Services  \n",
       "RI.PA         Consumer Defensive  Beverages—Wineries & Distilleries  \n",
       "PUB.PA    Communication Services               Advertising Agencies  \n",
       "RNO.PA         Consumer Cyclical                 Auto Manufacturers  \n",
       "SAF.PA               Industrials                Aerospace & Defense  \n",
       "SGO.PA               Industrials      Building Products & Equipment  \n",
       "SAN.PA                Healthcare         Drug Manufacturers—General  \n",
       "SU.PA                Industrials     Specialty Industrial Machinery  \n",
       "GLE.PA        Financial Services                     Banks—Regional  \n",
       "STLA.PA        Consumer Cyclical                 Auto Manufacturers  \n",
       "STM.PA                Technology                     Semiconductors  \n",
       "TEP.PA               Industrials                Consulting Services  \n",
       "HO.PA                Industrials                Aerospace & Defense  \n",
       "FP.PA                    Missing                            Missing  \n",
       "URW.PA                   Missing                            Missing  \n",
       "VIE.PA               Industrials                   Waste Management  \n",
       "DG.PA                Industrials         Engineering & Construction  \n",
       "VIV.PA    Communication Services                       Broadcasting  \n",
       "WLN.PA                Technology            Software—Infrastructure  "
      ]
     },
     "execution_count": 4,
     "metadata": {},
     "output_type": "execute_result"
    }
   ],
   "source": [
    "# Create dataframe of ticker info\n",
    "df_ticker_info = pd.DataFrame([(ticker,\n",
    "                               ticker_info[ticker][0],\n",
    "                               ticker_info[ticker][1],\n",
    "                               ticker_info[ticker][2],\n",
    "                              ) for ticker in ticker_info], columns=[\"Ticker\", \"Name\", \"Sector\", \"Industry\"])\n",
    "\n",
    "\n",
    "df_ticker_info.set_index(\"Ticker\", inplace=True)\n",
    "df_ticker_info"
   ]
  },
  {
   "cell_type": "markdown",
   "id": "d4137b0a",
   "metadata": {},
   "source": [
    "### Retrieve all prices and volumes from s3"
   ]
  },
  {
   "cell_type": "code",
   "execution_count": 5,
   "id": "260e72ff",
   "metadata": {
    "ExecuteTime": {
     "end_time": "2021-05-18T20:41:02.416172Z",
     "start_time": "2021-05-18T20:41:01.803034Z"
    },
    "code_folding": [
     0
    ]
   },
   "outputs": [],
   "source": [
    "# Read data from s3\n",
    "role = get_execution_role()\n",
    "bucket=\"euronext-stocks\"\n",
    "data_key = \"data.csv\"\n",
    "data_location = 's3://{}/{}'.format(bucket, data_key)\n",
    "df_data = pd.read_csv(data_location, header=[0, 1],)\n",
    "df_data.set_index(df_data[\"Unnamed: 0_level_0\"][\"Unnamed: 0_level_1\"], drop=True, inplace=True)\n",
    "df_data.index.name = \"Date\"\n",
    "df_data.drop(\"Unnamed: 0_level_0\", axis=1, inplace=True)\n",
    "df_data.drop(df_data.index[0], inplace=True)\n",
    "df_data.index = pd.to_datetime(df_data.index)\n",
    "df_data.interpolate(method='linear', inplace=True) # use linear interpolation for missing values"
   ]
  },
  {
   "cell_type": "code",
   "execution_count": 6,
   "id": "9ec8731c",
   "metadata": {
    "ExecuteTime": {
     "end_time": "2021-05-18T20:41:02.452966Z",
     "start_time": "2021-05-18T20:41:02.417994Z"
    }
   },
   "outputs": [
    {
     "data": {
      "text/html": [
       "<div>\n",
       "<style scoped>\n",
       "    .dataframe tbody tr th:only-of-type {\n",
       "        vertical-align: middle;\n",
       "    }\n",
       "\n",
       "    .dataframe tbody tr th {\n",
       "        vertical-align: top;\n",
       "    }\n",
       "\n",
       "    .dataframe thead tr th {\n",
       "        text-align: left;\n",
       "    }\n",
       "\n",
       "    .dataframe thead tr:last-of-type th {\n",
       "        text-align: right;\n",
       "    }\n",
       "</style>\n",
       "<table border=\"1\" class=\"dataframe\">\n",
       "  <thead>\n",
       "    <tr>\n",
       "      <th></th>\n",
       "      <th colspan=\"10\" halign=\"left\">Adj Close</th>\n",
       "      <th>...</th>\n",
       "      <th colspan=\"10\" halign=\"left\">Volume</th>\n",
       "    </tr>\n",
       "    <tr>\n",
       "      <th></th>\n",
       "      <th>ACA.PA</th>\n",
       "      <th>AI.PA</th>\n",
       "      <th>AIR.PA</th>\n",
       "      <th>ALO.PA</th>\n",
       "      <th>ATO.PA</th>\n",
       "      <th>BN.PA</th>\n",
       "      <th>BNP.PA</th>\n",
       "      <th>CA.PA</th>\n",
       "      <th>CAP.PA</th>\n",
       "      <th>CS.PA</th>\n",
       "      <th>...</th>\n",
       "      <th>SGO.PA</th>\n",
       "      <th>STLA.PA</th>\n",
       "      <th>STM.PA</th>\n",
       "      <th>SU.PA</th>\n",
       "      <th>TEP.PA</th>\n",
       "      <th>URW.PA</th>\n",
       "      <th>VIE.PA</th>\n",
       "      <th>VIV.PA</th>\n",
       "      <th>WLN.PA</th>\n",
       "      <th>^FCHI</th>\n",
       "    </tr>\n",
       "    <tr>\n",
       "      <th>Date</th>\n",
       "      <th></th>\n",
       "      <th></th>\n",
       "      <th></th>\n",
       "      <th></th>\n",
       "      <th></th>\n",
       "      <th></th>\n",
       "      <th></th>\n",
       "      <th></th>\n",
       "      <th></th>\n",
       "      <th></th>\n",
       "      <th></th>\n",
       "      <th></th>\n",
       "      <th></th>\n",
       "      <th></th>\n",
       "      <th></th>\n",
       "      <th></th>\n",
       "      <th></th>\n",
       "      <th></th>\n",
       "      <th></th>\n",
       "      <th></th>\n",
       "      <th></th>\n",
       "    </tr>\n",
       "  </thead>\n",
       "  <tbody>\n",
       "    <tr>\n",
       "      <th>2019-05-20</th>\n",
       "      <td>9.733603</td>\n",
       "      <td>98.601425</td>\n",
       "      <td>115.306343</td>\n",
       "      <td>34.364090</td>\n",
       "      <td>67.940483</td>\n",
       "      <td>63.734703</td>\n",
       "      <td>37.038956</td>\n",
       "      <td>16.346972</td>\n",
       "      <td>100.523682</td>\n",
       "      <td>18.499477</td>\n",
       "      <td>...</td>\n",
       "      <td>1764454.0</td>\n",
       "      <td>NaN</td>\n",
       "      <td>8129451.0</td>\n",
       "      <td>1247966.0</td>\n",
       "      <td>79010.0</td>\n",
       "      <td>NaN</td>\n",
       "      <td>1195119.0</td>\n",
       "      <td>2633619.0</td>\n",
       "      <td>464400.0</td>\n",
       "      <td>88787600.0</td>\n",
       "    </tr>\n",
       "    <tr>\n",
       "      <th>2019-05-21</th>\n",
       "      <td>9.852306</td>\n",
       "      <td>98.775711</td>\n",
       "      <td>114.512329</td>\n",
       "      <td>34.874493</td>\n",
       "      <td>69.750130</td>\n",
       "      <td>64.331024</td>\n",
       "      <td>37.346058</td>\n",
       "      <td>16.404465</td>\n",
       "      <td>101.540535</td>\n",
       "      <td>18.635651</td>\n",
       "      <td>...</td>\n",
       "      <td>1733715.0</td>\n",
       "      <td>NaN</td>\n",
       "      <td>4987101.0</td>\n",
       "      <td>1176278.0</td>\n",
       "      <td>78094.0</td>\n",
       "      <td>NaN</td>\n",
       "      <td>1590605.0</td>\n",
       "      <td>2150535.0</td>\n",
       "      <td>447378.0</td>\n",
       "      <td>79280900.0</td>\n",
       "    </tr>\n",
       "    <tr>\n",
       "      <th>2019-05-22</th>\n",
       "      <td>9.654469</td>\n",
       "      <td>99.952133</td>\n",
       "      <td>114.473595</td>\n",
       "      <td>35.094494</td>\n",
       "      <td>71.618790</td>\n",
       "      <td>64.168381</td>\n",
       "      <td>36.943504</td>\n",
       "      <td>16.346972</td>\n",
       "      <td>103.332138</td>\n",
       "      <td>18.515982</td>\n",
       "      <td>...</td>\n",
       "      <td>1635120.0</td>\n",
       "      <td>NaN</td>\n",
       "      <td>2678087.0</td>\n",
       "      <td>1167188.0</td>\n",
       "      <td>265212.0</td>\n",
       "      <td>NaN</td>\n",
       "      <td>1287421.0</td>\n",
       "      <td>2295662.0</td>\n",
       "      <td>428106.0</td>\n",
       "      <td>69422500.0</td>\n",
       "    </tr>\n",
       "  </tbody>\n",
       "</table>\n",
       "<p>3 rows × 252 columns</p>\n",
       "</div>"
      ],
      "text/plain": [
       "           Adj Close                                                          \\\n",
       "              ACA.PA      AI.PA      AIR.PA     ALO.PA     ATO.PA      BN.PA   \n",
       "Date                                                                           \n",
       "2019-05-20  9.733603  98.601425  115.306343  34.364090  67.940483  63.734703   \n",
       "2019-05-21  9.852306  98.775711  114.512329  34.874493  69.750130  64.331024   \n",
       "2019-05-22  9.654469  99.952133  114.473595  35.094494  71.618790  64.168381   \n",
       "\n",
       "                                                         ...     Volume  \\\n",
       "               BNP.PA      CA.PA      CAP.PA      CS.PA  ...     SGO.PA   \n",
       "Date                                                     ...              \n",
       "2019-05-20  37.038956  16.346972  100.523682  18.499477  ...  1764454.0   \n",
       "2019-05-21  37.346058  16.404465  101.540535  18.635651  ...  1733715.0   \n",
       "2019-05-22  36.943504  16.346972  103.332138  18.515982  ...  1635120.0   \n",
       "\n",
       "                                                                      \\\n",
       "           STLA.PA     STM.PA      SU.PA    TEP.PA URW.PA     VIE.PA   \n",
       "Date                                                                   \n",
       "2019-05-20     NaN  8129451.0  1247966.0   79010.0    NaN  1195119.0   \n",
       "2019-05-21     NaN  4987101.0  1176278.0   78094.0    NaN  1590605.0   \n",
       "2019-05-22     NaN  2678087.0  1167188.0  265212.0    NaN  1287421.0   \n",
       "\n",
       "                                             \n",
       "               VIV.PA    WLN.PA       ^FCHI  \n",
       "Date                                         \n",
       "2019-05-20  2633619.0  464400.0  88787600.0  \n",
       "2019-05-21  2150535.0  447378.0  79280900.0  \n",
       "2019-05-22  2295662.0  428106.0  69422500.0  \n",
       "\n",
       "[3 rows x 252 columns]"
      ]
     },
     "execution_count": 6,
     "metadata": {},
     "output_type": "execute_result"
    }
   ],
   "source": [
    "df_data.head(3)"
   ]
  },
  {
   "cell_type": "code",
   "execution_count": 7,
   "id": "f6ea0f8d",
   "metadata": {
    "ExecuteTime": {
     "end_time": "2021-05-18T20:41:02.464704Z",
     "start_time": "2021-05-18T20:41:02.454840Z"
    },
    "code_folding": [
     0
    ]
   },
   "outputs": [],
   "source": [
    "# Create various dataframes for different use cases\n",
    "df_raw_prices = df_data[\"Adj Close\"]\n",
    "df_daily_returns = df_raw_prices.pct_change()"
   ]
  },
  {
   "cell_type": "code",
   "execution_count": 8,
   "id": "9b7145a4",
   "metadata": {
    "ExecuteTime": {
     "end_time": "2021-05-18T20:41:02.493949Z",
     "start_time": "2021-05-18T20:41:02.467406Z"
    }
   },
   "outputs": [
    {
     "data": {
      "text/html": [
       "<div>\n",
       "<style scoped>\n",
       "    .dataframe tbody tr th:only-of-type {\n",
       "        vertical-align: middle;\n",
       "    }\n",
       "\n",
       "    .dataframe tbody tr th {\n",
       "        vertical-align: top;\n",
       "    }\n",
       "\n",
       "    .dataframe thead th {\n",
       "        text-align: right;\n",
       "    }\n",
       "</style>\n",
       "<table border=\"1\" class=\"dataframe\">\n",
       "  <thead>\n",
       "    <tr style=\"text-align: right;\">\n",
       "      <th></th>\n",
       "      <th>ACA.PA</th>\n",
       "      <th>AI.PA</th>\n",
       "      <th>AIR.PA</th>\n",
       "      <th>ALO.PA</th>\n",
       "      <th>ATO.PA</th>\n",
       "      <th>BN.PA</th>\n",
       "      <th>BNP.PA</th>\n",
       "      <th>CA.PA</th>\n",
       "      <th>CAP.PA</th>\n",
       "      <th>CS.PA</th>\n",
       "      <th>...</th>\n",
       "      <th>SGO.PA</th>\n",
       "      <th>STLA.PA</th>\n",
       "      <th>STM.PA</th>\n",
       "      <th>SU.PA</th>\n",
       "      <th>TEP.PA</th>\n",
       "      <th>URW.PA</th>\n",
       "      <th>VIE.PA</th>\n",
       "      <th>VIV.PA</th>\n",
       "      <th>WLN.PA</th>\n",
       "      <th>^FCHI</th>\n",
       "    </tr>\n",
       "    <tr>\n",
       "      <th>Date</th>\n",
       "      <th></th>\n",
       "      <th></th>\n",
       "      <th></th>\n",
       "      <th></th>\n",
       "      <th></th>\n",
       "      <th></th>\n",
       "      <th></th>\n",
       "      <th></th>\n",
       "      <th></th>\n",
       "      <th></th>\n",
       "      <th></th>\n",
       "      <th></th>\n",
       "      <th></th>\n",
       "      <th></th>\n",
       "      <th></th>\n",
       "      <th></th>\n",
       "      <th></th>\n",
       "      <th></th>\n",
       "      <th></th>\n",
       "      <th></th>\n",
       "      <th></th>\n",
       "    </tr>\n",
       "  </thead>\n",
       "  <tbody>\n",
       "    <tr>\n",
       "      <th>2019-05-20</th>\n",
       "      <td>9.733603</td>\n",
       "      <td>98.601425</td>\n",
       "      <td>115.306343</td>\n",
       "      <td>34.364090</td>\n",
       "      <td>67.940483</td>\n",
       "      <td>63.734703</td>\n",
       "      <td>37.038956</td>\n",
       "      <td>16.346972</td>\n",
       "      <td>100.523682</td>\n",
       "      <td>18.499477</td>\n",
       "      <td>...</td>\n",
       "      <td>31.249226</td>\n",
       "      <td>NaN</td>\n",
       "      <td>13.896537</td>\n",
       "      <td>68.586166</td>\n",
       "      <td>161.809845</td>\n",
       "      <td>NaN</td>\n",
       "      <td>18.980263</td>\n",
       "      <td>23.873327</td>\n",
       "      <td>50.950001</td>\n",
       "      <td>5358.589844</td>\n",
       "    </tr>\n",
       "    <tr>\n",
       "      <th>2019-05-21</th>\n",
       "      <td>9.852306</td>\n",
       "      <td>98.775711</td>\n",
       "      <td>114.512329</td>\n",
       "      <td>34.874493</td>\n",
       "      <td>69.750130</td>\n",
       "      <td>64.331024</td>\n",
       "      <td>37.346058</td>\n",
       "      <td>16.404465</td>\n",
       "      <td>101.540535</td>\n",
       "      <td>18.635651</td>\n",
       "      <td>...</td>\n",
       "      <td>31.125061</td>\n",
       "      <td>NaN</td>\n",
       "      <td>14.475150</td>\n",
       "      <td>69.497856</td>\n",
       "      <td>163.944016</td>\n",
       "      <td>NaN</td>\n",
       "      <td>19.207800</td>\n",
       "      <td>23.960810</td>\n",
       "      <td>51.250000</td>\n",
       "      <td>5385.459961</td>\n",
       "    </tr>\n",
       "    <tr>\n",
       "      <th>2019-05-22</th>\n",
       "      <td>9.654469</td>\n",
       "      <td>99.952133</td>\n",
       "      <td>114.473595</td>\n",
       "      <td>35.094494</td>\n",
       "      <td>71.618790</td>\n",
       "      <td>64.168381</td>\n",
       "      <td>36.943504</td>\n",
       "      <td>16.346972</td>\n",
       "      <td>103.332138</td>\n",
       "      <td>18.515982</td>\n",
       "      <td>...</td>\n",
       "      <td>30.950302</td>\n",
       "      <td>NaN</td>\n",
       "      <td>14.274107</td>\n",
       "      <td>69.440880</td>\n",
       "      <td>169.182465</td>\n",
       "      <td>NaN</td>\n",
       "      <td>19.293125</td>\n",
       "      <td>23.863605</td>\n",
       "      <td>52.299999</td>\n",
       "      <td>5378.979980</td>\n",
       "    </tr>\n",
       "  </tbody>\n",
       "</table>\n",
       "<p>3 rows × 42 columns</p>\n",
       "</div>"
      ],
      "text/plain": [
       "              ACA.PA      AI.PA      AIR.PA     ALO.PA     ATO.PA      BN.PA  \\\n",
       "Date                                                                           \n",
       "2019-05-20  9.733603  98.601425  115.306343  34.364090  67.940483  63.734703   \n",
       "2019-05-21  9.852306  98.775711  114.512329  34.874493  69.750130  64.331024   \n",
       "2019-05-22  9.654469  99.952133  114.473595  35.094494  71.618790  64.168381   \n",
       "\n",
       "               BNP.PA      CA.PA      CAP.PA      CS.PA  ...     SGO.PA  \\\n",
       "Date                                                     ...              \n",
       "2019-05-20  37.038956  16.346972  100.523682  18.499477  ...  31.249226   \n",
       "2019-05-21  37.346058  16.404465  101.540535  18.635651  ...  31.125061   \n",
       "2019-05-22  36.943504  16.346972  103.332138  18.515982  ...  30.950302   \n",
       "\n",
       "            STLA.PA     STM.PA      SU.PA      TEP.PA  URW.PA     VIE.PA  \\\n",
       "Date                                                                       \n",
       "2019-05-20      NaN  13.896537  68.586166  161.809845     NaN  18.980263   \n",
       "2019-05-21      NaN  14.475150  69.497856  163.944016     NaN  19.207800   \n",
       "2019-05-22      NaN  14.274107  69.440880  169.182465     NaN  19.293125   \n",
       "\n",
       "               VIV.PA     WLN.PA        ^FCHI  \n",
       "Date                                           \n",
       "2019-05-20  23.873327  50.950001  5358.589844  \n",
       "2019-05-21  23.960810  51.250000  5385.459961  \n",
       "2019-05-22  23.863605  52.299999  5378.979980  \n",
       "\n",
       "[3 rows x 42 columns]"
      ]
     },
     "execution_count": 8,
     "metadata": {},
     "output_type": "execute_result"
    }
   ],
   "source": [
    "df_raw_prices.head(3)"
   ]
  },
  {
   "cell_type": "code",
   "execution_count": 9,
   "id": "b912b28a",
   "metadata": {
    "ExecuteTime": {
     "end_time": "2021-05-18T20:41:02.522203Z",
     "start_time": "2021-05-18T20:41:02.496320Z"
    }
   },
   "outputs": [
    {
     "data": {
      "text/html": [
       "<div>\n",
       "<style scoped>\n",
       "    .dataframe tbody tr th:only-of-type {\n",
       "        vertical-align: middle;\n",
       "    }\n",
       "\n",
       "    .dataframe tbody tr th {\n",
       "        vertical-align: top;\n",
       "    }\n",
       "\n",
       "    .dataframe thead th {\n",
       "        text-align: right;\n",
       "    }\n",
       "</style>\n",
       "<table border=\"1\" class=\"dataframe\">\n",
       "  <thead>\n",
       "    <tr style=\"text-align: right;\">\n",
       "      <th></th>\n",
       "      <th>ACA.PA</th>\n",
       "      <th>AI.PA</th>\n",
       "      <th>AIR.PA</th>\n",
       "      <th>ALO.PA</th>\n",
       "      <th>ATO.PA</th>\n",
       "      <th>BN.PA</th>\n",
       "      <th>BNP.PA</th>\n",
       "      <th>CA.PA</th>\n",
       "      <th>CAP.PA</th>\n",
       "      <th>CS.PA</th>\n",
       "      <th>...</th>\n",
       "      <th>SGO.PA</th>\n",
       "      <th>STLA.PA</th>\n",
       "      <th>STM.PA</th>\n",
       "      <th>SU.PA</th>\n",
       "      <th>TEP.PA</th>\n",
       "      <th>URW.PA</th>\n",
       "      <th>VIE.PA</th>\n",
       "      <th>VIV.PA</th>\n",
       "      <th>WLN.PA</th>\n",
       "      <th>^FCHI</th>\n",
       "    </tr>\n",
       "    <tr>\n",
       "      <th>Date</th>\n",
       "      <th></th>\n",
       "      <th></th>\n",
       "      <th></th>\n",
       "      <th></th>\n",
       "      <th></th>\n",
       "      <th></th>\n",
       "      <th></th>\n",
       "      <th></th>\n",
       "      <th></th>\n",
       "      <th></th>\n",
       "      <th></th>\n",
       "      <th></th>\n",
       "      <th></th>\n",
       "      <th></th>\n",
       "      <th></th>\n",
       "      <th></th>\n",
       "      <th></th>\n",
       "      <th></th>\n",
       "      <th></th>\n",
       "      <th></th>\n",
       "      <th></th>\n",
       "    </tr>\n",
       "  </thead>\n",
       "  <tbody>\n",
       "    <tr>\n",
       "      <th>2019-05-20</th>\n",
       "      <td>NaN</td>\n",
       "      <td>NaN</td>\n",
       "      <td>NaN</td>\n",
       "      <td>NaN</td>\n",
       "      <td>NaN</td>\n",
       "      <td>NaN</td>\n",
       "      <td>NaN</td>\n",
       "      <td>NaN</td>\n",
       "      <td>NaN</td>\n",
       "      <td>NaN</td>\n",
       "      <td>...</td>\n",
       "      <td>NaN</td>\n",
       "      <td>NaN</td>\n",
       "      <td>NaN</td>\n",
       "      <td>NaN</td>\n",
       "      <td>NaN</td>\n",
       "      <td>NaN</td>\n",
       "      <td>NaN</td>\n",
       "      <td>NaN</td>\n",
       "      <td>NaN</td>\n",
       "      <td>NaN</td>\n",
       "    </tr>\n",
       "    <tr>\n",
       "      <th>2019-05-21</th>\n",
       "      <td>0.012195</td>\n",
       "      <td>0.001768</td>\n",
       "      <td>-0.006886</td>\n",
       "      <td>0.014853</td>\n",
       "      <td>0.026636</td>\n",
       "      <td>0.009356</td>\n",
       "      <td>0.008291</td>\n",
       "      <td>0.003517</td>\n",
       "      <td>0.010116</td>\n",
       "      <td>0.007361</td>\n",
       "      <td>...</td>\n",
       "      <td>-0.003973</td>\n",
       "      <td>NaN</td>\n",
       "      <td>0.041637</td>\n",
       "      <td>0.013293</td>\n",
       "      <td>0.013189</td>\n",
       "      <td>NaN</td>\n",
       "      <td>0.011988</td>\n",
       "      <td>0.003664</td>\n",
       "      <td>0.005888</td>\n",
       "      <td>0.005014</td>\n",
       "    </tr>\n",
       "    <tr>\n",
       "      <th>2019-05-22</th>\n",
       "      <td>-0.020080</td>\n",
       "      <td>0.011910</td>\n",
       "      <td>-0.000338</td>\n",
       "      <td>0.006308</td>\n",
       "      <td>0.026791</td>\n",
       "      <td>-0.002528</td>\n",
       "      <td>-0.010779</td>\n",
       "      <td>-0.003505</td>\n",
       "      <td>0.017644</td>\n",
       "      <td>-0.006422</td>\n",
       "      <td>...</td>\n",
       "      <td>-0.005615</td>\n",
       "      <td>NaN</td>\n",
       "      <td>-0.013889</td>\n",
       "      <td>-0.000820</td>\n",
       "      <td>0.031953</td>\n",
       "      <td>NaN</td>\n",
       "      <td>0.004442</td>\n",
       "      <td>-0.004057</td>\n",
       "      <td>0.020488</td>\n",
       "      <td>-0.001203</td>\n",
       "    </tr>\n",
       "  </tbody>\n",
       "</table>\n",
       "<p>3 rows × 42 columns</p>\n",
       "</div>"
      ],
      "text/plain": [
       "              ACA.PA     AI.PA    AIR.PA    ALO.PA    ATO.PA     BN.PA  \\\n",
       "Date                                                                     \n",
       "2019-05-20       NaN       NaN       NaN       NaN       NaN       NaN   \n",
       "2019-05-21  0.012195  0.001768 -0.006886  0.014853  0.026636  0.009356   \n",
       "2019-05-22 -0.020080  0.011910 -0.000338  0.006308  0.026791 -0.002528   \n",
       "\n",
       "              BNP.PA     CA.PA    CAP.PA     CS.PA  ...    SGO.PA  STLA.PA  \\\n",
       "Date                                                ...                      \n",
       "2019-05-20       NaN       NaN       NaN       NaN  ...       NaN      NaN   \n",
       "2019-05-21  0.008291  0.003517  0.010116  0.007361  ... -0.003973      NaN   \n",
       "2019-05-22 -0.010779 -0.003505  0.017644 -0.006422  ... -0.005615      NaN   \n",
       "\n",
       "              STM.PA     SU.PA    TEP.PA  URW.PA    VIE.PA    VIV.PA  \\\n",
       "Date                                                                   \n",
       "2019-05-20       NaN       NaN       NaN     NaN       NaN       NaN   \n",
       "2019-05-21  0.041637  0.013293  0.013189     NaN  0.011988  0.003664   \n",
       "2019-05-22 -0.013889 -0.000820  0.031953     NaN  0.004442 -0.004057   \n",
       "\n",
       "              WLN.PA     ^FCHI  \n",
       "Date                            \n",
       "2019-05-20       NaN       NaN  \n",
       "2019-05-21  0.005888  0.005014  \n",
       "2019-05-22  0.020488 -0.001203  \n",
       "\n",
       "[3 rows x 42 columns]"
      ]
     },
     "execution_count": 9,
     "metadata": {},
     "output_type": "execute_result"
    }
   ],
   "source": [
    "df_daily_returns.head(3)"
   ]
  },
  {
   "cell_type": "code",
   "execution_count": 10,
   "id": "454509f1",
   "metadata": {
    "ExecuteTime": {
     "end_time": "2021-05-18T20:41:02.534662Z",
     "start_time": "2021-05-18T20:41:02.524010Z"
    },
    "code_folding": [
     0
    ]
   },
   "outputs": [],
   "source": [
    "# Create df_prices dataframe with sector and industry columns\n",
    "# Use ticker metadata in column headings of df_prices dataframe\n",
    "df_prices = df_data[\"Adj Close\"]\n",
    "col_tuples = [(ticker_info[ticker][1], ticker_info[ticker][2], ticker) for ticker in ticker_info] # sector and industry\n",
    "df_prices.columns = col_tuples\n",
    "df_prices.columns = pd.MultiIndex.from_tuples(df_prices.columns,)\n",
    "\n",
    "# Tidy up ordering and grouping on column headers\n",
    "new_columns = df_prices.columns.sort_values(ascending=[True, True, True])\n",
    "df_prices = df_prices[new_columns]"
   ]
  },
  {
   "cell_type": "code",
   "execution_count": 11,
   "id": "e4d0a74e",
   "metadata": {
    "ExecuteTime": {
     "end_time": "2021-05-18T20:41:02.571177Z",
     "start_time": "2021-05-18T20:41:02.536553Z"
    }
   },
   "outputs": [
    {
     "data": {
      "text/html": [
       "<div>\n",
       "<style scoped>\n",
       "    .dataframe tbody tr th:only-of-type {\n",
       "        vertical-align: middle;\n",
       "    }\n",
       "\n",
       "    .dataframe tbody tr th {\n",
       "        vertical-align: top;\n",
       "    }\n",
       "\n",
       "    .dataframe thead tr th {\n",
       "        text-align: left;\n",
       "    }\n",
       "\n",
       "    .dataframe thead tr:last-of-type th {\n",
       "        text-align: right;\n",
       "    }\n",
       "</style>\n",
       "<table border=\"1\" class=\"dataframe\">\n",
       "  <thead>\n",
       "    <tr>\n",
       "      <th></th>\n",
       "      <th>Basic Materials</th>\n",
       "      <th colspan=\"3\" halign=\"left\">Communication Services</th>\n",
       "      <th colspan=\"5\" halign=\"left\">Consumer Cyclical</th>\n",
       "      <th>Consumer Defensive</th>\n",
       "      <th>...</th>\n",
       "      <th colspan=\"4\" halign=\"left\">Missing</th>\n",
       "      <th colspan=\"5\" halign=\"left\">Technology</th>\n",
       "      <th>Utilities</th>\n",
       "    </tr>\n",
       "    <tr>\n",
       "      <th></th>\n",
       "      <th>Chemicals</th>\n",
       "      <th>Advertising Agencies</th>\n",
       "      <th>Broadcasting</th>\n",
       "      <th>Telecom Services</th>\n",
       "      <th colspan=\"2\" halign=\"left\">Auto Manufacturers</th>\n",
       "      <th colspan=\"3\" halign=\"left\">Luxury Goods</th>\n",
       "      <th>Beverages—Wineries &amp; Distilleries</th>\n",
       "      <th>...</th>\n",
       "      <th colspan=\"4\" halign=\"left\">Missing</th>\n",
       "      <th colspan=\"2\" halign=\"left\">Information Technology Services</th>\n",
       "      <th>Semiconductors</th>\n",
       "      <th>Software—Application</th>\n",
       "      <th>Software—Infrastructure</th>\n",
       "      <th>Utilities—Diversified</th>\n",
       "    </tr>\n",
       "    <tr>\n",
       "      <th></th>\n",
       "      <th>AI.PA</th>\n",
       "      <th>PUB.PA</th>\n",
       "      <th>VIV.PA</th>\n",
       "      <th>ORA.PA</th>\n",
       "      <th>RNO.PA</th>\n",
       "      <th>STLA.PA</th>\n",
       "      <th>KER.PA</th>\n",
       "      <th>MC.PA</th>\n",
       "      <th>RMS.PA</th>\n",
       "      <th>RI.PA</th>\n",
       "      <th>...</th>\n",
       "      <th>ML.PA</th>\n",
       "      <th>MT.PA</th>\n",
       "      <th>URW.PA</th>\n",
       "      <th>^FCHI</th>\n",
       "      <th>ATO.PA</th>\n",
       "      <th>CAP.PA</th>\n",
       "      <th>STM.PA</th>\n",
       "      <th>DSY.PA</th>\n",
       "      <th>WLN.PA</th>\n",
       "      <th>ENGI.PA</th>\n",
       "    </tr>\n",
       "    <tr>\n",
       "      <th>Date</th>\n",
       "      <th></th>\n",
       "      <th></th>\n",
       "      <th></th>\n",
       "      <th></th>\n",
       "      <th></th>\n",
       "      <th></th>\n",
       "      <th></th>\n",
       "      <th></th>\n",
       "      <th></th>\n",
       "      <th></th>\n",
       "      <th></th>\n",
       "      <th></th>\n",
       "      <th></th>\n",
       "      <th></th>\n",
       "      <th></th>\n",
       "      <th></th>\n",
       "      <th></th>\n",
       "      <th></th>\n",
       "      <th></th>\n",
       "      <th></th>\n",
       "      <th></th>\n",
       "    </tr>\n",
       "  </thead>\n",
       "  <tbody>\n",
       "    <tr>\n",
       "      <th>2019-05-20</th>\n",
       "      <td>115.306343</td>\n",
       "      <td>12.558084</td>\n",
       "      <td>50.950001</td>\n",
       "      <td>NaN</td>\n",
       "      <td>44.463112</td>\n",
       "      <td>31.249226</td>\n",
       "      <td>94.271965</td>\n",
       "      <td>318.557739</td>\n",
       "      <td>18.839725</td>\n",
       "      <td>231.230118</td>\n",
       "      <td>...</td>\n",
       "      <td>102.040962</td>\n",
       "      <td>63.734703</td>\n",
       "      <td>NaN</td>\n",
       "      <td>98.601425</td>\n",
       "      <td>37.038956</td>\n",
       "      <td>83.614937</td>\n",
       "      <td>NaN</td>\n",
       "      <td>12.060001</td>\n",
       "      <td>5358.589844</td>\n",
       "      <td>1.116532</td>\n",
       "    </tr>\n",
       "    <tr>\n",
       "      <th>2019-05-21</th>\n",
       "      <td>114.512329</td>\n",
       "      <td>12.490617</td>\n",
       "      <td>51.250000</td>\n",
       "      <td>NaN</td>\n",
       "      <td>44.657509</td>\n",
       "      <td>31.125061</td>\n",
       "      <td>95.904182</td>\n",
       "      <td>323.480164</td>\n",
       "      <td>18.956139</td>\n",
       "      <td>231.325989</td>\n",
       "      <td>...</td>\n",
       "      <td>103.557388</td>\n",
       "      <td>64.331024</td>\n",
       "      <td>NaN</td>\n",
       "      <td>98.775711</td>\n",
       "      <td>37.346058</td>\n",
       "      <td>84.066292</td>\n",
       "      <td>NaN</td>\n",
       "      <td>11.739863</td>\n",
       "      <td>5385.459961</td>\n",
       "      <td>1.116857</td>\n",
       "    </tr>\n",
       "    <tr>\n",
       "      <th>2019-05-22</th>\n",
       "      <td>114.473595</td>\n",
       "      <td>12.477123</td>\n",
       "      <td>52.299999</td>\n",
       "      <td>NaN</td>\n",
       "      <td>44.922592</td>\n",
       "      <td>30.950302</td>\n",
       "      <td>95.432442</td>\n",
       "      <td>324.590118</td>\n",
       "      <td>18.794664</td>\n",
       "      <td>233.051605</td>\n",
       "      <td>...</td>\n",
       "      <td>103.557388</td>\n",
       "      <td>64.168381</td>\n",
       "      <td>NaN</td>\n",
       "      <td>99.952133</td>\n",
       "      <td>36.943504</td>\n",
       "      <td>84.085098</td>\n",
       "      <td>NaN</td>\n",
       "      <td>11.726143</td>\n",
       "      <td>5378.979980</td>\n",
       "      <td>1.116203</td>\n",
       "    </tr>\n",
       "  </tbody>\n",
       "</table>\n",
       "<p>3 rows × 42 columns</p>\n",
       "</div>"
      ],
      "text/plain": [
       "           Basic Materials Communication Services               \\\n",
       "                 Chemicals   Advertising Agencies Broadcasting   \n",
       "                     AI.PA                 PUB.PA       VIV.PA   \n",
       "Date                                                             \n",
       "2019-05-20      115.306343              12.558084    50.950001   \n",
       "2019-05-21      114.512329              12.490617    51.250000   \n",
       "2019-05-22      114.473595              12.477123    52.299999   \n",
       "\n",
       "                             Consumer Cyclical                          \\\n",
       "           Telecom Services Auto Manufacturers            Luxury Goods   \n",
       "                     ORA.PA             RNO.PA    STLA.PA       KER.PA   \n",
       "Date                                                                     \n",
       "2019-05-20              NaN          44.463112  31.249226    94.271965   \n",
       "2019-05-21              NaN          44.657509  31.125061    95.904182   \n",
       "2019-05-22              NaN          44.922592  30.950302    95.432442   \n",
       "\n",
       "                                                 Consumer Defensive  ...  \\\n",
       "                                  Beverages—Wineries & Distilleries  ...   \n",
       "                 MC.PA     RMS.PA                             RI.PA  ...   \n",
       "Date                                                                 ...   \n",
       "2019-05-20  318.557739  18.839725                        231.230118  ...   \n",
       "2019-05-21  323.480164  18.956139                        231.325989  ...   \n",
       "2019-05-22  324.590118  18.794664                        233.051605  ...   \n",
       "\n",
       "               Missing                               \\\n",
       "               Missing                                \n",
       "                 ML.PA      MT.PA URW.PA      ^FCHI   \n",
       "Date                                                  \n",
       "2019-05-20  102.040962  63.734703    NaN  98.601425   \n",
       "2019-05-21  103.557388  64.331024    NaN  98.775711   \n",
       "2019-05-22  103.557388  64.168381    NaN  99.952133   \n",
       "\n",
       "                                Technology                            \\\n",
       "           Information Technology Services            Semiconductors   \n",
       "                                    ATO.PA     CAP.PA         STM.PA   \n",
       "Date                                                                   \n",
       "2019-05-20                       37.038956  83.614937            NaN   \n",
       "2019-05-21                       37.346058  84.066292            NaN   \n",
       "2019-05-22                       36.943504  84.085098            NaN   \n",
       "\n",
       "                                                                    Utilities  \n",
       "           Software—Application Software—Infrastructure Utilities—Diversified  \n",
       "                         DSY.PA                  WLN.PA               ENGI.PA  \n",
       "Date                                                                           \n",
       "2019-05-20            12.060001             5358.589844              1.116532  \n",
       "2019-05-21            11.739863             5385.459961              1.116857  \n",
       "2019-05-22            11.726143             5378.979980              1.116203  \n",
       "\n",
       "[3 rows x 42 columns]"
      ]
     },
     "execution_count": 11,
     "metadata": {},
     "output_type": "execute_result"
    }
   ],
   "source": [
    "df_prices.head(3)"
   ]
  },
  {
   "cell_type": "markdown",
   "id": "e41b6ba4",
   "metadata": {
    "ExecuteTime": {
     "end_time": "2021-05-18T12:21:21.525985Z",
     "start_time": "2021-05-18T12:21:21.520652Z"
    }
   },
   "source": [
    "### Retrieve ratio data from s3"
   ]
  },
  {
   "cell_type": "markdown",
   "id": "29698a76",
   "metadata": {},
   "source": [
    "#### Retrieve YF ratio data"
   ]
  },
  {
   "cell_type": "code",
   "execution_count": 12,
   "id": "66022d49",
   "metadata": {
    "ExecuteTime": {
     "end_time": "2021-05-18T20:41:02.704755Z",
     "start_time": "2021-05-18T20:41:02.573217Z"
    },
    "code_folding": []
   },
   "outputs": [],
   "source": [
    "# Read data from s3\n",
    "role = get_execution_role()\n",
    "bucket=\"euronext-stocks\"\n",
    "data_key = \"df_ratio_data.csv\"\n",
    "data_location = 's3://{}/{}'.format(bucket, data_key)\n",
    "df_ratio_data = pd.read_csv(data_location,)\n",
    "df_ratio_data.set_index(df_ratio_data[\"Unnamed: 0\"], drop=True, inplace=True)\n",
    "df_ratio_data.index.name = \"Metric\"\n",
    "df_ratio_data.drop(\"Unnamed: 0\", axis=1, inplace=True)\n",
    "# df_data.drop(df_data.index[0], inplace=True)\n",
    "# df_data.index = pd.to_datetime(df_data.index)\n",
    "# df_data.interpolate(method='linear', inplace=True) # use linear interpolation for missing values"
   ]
  },
  {
   "cell_type": "code",
   "execution_count": 13,
   "id": "ead0f424",
   "metadata": {
    "ExecuteTime": {
     "end_time": "2021-05-18T20:41:02.738253Z",
     "start_time": "2021-05-18T20:41:02.706553Z"
    },
    "scrolled": true
   },
   "outputs": [
    {
     "data": {
      "text/html": [
       "<div>\n",
       "<style scoped>\n",
       "    .dataframe tbody tr th:only-of-type {\n",
       "        vertical-align: middle;\n",
       "    }\n",
       "\n",
       "    .dataframe tbody tr th {\n",
       "        vertical-align: top;\n",
       "    }\n",
       "\n",
       "    .dataframe thead th {\n",
       "        text-align: right;\n",
       "    }\n",
       "</style>\n",
       "<table border=\"1\" class=\"dataframe\">\n",
       "  <thead>\n",
       "    <tr style=\"text-align: right;\">\n",
       "      <th></th>\n",
       "      <th>EURUSD=X</th>\n",
       "      <th>^FCHI</th>\n",
       "      <th>AI.PA</th>\n",
       "      <th>AIR.PA</th>\n",
       "      <th>ALO.PA</th>\n",
       "      <th>MT.PA</th>\n",
       "      <th>ATO.PA</th>\n",
       "      <th>CS.PA</th>\n",
       "      <th>BNP.PA</th>\n",
       "      <th>EN.PA</th>\n",
       "      <th>...</th>\n",
       "      <th>STLA.PA</th>\n",
       "      <th>STM.PA</th>\n",
       "      <th>TEP.PA</th>\n",
       "      <th>HO.PA</th>\n",
       "      <th>FP.PA</th>\n",
       "      <th>URW.PA</th>\n",
       "      <th>VIE.PA</th>\n",
       "      <th>DG.PA</th>\n",
       "      <th>VIV.PA</th>\n",
       "      <th>WLN.PA</th>\n",
       "    </tr>\n",
       "    <tr>\n",
       "      <th>Metric</th>\n",
       "      <th></th>\n",
       "      <th></th>\n",
       "      <th></th>\n",
       "      <th></th>\n",
       "      <th></th>\n",
       "      <th></th>\n",
       "      <th></th>\n",
       "      <th></th>\n",
       "      <th></th>\n",
       "      <th></th>\n",
       "      <th></th>\n",
       "      <th></th>\n",
       "      <th></th>\n",
       "      <th></th>\n",
       "      <th></th>\n",
       "      <th></th>\n",
       "      <th></th>\n",
       "      <th></th>\n",
       "      <th></th>\n",
       "      <th></th>\n",
       "      <th></th>\n",
       "    </tr>\n",
       "  </thead>\n",
       "  <tbody>\n",
       "    <tr>\n",
       "      <th>profitMargins</th>\n",
       "      <td>NaN</td>\n",
       "      <td>NaN</td>\n",
       "      <td>1.188700e-01</td>\n",
       "      <td>-5.830000e-03</td>\n",
       "      <td>2.812000e-02</td>\n",
       "      <td>NaN</td>\n",
       "      <td>4.919000e-02</td>\n",
       "      <td>2.816000e-02</td>\n",
       "      <td>1.838800e-01</td>\n",
       "      <td>2.002000e-02</td>\n",
       "      <td>...</td>\n",
       "      <td>3.578000e-02</td>\n",
       "      <td>1.161400e-01</td>\n",
       "      <td>5.652000e-02</td>\n",
       "      <td>2.845000e-02</td>\n",
       "      <td>NaN</td>\n",
       "      <td>NaN</td>\n",
       "      <td>5.960000e-03</td>\n",
       "      <td>2.815000e-02</td>\n",
       "      <td>8.949999e-02</td>\n",
       "      <td>5.957000e-02</td>\n",
       "    </tr>\n",
       "    <tr>\n",
       "      <th>payoutRatio</th>\n",
       "      <td>NaN</td>\n",
       "      <td>NaN</td>\n",
       "      <td>5.253000e-01</td>\n",
       "      <td>0.000000e+00</td>\n",
       "      <td>0.000000e+00</td>\n",
       "      <td>NaN</td>\n",
       "      <td>0.000000e+00</td>\n",
       "      <td>5.840000e-01</td>\n",
       "      <td>0.000000e+00</td>\n",
       "      <td>9.290000e-01</td>\n",
       "      <td>...</td>\n",
       "      <td>0.000000e+00</td>\n",
       "      <td>1.217000e-01</td>\n",
       "      <td>4.348000e-01</td>\n",
       "      <td>1.762000e-01</td>\n",
       "      <td>NaN</td>\n",
       "      <td>NaN</td>\n",
       "      <td>2.631600e+00</td>\n",
       "      <td>5.682000e-01</td>\n",
       "      <td>4.762000e-01</td>\n",
       "      <td>0.000000e+00</td>\n",
       "    </tr>\n",
       "    <tr>\n",
       "      <th>sharesOutstanding</th>\n",
       "      <td>NaN</td>\n",
       "      <td>NaN</td>\n",
       "      <td>4.719200e+08</td>\n",
       "      <td>7.855880e+08</td>\n",
       "      <td>3.712050e+08</td>\n",
       "      <td>NaN</td>\n",
       "      <td>1.092480e+08</td>\n",
       "      <td>2.386560e+09</td>\n",
       "      <td>1.248800e+09</td>\n",
       "      <td>3.807380e+08</td>\n",
       "      <td>...</td>\n",
       "      <td>3.124240e+09</td>\n",
       "      <td>8.995120e+08</td>\n",
       "      <td>5.871710e+07</td>\n",
       "      <td>2.129950e+08</td>\n",
       "      <td>NaN</td>\n",
       "      <td>NaN</td>\n",
       "      <td>5.672170e+08</td>\n",
       "      <td>5.669920e+08</td>\n",
       "      <td>1.086270e+09</td>\n",
       "      <td>2.792600e+08</td>\n",
       "    </tr>\n",
       "    <tr>\n",
       "      <th>trailingEps</th>\n",
       "      <td>NaN</td>\n",
       "      <td>NaN</td>\n",
       "      <td>5.140000e+00</td>\n",
       "      <td>-3.800000e-01</td>\n",
       "      <td>1.800000e+00</td>\n",
       "      <td>NaN</td>\n",
       "      <td>5.046000e+00</td>\n",
       "      <td>1.250000e+00</td>\n",
       "      <td>5.684000e+00</td>\n",
       "      <td>1.830000e+00</td>\n",
       "      <td>...</td>\n",
       "      <td>2.330000e+00</td>\n",
       "      <td>1.136000e+00</td>\n",
       "      <td>5.520000e+00</td>\n",
       "      <td>2.270000e+00</td>\n",
       "      <td>NaN</td>\n",
       "      <td>NaN</td>\n",
       "      <td>2.750000e-01</td>\n",
       "      <td>2.200000e+00</td>\n",
       "      <td>1.260000e+00</td>\n",
       "      <td>8.140000e-01</td>\n",
       "    </tr>\n",
       "    <tr>\n",
       "      <th>forwardEps</th>\n",
       "      <td>NaN</td>\n",
       "      <td>NaN</td>\n",
       "      <td>5.750000e+00</td>\n",
       "      <td>5.580000e+00</td>\n",
       "      <td>NaN</td>\n",
       "      <td>NaN</td>\n",
       "      <td>9.620000e+00</td>\n",
       "      <td>2.800000e+00</td>\n",
       "      <td>6.110000e+00</td>\n",
       "      <td>2.930000e+00</td>\n",
       "      <td>...</td>\n",
       "      <td>NaN</td>\n",
       "      <td>1.340000e+00</td>\n",
       "      <td>8.010000e+00</td>\n",
       "      <td>6.360000e+00</td>\n",
       "      <td>NaN</td>\n",
       "      <td>NaN</td>\n",
       "      <td>NaN</td>\n",
       "      <td>5.830000e+00</td>\n",
       "      <td>1.050000e+00</td>\n",
       "      <td>1.170000e+00</td>\n",
       "    </tr>\n",
       "    <tr>\n",
       "      <th>Total Cash From Operating Activities</th>\n",
       "      <td>NaN</td>\n",
       "      <td>NaN</td>\n",
       "      <td>5.205700e+09</td>\n",
       "      <td>-5.420000e+09</td>\n",
       "      <td>NaN</td>\n",
       "      <td>NaN</td>\n",
       "      <td>1.219000e+09</td>\n",
       "      <td>2.553400e+10</td>\n",
       "      <td>1.393240e+11</td>\n",
       "      <td>3.406000e+09</td>\n",
       "      <td>...</td>\n",
       "      <td>6.202000e+09</td>\n",
       "      <td>2.093000e+09</td>\n",
       "      <td>9.890000e+08</td>\n",
       "      <td>1.345600e+09</td>\n",
       "      <td>1.480300e+10</td>\n",
       "      <td>NaN</td>\n",
       "      <td>2.725000e+09</td>\n",
       "      <td>6.675000e+09</td>\n",
       "      <td>1.226000e+09</td>\n",
       "      <td>5.113000e+08</td>\n",
       "    </tr>\n",
       "    <tr>\n",
       "      <th>Total Liab</th>\n",
       "      <td>NaN</td>\n",
       "      <td>NaN</td>\n",
       "      <td>2.297250e+10</td>\n",
       "      <td>1.036390e+11</td>\n",
       "      <td>NaN</td>\n",
       "      <td>NaN</td>\n",
       "      <td>1.125600e+10</td>\n",
       "      <td>7.191930e+11</td>\n",
       "      <td>2.371142e+12</td>\n",
       "      <td>2.882000e+10</td>\n",
       "      <td>...</td>\n",
       "      <td>4.963600e+10</td>\n",
       "      <td>5.948000e+09</td>\n",
       "      <td>4.615000e+09</td>\n",
       "      <td>2.649790e+10</td>\n",
       "      <td>1.600470e+11</td>\n",
       "      <td>NaN</td>\n",
       "      <td>3.704920e+10</td>\n",
       "      <td>6.814100e+10</td>\n",
       "      <td>2.169100e+10</td>\n",
       "      <td>9.283600e+09</td>\n",
       "    </tr>\n",
       "    <tr>\n",
       "      <th>Total Stockholder Equity</th>\n",
       "      <td>NaN</td>\n",
       "      <td>NaN</td>\n",
       "      <td>1.854230e+10</td>\n",
       "      <td>6.445000e+09</td>\n",
       "      <td>NaN</td>\n",
       "      <td>NaN</td>\n",
       "      <td>6.861000e+09</td>\n",
       "      <td>7.161000e+10</td>\n",
       "      <td>1.127990e+11</td>\n",
       "      <td>1.034000e+10</td>\n",
       "      <td>...</td>\n",
       "      <td>2.129400e+10</td>\n",
       "      <td>8.448000e+09</td>\n",
       "      <td>2.409000e+09</td>\n",
       "      <td>5.114900e+09</td>\n",
       "      <td>1.037020e+11</td>\n",
       "      <td>NaN</td>\n",
       "      <td>7.216200e+09</td>\n",
       "      <td>2.086300e+10</td>\n",
       "      <td>1.575900e+10</td>\n",
       "      <td>9.480600e+09</td>\n",
       "    </tr>\n",
       "    <tr>\n",
       "      <th>Total Current Assets</th>\n",
       "      <td>NaN</td>\n",
       "      <td>NaN</td>\n",
       "      <td>6.366300e+09</td>\n",
       "      <td>5.840000e+10</td>\n",
       "      <td>NaN</td>\n",
       "      <td>NaN</td>\n",
       "      <td>7.816000e+09</td>\n",
       "      <td>1.268810e+11</td>\n",
       "      <td>1.165380e+12</td>\n",
       "      <td>1.921400e+10</td>\n",
       "      <td>...</td>\n",
       "      <td>3.525800e+10</td>\n",
       "      <td>7.610000e+09</td>\n",
       "      <td>2.680000e+09</td>\n",
       "      <td>1.742650e+10</td>\n",
       "      <td>7.967900e+10</td>\n",
       "      <td>NaN</td>\n",
       "      <td>1.762030e+10</td>\n",
       "      <td>3.203900e+10</td>\n",
       "      <td>8.433000e+09</td>\n",
       "      <td>4.606100e+09</td>\n",
       "    </tr>\n",
       "    <tr>\n",
       "      <th>Total Current Liabilities</th>\n",
       "      <td>NaN</td>\n",
       "      <td>NaN</td>\n",
       "      <td>7.275100e+09</td>\n",
       "      <td>4.977100e+10</td>\n",
       "      <td>NaN</td>\n",
       "      <td>NaN</td>\n",
       "      <td>5.871000e+09</td>\n",
       "      <td>2.131180e+11</td>\n",
       "      <td>1.703883e+12</td>\n",
       "      <td>1.938400e+10</td>\n",
       "      <td>...</td>\n",
       "      <td>3.081300e+10</td>\n",
       "      <td>3.053000e+09</td>\n",
       "      <td>1.641000e+09</td>\n",
       "      <td>1.717570e+10</td>\n",
       "      <td>6.467600e+10</td>\n",
       "      <td>NaN</td>\n",
       "      <td>2.044960e+10</td>\n",
       "      <td>3.346800e+10</td>\n",
       "      <td>1.330800e+10</td>\n",
       "      <td>4.523100e+09</td>\n",
       "    </tr>\n",
       "    <tr>\n",
       "      <th>Total Revenue</th>\n",
       "      <td>NaN</td>\n",
       "      <td>NaN</td>\n",
       "      <td>2.048520e+10</td>\n",
       "      <td>4.991200e+10</td>\n",
       "      <td>NaN</td>\n",
       "      <td>NaN</td>\n",
       "      <td>1.118100e+10</td>\n",
       "      <td>1.123470e+11</td>\n",
       "      <td>3.958800e+10</td>\n",
       "      <td>3.476000e+10</td>\n",
       "      <td>...</td>\n",
       "      <td>6.073400e+10</td>\n",
       "      <td>1.021900e+10</td>\n",
       "      <td>5.732000e+09</td>\n",
       "      <td>1.698890e+10</td>\n",
       "      <td>1.197040e+11</td>\n",
       "      <td>NaN</td>\n",
       "      <td>2.600990e+10</td>\n",
       "      <td>4.411800e+10</td>\n",
       "      <td>1.609000e+10</td>\n",
       "      <td>2.747800e+09</td>\n",
       "    </tr>\n",
       "  </tbody>\n",
       "</table>\n",
       "<p>11 rows × 42 columns</p>\n",
       "</div>"
      ],
      "text/plain": [
       "                                      EURUSD=X  ^FCHI         AI.PA  \\\n",
       "Metric                                                                \n",
       "profitMargins                              NaN    NaN  1.188700e-01   \n",
       "payoutRatio                                NaN    NaN  5.253000e-01   \n",
       "sharesOutstanding                          NaN    NaN  4.719200e+08   \n",
       "trailingEps                                NaN    NaN  5.140000e+00   \n",
       "forwardEps                                 NaN    NaN  5.750000e+00   \n",
       "Total Cash From Operating Activities       NaN    NaN  5.205700e+09   \n",
       "Total Liab                                 NaN    NaN  2.297250e+10   \n",
       "Total Stockholder Equity                   NaN    NaN  1.854230e+10   \n",
       "Total Current Assets                       NaN    NaN  6.366300e+09   \n",
       "Total Current Liabilities                  NaN    NaN  7.275100e+09   \n",
       "Total Revenue                              NaN    NaN  2.048520e+10   \n",
       "\n",
       "                                            AIR.PA        ALO.PA  MT.PA  \\\n",
       "Metric                                                                    \n",
       "profitMargins                        -5.830000e-03  2.812000e-02    NaN   \n",
       "payoutRatio                           0.000000e+00  0.000000e+00    NaN   \n",
       "sharesOutstanding                     7.855880e+08  3.712050e+08    NaN   \n",
       "trailingEps                          -3.800000e-01  1.800000e+00    NaN   \n",
       "forwardEps                            5.580000e+00           NaN    NaN   \n",
       "Total Cash From Operating Activities -5.420000e+09           NaN    NaN   \n",
       "Total Liab                            1.036390e+11           NaN    NaN   \n",
       "Total Stockholder Equity              6.445000e+09           NaN    NaN   \n",
       "Total Current Assets                  5.840000e+10           NaN    NaN   \n",
       "Total Current Liabilities             4.977100e+10           NaN    NaN   \n",
       "Total Revenue                         4.991200e+10           NaN    NaN   \n",
       "\n",
       "                                            ATO.PA         CS.PA  \\\n",
       "Metric                                                             \n",
       "profitMargins                         4.919000e-02  2.816000e-02   \n",
       "payoutRatio                           0.000000e+00  5.840000e-01   \n",
       "sharesOutstanding                     1.092480e+08  2.386560e+09   \n",
       "trailingEps                           5.046000e+00  1.250000e+00   \n",
       "forwardEps                            9.620000e+00  2.800000e+00   \n",
       "Total Cash From Operating Activities  1.219000e+09  2.553400e+10   \n",
       "Total Liab                            1.125600e+10  7.191930e+11   \n",
       "Total Stockholder Equity              6.861000e+09  7.161000e+10   \n",
       "Total Current Assets                  7.816000e+09  1.268810e+11   \n",
       "Total Current Liabilities             5.871000e+09  2.131180e+11   \n",
       "Total Revenue                         1.118100e+10  1.123470e+11   \n",
       "\n",
       "                                            BNP.PA         EN.PA  ...  \\\n",
       "Metric                                                            ...   \n",
       "profitMargins                         1.838800e-01  2.002000e-02  ...   \n",
       "payoutRatio                           0.000000e+00  9.290000e-01  ...   \n",
       "sharesOutstanding                     1.248800e+09  3.807380e+08  ...   \n",
       "trailingEps                           5.684000e+00  1.830000e+00  ...   \n",
       "forwardEps                            6.110000e+00  2.930000e+00  ...   \n",
       "Total Cash From Operating Activities  1.393240e+11  3.406000e+09  ...   \n",
       "Total Liab                            2.371142e+12  2.882000e+10  ...   \n",
       "Total Stockholder Equity              1.127990e+11  1.034000e+10  ...   \n",
       "Total Current Assets                  1.165380e+12  1.921400e+10  ...   \n",
       "Total Current Liabilities             1.703883e+12  1.938400e+10  ...   \n",
       "Total Revenue                         3.958800e+10  3.476000e+10  ...   \n",
       "\n",
       "                                           STLA.PA        STM.PA  \\\n",
       "Metric                                                             \n",
       "profitMargins                         3.578000e-02  1.161400e-01   \n",
       "payoutRatio                           0.000000e+00  1.217000e-01   \n",
       "sharesOutstanding                     3.124240e+09  8.995120e+08   \n",
       "trailingEps                           2.330000e+00  1.136000e+00   \n",
       "forwardEps                                     NaN  1.340000e+00   \n",
       "Total Cash From Operating Activities  6.202000e+09  2.093000e+09   \n",
       "Total Liab                            4.963600e+10  5.948000e+09   \n",
       "Total Stockholder Equity              2.129400e+10  8.448000e+09   \n",
       "Total Current Assets                  3.525800e+10  7.610000e+09   \n",
       "Total Current Liabilities             3.081300e+10  3.053000e+09   \n",
       "Total Revenue                         6.073400e+10  1.021900e+10   \n",
       "\n",
       "                                            TEP.PA         HO.PA  \\\n",
       "Metric                                                             \n",
       "profitMargins                         5.652000e-02  2.845000e-02   \n",
       "payoutRatio                           4.348000e-01  1.762000e-01   \n",
       "sharesOutstanding                     5.871710e+07  2.129950e+08   \n",
       "trailingEps                           5.520000e+00  2.270000e+00   \n",
       "forwardEps                            8.010000e+00  6.360000e+00   \n",
       "Total Cash From Operating Activities  9.890000e+08  1.345600e+09   \n",
       "Total Liab                            4.615000e+09  2.649790e+10   \n",
       "Total Stockholder Equity              2.409000e+09  5.114900e+09   \n",
       "Total Current Assets                  2.680000e+09  1.742650e+10   \n",
       "Total Current Liabilities             1.641000e+09  1.717570e+10   \n",
       "Total Revenue                         5.732000e+09  1.698890e+10   \n",
       "\n",
       "                                             FP.PA  URW.PA        VIE.PA  \\\n",
       "Metric                                                                     \n",
       "profitMargins                                  NaN     NaN  5.960000e-03   \n",
       "payoutRatio                                    NaN     NaN  2.631600e+00   \n",
       "sharesOutstanding                              NaN     NaN  5.672170e+08   \n",
       "trailingEps                                    NaN     NaN  2.750000e-01   \n",
       "forwardEps                                     NaN     NaN           NaN   \n",
       "Total Cash From Operating Activities  1.480300e+10     NaN  2.725000e+09   \n",
       "Total Liab                            1.600470e+11     NaN  3.704920e+10   \n",
       "Total Stockholder Equity              1.037020e+11     NaN  7.216200e+09   \n",
       "Total Current Assets                  7.967900e+10     NaN  1.762030e+10   \n",
       "Total Current Liabilities             6.467600e+10     NaN  2.044960e+10   \n",
       "Total Revenue                         1.197040e+11     NaN  2.600990e+10   \n",
       "\n",
       "                                             DG.PA        VIV.PA        WLN.PA  \n",
       "Metric                                                                          \n",
       "profitMargins                         2.815000e-02  8.949999e-02  5.957000e-02  \n",
       "payoutRatio                           5.682000e-01  4.762000e-01  0.000000e+00  \n",
       "sharesOutstanding                     5.669920e+08  1.086270e+09  2.792600e+08  \n",
       "trailingEps                           2.200000e+00  1.260000e+00  8.140000e-01  \n",
       "forwardEps                            5.830000e+00  1.050000e+00  1.170000e+00  \n",
       "Total Cash From Operating Activities  6.675000e+09  1.226000e+09  5.113000e+08  \n",
       "Total Liab                            6.814100e+10  2.169100e+10  9.283600e+09  \n",
       "Total Stockholder Equity              2.086300e+10  1.575900e+10  9.480600e+09  \n",
       "Total Current Assets                  3.203900e+10  8.433000e+09  4.606100e+09  \n",
       "Total Current Liabilities             3.346800e+10  1.330800e+10  4.523100e+09  \n",
       "Total Revenue                         4.411800e+10  1.609000e+10  2.747800e+09  \n",
       "\n",
       "[11 rows x 42 columns]"
      ]
     },
     "execution_count": 13,
     "metadata": {},
     "output_type": "execute_result"
    }
   ],
   "source": [
    "df_ratio_data"
   ]
  },
  {
   "cell_type": "markdown",
   "id": "c2a19bc2",
   "metadata": {},
   "source": [
    "#### Retrieve Pre_calculated Trailing PE"
   ]
  },
  {
   "cell_type": "code",
   "execution_count": 14,
   "id": "ac105d36",
   "metadata": {
    "ExecuteTime": {
     "end_time": "2021-05-18T20:41:03.039489Z",
     "start_time": "2021-05-18T20:41:02.740074Z"
    },
    "code_folding": [
     0
    ]
   },
   "outputs": [],
   "source": [
    "# Read data from s3\n",
    "role = get_execution_role()\n",
    "bucket=\"euronext-stocks\"\n",
    "data_key = \"df_trailing_pe_data.csv\"\n",
    "data_location = 's3://{}/{}'.format(bucket, data_key)\n",
    "df_trailing_pe_data = pd.read_csv(data_location,)\n",
    "df_trailing_pe_data.set_index(df_trailing_pe_data[\"Date\"], drop=True, inplace=True)\n",
    "df_trailing_pe_data.index.name = \"Date\"\n",
    "df_trailing_pe_data.drop(\"Date\", axis=1, inplace=True)"
   ]
  },
  {
   "cell_type": "code",
   "execution_count": 15,
   "id": "7d8947f1",
   "metadata": {
    "ExecuteTime": {
     "end_time": "2021-05-18T20:41:03.064605Z",
     "start_time": "2021-05-18T20:41:03.041267Z"
    }
   },
   "outputs": [
    {
     "data": {
      "text/html": [
       "<div>\n",
       "<style scoped>\n",
       "    .dataframe tbody tr th:only-of-type {\n",
       "        vertical-align: middle;\n",
       "    }\n",
       "\n",
       "    .dataframe tbody tr th {\n",
       "        vertical-align: top;\n",
       "    }\n",
       "\n",
       "    .dataframe thead th {\n",
       "        text-align: right;\n",
       "    }\n",
       "</style>\n",
       "<table border=\"1\" class=\"dataframe\">\n",
       "  <thead>\n",
       "    <tr style=\"text-align: right;\">\n",
       "      <th></th>\n",
       "      <th>EURUSD=X</th>\n",
       "      <th>^FCHI</th>\n",
       "      <th>AI.PA</th>\n",
       "      <th>AIR.PA</th>\n",
       "      <th>ALO.PA</th>\n",
       "      <th>MT.PA</th>\n",
       "      <th>ATO.PA</th>\n",
       "      <th>CS.PA</th>\n",
       "      <th>BNP.PA</th>\n",
       "      <th>EN.PA</th>\n",
       "      <th>...</th>\n",
       "      <th>STLA.PA</th>\n",
       "      <th>STM.PA</th>\n",
       "      <th>TEP.PA</th>\n",
       "      <th>HO.PA</th>\n",
       "      <th>FP.PA</th>\n",
       "      <th>URW.PA</th>\n",
       "      <th>VIE.PA</th>\n",
       "      <th>DG.PA</th>\n",
       "      <th>VIV.PA</th>\n",
       "      <th>WLN.PA</th>\n",
       "    </tr>\n",
       "    <tr>\n",
       "      <th>Date</th>\n",
       "      <th></th>\n",
       "      <th></th>\n",
       "      <th></th>\n",
       "      <th></th>\n",
       "      <th></th>\n",
       "      <th></th>\n",
       "      <th></th>\n",
       "      <th></th>\n",
       "      <th></th>\n",
       "      <th></th>\n",
       "      <th></th>\n",
       "      <th></th>\n",
       "      <th></th>\n",
       "      <th></th>\n",
       "      <th></th>\n",
       "      <th></th>\n",
       "      <th></th>\n",
       "      <th></th>\n",
       "      <th></th>\n",
       "      <th></th>\n",
       "      <th></th>\n",
       "    </tr>\n",
       "  </thead>\n",
       "  <tbody>\n",
       "    <tr>\n",
       "      <th>2019-05-20</th>\n",
       "      <td>NaN</td>\n",
       "      <td>NaN</td>\n",
       "      <td>19.183157</td>\n",
       "      <td>-303.437745</td>\n",
       "      <td>19.091161</td>\n",
       "      <td>NaN</td>\n",
       "      <td>13.464226</td>\n",
       "      <td>14.799582</td>\n",
       "      <td>6.516354</td>\n",
       "      <td>15.485495</td>\n",
       "      <td>...</td>\n",
       "      <td>NaN</td>\n",
       "      <td>12.232867</td>\n",
       "      <td>29.313378</td>\n",
       "      <td>41.529500</td>\n",
       "      <td>NaN</td>\n",
       "      <td>NaN</td>\n",
       "      <td>69.019137</td>\n",
       "      <td>38.006789</td>\n",
       "      <td>18.947085</td>\n",
       "      <td>62.592139</td>\n",
       "    </tr>\n",
       "    <tr>\n",
       "      <th>2019-05-21</th>\n",
       "      <td>NaN</td>\n",
       "      <td>NaN</td>\n",
       "      <td>19.217064</td>\n",
       "      <td>-301.348234</td>\n",
       "      <td>19.374718</td>\n",
       "      <td>NaN</td>\n",
       "      <td>13.822856</td>\n",
       "      <td>14.908521</td>\n",
       "      <td>6.570383</td>\n",
       "      <td>15.557099</td>\n",
       "      <td>...</td>\n",
       "      <td>NaN</td>\n",
       "      <td>12.742210</td>\n",
       "      <td>29.700003</td>\n",
       "      <td>42.248539</td>\n",
       "      <td>NaN</td>\n",
       "      <td>NaN</td>\n",
       "      <td>69.846545</td>\n",
       "      <td>38.211951</td>\n",
       "      <td>19.016516</td>\n",
       "      <td>62.960688</td>\n",
       "    </tr>\n",
       "    <tr>\n",
       "      <th>2019-05-22</th>\n",
       "      <td>NaN</td>\n",
       "      <td>NaN</td>\n",
       "      <td>19.445940</td>\n",
       "      <td>-301.246302</td>\n",
       "      <td>19.496941</td>\n",
       "      <td>NaN</td>\n",
       "      <td>14.193181</td>\n",
       "      <td>14.812785</td>\n",
       "      <td>6.499561</td>\n",
       "      <td>15.428213</td>\n",
       "      <td>...</td>\n",
       "      <td>NaN</td>\n",
       "      <td>12.565235</td>\n",
       "      <td>30.648997</td>\n",
       "      <td>42.040723</td>\n",
       "      <td>NaN</td>\n",
       "      <td>NaN</td>\n",
       "      <td>70.156819</td>\n",
       "      <td>38.220499</td>\n",
       "      <td>18.939369</td>\n",
       "      <td>64.250613</td>\n",
       "    </tr>\n",
       "  </tbody>\n",
       "</table>\n",
       "<p>3 rows × 42 columns</p>\n",
       "</div>"
      ],
      "text/plain": [
       "            EURUSD=X  ^FCHI      AI.PA      AIR.PA     ALO.PA  MT.PA  \\\n",
       "Date                                                                   \n",
       "2019-05-20       NaN    NaN  19.183157 -303.437745  19.091161    NaN   \n",
       "2019-05-21       NaN    NaN  19.217064 -301.348234  19.374718    NaN   \n",
       "2019-05-22       NaN    NaN  19.445940 -301.246302  19.496941    NaN   \n",
       "\n",
       "               ATO.PA      CS.PA    BNP.PA      EN.PA  ...  STLA.PA  \\\n",
       "Date                                                   ...            \n",
       "2019-05-20  13.464226  14.799582  6.516354  15.485495  ...      NaN   \n",
       "2019-05-21  13.822856  14.908521  6.570383  15.557099  ...      NaN   \n",
       "2019-05-22  14.193181  14.812785  6.499561  15.428213  ...      NaN   \n",
       "\n",
       "               STM.PA     TEP.PA      HO.PA  FP.PA  URW.PA     VIE.PA  \\\n",
       "Date                                                                    \n",
       "2019-05-20  12.232867  29.313378  41.529500    NaN     NaN  69.019137   \n",
       "2019-05-21  12.742210  29.700003  42.248539    NaN     NaN  69.846545   \n",
       "2019-05-22  12.565235  30.648997  42.040723    NaN     NaN  70.156819   \n",
       "\n",
       "                DG.PA     VIV.PA     WLN.PA  \n",
       "Date                                         \n",
       "2019-05-20  38.006789  18.947085  62.592139  \n",
       "2019-05-21  38.211951  19.016516  62.960688  \n",
       "2019-05-22  38.220499  18.939369  64.250613  \n",
       "\n",
       "[3 rows x 42 columns]"
      ]
     },
     "execution_count": 15,
     "metadata": {},
     "output_type": "execute_result"
    }
   ],
   "source": [
    "df_trailing_pe_data.head(3)"
   ]
  },
  {
   "cell_type": "markdown",
   "id": "e7702fe6",
   "metadata": {},
   "source": [
    "#### Retrieve Pre_calculated Forward PE"
   ]
  },
  {
   "cell_type": "code",
   "execution_count": 16,
   "id": "098d42bb",
   "metadata": {
    "ExecuteTime": {
     "end_time": "2021-05-18T20:41:03.204178Z",
     "start_time": "2021-05-18T20:41:03.066468Z"
    },
    "code_folding": [
     0
    ]
   },
   "outputs": [],
   "source": [
    "# Read data from s3\n",
    "role = get_execution_role()\n",
    "bucket=\"euronext-stocks\"\n",
    "data_key = \"df_forward_pe_data.csv\"\n",
    "data_location = 's3://{}/{}'.format(bucket, data_key)\n",
    "df_forward_pe_data = pd.read_csv(data_location,)\n",
    "df_forward_pe_data.set_index(df_forward_pe_data[\"Date\"], drop=True, inplace=True)\n",
    "df_forward_pe_data.index.name = \"Date\"\n",
    "df_forward_pe_data.drop(\"Date\", axis=1, inplace=True)"
   ]
  },
  {
   "cell_type": "code",
   "execution_count": 17,
   "id": "0c7cb55b",
   "metadata": {
    "ExecuteTime": {
     "end_time": "2021-05-18T20:41:03.228989Z",
     "start_time": "2021-05-18T20:41:03.206115Z"
    }
   },
   "outputs": [
    {
     "data": {
      "text/html": [
       "<div>\n",
       "<style scoped>\n",
       "    .dataframe tbody tr th:only-of-type {\n",
       "        vertical-align: middle;\n",
       "    }\n",
       "\n",
       "    .dataframe tbody tr th {\n",
       "        vertical-align: top;\n",
       "    }\n",
       "\n",
       "    .dataframe thead th {\n",
       "        text-align: right;\n",
       "    }\n",
       "</style>\n",
       "<table border=\"1\" class=\"dataframe\">\n",
       "  <thead>\n",
       "    <tr style=\"text-align: right;\">\n",
       "      <th></th>\n",
       "      <th>EURUSD=X</th>\n",
       "      <th>^FCHI</th>\n",
       "      <th>AI.PA</th>\n",
       "      <th>AIR.PA</th>\n",
       "      <th>ALO.PA</th>\n",
       "      <th>MT.PA</th>\n",
       "      <th>ATO.PA</th>\n",
       "      <th>CS.PA</th>\n",
       "      <th>BNP.PA</th>\n",
       "      <th>EN.PA</th>\n",
       "      <th>...</th>\n",
       "      <th>STLA.PA</th>\n",
       "      <th>STM.PA</th>\n",
       "      <th>TEP.PA</th>\n",
       "      <th>HO.PA</th>\n",
       "      <th>FP.PA</th>\n",
       "      <th>URW.PA</th>\n",
       "      <th>VIE.PA</th>\n",
       "      <th>DG.PA</th>\n",
       "      <th>VIV.PA</th>\n",
       "      <th>WLN.PA</th>\n",
       "    </tr>\n",
       "    <tr>\n",
       "      <th>Date</th>\n",
       "      <th></th>\n",
       "      <th></th>\n",
       "      <th></th>\n",
       "      <th></th>\n",
       "      <th></th>\n",
       "      <th></th>\n",
       "      <th></th>\n",
       "      <th></th>\n",
       "      <th></th>\n",
       "      <th></th>\n",
       "      <th></th>\n",
       "      <th></th>\n",
       "      <th></th>\n",
       "      <th></th>\n",
       "      <th></th>\n",
       "      <th></th>\n",
       "      <th></th>\n",
       "      <th></th>\n",
       "      <th></th>\n",
       "      <th></th>\n",
       "      <th></th>\n",
       "    </tr>\n",
       "  </thead>\n",
       "  <tbody>\n",
       "    <tr>\n",
       "      <th>2019-05-20</th>\n",
       "      <td>NaN</td>\n",
       "      <td>NaN</td>\n",
       "      <td>17.148074</td>\n",
       "      <td>20.664219</td>\n",
       "      <td>NaN</td>\n",
       "      <td>NaN</td>\n",
       "      <td>7.062420</td>\n",
       "      <td>6.606956</td>\n",
       "      <td>6.062022</td>\n",
       "      <td>9.671828</td>\n",
       "      <td>...</td>\n",
       "      <td>NaN</td>\n",
       "      <td>10.370550</td>\n",
       "      <td>20.200979</td>\n",
       "      <td>14.822636</td>\n",
       "      <td>NaN</td>\n",
       "      <td>NaN</td>\n",
       "      <td>NaN</td>\n",
       "      <td>14.342185</td>\n",
       "      <td>22.736502</td>\n",
       "      <td>43.547009</td>\n",
       "    </tr>\n",
       "    <tr>\n",
       "      <th>2019-05-21</th>\n",
       "      <td>NaN</td>\n",
       "      <td>NaN</td>\n",
       "      <td>17.178385</td>\n",
       "      <td>20.521923</td>\n",
       "      <td>NaN</td>\n",
       "      <td>NaN</td>\n",
       "      <td>7.250533</td>\n",
       "      <td>6.655590</td>\n",
       "      <td>6.112284</td>\n",
       "      <td>9.716550</td>\n",
       "      <td>...</td>\n",
       "      <td>NaN</td>\n",
       "      <td>10.802351</td>\n",
       "      <td>20.467418</td>\n",
       "      <td>15.079274</td>\n",
       "      <td>NaN</td>\n",
       "      <td>NaN</td>\n",
       "      <td>NaN</td>\n",
       "      <td>14.419604</td>\n",
       "      <td>22.819819</td>\n",
       "      <td>43.803419</td>\n",
       "    </tr>\n",
       "    <tr>\n",
       "      <th>2019-05-22</th>\n",
       "      <td>NaN</td>\n",
       "      <td>NaN</td>\n",
       "      <td>17.382980</td>\n",
       "      <td>20.514981</td>\n",
       "      <td>NaN</td>\n",
       "      <td>NaN</td>\n",
       "      <td>7.444781</td>\n",
       "      <td>6.612851</td>\n",
       "      <td>6.046400</td>\n",
       "      <td>9.636051</td>\n",
       "      <td>...</td>\n",
       "      <td>NaN</td>\n",
       "      <td>10.652319</td>\n",
       "      <td>21.121406</td>\n",
       "      <td>15.005101</td>\n",
       "      <td>NaN</td>\n",
       "      <td>NaN</td>\n",
       "      <td>NaN</td>\n",
       "      <td>14.422830</td>\n",
       "      <td>22.727243</td>\n",
       "      <td>44.700854</td>\n",
       "    </tr>\n",
       "  </tbody>\n",
       "</table>\n",
       "<p>3 rows × 42 columns</p>\n",
       "</div>"
      ],
      "text/plain": [
       "            EURUSD=X  ^FCHI      AI.PA     AIR.PA  ALO.PA  MT.PA    ATO.PA  \\\n",
       "Date                                                                         \n",
       "2019-05-20       NaN    NaN  17.148074  20.664219     NaN    NaN  7.062420   \n",
       "2019-05-21       NaN    NaN  17.178385  20.521923     NaN    NaN  7.250533   \n",
       "2019-05-22       NaN    NaN  17.382980  20.514981     NaN    NaN  7.444781   \n",
       "\n",
       "               CS.PA    BNP.PA     EN.PA  ...  STLA.PA     STM.PA     TEP.PA  \\\n",
       "Date                                      ...                                  \n",
       "2019-05-20  6.606956  6.062022  9.671828  ...      NaN  10.370550  20.200979   \n",
       "2019-05-21  6.655590  6.112284  9.716550  ...      NaN  10.802351  20.467418   \n",
       "2019-05-22  6.612851  6.046400  9.636051  ...      NaN  10.652319  21.121406   \n",
       "\n",
       "                HO.PA  FP.PA  URW.PA  VIE.PA      DG.PA     VIV.PA     WLN.PA  \n",
       "Date                                                                           \n",
       "2019-05-20  14.822636    NaN     NaN     NaN  14.342185  22.736502  43.547009  \n",
       "2019-05-21  15.079274    NaN     NaN     NaN  14.419604  22.819819  43.803419  \n",
       "2019-05-22  15.005101    NaN     NaN     NaN  14.422830  22.727243  44.700854  \n",
       "\n",
       "[3 rows x 42 columns]"
      ]
     },
     "execution_count": 17,
     "metadata": {},
     "output_type": "execute_result"
    }
   ],
   "source": [
    "df_forward_pe_data.head(3)"
   ]
  },
  {
   "cell_type": "markdown",
   "id": "b8ee33d2",
   "metadata": {},
   "source": [
    "## Slicing"
   ]
  },
  {
   "cell_type": "code",
   "execution_count": 18,
   "id": "041eb2b4",
   "metadata": {
    "ExecuteTime": {
     "end_time": "2021-05-18T20:41:03.247305Z",
     "start_time": "2021-05-18T20:41:03.230567Z"
    },
    "code_folding": [
     0
    ]
   },
   "outputs": [
    {
     "data": {
      "text/html": [
       "<div>\n",
       "<style scoped>\n",
       "    .dataframe tbody tr th:only-of-type {\n",
       "        vertical-align: middle;\n",
       "    }\n",
       "\n",
       "    .dataframe tbody tr th {\n",
       "        vertical-align: top;\n",
       "    }\n",
       "\n",
       "    .dataframe thead th {\n",
       "        text-align: right;\n",
       "    }\n",
       "</style>\n",
       "<table border=\"1\" class=\"dataframe\">\n",
       "  <thead>\n",
       "    <tr style=\"text-align: right;\">\n",
       "      <th></th>\n",
       "      <th>Adj Close</th>\n",
       "      <th>Close</th>\n",
       "      <th>High</th>\n",
       "      <th>Low</th>\n",
       "      <th>Open</th>\n",
       "      <th>Volume</th>\n",
       "    </tr>\n",
       "    <tr>\n",
       "      <th>Date</th>\n",
       "      <th></th>\n",
       "      <th></th>\n",
       "      <th></th>\n",
       "      <th></th>\n",
       "      <th></th>\n",
       "      <th></th>\n",
       "    </tr>\n",
       "  </thead>\n",
       "  <tbody>\n",
       "    <tr>\n",
       "      <th>2019-05-20</th>\n",
       "      <td>68.586166</td>\n",
       "      <td>72.220001</td>\n",
       "      <td>72.720001</td>\n",
       "      <td>71.440002</td>\n",
       "      <td>72.620003</td>\n",
       "      <td>1247966.0</td>\n",
       "    </tr>\n",
       "    <tr>\n",
       "      <th>2019-05-21</th>\n",
       "      <td>69.497856</td>\n",
       "      <td>73.180000</td>\n",
       "      <td>73.379997</td>\n",
       "      <td>72.419998</td>\n",
       "      <td>72.419998</td>\n",
       "      <td>1176278.0</td>\n",
       "    </tr>\n",
       "    <tr>\n",
       "      <th>2019-05-22</th>\n",
       "      <td>69.440880</td>\n",
       "      <td>73.120003</td>\n",
       "      <td>73.639999</td>\n",
       "      <td>72.540001</td>\n",
       "      <td>73.239998</td>\n",
       "      <td>1167188.0</td>\n",
       "    </tr>\n",
       "    <tr>\n",
       "      <th>2019-05-23</th>\n",
       "      <td>68.282265</td>\n",
       "      <td>71.900002</td>\n",
       "      <td>72.760002</td>\n",
       "      <td>71.519997</td>\n",
       "      <td>72.559998</td>\n",
       "      <td>1373243.0</td>\n",
       "    </tr>\n",
       "    <tr>\n",
       "      <th>2019-05-24</th>\n",
       "      <td>70.181633</td>\n",
       "      <td>73.900002</td>\n",
       "      <td>73.900002</td>\n",
       "      <td>72.360001</td>\n",
       "      <td>72.459999</td>\n",
       "      <td>1401751.0</td>\n",
       "    </tr>\n",
       "    <tr>\n",
       "      <th>...</th>\n",
       "      <td>...</td>\n",
       "      <td>...</td>\n",
       "      <td>...</td>\n",
       "      <td>...</td>\n",
       "      <td>...</td>\n",
       "      <td>...</td>\n",
       "    </tr>\n",
       "    <tr>\n",
       "      <th>2021-05-12</th>\n",
       "      <td>127.860001</td>\n",
       "      <td>127.860001</td>\n",
       "      <td>129.639999</td>\n",
       "      <td>127.260002</td>\n",
       "      <td>128.839996</td>\n",
       "      <td>808892.0</td>\n",
       "    </tr>\n",
       "    <tr>\n",
       "      <th>2021-05-13</th>\n",
       "      <td>127.879997</td>\n",
       "      <td>127.879997</td>\n",
       "      <td>128.559998</td>\n",
       "      <td>125.019997</td>\n",
       "      <td>126.580002</td>\n",
       "      <td>604444.0</td>\n",
       "    </tr>\n",
       "    <tr>\n",
       "      <th>2021-05-14</th>\n",
       "      <td>131.440002</td>\n",
       "      <td>131.440002</td>\n",
       "      <td>131.440002</td>\n",
       "      <td>127.879997</td>\n",
       "      <td>128.960007</td>\n",
       "      <td>832397.0</td>\n",
       "    </tr>\n",
       "    <tr>\n",
       "      <th>2021-05-17</th>\n",
       "      <td>130.360001</td>\n",
       "      <td>130.360001</td>\n",
       "      <td>132.000000</td>\n",
       "      <td>129.759995</td>\n",
       "      <td>131.880005</td>\n",
       "      <td>668462.0</td>\n",
       "    </tr>\n",
       "    <tr>\n",
       "      <th>2021-05-18</th>\n",
       "      <td>130.059998</td>\n",
       "      <td>130.059998</td>\n",
       "      <td>131.360001</td>\n",
       "      <td>129.720001</td>\n",
       "      <td>131.059998</td>\n",
       "      <td>626041.0</td>\n",
       "    </tr>\n",
       "  </tbody>\n",
       "</table>\n",
       "<p>513 rows × 6 columns</p>\n",
       "</div>"
      ],
      "text/plain": [
       "             Adj Close       Close        High         Low        Open  \\\n",
       "Date                                                                     \n",
       "2019-05-20   68.586166   72.220001   72.720001   71.440002   72.620003   \n",
       "2019-05-21   69.497856   73.180000   73.379997   72.419998   72.419998   \n",
       "2019-05-22   69.440880   73.120003   73.639999   72.540001   73.239998   \n",
       "2019-05-23   68.282265   71.900002   72.760002   71.519997   72.559998   \n",
       "2019-05-24   70.181633   73.900002   73.900002   72.360001   72.459999   \n",
       "...                ...         ...         ...         ...         ...   \n",
       "2021-05-12  127.860001  127.860001  129.639999  127.260002  128.839996   \n",
       "2021-05-13  127.879997  127.879997  128.559998  125.019997  126.580002   \n",
       "2021-05-14  131.440002  131.440002  131.440002  127.879997  128.960007   \n",
       "2021-05-17  130.360001  130.360001  132.000000  129.759995  131.880005   \n",
       "2021-05-18  130.059998  130.059998  131.360001  129.720001  131.059998   \n",
       "\n",
       "               Volume  \n",
       "Date                   \n",
       "2019-05-20  1247966.0  \n",
       "2019-05-21  1176278.0  \n",
       "2019-05-22  1167188.0  \n",
       "2019-05-23  1373243.0  \n",
       "2019-05-24  1401751.0  \n",
       "...               ...  \n",
       "2021-05-12   808892.0  \n",
       "2021-05-13   604444.0  \n",
       "2021-05-14   832397.0  \n",
       "2021-05-17   668462.0  \n",
       "2021-05-18   626041.0  \n",
       "\n",
       "[513 rows x 6 columns]"
      ]
     },
     "execution_count": 18,
     "metadata": {},
     "output_type": "execute_result"
    }
   ],
   "source": [
    "# Get all raw prices and volume data for a particular stock\n",
    "df_data.xs(\"SU.PA\", axis=1, level=1, drop_level=True)"
   ]
  },
  {
   "cell_type": "code",
   "execution_count": 19,
   "id": "e0c1ee70",
   "metadata": {
    "ExecuteTime": {
     "end_time": "2021-05-18T20:41:03.254313Z",
     "start_time": "2021-05-18T20:41:03.249140Z"
    }
   },
   "outputs": [
    {
     "data": {
      "text/plain": [
       "Index(['Monday', 'Tuesday', 'Wednesday', 'Thursday', 'Friday', 'Monday',\n",
       "       'Tuesday', 'Wednesday', 'Thursday', 'Friday',\n",
       "       ...\n",
       "       'Wednesday', 'Thursday', 'Friday', 'Monday', 'Tuesday', 'Wednesday',\n",
       "       'Thursday', 'Friday', 'Monday', 'Tuesday'],\n",
       "      dtype='object', name='Date', length=513)"
      ]
     },
     "execution_count": 19,
     "metadata": {},
     "output_type": "execute_result"
    }
   ],
   "source": [
    "df_data.index.day_name()"
   ]
  },
  {
   "cell_type": "code",
   "execution_count": 20,
   "id": "1fb1d7e9",
   "metadata": {
    "ExecuteTime": {
     "end_time": "2021-05-18T20:41:03.258631Z",
     "start_time": "2021-05-18T20:41:03.256240Z"
    },
    "code_folding": [],
    "run_control": {
     "marked": false
    }
   },
   "outputs": [],
   "source": [
    "# Filter by date\n",
    "# df_prices.loc['2021-01-01':'2021-01-31']"
   ]
  },
  {
   "cell_type": "code",
   "execution_count": 21,
   "id": "82393c4b",
   "metadata": {
    "ExecuteTime": {
     "end_time": "2021-05-18T20:41:03.265425Z",
     "start_time": "2021-05-18T20:41:03.260520Z"
    },
    "code_folding": [
     0
    ],
    "run_control": {
     "marked": false
    },
    "scrolled": true
   },
   "outputs": [
    {
     "name": "stdout",
     "output_type": "stream",
     "text": [
      "['Consumer Cyclical', 'Consumer Defensive', 'Financial Services', 'Healthcare', 'Industrials', 'Missing', 'Technology', 'Utilities']\n"
     ]
    }
   ],
   "source": [
    "# Get sectors\n",
    "sectors = df_prices.columns.get_level_values(0).unique()[2:].to_list()\n",
    "sectors.sort()\n",
    "print(sectors) # full dataset\n",
    "\n",
    "# df_prices.columns.get_level_values(0).unique().to_list() # test dataset"
   ]
  },
  {
   "cell_type": "code",
   "execution_count": 22,
   "id": "b5b92ba4",
   "metadata": {
    "ExecuteTime": {
     "end_time": "2021-05-18T20:41:03.271581Z",
     "start_time": "2021-05-18T20:41:03.267364Z"
    },
    "code_folding": [
     0
    ],
    "run_control": {
     "marked": false
    },
    "scrolled": true
   },
   "outputs": [
    {
     "name": "stdout",
     "output_type": "stream",
     "text": [
      "['Aerospace & Defense', 'Auto Manufacturers', 'Banks—Regional', 'Beverages—Wineries & Distilleries', 'Broadcasting', 'Building Products & Equipment', 'Consulting Services', 'Drug Manufacturers—General', 'Engineering & Construction', 'Grocery Stores', 'Household & Personal Products', 'Information Technology Services', 'Insurance—Diversified', 'Luxury Goods', 'Medical Instruments & Supplies', 'Missing', 'Packaged Foods', 'Semiconductors', 'Software—Application', 'Software—Infrastructure', 'Specialty Industrial Machinery', 'Telecom Services', 'Utilities—Diversified', 'Waste Management']\n"
     ]
    }
   ],
   "source": [
    "# Get industries\n",
    "industries = df_prices.columns.get_level_values(1).unique()[2:].to_list()\n",
    "industries.sort() # full dataset\n",
    "print(industries)\n",
    "\n",
    "# df_prices.columns.get_level_values(1).unique().to_list() # test data"
   ]
  },
  {
   "cell_type": "code",
   "execution_count": 23,
   "id": "c9977af1",
   "metadata": {
    "ExecuteTime": {
     "end_time": "2021-05-18T20:41:03.278680Z",
     "start_time": "2021-05-18T20:41:03.275872Z"
    },
    "code_folding": [
     0
    ],
    "run_control": {
     "marked": false
    }
   },
   "outputs": [],
   "source": [
    "# Get latest values for all stocks in a particular sector/industry combination\n",
    "sector = \"Utilities\"\n",
    "industry = \"Utilities—Renewable\"\n",
    "# df_prices[sector][industry].iloc[107].sort_values(ascending=False)"
   ]
  },
  {
   "cell_type": "code",
   "execution_count": 24,
   "id": "69741d46",
   "metadata": {
    "ExecuteTime": {
     "end_time": "2021-05-18T20:41:03.284615Z",
     "start_time": "2021-05-18T20:41:03.282120Z"
    },
    "code_folding": [
     0
    ],
    "run_control": {
     "marked": false
    },
    "scrolled": true
   },
   "outputs": [],
   "source": [
    "# Get data for all stocks in a particular sector\n",
    "# df_prices.xs(\"Energy\", axis=1, level=0, drop_level=False)"
   ]
  },
  {
   "cell_type": "code",
   "execution_count": 25,
   "id": "ff606794",
   "metadata": {
    "ExecuteTime": {
     "end_time": "2021-05-18T20:41:03.289503Z",
     "start_time": "2021-05-18T20:41:03.286605Z"
    },
    "code_folding": [
     0
    ],
    "run_control": {
     "marked": false
    },
    "scrolled": true
   },
   "outputs": [],
   "source": [
    "# Get data for all stocks in a particular industry\n",
    "# df_prices.xs(\"Utilities—Renewable\", axis=1, level=1, drop_level=False)\n",
    "# df_prices.xs(\"Airports & Air Services\", axis=1, level=1, drop_level=False)"
   ]
  },
  {
   "cell_type": "code",
   "execution_count": 26,
   "id": "b262532a",
   "metadata": {
    "ExecuteTime": {
     "end_time": "2021-05-18T20:41:03.296326Z",
     "start_time": "2021-05-18T20:41:03.291438Z"
    },
    "code_folding": [
     0
    ],
    "run_control": {
     "marked": false
    }
   },
   "outputs": [
    {
     "name": "stdout",
     "output_type": "stream",
     "text": [
      "['ACA.PA', 'BNP.PA', 'GLE.PA', 'CS.PA']\n"
     ]
    }
   ],
   "source": [
    "# Get stock tickers in a particular sector\n",
    "print([item[2] for item in df_prices.xs(\"Financial Services\", axis=1, level=0, drop_level=False).columns.to_list()])"
   ]
  },
  {
   "cell_type": "code",
   "execution_count": 27,
   "id": "5d6241ba",
   "metadata": {
    "ExecuteTime": {
     "end_time": "2021-05-18T20:41:03.304548Z",
     "start_time": "2021-05-18T20:41:03.298257Z"
    },
    "code_folding": [
     0
    ],
    "run_control": {
     "marked": false
    }
   },
   "outputs": [
    {
     "data": {
      "text/plain": [
       "['AIR.PA', 'HO.PA', 'SAF.PA']"
      ]
     },
     "execution_count": 27,
     "metadata": {},
     "output_type": "execute_result"
    }
   ],
   "source": [
    "# Get stock tickers in a particular industry\n",
    "[item[2] for item in df_prices.xs(\"Aerospace & Defense\", axis=1, level=1, drop_level=False).columns.to_list()]"
   ]
  },
  {
   "cell_type": "code",
   "execution_count": 28,
   "id": "73be6847",
   "metadata": {
    "ExecuteTime": {
     "end_time": "2021-05-18T20:41:03.313860Z",
     "start_time": "2021-05-18T20:41:03.306523Z"
    },
    "code_folding": [
     0
    ],
    "run_control": {
     "marked": false
    }
   },
   "outputs": [
    {
     "data": {
      "text/plain": [
       "[{'ACA.PA': 'Crédit Agricole S.A.'},\n",
       " {'BNP.PA': 'BNP Paribas SA'},\n",
       " {'GLE.PA': 'Société Générale Société anonyme'},\n",
       " {'CS.PA': 'AXA SA'}]"
      ]
     },
     "execution_count": 28,
     "metadata": {},
     "output_type": "execute_result"
    }
   ],
   "source": [
    "# Get list of dicts of ticker and ticker names for a sector. Can use this to generate tickers_to_plot below\n",
    "sector = \"Financial Services\"\n",
    "[{ticker:ticker_info[ticker][0]} for ticker in [item[2] for item in df_prices.xs(sector, axis=1, level=0, drop_level=False).columns.to_list()]]"
   ]
  },
  {
   "cell_type": "code",
   "execution_count": 29,
   "id": "18445f3a",
   "metadata": {
    "ExecuteTime": {
     "end_time": "2021-05-18T20:41:03.322739Z",
     "start_time": "2021-05-18T20:41:03.315747Z"
    },
    "code_folding": [
     0
    ],
    "run_control": {
     "marked": false
    }
   },
   "outputs": [
    {
     "data": {
      "text/plain": [
       "[{'WLN.PA': 'Worldline SA'}]"
      ]
     },
     "execution_count": 29,
     "metadata": {},
     "output_type": "execute_result"
    }
   ],
   "source": [
    "# Get list of dicts of ticker and ticker names for an industry. Can use this to generate tickers_to_plot below\n",
    "industry = \"Software—Infrastructure\"\n",
    "[{ticker:ticker_info[ticker][0]} for ticker in [item[2] for item in df_prices.xs(industry, axis=1, level=1, drop_level=False).columns.to_list()]]"
   ]
  },
  {
   "cell_type": "markdown",
   "id": "2f5bcc4e",
   "metadata": {},
   "source": [
    "## Plotting"
   ]
  },
  {
   "cell_type": "markdown",
   "id": "b4165492",
   "metadata": {},
   "source": [
    "### Reuseable components"
   ]
  },
  {
   "cell_type": "code",
   "execution_count": 30,
   "id": "2d8d4789",
   "metadata": {
    "ExecuteTime": {
     "end_time": "2021-05-18T20:41:03.327829Z",
     "start_time": "2021-05-18T20:41:03.324866Z"
    },
    "code_folding": [
     0
    ],
    "run_control": {
     "marked": false
    }
   },
   "outputs": [],
   "source": [
    "# List of tickers in alphabetical order\n",
    "ticker_list = list(df_raw_prices.columns)\n",
    "ticker_list.sort()"
   ]
  },
  {
   "cell_type": "markdown",
   "id": "0748b26b",
   "metadata": {},
   "source": [
    "### Plot functions"
   ]
  },
  {
   "cell_type": "code",
   "execution_count": 31,
   "id": "69735da6",
   "metadata": {
    "ExecuteTime": {
     "end_time": "2021-05-18T20:41:03.335700Z",
     "start_time": "2021-05-18T20:41:03.329798Z"
    },
    "code_folding": [
     0
    ],
    "run_control": {
     "marked": false
    }
   },
   "outputs": [],
   "source": [
    "# Heatmap displaying correlation of closing price between tickers\n",
    "def plot_corr_daily_returns(tickers, start_date, end_date, ma_days):\n",
    "    \n",
    "#     corr = df_daily_returns.loc[start_date:end_date][tickers].corr()\n",
    "#     corr = df_daily_returns.loc[start_date:end_date][tickers].rolling(window=ma_days, center=False).mean().corr()\n",
    "    corr = df_raw_prices.loc[start_date:end_date][tickers].rolling(window=ma_days, center=False).mean().corr()\n",
    "\n",
    "    # Generate a mask for the upper triangle\n",
    "    mask = np.triu(np.ones_like(corr, dtype=bool))\n",
    "\n",
    "    fig, ax = plt.subplots(figsize=(15,12))\n",
    "    sns.heatmap(corr, cmap=\"rocket_r\", ax=ax, square=True, annot=True, fmt=\".2g\", annot_kws={\"size\":8}, mask=mask) # plot heatmap with seaborn\n",
    "    # icefire\n",
    "    \n",
    "    plt.title(f\"Correlation of {ma_days} day Moving Averages of Close Prices\")\n",
    "    plt.tight_layout()"
   ]
  },
  {
   "cell_type": "markdown",
   "id": "08260c7c",
   "metadata": {},
   "source": [
    "### Single stock price with moving averages"
   ]
  },
  {
   "cell_type": "code",
   "execution_count": 32,
   "id": "d6647de6",
   "metadata": {
    "ExecuteTime": {
     "end_time": "2021-05-18T20:41:03.816609Z",
     "start_time": "2021-05-18T20:41:03.337875Z"
    },
    "code_folding": [
     0
    ],
    "run_control": {
     "marked": false
    }
   },
   "outputs": [
    {
     "data": {
      "application/vnd.jupyter.widget-view+json": {
       "model_id": "29f482d9583f48719ff55937f9a0619f",
       "version_major": 2,
       "version_minor": 0
      },
      "text/plain": [
       "interactive(children=(Dropdown(description='ticker', options=('ACA.PA', 'AI.PA', 'AIR.PA', 'ALO.PA', 'ATO.PA',…"
      ]
     },
     "metadata": {},
     "output_type": "display_data"
    }
   ],
   "source": [
    "# Plot a single stock Close price and several moving averages\n",
    "\n",
    "ticker_list = list(df_raw_prices.columns)\n",
    "ticker_list.sort()\n",
    "@widgets.interact(\n",
    "    ticker=ticker_list,\n",
    "    start_date=widgets.Text(value=\"2020-01-01\", description=\"start date\", continuous_update=False),\n",
    "    end_date=widgets.Text(value=\"2020-12-31\", description=\"end date\", continuous_update=False),\n",
    ")\n",
    "def plot_single_ticker(ticker, start_date, end_date):\n",
    "    \n",
    "    base = df_raw_prices.loc[start_date:end_date][ticker]\n",
    "    rolling_20 = np.round(base.rolling(window=20, center=False).mean(), 2)\n",
    "    rolling_50 = np.round(base.rolling(window=50, center=False).mean(), 2)\n",
    "    rolling_200 = np.round(base.rolling(window=200, center=False).mean(), 2)\n",
    "\n",
    "    fig, ax = plt.subplots(figsize=(15,5))\n",
    "    ax.plot(base, label=\"Close\", linewidth=4, alpha=.2)\n",
    "    ax.plot(rolling_20, label=\"20d M.A.\", linestyle=\"dashed\", linewidth=2)\n",
    "    ax.plot(rolling_50, label=\"50d M.A.\", linestyle=\"dashed\", linewidth=2)\n",
    "    ax.plot(rolling_200, label=\"200d M.A.\", linestyle=\"dashed\", linewidth=2)\n",
    "    ax.set_ylabel(\"Close Price\")\n",
    "    ax.xaxis.set_major_locator(mdates.MonthLocator(interval=1))\n",
    "    ax.set_title(f\"{ticker}\\n{start_date} to {end_date}\")\n",
    "    plt.xticks(rotation=45)\n",
    "    plt.legend()\n",
    "    plt.grid()"
   ]
  },
  {
   "cell_type": "markdown",
   "id": "797935f4",
   "metadata": {},
   "source": [
    "### Trailing P/E ratio"
   ]
  },
  {
   "cell_type": "code",
   "execution_count": 33,
   "id": "cc862f5c",
   "metadata": {
    "ExecuteTime": {
     "end_time": "2021-05-18T20:41:04.071335Z",
     "start_time": "2021-05-18T20:41:03.817984Z"
    },
    "code_folding": [
     0
    ]
   },
   "outputs": [
    {
     "data": {
      "application/vnd.jupyter.widget-view+json": {
       "model_id": "df3b5f8ffe104558a619fe5c0b4371fd",
       "version_major": 2,
       "version_minor": 0
      },
      "text/plain": [
       "interactive(children=(SelectMultiple(description='Tickers', index=(35,), options=('ACA.PA', 'AI.PA', 'AIR.PA',…"
      ]
     },
     "metadata": {},
     "output_type": "display_data"
    }
   ],
   "source": [
    "# Plot Trailing Price-Earnings Ratio for multiple stocks\n",
    "# Plot multiple stocks or indices against each other and customize the legend labels\n",
    "\n",
    "ticker_list = list(df_trailing_pe_data.columns)\n",
    "ticker_list.sort()\n",
    "@widgets.interact(\n",
    "    tickers_to_plot=widgets.SelectMultiple(options=ticker_list[:-1], value=[\"SU.PA\"], description=\"Tickers\", disabled=False),\n",
    "#     tickers_to_plot=widgets.SelectMultiple(options=ticker_list[:-1], value=[\"^FCHI\"], description=\"Tickers\", disabled=False),\n",
    "    start_date=widgets.Text(value=\"2021-01-01\", description=\"start date\", continuous_update=False),\n",
    "    end_date=widgets.Text(value=\"2021-12-31\", description=\"end date\", continuous_update=False),\n",
    ")\n",
    "def pe_ratio(tickers_to_plot, start_date, end_date):\n",
    "    \"\"\"\n",
    "    Function to plot a stock against an index (or other stock) and customize the legend labels.\n",
    "    Input is a list of key:pairs (python dicts) in the form ticker:ticker description\n",
    "    \"\"\"\n",
    "    fig = plt.figure(figsize=(15,8))\n",
    "    ax = fig.add_subplot(111)\n",
    "    \n",
    "    # Baseline the data at start date and convert to percentages\n",
    "    df_plot = df_trailing_pe_data.loc[start_date:end_date]\n",
    "    \n",
    "    for ticker in tickers_to_plot:\n",
    "        df_plot[ticker].plot(ax=ax, legend=ticker)\n",
    "        \n",
    "    lines, labels = ax.get_legend_handles_labels()\n",
    "    \n",
    "#     mylabels = [list(ticker.values())[0] for ticker in tickers_to_plot]\n",
    "    \n",
    "#     ax.legend(lines, mylabels, loc='best')  # legend for first two lines only\n",
    "    ax.legend()\n",
    "    ax.set_xlabel(\"\"); ax.set_ylabel(\"Trailing P/E Ratio\")\n",
    "    ax.set_title(f\"Trailing Price-Earnings Ratio comparison\\n{start_date} to {end_date}\")\n",
    "    plt.grid()"
   ]
  },
  {
   "cell_type": "markdown",
   "id": "98624c89",
   "metadata": {},
   "source": [
    "### Foward P/E ratio"
   ]
  },
  {
   "cell_type": "code",
   "execution_count": 36,
   "id": "1408e002",
   "metadata": {
    "ExecuteTime": {
     "end_time": "2021-05-18T20:42:03.404186Z",
     "start_time": "2021-05-18T20:42:03.128241Z"
    },
    "code_folding": [
     0
    ]
   },
   "outputs": [
    {
     "data": {
      "application/vnd.jupyter.widget-view+json": {
       "model_id": "ad961a4d5ed14107879b739a88133b8d",
       "version_major": 2,
       "version_minor": 0
      },
      "text/plain": [
       "interactive(children=(SelectMultiple(description='Tickers', index=(35,), options=('ACA.PA', 'AI.PA', 'AIR.PA',…"
      ]
     },
     "metadata": {},
     "output_type": "display_data"
    }
   ],
   "source": [
    "# Plot Forward Price-Earnings Ratio for multiple stocks\n",
    "# Plot multiple stocks or indices against each other and customize the legend labels\n",
    "\n",
    "ticker_list = list(df_forward_pe_data.columns)\n",
    "ticker_list.sort()\n",
    "@widgets.interact(\n",
    "    tickers_to_plot=widgets.SelectMultiple(options=ticker_list[:-1], value=[\"SU.PA\"], description=\"Tickers\", disabled=False),\n",
    "#     tickers_to_plot=widgets.SelectMultiple(options=ticker_list[:-1], value=[\"^FCHI\"], description=\"Tickers\", disabled=False),\n",
    "    start_date=widgets.Text(value=\"2021-01-01\", description=\"start date\", continuous_update=False),\n",
    "    end_date=widgets.Text(value=\"2021-12-31\", description=\"end date\", continuous_update=False),\n",
    ")\n",
    "def pe_ratio(tickers_to_plot, start_date, end_date):\n",
    "    \"\"\"\n",
    "    Function to plot a stock against an index (or other stock) and customize the legend labels.\n",
    "    Input is a list of key:pairs (python dicts) in the form ticker:ticker description\n",
    "    \"\"\"\n",
    "    fig = plt.figure(figsize=(15,8))\n",
    "    ax = fig.add_subplot(111)\n",
    "    \n",
    "    # Baseline the data at start date and convert to percentages\n",
    "    df_plot = df_forward_pe_data.loc[start_date:end_date]\n",
    "    \n",
    "    for ticker in tickers_to_plot:\n",
    "        df_plot[ticker].plot(ax=ax, legend=ticker)\n",
    "        \n",
    "    lines, labels = ax.get_legend_handles_labels()\n",
    "    \n",
    "#     mylabels = [list(ticker.values())[0] for ticker in tickers_to_plot]\n",
    "    \n",
    "#     ax.legend(lines, mylabels, loc='best')  # legend for first two lines only\n",
    "    ax.legend()\n",
    "    ax.set_xlabel(\"\"); ax.set_ylabel(\"Foward P/E Ratio\")\n",
    "    ax.set_title(f\"Forward Price-Earnings Ratio comparison\\n{start_date} to {end_date}\")\n",
    "    plt.grid()"
   ]
  },
  {
   "cell_type": "markdown",
   "id": "786af681",
   "metadata": {},
   "source": [
    "### Return comparisons"
   ]
  },
  {
   "cell_type": "code",
   "execution_count": 37,
   "id": "ef2381d3",
   "metadata": {
    "ExecuteTime": {
     "end_time": "2021-05-18T21:17:10.370783Z",
     "start_time": "2021-05-18T21:17:09.960180Z"
    },
    "code_folding": [
     0
    ],
    "run_control": {
     "marked": false
    },
    "scrolled": false
   },
   "outputs": [
    {
     "data": {
      "application/vnd.jupyter.widget-view+json": {
       "model_id": "f4430b5b47ee4895b9085bd9ad8a9905",
       "version_major": 2,
       "version_minor": 0
      },
      "text/plain": [
       "interactive(children=(SelectMultiple(description='Tickers', options=('ACA.PA', 'AI.PA', 'AIR.PA', 'ALO.PA', 'A…"
      ]
     },
     "metadata": {},
     "output_type": "display_data"
    },
    {
     "data": {
      "image/png": "[encoded data removed]",
      "text/plain": [
       "<Figure size 1080x576 with 1 Axes>"
      ]
     },
     "metadata": {},
     "output_type": "display_data"
    }
   ],
   "source": [
    "# Plot multiple stocks or indices against each other and customize the legend labels\n",
    "\n",
    "ticker_list = list(df_raw_prices.columns)\n",
    "ticker_list.sort()\n",
    "@widgets.interact(\n",
    "    tickers_to_plot=widgets.SelectMultiple(options=ticker_list[:-1], description=\"Tickers\", disabled=False),\n",
    "#     tickers_to_plot=widgets.SelectMultiple(options=ticker_list[:-1], value=[\"^FCHI\"], description=\"Tickers\", disabled=False),\n",
    "    start_date=widgets.Text(value=\"2020-01-01\", description=\"start date\", continuous_update=False),\n",
    "    end_date=widgets.Text(value=\"2020-12-31\", description=\"end date\", continuous_update=False),\n",
    ")\n",
    "def plot_tickers(tickers_to_plot, start_date, end_date):\n",
    "    \"\"\"\n",
    "    Function to plot a stock against an index (or other stock) and customize the legend labels.\n",
    "    Input is a list of key:pairs (python dicts) in the form ticker:ticker description\n",
    "    \"\"\"\n",
    "    fig = plt.figure(figsize=(15,8))\n",
    "    ax = fig.add_subplot(111)\n",
    "    \n",
    "    # Baseline the data at start date and convert to percentages\n",
    "    df_plot = df_raw_prices.loc[start_date:end_date]\n",
    "    df_plot = (df_plot/df_plot.iloc[0] - 1) * 100\n",
    "    \n",
    "    for ticker in tickers_to_plot:\n",
    "        df_plot[ticker].plot(ax=ax, legend=ticker)\n",
    "    \n",
    "    df_plot[\"^FCHI\"].plot(ax=ax, legend=\"^FCHI\", linewidth=4, alpha=.2, color=\"gray\")\n",
    "        \n",
    "    lines, labels = ax.get_legend_handles_labels()\n",
    "    \n",
    "#     mylabels = [list(ticker.values())[0] for ticker in tickers_to_plot]\n",
    "    \n",
    "#     ax.legend(lines, mylabels, loc='best')  # legend for first two lines only\n",
    "    ax.legend()\n",
    "    ax.set_xlabel(\"\"); ax.set_ylabel(\"Return %\")\n",
    "    ax.set_title(f\"% Returns comparison\\n{start_date} to {end_date}\")\n",
    "    plt.grid()"
   ]
  },
  {
   "cell_type": "markdown",
   "id": "268a0991",
   "metadata": {},
   "source": [
    "### Alpha & Beta"
   ]
  },
  {
   "cell_type": "code",
   "execution_count": null,
   "id": "c495f5e1",
   "metadata": {
    "ExecuteTime": {
     "end_time": "2021-05-18T15:32:28.070951Z",
     "start_time": "2021-05-18T15:32:27.685096Z"
    },
    "code_folding": [
     0
    ],
    "run_control": {
     "marked": false
    }
   },
   "outputs": [],
   "source": [
    "# Regression plot\n",
    "\n",
    "@widgets.interact(\n",
    "    ticker1=ticker_list,\n",
    "    ticker2=ticker_list,\n",
    "    start_date=widgets.Text(value=\"2020-01-01\", description=\"start date\", continuous_update=False),\n",
    "    end_date=widgets.Text(value=\"2020-12-31\", description=\"end date\", continuous_update=False),\n",
    ")\n",
    "def regression_plot(ticker1, ticker2, start_date, end_date):\n",
    "    \n",
    "    # Transform data for alpha, beta and plotting\n",
    "    data = pd.DataFrame(\n",
    "        {\n",
    "            ticker1:[item[0] for item in df_prices.loc[start_date:end_date].xs(ticker1, axis=1, level=2, drop_level=False).values.tolist()],\n",
    "            ticker2:[item[0] for item in df_prices.loc[start_date:end_date].xs(ticker2, axis=1, level=2, drop_level=False).values.tolist()]\n",
    "        }\n",
    "    )\n",
    "\n",
    "    data_returns = (data/data.iloc[0] - 1) * 100\n",
    "    \n",
    "    (beta, alpha) = stats.linregress(data_returns[ticker2],\n",
    "                    data_returns[ticker1])[0:2]\n",
    "\n",
    "#     fig, ax = plt.subplots()\n",
    "    fig, ax = plt.subplots(figsize=(12,8))\n",
    "    ax = sns.regplot(x=ticker2, y=ticker1, data=data_returns)\n",
    "    ax.set_title(f\"Regression plot for\\n{ticker2} vs {ticker1}\\n{start_date} to {end_date}\\nBeta={round(beta, 4)}\\nAlpha={round(alpha,5)}\")\n",
    "    ax.xaxis.set_major_locator(MultipleLocator(10))\n",
    "    ax.yaxis.set_major_locator(MultipleLocator(10))\n",
    "    plt.gca().set_aspect(\"equal\")\n",
    "    plt.grid()\n",
    "    plt.show()"
   ]
  },
  {
   "cell_type": "markdown",
   "id": "0bc4e04e",
   "metadata": {},
   "source": [
    "### Volatility"
   ]
  },
  {
   "cell_type": "code",
   "execution_count": null,
   "id": "0ef4d10a",
   "metadata": {
    "ExecuteTime": {
     "end_time": "2021-05-18T15:32:28.676448Z",
     "start_time": "2021-05-18T15:32:28.072825Z"
    },
    "code_folding": [
     0
    ],
    "run_control": {
     "marked": false
    }
   },
   "outputs": [],
   "source": [
    "# Compare volatility of 2 tickers\n",
    "\n",
    "ticker_list = list(df_raw_prices.columns)\n",
    "ticker_list.sort()\n",
    "@widgets.interact(\n",
    "    ticker1=ticker_list,\n",
    "    ticker2=ticker_list,\n",
    "    start_date=widgets.Text(value=\"2020-01-01\", description=\"start date\", continuous_update=False),\n",
    "    end_date=widgets.Text(value=\"2020-12-31\", description=\"end date\", continuous_update=False),\n",
    ")\n",
    "def plot_vol_comparison(ticker1, ticker2, start_date, end_date):\n",
    "    \"\"\"\n",
    "    1. 2-year vol comparison. (*** Could update to have dynamic date ranges ***)\n",
    "    2. Uses standard deviation for vol calculation.\n",
    "    \"\"\"\n",
    "    tickers = [ticker1, ticker2]\n",
    "    fig, ax = plt.subplots(figsize=(10,6))\n",
    "    for ticker in tickers:\n",
    "        mean = np.mean(df_daily_returns.loc[start_date:end_date][ticker])\n",
    "        vol = np.std(df_daily_returns.loc[start_date:end_date][ticker])\n",
    "        df_daily_returns.loc[start_date:end_date][ticker].hist(bins=50, ax=ax, label=f\"{ticker} µ={mean:.3f} vol={vol:.3f}\", alpha=.5)\n",
    "    plt.legend()\n",
    "    plt.title(f\"Compare volatility of daily returns\\n{start_date} to {end_date}\")\n",
    "    plt.tight_layout()"
   ]
  },
  {
   "cell_type": "markdown",
   "id": "4d4c0c22",
   "metadata": {},
   "source": [
    "### Correlation of moving average returns"
   ]
  },
  {
   "cell_type": "code",
   "execution_count": null,
   "id": "44087984",
   "metadata": {
    "ExecuteTime": {
     "end_time": "2021-05-18T15:32:28.680947Z",
     "start_time": "2021-05-18T15:32:28.678273Z"
    },
    "run_control": {
     "marked": false
    }
   },
   "outputs": [],
   "source": [
    "start_date = '2021-01-01'\n",
    "end_date = '2021-12-31'\n",
    "ma_days = 20"
   ]
  },
  {
   "cell_type": "code",
   "execution_count": null,
   "id": "08f33084",
   "metadata": {
    "ExecuteTime": {
     "end_time": "2021-05-18T15:32:28.685608Z",
     "start_time": "2021-05-18T15:32:28.682625Z"
    },
    "code_folding": [],
    "run_control": {
     "marked": false
    }
   },
   "outputs": [],
   "source": [
    "# Make list of tickers to plot\n",
    "# tickers = ['EC.PA', 'LFDE.PA', 'MAU.PA', 'CGG.PA', 'CLB.AS', 'FTI.PA', 'FUR.AS', 'GTT.PA', 'SBMO.AS', 'SLB.PA', 'TE.PA', 'VPK.AS', 'RDSA.AS', 'RDSB.AS', 'EURN.BR', 'EXM.BR', 'FLUX.BR', 'DPAM.PA', 'ES.PA']\n",
    "tickers = df_raw_prices.columns"
   ]
  },
  {
   "cell_type": "code",
   "execution_count": null,
   "id": "fb0497cb",
   "metadata": {
    "ExecuteTime": {
     "end_time": "2021-05-18T15:32:35.345021Z",
     "start_time": "2021-05-18T15:32:28.687382Z"
    },
    "code_folding": [],
    "run_control": {
     "marked": false
    }
   },
   "outputs": [],
   "source": [
    "# Plot correlation of closing price between tickers\n",
    "plot_corr_daily_returns(tickers, start_date, end_date, ma_days)"
   ]
  },
  {
   "cell_type": "markdown",
   "id": "b0b7709a",
   "metadata": {},
   "source": [
    "### Compare weekly patterns"
   ]
  },
  {
   "cell_type": "code",
   "execution_count": null,
   "id": "1a1903ad",
   "metadata": {
    "ExecuteTime": {
     "end_time": "2021-05-18T15:32:35.349850Z",
     "start_time": "2021-05-18T15:32:35.347005Z"
    }
   },
   "outputs": [],
   "source": [
    "stock_to_compare = \"^FCHI\"\n",
    "start_date = \"2021-01-01\"\n",
    "end_date = \"2021-12-31\""
   ]
  },
  {
   "cell_type": "code",
   "execution_count": null,
   "id": "1abbe885",
   "metadata": {
    "ExecuteTime": {
     "end_time": "2021-05-18T15:32:35.358754Z",
     "start_time": "2021-05-18T15:32:35.351753Z"
    },
    "code_folding": [
     0
    ]
   },
   "outputs": [],
   "source": [
    "def plot_comparison_of_weeks(stock_to_compare):\n",
    "\n",
    "    df_compare_weeks = pd.DataFrame(df_raw_prices.loc[start_date:end_date][stock_to_compare])\n",
    "\n",
    "    # Get day of week for each date in the index\n",
    "    df_compare_weeks[\"weekday\"] = df_compare_weeks.index.to_series().dt.day_name()\n",
    "    # Get week number for each date in the index\n",
    "    df_compare_weeks[\"weeknum\"] = df_compare_weeks.index.to_series().dt.week\n",
    "    df_compare_weeks = df_compare_weeks.pivot_table(index=\"weeknum\", columns=\"weekday\", values=stock_to_compare).transpose()\n",
    "    df_compare_weeks = df_compare_weeks.reindex([\"Monday\", \"Tuesday\", \"Wednesday\", \"Thursday\", \"Friday\"])\n",
    "    \n",
    "    df_compare_weeks = (df_compare_weeks/df_compare_weeks.iloc[0] - 1) * 100\n",
    "    \n",
    "    colors = [\"white\" if df_compare_weeks[col].iloc[0] < df_compare_weeks[col].iloc[4] else \"red\" for col in df_compare_weeks.columns]\n",
    "    fig, ax = plt.subplots(figsize=(15,7)) \n",
    "\n",
    "    df_compare_weeks.plot(ax=ax, color=colors, alpha=.6, linewidth=4)\n",
    "    ax.get_legend().remove()\n",
    "    ax.set_facecolor(\"black\")\n",
    "    plt.xlabel(None)\n",
    "    return colors"
   ]
  },
  {
   "cell_type": "code",
   "execution_count": null,
   "id": "8118d179",
   "metadata": {
    "ExecuteTime": {
     "end_time": "2021-05-18T15:32:35.631770Z",
     "start_time": "2021-05-18T15:32:35.360629Z"
    }
   },
   "outputs": [],
   "source": [
    "colors = plot_comparison_of_weeks(stock_to_compare)"
   ]
  },
  {
   "cell_type": "code",
   "execution_count": null,
   "id": "60722d34",
   "metadata": {
    "ExecuteTime": {
     "end_time": "2021-05-18T15:32:35.639846Z",
     "start_time": "2021-05-18T15:32:35.633623Z"
    }
   },
   "outputs": [],
   "source": [
    "pd.Series(colors).value_counts()"
   ]
  },
  {
   "cell_type": "code",
   "execution_count": null,
   "id": "d446cd26",
   "metadata": {},
   "outputs": [],
   "source": []
  },
  {
   "cell_type": "code",
   "execution_count": null,
   "id": "96eea083",
   "metadata": {},
   "outputs": [],
   "source": []
  },
  {
   "cell_type": "code",
   "execution_count": null,
   "id": "56d96fda",
   "metadata": {},
   "outputs": [],
   "source": []
  },
  {
   "cell_type": "markdown",
   "id": "b9401673",
   "metadata": {},
   "source": [
    "### Trade Recommendations"
   ]
  },
  {
   "cell_type": "code",
   "execution_count": null,
   "id": "2891700f",
   "metadata": {
    "ExecuteTime": {
     "end_time": "2021-05-18T12:28:13.801226Z",
     "start_time": "2021-05-18T12:28:13.695121Z"
    },
    "code_folding": [
     0
    ],
    "run_control": {
     "marked": false
    }
   },
   "outputs": [],
   "source": [
    "# Create trade recommendations\n",
    "\n",
    "# Create moving averages\n",
    "rolling_20 = np.round(df_raw_prices.rolling(window=20, center=False).mean(), 2)\n",
    "rolling_50 = np.round(df_raw_prices.rolling(window=50, center=False).mean(), 2)\n",
    "\n",
    "# Creates df where if M.A.20 < M.A.50 then True else False\n",
    "rolling_diff = pd.DataFrame(np.where(rolling_20<rolling_50, True, False), columns=df_raw_prices.columns, index=df_raw_prices.index)\n",
    "\n",
    "# Apply following to rolling_diff dataframe:\n",
    "\n",
    "# If yesterday == True and today == False\n",
    "# Then \"Sell\"\n",
    "# Elif yesterday == False and today == True\n",
    "# Then \"Buy\"\n",
    "# Else None\n",
    "sell_opps = rolling_diff < rolling_diff.shift(periods=-1)\n",
    "buy_opps = rolling_diff > rolling_diff.shift(periods=-1)\n",
    "\n",
    "# Replace boolean values with \"Buy\"/\"Sell\" strings, then merge into single dataframe\n",
    "sell_opps.replace(to_replace=True, value=\"Sell\", inplace=True)\n",
    "sell_opps.replace(to_replace=False, value=np.nan, inplace=True)\n",
    "buy_opps.replace(to_replace=True, value=\"Buy\", inplace=True)\n",
    "buy_opps.replace(to_replace=False, value=np.nan, inplace=True)\n",
    "all_opps = sell_opps.mask(buy_opps==\"Buy\", buy_opps) # Merge buy_opps with sell_opps"
   ]
  },
  {
   "cell_type": "code",
   "execution_count": null,
   "id": "add05252",
   "metadata": {
    "ExecuteTime": {
     "end_time": "2021-05-18T12:28:13.809592Z",
     "start_time": "2021-05-18T12:28:13.803109Z"
    },
    "code_folding": [],
    "run_control": {
     "marked": false
    }
   },
   "outputs": [],
   "source": [
    "# Get all historic recommendations for a given ticker\n",
    "ticker = \"SU.PA\"\n",
    "all_opps[ticker][~all_opps[ticker].isnull()]"
   ]
  },
  {
   "cell_type": "code",
   "execution_count": null,
   "id": "246d9596",
   "metadata": {
    "ExecuteTime": {
     "end_time": "2021-05-18T12:28:13.813776Z",
     "start_time": "2021-05-18T12:28:13.811406Z"
    },
    "code_folding": [
     0
    ],
    "run_control": {
     "marked": false
    }
   },
   "outputs": [],
   "source": [
    "# Get historic price on particular date for particular ticker\n",
    "# df_raw_prices[ticker][\"2020-03-11\"]"
   ]
  },
  {
   "cell_type": "code",
   "execution_count": null,
   "id": "2859dea5",
   "metadata": {
    "ExecuteTime": {
     "end_time": "2021-05-18T12:28:13.818083Z",
     "start_time": "2021-05-18T12:28:13.815432Z"
    },
    "code_folding": [
     0
    ],
    "run_control": {
     "marked": false
    }
   },
   "outputs": [],
   "source": [
    "# Total counts\n",
    "# buy_opps\n",
    "# sell_opps\n",
    "# print(f\"There are {all_opps[all_opps=='Sell'].count().sum()} sell opportunities.\")\n",
    "# print(f\"There are {all_opps[all_opps=='Buy'].count().sum()} buy opportunities.\")\n",
    "# all_opps.count().sum() # Counts values that are neither NA or np.nan\n",
    "\n",
    "# all_opps[all_opps=='Sell'].loc[\"2021-04-26\"].count().sum()\n",
    "# all_opps[all_opps=='Buy'].loc[\"2021-04-26\"].count().sum()"
   ]
  },
  {
   "cell_type": "code",
   "execution_count": null,
   "id": "71ed31d3",
   "metadata": {
    "ExecuteTime": {
     "end_time": "2021-05-18T12:28:13.822902Z",
     "start_time": "2021-05-18T12:28:13.819652Z"
    },
    "run_control": {
     "marked": false
    }
   },
   "outputs": [],
   "source": [
    "opportunity_date = \"2021-05-17\""
   ]
  },
  {
   "cell_type": "code",
   "execution_count": null,
   "id": "fffe959a",
   "metadata": {
    "ExecuteTime": {
     "end_time": "2021-05-18T12:28:13.831849Z",
     "start_time": "2021-05-18T12:28:13.824507Z"
    },
    "code_folding": [
     0
    ],
    "run_control": {
     "marked": false
    }
   },
   "outputs": [],
   "source": [
    "# Generate Buy and Sell recommendations\n",
    "recommend_buy = list(all_opps.loc[opportunity_date][all_opps.loc[opportunity_date]==\"Buy\"].index)\n",
    "recommend_sell = list(all_opps.loc[opportunity_date][all_opps.loc[opportunity_date]==\"Sell\"].index)"
   ]
  },
  {
   "cell_type": "code",
   "execution_count": null,
   "id": "28186d51",
   "metadata": {
    "ExecuteTime": {
     "end_time": "2021-05-18T12:28:13.844672Z",
     "start_time": "2021-05-18T12:28:13.835349Z"
    },
    "code_folding": [
     0,
     1
    ],
    "run_control": {
     "marked": false
    }
   },
   "outputs": [],
   "source": [
    "# Function to plot recommendations\n",
    "def plot_recommendation(ticker, start_date, end_date, ax):\n",
    "    \n",
    "    base = df_raw_prices.loc[start_date:end_date][ticker]\n",
    "    rolling_20 = np.round(base.rolling(window=20, center=False).mean(), 2)\n",
    "    rolling_50 = np.round(base.rolling(window=50, center=False).mean(), 2)\n",
    "    rolling_200 = np.round(base.rolling(window=200, center=False).mean(), 2)\n",
    "\n",
    "    ax = ax\n",
    "    ax.plot(base, label=\"Close\", linewidth=4, alpha=.2)\n",
    "    ax.plot(rolling_20, label=\"20d M.A.\", linestyle=\"dashed\", linewidth=2)\n",
    "    ax.plot(rolling_50, label=\"50d M.A.\", linestyle=\"dashed\", linewidth=2)\n",
    "    ax.plot(rolling_200, label=\"200d M.A.\", linestyle=\"dashed\", linewidth=2)\n",
    "    ax.set_ylabel(\"Close Price\")\n",
    "    ax.xaxis.set_major_locator(mdates.MonthLocator(interval=1))\n",
    "    ax.set_title(f\"{ticker}\")\n",
    "    plt.xticks(rotation=45)\n",
    "    plt.legend()\n",
    "    plt.grid()"
   ]
  },
  {
   "cell_type": "code",
   "execution_count": null,
   "id": "247caac9",
   "metadata": {
    "ExecuteTime": {
     "end_time": "2021-05-18T12:28:13.856073Z",
     "start_time": "2021-05-18T12:28:13.846570Z"
    },
    "code_folding": [
     0
    ],
    "run_control": {
     "marked": false
    }
   },
   "outputs": [],
   "source": [
    "# Plot Buy recommendations\n",
    "if math.ceil(len(recommend_buy)/3) == 1:\n",
    "    height = (math.ceil(len(recommend_buy))/3*4)+3\n",
    "else:\n",
    "    height = (math.ceil(len(recommend_buy))/3*4)\n",
    "\n",
    "fig = plt.figure(figsize=(15, height))\n",
    "for buy in recommend_buy:\n",
    "    n = recommend_buy.index(buy)+1\n",
    "#     print(n)\n",
    "    ax = fig.add_subplot(math.ceil(len(recommend_buy)/3), 3, n)\n",
    "    plot_recommendation(buy, \"2021-01-01\", opportunity_date, ax=ax)\n",
    "plt.suptitle(f\"BUY RECOMMENDATIONS {opportunity_date}\\n\")\n",
    "plt.tight_layout()"
   ]
  },
  {
   "cell_type": "code",
   "execution_count": null,
   "id": "80996897",
   "metadata": {
    "ExecuteTime": {
     "end_time": "2021-05-18T12:28:13.865440Z",
     "start_time": "2021-05-18T12:28:13.857847Z"
    },
    "code_folding": [
     0
    ],
    "run_control": {
     "marked": false
    }
   },
   "outputs": [],
   "source": [
    "# Plot Sell recommendations\n",
    "if math.ceil(len(recommend_sell)/3) == 1:\n",
    "    height = (math.ceil(len(recommend_sell))/3*4)+3\n",
    "else:\n",
    "    height = (math.ceil(len(recommend_sell))/3*4)\n",
    "\n",
    "fig = plt.figure(figsize=(15,height))\n",
    "for sell in recommend_sell:\n",
    "    n = recommend_sell.index(sell)+1\n",
    "#     print(n)\n",
    "    ax = fig.add_subplot(math.ceil(len(recommend_sell)/3), 3, n)\n",
    "    plot_recommendation(sell, \"2021-01-01\", opportunity_date, ax=ax)\n",
    "plt.suptitle(f\"SELL RECOMMENDATIONS {opportunity_date}\\n\")\n",
    "plt.tight_layout()"
   ]
  },
  {
   "cell_type": "markdown",
   "id": "194618bc",
   "metadata": {},
   "source": [
    "### Back-test trading strategy"
   ]
  },
  {
   "cell_type": "code",
   "execution_count": null,
   "id": "572146e4",
   "metadata": {
    "ExecuteTime": {
     "end_time": "2021-05-02T19:52:48.224705Z",
     "start_time": "2021-05-02T19:52:48.208748Z"
    },
    "code_folding": [
     0
    ],
    "run_control": {
     "marked": false
    }
   },
   "outputs": [],
   "source": [
    "# Function to run Back-testing\n",
    "\n",
    "def run_backtest(start_date, end_date):\n",
    "\n",
    "    # Generate Buy trades\n",
    "    index = all_opps.index\n",
    "    buy_trades = {}\n",
    "    for ticker in all_opps.columns:\n",
    "        condition = all_opps[ticker] == \"Buy\"\n",
    "        buy_indices = index[condition]\n",
    "        buy_indices_list = buy_indices.tolist()\n",
    "        buy_ind_dates = [str(ts.year) + \"-\" + str(ts.month) + \"-\" + str(ts.day) for ts in buy_indices_list]\n",
    "        df_raw_prices.loc[buy_ind_dates][ticker]\n",
    "        buy_prices = list(df_raw_prices.loc[buy_ind_dates][ticker].values)\n",
    "        buy_trades[ticker] = list(zip(buy_ind_dates, buy_prices))\n",
    "\n",
    "    # Generate Sell trades\n",
    "    index = all_opps.index\n",
    "    sell_trades = {}\n",
    "    for ticker in all_opps.columns:\n",
    "        condition = all_opps[ticker] == \"Sell\"\n",
    "        sell_indices = index[condition]\n",
    "        sell_indices_list = sell_indices.tolist()\n",
    "        sell_ind_dates = [str(ts.year) + \"-\" + str(ts.month) + \"-\" + str(ts.day) for ts in sell_indices_list]\n",
    "        df_raw_prices.loc[sell_ind_dates][ticker]\n",
    "        sell_prices = list(df_raw_prices.loc[sell_ind_dates][ticker].values)\n",
    "        sell_trades[ticker] = list(zip(sell_ind_dates, sell_prices))\n",
    "\n",
    "    # Apply strategy and calculate p&l per ticker:\n",
    "\n",
    "    profits_losses = []\n",
    "\n",
    "    for ticker in df_raw_prices.columns.to_list()[:-2]: # -2 to exclude the indices CAC40 and Euronext\n",
    "    # for ticker in df_raw_prices.columns.to_list()[650:655]: # for testing use the first (tickers)\n",
    "    #     print(\"=\" * 72)\n",
    "    #     print(ticker)\n",
    "        buy_dates = [datetime.strptime(trade[0], \"%Y-%m-%d\").date() for trade in buy_trades[ticker]]\n",
    "        sell_dates = [datetime.strptime(trade[0], \"%Y-%m-%d\").date() for trade in sell_trades[ticker]]\n",
    "        all_dates = buy_dates + sell_dates\n",
    "        \n",
    "#         print(type(all_dates[0]))\n",
    "        \n",
    "        direction = [-1 for date in buy_dates] + [1 for date in sell_dates]\n",
    "        buy_close = [trade[1] for trade in buy_trades[ticker]]\n",
    "        sell_close = [trade[1] for trade in sell_trades[ticker]]\n",
    "        all_close = buy_close + sell_close\n",
    "        df_executions = pd.DataFrame({\n",
    "            \"Direction\": direction,\n",
    "            \"Close\": all_close,\n",
    "        }, index=all_dates)\n",
    "        df_executions.sort_index(inplace=True)\n",
    "        df_executions[\"Cashflow\"] = df_executions[\"Direction\"] * df_executions[\"Close\"]\n",
    "        \n",
    "        # Keep executions only within the prescribed date range we are running the backtest for:\n",
    "        s = pd.to_datetime(start_date).date()\n",
    "        e = pd.to_datetime(end_date).date()\n",
    "        df_executions = df_executions[s:e]\n",
    "        \n",
    "    #     try:\n",
    "    #         print(\"First\", df_executions.iloc[0][\"Direction\"])\n",
    "    #     except:\n",
    "    #         pass\n",
    "    #     try:\n",
    "    #         print(\"Last,\", df_executions.iloc[len(df_executions)-1][\"Direction\"])\n",
    "    #     except:\n",
    "    #         pass\n",
    "\n",
    "        # Execution Rules\n",
    "        # ---------------\n",
    "        # Always start with a Buy and always end with a Sell. Avoid short selling and unrealised p&l.\n",
    "\n",
    "        try:\n",
    "            # Drop first row if its a Sell\n",
    "            if df_executions.iloc[0][\"Direction\"] == 1:\n",
    "                df_executions.drop(df_executions.index[0], inplace=True, axis=0)\n",
    "        except:\n",
    "            pass\n",
    "\n",
    "        try:\n",
    "            # Drop last row if its a Buy\n",
    "            if df_executions.iloc[len(df_executions)-1][\"Direction\"] == -1:\n",
    "                df_executions.drop(df_executions.index[len(df_executions)-1], inplace=True, axis=0)\n",
    "        except:\n",
    "            pass\n",
    "\n",
    "    #     print(df_executions)\n",
    "        ticker_pnl = df_executions[\"Cashflow\"].sum()\n",
    "        profits_losses.append(ticker_pnl)\n",
    "    \n",
    "    df_Backtest_Results = pd.DataFrame({\n",
    "        \"Back-test PnL\":profits_losses,\n",
    "    }, index=df_raw_prices.columns[:-2])\n",
    "    \n",
    "    return df_Backtest_Results, df_executions\n",
    "    "
   ]
  },
  {
   "cell_type": "code",
   "execution_count": null,
   "id": "7d15c66b",
   "metadata": {
    "ExecuteTime": {
     "end_time": "2021-05-02T19:52:54.580872Z",
     "start_time": "2021-05-02T19:52:48.226421Z"
    },
    "run_control": {
     "marked": false
    }
   },
   "outputs": [],
   "source": [
    "# Generate backtest results\n",
    "start_date = \"2019-01-01\"\n",
    "end_date = \"2021-12-31\"\n",
    "\n",
    "df_Backtest_Results, df_executions = run_backtest(start_date, end_date)"
   ]
  },
  {
   "cell_type": "code",
   "execution_count": null,
   "id": "541058d6",
   "metadata": {
    "ExecuteTime": {
     "end_time": "2021-05-02T19:52:54.586518Z",
     "start_time": "2021-05-02T19:52:54.582513Z"
    },
    "run_control": {
     "marked": false
    }
   },
   "outputs": [],
   "source": [
    "# df_executions"
   ]
  },
  {
   "cell_type": "code",
   "execution_count": null,
   "id": "1799c2ed",
   "metadata": {
    "ExecuteTime": {
     "end_time": "2021-05-02T19:52:54.598227Z",
     "start_time": "2021-05-02T19:52:54.588169Z"
    },
    "run_control": {
     "marked": false
    }
   },
   "outputs": [],
   "source": [
    "df_Backtest_Results.sort_values(by=\"Back-test PnL\", ascending=False)"
   ]
  },
  {
   "cell_type": "code",
   "execution_count": null,
   "id": "ca11f121",
   "metadata": {
    "ExecuteTime": {
     "end_time": "2021-05-02T19:52:54.611980Z",
     "start_time": "2021-05-02T19:52:54.599975Z"
    },
    "run_control": {
     "marked": false
    }
   },
   "outputs": [],
   "source": [
    "df_Backtest_Results.describe()"
   ]
  },
  {
   "cell_type": "code",
   "execution_count": null,
   "id": "36bea4db",
   "metadata": {
    "ExecuteTime": {
     "end_time": "2021-05-02T19:52:54.618442Z",
     "start_time": "2021-05-02T19:52:54.613594Z"
    },
    "run_control": {
     "marked": false
    }
   },
   "outputs": [],
   "source": [
    "df_Backtest_Results.sum()"
   ]
  },
  {
   "cell_type": "code",
   "execution_count": null,
   "id": "5ef290da",
   "metadata": {
    "ExecuteTime": {
     "end_time": "2021-05-02T19:52:55.270828Z",
     "start_time": "2021-05-02T19:52:54.620159Z"
    },
    "run_control": {
     "marked": false
    }
   },
   "outputs": [],
   "source": [
    "df_Backtest_Results.hist(bins=100, log=True, figsize=(10, 6), alpha=.5)"
   ]
  },
  {
   "cell_type": "code",
   "execution_count": null,
   "id": "f2fa12df",
   "metadata": {
    "ExecuteTime": {
     "end_time": "2021-05-02T19:52:55.278205Z",
     "start_time": "2021-05-02T19:52:55.272554Z"
    },
    "run_control": {
     "marked": false
    }
   },
   "outputs": [],
   "source": [
    "# df_Backtest_Results.loc[\"VLTSA.PA\"]"
   ]
  },
  {
   "cell_type": "code",
   "execution_count": null,
   "id": "69198fde",
   "metadata": {
    "run_control": {
     "marked": false
    }
   },
   "outputs": [],
   "source": []
  },
  {
   "cell_type": "markdown",
   "id": "1bc02fbc",
   "metadata": {
    "heading_collapsed": true
   },
   "source": [
    "### Test widgets"
   ]
  },
  {
   "cell_type": "markdown",
   "id": "515303b9",
   "metadata": {
    "heading_collapsed": true,
    "hidden": true
   },
   "source": [
    "#### Test 1: single widgets"
   ]
  },
  {
   "cell_type": "code",
   "execution_count": null,
   "id": "496a7ef3",
   "metadata": {
    "ExecuteTime": {
     "end_time": "2021-04-27T21:30:53.428495Z",
     "start_time": "2021-04-27T21:30:53.425765Z"
    },
    "code_folding": [
     0
    ],
    "hidden": true,
    "run_control": {
     "marked": false
    }
   },
   "outputs": [],
   "source": [
    "def print_value(myvalue):\n",
    "    print(f\"The current value is: {myvalue}\")"
   ]
  },
  {
   "cell_type": "code",
   "execution_count": null,
   "id": "ab31af60",
   "metadata": {
    "ExecuteTime": {
     "end_time": "2021-04-27T21:30:53.454114Z",
     "start_time": "2021-04-27T21:30:53.430273Z"
    },
    "hidden": true,
    "run_control": {
     "marked": false
    }
   },
   "outputs": [],
   "source": [
    "widgets.interact(print_value, myvalue=[1, 2, 3, 4, 5]) # use list to create dropdown"
   ]
  },
  {
   "cell_type": "code",
   "execution_count": null,
   "id": "412270b4",
   "metadata": {
    "ExecuteTime": {
     "end_time": "2021-04-27T21:30:53.479122Z",
     "start_time": "2021-04-27T21:30:53.455595Z"
    },
    "hidden": true,
    "run_control": {
     "marked": false
    }
   },
   "outputs": [],
   "source": [
    "widgets.interact(print_value, myvalue=(0, 10, 1)) # use tuple to create number slider"
   ]
  },
  {
   "cell_type": "code",
   "execution_count": null,
   "id": "2738d849",
   "metadata": {
    "ExecuteTime": {
     "end_time": "2021-04-27T21:30:53.504848Z",
     "start_time": "2021-04-27T21:30:53.480627Z"
    },
    "hidden": true,
    "run_control": {
     "marked": false
    }
   },
   "outputs": [],
   "source": [
    "widgets.interact(print_value, myvalue=(0, 10, .5)) # for decimal values"
   ]
  },
  {
   "cell_type": "code",
   "execution_count": null,
   "id": "1dacdf99",
   "metadata": {
    "ExecuteTime": {
     "end_time": "2021-04-27T21:30:53.530044Z",
     "start_time": "2021-04-27T21:30:53.506597Z"
    },
    "hidden": true,
    "run_control": {
     "marked": false
    }
   },
   "outputs": [],
   "source": [
    "widgets.interact(print_value, myvalue=True) # for boolean"
   ]
  },
  {
   "cell_type": "code",
   "execution_count": null,
   "id": "888feca7",
   "metadata": {
    "ExecuteTime": {
     "end_time": "2021-04-27T21:30:53.543154Z",
     "start_time": "2021-04-27T21:30:53.531671Z"
    },
    "code_folding": [
     0
    ],
    "hidden": true,
    "run_control": {
     "marked": false
    }
   },
   "outputs": [],
   "source": [
    "# Multiselect dropdown. Use shift or ctrl to select multiple values\n",
    "w = widgets.SelectMultiple(\n",
    "    options=['Apples', 'Oranges', 'Pears'],\n",
    "    value=['Oranges'],\n",
    "    #rows=10,\n",
    "    description='Fruits',\n",
    "    disabled=False\n",
    ")\n",
    "w"
   ]
  },
  {
   "cell_type": "code",
   "execution_count": null,
   "id": "89a5ea64",
   "metadata": {
    "ExecuteTime": {
     "end_time": "2021-04-27T21:30:53.547935Z",
     "start_time": "2021-04-27T21:30:53.544937Z"
    },
    "hidden": true,
    "run_control": {
     "marked": false
    }
   },
   "outputs": [],
   "source": [
    "print(w.value)"
   ]
  },
  {
   "cell_type": "markdown",
   "id": "7313e2b2",
   "metadata": {
    "heading_collapsed": true,
    "hidden": true
   },
   "source": [
    "#### Test 2: multiple widgets"
   ]
  },
  {
   "cell_type": "code",
   "execution_count": null,
   "id": "bdf6207f",
   "metadata": {
    "ExecuteTime": {
     "end_time": "2021-04-27T21:30:53.552998Z",
     "start_time": "2021-04-27T21:30:53.549622Z"
    },
    "hidden": true,
    "run_control": {
     "marked": false
    }
   },
   "outputs": [],
   "source": [
    "def three_variables(x, y, z):\n",
    "    return (x, y, z)"
   ]
  },
  {
   "cell_type": "code",
   "execution_count": null,
   "id": "07aefba2",
   "metadata": {
    "ExecuteTime": {
     "end_time": "2021-04-27T21:30:53.593420Z",
     "start_time": "2021-04-27T21:30:53.554688Z"
    },
    "hidden": true,
    "run_control": {
     "marked": false
    }
   },
   "outputs": [],
   "source": [
    "_ = widgets.interact(\n",
    "    three_variables,\n",
    "    x=[\"Blue\", \"Green\", \"Black\"],\n",
    "    y=(1, 5, 1),\n",
    "    z=True,\n",
    ")"
   ]
  },
  {
   "cell_type": "markdown",
   "id": "ae9de60c",
   "metadata": {
    "ExecuteTime": {
     "end_time": "2021-04-27T12:50:00.904026Z",
     "start_time": "2021-04-27T12:50:00.897692Z"
    },
    "heading_collapsed": true,
    "hidden": true
   },
   "source": [
    "#### Fixed variables"
   ]
  },
  {
   "cell_type": "code",
   "execution_count": null,
   "id": "9f8d0f26",
   "metadata": {
    "ExecuteTime": {
     "end_time": "2021-04-27T21:30:53.625915Z",
     "start_time": "2021-04-27T21:30:53.595090Z"
    },
    "hidden": true,
    "run_control": {
     "marked": false
    }
   },
   "outputs": [],
   "source": [
    "_ = widgets.interact(\n",
    "    three_variables,\n",
    "    x=[\"Blue\", \"Green\", \"Black\"],\n",
    "    y=(1, 5, 1),\n",
    "    z=widgets.fixed(\"I am fixed\"),\n",
    ")"
   ]
  },
  {
   "cell_type": "markdown",
   "id": "915874e1",
   "metadata": {
    "hidden": true
   },
   "source": [
    "   #### Create widgets with decorators"
   ]
  },
  {
   "cell_type": "code",
   "execution_count": null,
   "id": "a7f113b5",
   "metadata": {
    "ExecuteTime": {
     "end_time": "2021-04-27T21:30:53.719857Z",
     "start_time": "2021-04-27T21:30:53.627608Z"
    },
    "hidden": true,
    "run_control": {
     "marked": false
    }
   },
   "outputs": [],
   "source": [
    "@widgets.interact(x=(0, 10, 1), y=[\"a\", \"b\", \"c\"])\n",
    "def print_slider_val(x, y):\n",
    "    print(f\"Slider says: {x}. Dropdown says: {y}\")"
   ]
  },
  {
   "cell_type": "markdown",
   "id": "579b7bca",
   "metadata": {
    "heading_collapsed": true,
    "hidden": true
   },
   "source": [
    "#### Create one of my charts"
   ]
  },
  {
   "cell_type": "code",
   "execution_count": null,
   "id": "eb06ffea",
   "metadata": {
    "ExecuteTime": {
     "end_time": "2021-04-27T21:30:54.053517Z",
     "start_time": "2021-04-27T21:30:53.721669Z"
    },
    "hidden": true,
    "run_control": {
     "marked": false
    }
   },
   "outputs": [],
   "source": [
    "ticker_list = list(df_raw_prices.columns)\n",
    "ticker_list.sort()\n",
    "@widgets.interact(\n",
    "    ticker=ticker_list,\n",
    "    start_date=widgets.Text(value=\"2020-01-01\", description=\"start date\", continuous_update=False),\n",
    "    end_date=widgets.Text(value=\"2020-12-31\", description=\"end date\", continuous_update=False),\n",
    ")\n",
    "def plot_ticker(ticker, start_date, end_date):\n",
    "    df_raw_prices.loc[start_date:end_date][ticker].plot()\n",
    "    plt.title(ticker)"
   ]
  },
  {
   "cell_type": "code",
   "execution_count": null,
   "id": "e877e07c",
   "metadata": {
    "hidden": true,
    "run_control": {
     "marked": false
    }
   },
   "outputs": [],
   "source": []
  }
 ],
 "metadata": {
  "kernelspec": {
   "display_name": "conda_python3",
   "language": "python",
   "name": "conda_python3"
  },
  "language_info": {
   "codemirror_mode": {
    "name": "ipython",
    "version": 3
   },
   "file_extension": ".py",
   "mimetype": "text/x-python",
   "name": "python",
   "nbconvert_exporter": "python",
   "pygments_lexer": "ipython3",
   "version": "3.6.13"
  },
  "toc": {
   "base_numbering": 1,
   "nav_menu": {},
   "number_sections": true,
   "sideBar": true,
   "skip_h1_title": false,
   "title_cell": "Table of Contents",
   "title_sidebar": "Contents",
   "toc_cell": false,
   "toc_position": {
    "height": "calc(100% - 180px)",
    "left": "10px",
    "top": "150px",
    "width": "208.797px"
   },
   "toc_section_display": true,
   "toc_window_display": true
  },
  "toc-autonumbering": false,
  "toc-showcode": false,
  "toc-showmarkdowntxt": false,
  "varInspector": {
   "cols": {
    "lenName": 16,
    "lenType": 16,
    "lenVar": 40
   },
   "kernels_config": {
    "python": {
     "delete_cmd_postfix": "",
     "delete_cmd_prefix": "del ",
     "library": "var_list.py",
     "varRefreshCmd": "print(var_dic_list())"
    },
    "r": {
     "delete_cmd_postfix": ") ",
     "delete_cmd_prefix": "rm(",
     "library": "var_list.r",
     "varRefreshCmd": "cat(var_dic_list()) "
    }
   },
   "types_to_exclude": [
    "module",
    "function",
    "builtin_function_or_method",
    "instance",
    "_Feature"
   ],
   "window_display": false
  }
 },
 "nbformat": 4,
 "nbformat_minor": 5
}
